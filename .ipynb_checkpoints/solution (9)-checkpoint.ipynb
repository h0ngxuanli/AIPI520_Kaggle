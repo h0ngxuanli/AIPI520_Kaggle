{
 "cells": [
  {
   "cell_type": "code",
   "execution_count": 3,
   "id": "1d000f3a-d1e4-4cbf-a906-8cff016fb4cb",
   "metadata": {},
   "outputs": [],
   "source": [
    "import pandas as pd\n",
    "import numpy as np\n",
    "import sys\n",
    "from pathlib import Path\n",
    "import os\n",
    "from copy import copy\n",
    "from sklearn.preprocessing import LabelEncoder\n",
    "# get data path\n",
    "root_path = Path(os.getcwd())\n",
    "data_path = root_path / \"data\"\n"
   ]
  },
  {
   "cell_type": "code",
   "execution_count": 4,
   "id": "b20bf637-894a-464b-b11b-1cd12b530df5",
   "metadata": {},
   "outputs": [],
   "source": [
    "def engineer_account():\n",
    "    \n",
    "    \"\"\"\n",
    "    clean account df\n",
    "        a. drop columns with few values\n",
    "        b. turn billing.zip.code into int to be merged with zipcode df\n",
    "        c. extract int year from string first.donated\n",
    "    \"\"\"\n",
    "    #load data\n",
    "    accounts_df = pd.read_csv(data_path / \"account.csv\", encoding=\"ISO-8859-1\") # location info for each patron and donation history\n",
    "    \n",
    "    # drop columns without sufficient information\n",
    "    drop_columns = [\"shipping.zip.code\", \"shipping.city\", \"relationship\"]\n",
    "    accounts_df.drop(columns = drop_columns, inplace = True)\n",
    "    \n",
    "    # fillna for billing zip code\n",
    "    accounts_df['billing.zip.code'].fillna(\"0\", inplace = True)\n",
    "    \n",
    "    # split zipcode with \"-\"\n",
    "    accounts_df['billing.zip.code'] = accounts_df['billing.zip.code'].str.split(\"-\").str[0]\n",
    "    \n",
    "    # turn digit zipcode to int\n",
    "    accounts_df.update(accounts_df[\"billing.zip.code\"].loc[accounts_df[\"billing.zip.code\"].str.isdigit()].astype(np.int64))\n",
    "    \n",
    "    # extract year for donate year\n",
    "    accounts_df.update(accounts_df[\"first.donated\"][accounts_df[\"first.donated\"].notnull()].str.split(\"/\").str[0].astype(np.int64))\n",
    "\n",
    "    return accounts_df\n",
    "\n",
    "def engineer_zipcode():\n",
    "    \n",
    "    \"\"\"\n",
    "    clean zipcode df\n",
    "        a. capitalize the City to make it have unify format across different df\n",
    "        b. turn ecommisioned into int type\n",
    "    \"\"\"    \n",
    "    # load data\n",
    "    zipcodes_df =  pd.read_csv(data_path / \"zipcodes.csv\") # location and demographic information for zipcodes\n",
    "    \n",
    "    # uninfy city format\n",
    "    zipcodes_df.City = zipcodes_df.City.str.title()\n",
    "    \n",
    "    # turn bool column to int\n",
    "    zipcodes_df.Decommisioned.fillna(-1, inplace = True)\n",
    "    zipcodes_df.update(zipcodes_df.Decommisioned.astype(np.int64))\n",
    "    \n",
    "    return zipcodes_df\n",
    "\n",
    "\n",
    "def engineer_tickets():\n",
    "    \"\"\"\n",
    "    clean tickets df price.level\n",
    "        a. filter out string\n",
    "        b. fill Nan with mean value\n",
    "    \"\"\" \n",
    "    tickets_df =  pd.read_csv(data_path / \"tickets_all.csv\")\n",
    "    \n",
    "    \n",
    "    # turn price.level not in [\"0\", \"1\", \"2\", \"3\", \"4\"] into Nan \n",
    "    tickets_df[\"price.level\"][~tickets_df[\"price.level\"].str.contains(\"|\".join(list(\"01234\")))] = np.nan\n",
    "    \n",
    "    # convert price.level into float and fill Nan with mean value\n",
    "    tickets_df[\"price.level\"] = tickets_df[\"price.level\"].astype(np.float64)\n",
    "    tickets_df[\"price.level\"].fillna(tickets_df[\"price.level\"].mean(), inplace = True)   \n",
    "    \n",
    "    return tickets_df\n",
    "\n",
    "\n",
    "def get_name(string):\n",
    "    \n",
    "    \"\"\"\n",
    "    extract names from a string\n",
    "    \"\"\"        \n",
    "    \n",
    "    import re\n",
    "    TITLE = r\"(?:[A-Z][a-z]*\\.\\s*)?\"\n",
    "    NAME1 = r\"[A-Z][a-z]+,?\\s+\"\n",
    "    MIDDLE_I = r\"(?:[A-Z][a-z]*\\.?\\s*)?\"\n",
    "    NAME2 = r\"[A-Z][a-z]+\"\n",
    "    return re.findall(TITLE + NAME1 + MIDDLE_I + NAME2, string)\n",
    "\n",
    "\n",
    "def get_musical_taste(musician):\n",
    "\n",
    "    # find how many 2014-2015 musicians they like in the previous seasons \n",
    "\n",
    "    return len( list(set(musician) & set(concert_201415_musical_name)) )\n",
    "\n",
    "def get_music_taste_from_concert():\n",
    "    \n",
    "    \"\"\"\n",
    "    music taste is engineered by calculating how many musicians in concert 2014-2015 \n",
    "    are supported by accounts in the form of buying tickets or subscriptions in the previous concerts.\n",
    "        a. extract musician names with concert_df and concert201415_df\n",
    "        b. compute music taste for tickets_df\n",
    "        c. compute music taste for subsriptions_df\n",
    "        d. combine music taste informatin by concatenating tickets_df and subsriptions_df\n",
    "\n",
    "    \"\"\" \n",
    "\n",
    "    # load data\n",
    "    # tickets\n",
    "    # concert\n",
    "    # subscriptions\n",
    "\n",
    "    subscriptions_df =  pd.read_csv(data_path / \"subscriptions.csv\")\n",
    "    tickets_df = engineer_tickets()\n",
    "    \n",
    "    concerts_df =  pd.read_csv(data_path / \"concerts.csv\")\n",
    "    concerts1415_df = pd.read_csv(data_path / \"concerts_2014-15.csv\")\n",
    "    \n",
    "    # get musician names in concerts 201415\n",
    "    global concert_201415_musical_name \n",
    "    concert_201415_musical_name  = np.unique(concerts1415_df[\"who\"].apply(get_name).sum())\n",
    "\n",
    "    # extract music taste from tickets information\n",
    "    tickets = pd.merge(tickets_df, concerts_df[[\"season\", \"location\", \"who\", \"set\"]], how = \"inner\", on = [\"season\", \"set\", \"location\"])\n",
    "    tickets[\"music_taste\"] = tickets[\"who\"].str.split(\"\\r\").apply(lambda x: \", \".join(x)).apply(get_name)\n",
    "    tickets[\"music_taste\"] = tickets[\"music_taste\"].apply(get_musical_taste)\n",
    "\n",
    "    # prepare tickets_df to be combined with subsriptions_df\n",
    "    drop_columns = [\"marketing.source\", \"set\", \"who\"]\n",
    "    tickets.drop(columns = drop_columns, inplace = True)\n",
    "    tickets[\"package\"] = \"None\"\n",
    "    tickets[\"section\"] = \"None\"\n",
    "    tickets[\"subscription_tier\"] = 0\n",
    "    tickets.rename(columns = {\"multiple.tickets\":\"multiple.subs\"}, inplace = True)\n",
    "  \n",
    "    # extract music taste from subsciptions information\n",
    "    # one season and one location may include multiple set of concerts\n",
    "    subscriptions = pd.merge(subscriptions_df, concerts_df[[\"season\", \"location\", \"who\"]], how = \"left\", on = [\"season\", \"location\"])\n",
    "    subscriptions[\"who\"].fillna(\"None\", inplace = True)\n",
    "    subscriptions[\"music_taste\"] = subscriptions[\"who\"].str.split(\"\\r\").apply(lambda x: \", \".join(x)).apply(get_name)\n",
    "    subscriptions[\"music_taste\"] = subscriptions[\"music_taste\"].apply(get_musical_taste)\n",
    "    \n",
    "    # add up music taste for one season and one location subscription\n",
    "    sub_music_taste = subscriptions.groupby([\"account.id\", \"season\", \"location\"])[\"music_taste\"].sum().reset_index()\n",
    "    subscriptions = pd.merge(subscriptions_df, sub_music_taste, how = \"left\", on = [\"account.id\",\"season\", \"location\"])\n",
    "\n",
    "    # combine music taste information from both subscription and tickets df\n",
    "    return pd.concat([subscriptions, tickets], axis = 0)\n",
    "\n",
    "def engineer_subscription():\n",
    "    \n",
    "    \n",
    "    \n",
    "    subscriptions_df = get_music_taste_from_concert()\n",
    "    zipcodes_df = engineer_zipcode()\n",
    "    \n",
    "    # get concert location by merging zipcodes df \n",
    "    subscriptions_df.location.replace({\n",
    "                                    \"Berkeley Saturday\":\"Berkeley\", \n",
    "                                    \"Berkeley Sunday\":\"Berkeley\", \n",
    "                                    'Orange County': \"Orange\",\n",
    "                                    'Contra Costa':'Costa'\n",
    "                                    }, inplace=True)\n",
    "    \n",
    "    subscriptions_df = pd.merge(\n",
    "                        subscriptions_df, \n",
    "                        zipcodes_df.groupby(\"City\")[[\"Lat\", \"Long\"]].mean().reset_index(), \n",
    "                        how = \"left\", left_on = \"location\", right_on=\"City\"\n",
    "                        )\n",
    "    \n",
    "    \n",
    "    #clean data before groupby data\n",
    "    \n",
    "    subscriptions_df[\"season\"].fillna(\"None\", inplace = True)\n",
    "    subscriptions_df[\"package\"].fillna(\"None\", inplace = True)\n",
    "    subscriptions_df[\"no.seats\"].fillna(subscriptions_df[\"no.seats\"].mean(), inplace = True) ### \n",
    "    subscriptions_df[\"section\"].fillna(\"None\", inplace = True)\n",
    "    subscriptions_df[\"multiple.subs\"].fillna(\"None\", inplace = True)\n",
    "    subscriptions_df[\"section\"].fillna(\"None\", inplace = True)\n",
    "    subscriptions_df[\"price.level\"].fillna(subscriptions_df[\"price.level\"].mean(), inplace = True)\n",
    "    subscriptions_df[\"subscription_tier\"].fillna(subscriptions_df[\"subscription_tier\"].mean(), inplace = True)\n",
    "\n",
    "    subscriptions_df[\"Lat\"].fillna( subscriptions_df[\"Lat\"].value_counts().index[0], inplace = True)\n",
    "    subscriptions_df[\"Long\"].fillna( subscriptions_df[\"Long\"].value_counts().index[0], inplace = True)    \n",
    "\n",
    "    \n",
    "    # unify messy location format\n",
    "\n",
    "    \n",
    "    subscriptions_df.package.replace({\n",
    "                                \"Quartet CC\": \"Quartet\", \n",
    "                                \"Quartet B\": \"Quartet\", \n",
    "                                \"Quartet A\": \"Quartet\",\n",
    "                                \"Trio A\": \"Trio\",\n",
    "                                \"Trio B\": \"Trio\",\n",
    "                                }, inplace = True)\n",
    "    subscriptions_df.section.replace({\n",
    "                                \"Premium Orchestra\": \"Orchestra\", \n",
    "                                \"Orchestra Rear\": \"Orchestra\", \n",
    "                                \"Orchestra Front\": \"Orchestra\",\n",
    "                                \"Balcony Front\": \"Balcony\",\n",
    "                                \"Balcony Rear\": \"Balcony\",\n",
    "                                \"Boxes House Right\":\"Box\",\n",
    "                                \"Boxes House left\":\"Box\",\n",
    "                                }, inplace = True)\n",
    "\n",
    "\n",
    "    \n",
    "    \n",
    "    # get average subsription information for each account\n",
    "\n",
    "    sub_info_per_account = [\n",
    "            subscriptions_df.groupby(\"account.id\")['season'].count().reset_index(),\n",
    "            subscriptions_df.groupby(\"account.id\")['package'].agg(lambda x: x.value_counts().index[0]).reset_index(),\n",
    "            subscriptions_df.groupby(\"account.id\")['no.seats'].mean().reset_index(),\n",
    "            subscriptions_df.groupby(\"account.id\")['section'].agg(lambda x: x.value_counts().index[0]).reset_index(),\n",
    "            subscriptions_df.groupby(\"account.id\")['multiple.subs'].agg(lambda x: x.value_counts().index[0]).reset_index(),\n",
    "            subscriptions_df.groupby(\"account.id\")['price.level'].mean().reset_index(),\n",
    "            subscriptions_df.groupby(\"account.id\")['subscription_tier'].mean().reset_index(),\n",
    "            subscriptions_df.groupby(\"account.id\")['Lat'].agg(lambda x:x.value_counts().index[0]).reset_index(),\n",
    "            subscriptions_df.groupby(\"account.id\")['Long'].agg(lambda x:x.value_counts().index[0]).reset_index(),\n",
    "            subscriptions_df.groupby(\"account.id\")['music_taste'].sum().reset_index()\n",
    "    ]\n",
    "    \n",
    "    for i in range(len(sub_info_per_account)):\n",
    "        if i==0:\n",
    "            sub_info = sub_info_per_account[i]\n",
    "        else:\n",
    "            sub_info = sub_info.merge(sub_info_per_account[i], how = \"inner\", on = \"account.id\")\n",
    "    return sub_info"
   ]
  },
  {
   "cell_type": "code",
   "execution_count": 5,
   "id": "888bb32b-ba62-4cb0-8caf-bff21527d808",
   "metadata": {},
   "outputs": [],
   "source": [
    "def feature_engineering(data_df, stage, subscriptions_df, zipcodes_df, accounts_df):\n",
    "\n",
    "    \n",
    "    df = copy(data_df)\n",
    "    if stage == \"test\":\n",
    "        df.rename(columns = {\"ID\":\"account.id\"}, inplace = True)\n",
    "\n",
    "    # merge data and accounts\n",
    "    df = pd.merge(df, accounts_df, how = \"left\", on= \"account.id\")\n",
    "\n",
    "    # fill \"0\" and other string billing zipcode\n",
    "    df[\"billing.zip.code\"] = df[\"billing.zip.code\"].apply(lambda x: 0 if type(x) == str else x)\n",
    "\n",
    "\n",
    "\n",
    "    # merge data and zipcodes\n",
    "    df = pd.merge(df, \n",
    "                       zipcodes_df[[\"Zipcode\", \"City\", \"Lat\", \"Long\", \"Decommisioned\", \"TaxReturnsFiled\", \"EstimatedPopulation\", \"TotalWages\"]], \n",
    "                       how = \"left\", left_on = \"billing.zip.code\", right_on = \"Zipcode\")\n",
    "\n",
    "\n",
    "    # merge data and subscriptions\n",
    "    df = pd.merge(df, subscriptions_df, how = \"left\", on = \"account.id\")\n",
    "\n",
    "\n",
    "    # drop duplicate columns \n",
    "\n",
    "    drop_columns = ['billing.zip.code', \"billing.city\", \"Zipcode\", \"City\"]\n",
    "    df.drop(columns = drop_columns, inplace = True)\n",
    "    df.rename(columns = {\n",
    "                             \"Lat_x\": \"Lat_account\", \"Long_x\": \"Long_account\",\n",
    "                             \"Lat_y\": \"Lat_sub\", \"Long_y\": \"Long_sub\"\n",
    "                        }, inplace = True)\n",
    "\n",
    "\n",
    "\n",
    "    # fill missing data\n",
    "    df[\"amount.donated.2013\"].fillna(0, inplace = True)\n",
    "    df[\"amount.donated.lifetime\"].fillna(0, inplace = True)\n",
    "    df[\"no.donations.lifetime\"].fillna(0, inplace = True)\n",
    "    df[\"first.donated\"].fillna(0, inplace = True)\n",
    "    df[\"Lat_account\"].fillna(0, inplace = True)\n",
    "    df[\"Long_account\"].fillna(0, inplace = True)\n",
    "    df[\"Decommisioned\"].fillna(-1, inplace = True)\n",
    "    df[\"TaxReturnsFiled\"].fillna(0, inplace = True)\n",
    "    df[\"EstimatedPopulation\"].fillna(0, inplace = True)\n",
    "    df[\"TotalWages\"].fillna(0, inplace = True)\n",
    "\n",
    "    df[\"season\"].fillna(0, inplace = True)\n",
    "    df[\"package\"].fillna(\"None\", inplace = True)\n",
    "    df[\"no.seats\"].fillna(-1, inplace = True)\n",
    "    df[\"section\"].fillna(\"None\", inplace = True)\n",
    "    df[\"multiple.subs\"].fillna(\"None\", inplace = True)\n",
    "    df[\"section\"].fillna(\"None\", inplace = True)\n",
    "    df[\"price.level\"].fillna(-1, inplace = True)\n",
    "    df[\"subscription_tier\"].fillna(-1, inplace = True)\n",
    "    df[\"Lat_sub\"].fillna(0, inplace = True)\n",
    "    df[\"Long_sub\"].fillna(0, inplace = True)\n",
    "    df[\"music_taste\"].fillna(0, inplace = True)\n",
    "\n",
    "    # encode category columns\n",
    "\n",
    "    # find object type columns\n",
    "    category_columns = []\n",
    "    for column in df.columns[1:]:\n",
    "        if df[column].dtype == \"object\":\n",
    "            category_columns.append(column)\n",
    "\n",
    "    # create individusal label encoder for each column\n",
    "    label_encoders = [LabelEncoder() for i in range(len(category_columns))]\n",
    "    le_dict = dict(zip(category_columns, label_encoders))\n",
    "    for column in category_columns:\n",
    "        le_dict[column].fit(df[column])\n",
    "        df[column] = le_dict[column].transform(df[column])\n",
    "        \n",
    "    if stage == \"test\":\n",
    "        #df.rename(columns = {\"account.id\":\"ID\"}, inplace = True)     \n",
    "        X = df.iloc[:, 1:]\n",
    "        y = df.iloc[:, 1]\n",
    "    else:\n",
    "        # return data\n",
    "        X = df.iloc[:, 2:]\n",
    "        y = df.iloc[:, 1]\n",
    "\n",
    "\n",
    "    \n",
    "    return X, y\n"
   ]
  },
  {
   "cell_type": "code",
   "execution_count": 6,
   "id": "ce68a086-f5b4-4de6-bebe-d7fe14175e61",
   "metadata": {},
   "outputs": [],
   "source": [
    "accounts_df = engineer_account()\n",
    "subscriptions_df = engineer_subscription()\n",
    "zipcodes_df = engineer_zipcode()\n",
    "\n",
    "\n",
    "\n",
    "\n",
    "X_train, y_train = feature_engineering(train_df, \"train\", subscriptions_df, zipcodes_df, accounts_df)\n",
    "\n",
    "X_test, y_test = feature_engineering(test_df, \"test\", subscriptions_df, zipcodes_df, accounts_df)\n",
    "\n",
    "# from sklearn.preprocessing import StandardScaler\n",
    "# scaler = StandardScaler()\n",
    "# scaler.fit(X_train)\n",
    "# X_train[X_train.columns] = scaler.transform(X_train[X_train.columns])\n",
    "# X_test[X_test.columns] = scaler.transform(X_test[X_test.columns])\n"
   ]
  },
  {
   "cell_type": "code",
   "execution_count": 7,
   "id": "de46e489-79dd-43d3-be09-e669b40d63a1",
   "metadata": {},
   "outputs": [],
   "source": [
    "def objective_catb(trial):\n",
    "    import lightgbm as lgb\n",
    "    from lightgbm import LGBMRegressor\n",
    "    from sklearn.svm import SVR\n",
    "    from sklearn.model_selection import KFold\n",
    "    from sklearn.metrics import roc_auc_score\n",
    "    from sklearn.model_selection import StratifiedKFold\n",
    "\n",
    "    nfolds = 5\n",
    "    folds = KFold(n_splits=nfolds)#, random_state=0)\n",
    "    # folds = StratifiedKFold(n_splits=nfolds)\n",
    "    \n",
    "    \n",
    "    param = {\n",
    "        'loss_function': 'auc',\n",
    "        'task_type': 'GPU',\n",
    "        'l2_leaf_reg': trial.suggest_loguniform('l2_leaf_reg', 1e-3, 10.0),\n",
    "        'max_bin': trial.suggest_int('max_bin', 200, 400),\n",
    "        #'rsm': trial.suggest_uniform('rsm', 0.3, 1.0),\n",
    "        'subsample': trail.suggest_uniform('bagging_fraction', 0.4, 1.0),\n",
    "        'learning_rate': trail.suggest_uniform('learning_rate', 0.006, 0.018),\n",
    "        'n_estimators':  25000,\n",
    "        'max_depth': trail.suggest_categorical('max_depth', [5,7,9,11,13,15]),\n",
    "        'random_state': trail.suggest_categorical('random_state', [2020]),\n",
    "        'min_data_in_leaf': trail.suggest_int('min_data_in_leaf', 1, 300),\n",
    "        \"seed\":42\n",
    "    }\n",
    "    \n",
    "    fold_pred = np.zeros(len(X_train))\n",
    "    AUC = []\n",
    "\n",
    "    for fold_, (trn_idx, val_idx) in enumerate(folds.split(X_train.values,y_train.values)):\n",
    "        print(\"fold n°{}\".format(fold_))\n",
    "        trn_data = lgb.Dataset(X_train.iloc[trn_idx], label=y_train.iloc[trn_idx]) #categorical_feature=categorical_feats\n",
    "        val_data = lgb.Dataset(X_train.iloc[val_idx], label=y_train.iloc[val_idx]) #categorical_feature=categorical_feats\n",
    "\n",
    "        \n",
    "        model = CatBoostRegressor(**param) \n",
    "    \n",
    "        model.fit(X_train.iloc[trn_idx],y_train.iloc[trn_idx])\n",
    "    \n",
    "        fold_pred[val_idx] = model.predict(X_train.iloc[val_idx])\n",
    "        \n",
    "        AUC.append(roc_auc_score(y_train.iloc[val_idx].values, fold_pred[val_idx]))\n",
    "    \n",
    "    print(\"AUC score: {:<8.5f}\".format(np.mean(AUC)))\n",
    "\n",
    "    return np.mean(AUC)"
   ]
  },
  {
   "cell_type": "code",
   "execution_count": 8,
   "id": "7fb64586-3bf0-4d7a-b7f1-9789ab68dd10",
   "metadata": {},
   "outputs": [],
   "source": [
    "def objective_xgb(trail):\n",
    "    import lightgbm as lgb\n",
    "    from lightgbm import LGBMRegressor\n",
    "    from sklearn.svm import SVR\n",
    "    from sklearn.model_selection import KFold\n",
    "    from sklearn.metrics import roc_auc_score\n",
    "    from sklearn.model_selection import StratifiedKFold\n",
    "\n",
    "    nfolds = 5\n",
    "    folds = KFold(n_splits=nfolds)#, random_state=0)\n",
    "    # folds = StratifiedKFold(n_splits=nfolds)\n",
    "    \n",
    "    \n",
    "    param = {\n",
    "        'lambda': trail.suggest_loguniform('lambda', 1e-3, 10.0),\n",
    "        'alpha': trial.suggest_loguniform('alpha', 1e-3, 10.0),\n",
    "        'colsample_bytree': trial.suggest_categorical('colsample_bytree', [0.3,0.4,0.5,0.6,0.7,0.8,0.9, 1.0]),\n",
    "        'subsample': trial.suggest_categorical('subsample', [0.4,0.5,0.6,0.7,0.8,1.0]),\n",
    "        'learning_rate': trial.suggest_categorical('learning_rate', [0.008,0.01,0.012,0.014,0.016,0.018, 0.02]),\n",
    "        'n_estimators': 10000,\n",
    "        'max_depth': trial.suggest_categorical('max_depth', [5,7,9,11,13,15,17]),\n",
    "        'random_state': trial.suggest_categorical('random_state', [2020]),\n",
    "        'min_child_weight': trial.suggest_int('min_child_weight', 1, 300),\n",
    "    }\n",
    "      \n",
    "    \n",
    "    fold_pred = np.zeros(len(X_train))\n",
    "    # lgb_preds = np.zeros(len(test))\n",
    "    AUC = []\n",
    "\n",
    "    for fold_, (trn_idx, val_idx) in enumerate(folds.split(X_train.values,y_train.values)):\n",
    "        print(\"fold n°{}\".format(fold_))\n",
    "        trn_data = lgb.Dataset(X_train.iloc[trn_idx], label=y_train.iloc[trn_idx]) #categorical_feature=categorical_feats\n",
    "        val_data = lgb.Dataset(X_train.iloc[val_idx], label=y_train.iloc[val_idx]) #categorical_feature=categorical_feats\n",
    "\n",
    "        \n",
    "        model = xgb.XGBRegressor(**param)\n",
    "    \n",
    "        model.fit(X_train.iloc[trn_idx],y_train.iloc[trn_idx])\n",
    "    \n",
    "        fold_pred[val_idx] = model.predict(X_train.iloc[val_idx])\n",
    "        \n",
    "        AUC.append(roc_auc_score(y_train.iloc[val_idx].values, fold_pred[val_idx]))\n",
    "        \n",
    "\n",
    "    \n",
    "    print(\"AUC score: {:<8.5f}\".format(np.mean(AUC)))\n",
    "\n",
    "    return np.mean(AUC)"
   ]
  },
  {
   "cell_type": "code",
   "execution_count": 131,
   "id": "6642a1ac-2e62-48ce-8730-cbde55362649",
   "metadata": {},
   "outputs": [],
   "source": [
    "def objective_lgb(trial):\n",
    "    from lightgbm import LGBMRegressor\n",
    "    from sklearn.metrics import roc_auc_score\n",
    "    from sklearn.model_selection import StratifiedKFold\n",
    "\n",
    "    nfolds = 5\n",
    "    # folds = KFold(n_splits=nfolds)#, random_state=0)\n",
    "    folds = StratifiedKFold(n_splits=nfolds)\n",
    "    \n",
    "    \n",
    "    param = {\n",
    "        \"objective\": \"regression\",\n",
    "        \"metric\": \"auc\",\n",
    "        \"verbosity\": -1,\n",
    "        \"boosting_type\": \"gbdt\",                \n",
    "        \"seed\": 42,\n",
    "        'learning_rate': trial.suggest_categorical('learning_rate', [0.00001,0.00005, 0.001,0.0005, 0.01,0.05,0.1,0.5,1]),\n",
    "        'lambda_l1': trial.suggest_float('lambda_l1', 1e-8, 10.0),\n",
    "        'lambda_l2': trial.suggest_float('lambda_l2', 1e-8, 10.0),#loguniform('lambda_l2', 1e-8, 10.0),\n",
    "\n",
    "        'max_bin': trial.suggest_int('max_bin', 2, 100),\n",
    "        'max_depth': trial.suggest_int('max_depth', 2, 100),\n",
    "        'min_data_in_leaf': trial.suggest_int('min_data_in_leaf', 2, 100),\n",
    "        'min_child_samples': trial.suggest_int('min_child_samples', 2, 100),\n",
    "        'num_leaves': trial.suggest_int('num_leaves', 2, 100),\n",
    "        \n",
    "        'feature_fraction': trial.suggest_float('feature_fraction', 0.1, 1.0),\n",
    "        'bagging_fraction': trial.suggest_float('bagging_fraction', 0.1, 1.0),\n",
    "        'bagging_freq': trial.suggest_int('bagging_freq', 0, 15),\n",
    "        'min_child_samples': trial.suggest_int('min_child_samples', 1, 100),\n",
    "        'is_unbalance': True\n",
    "        \n",
    "    }\n",
    "    \n",
    "    fold_pred = np.zeros(len(X_train))\n",
    "   \n",
    "    AUC = []\n",
    "\n",
    "    for fold_, (trn_idx, val_idx) in enumerate(folds.split(X_train.values,y_train.values)):\n",
    "        print(\"fold n°{}\".format(fold_))\n",
    "        model = LGBMRegressor(**param)  \n",
    "        model.fit(X_train.iloc[trn_idx],y_train.iloc[trn_idx])\n",
    "        fold_pred[val_idx] = model.predict(X_train.izeloc[val_idx])\n",
    "        AUC.append(roc_auc_score(y_train.iloc[val_idx].values, fold_pred[val_idx]))\n",
    "    print(\"AUC score: {:<8.5f}\".format(np.mean(AUC)))\n",
    "\n",
    "    return np.mean(AUC)"
   ]
  },
  {
   "cell_type": "code",
   "execution_count": 135,
   "id": "d3ac22a4-8ecc-4dce-9f0b-b0f265ff4a9f",
   "metadata": {},
   "outputs": [
    {
     "name": "stderr",
     "output_type": "stream",
     "text": [
      "[I 2023-11-02 09:36:08,604] A new study created in memory with name: no-name-6ca1c525-eb42-4e06-b1f9-65282c652c81\n",
      "/environment/miniconda3/lib/python3.10/site-packages/optuna/trial/_trial.py:677: RuntimeWarning: Inconsistent parameter values for distribution with name \"min_child_samples\"! This might be a configuration mistake. Optuna allows to call the same distribution with the same name more than once in a trial. When the parameter values are inconsistent optuna only uses the values of the first call and ignores all following. Using these values: {'log': False, 'step': 1, 'low': 2, 'high': 100}\n",
      "  warnings.warn(\n"
     ]
    },
    {
     "name": "stdout",
     "output_type": "stream",
     "text": [
      "fold n°0\n",
      "fold n°1\n",
      "fold n°2\n",
      "fold n°3\n",
      "fold n°4\n"
     ]
    },
    {
     "name": "stderr",
     "output_type": "stream",
     "text": [
      "[I 2023-11-02 09:36:08,822] Trial 0 finished with value: 0.951844972522651 and parameters: {'learning_rate': 5e-05, 'lambda_l1': 6.252846388863541, 'lambda_l2': 4.979956538971826, 'max_bin': 43, 'max_depth': 42, 'min_data_in_leaf': 35, 'min_child_samples': 22, 'num_leaves': 59, 'feature_fraction': 0.33661356727864844, 'bagging_fraction': 0.20961219407390363, 'bagging_freq': 7}. Best is trial 0 with value: 0.951844972522651.\n"
     ]
    },
    {
     "name": "stdout",
     "output_type": "stream",
     "text": [
      "AUC score: 0.95184 \n",
      "fold n°0\n",
      "fold n°1\n",
      "fold n°2\n",
      "fold n°3\n"
     ]
    },
    {
     "name": "stderr",
     "output_type": "stream",
     "text": [
      "/environment/miniconda3/lib/python3.10/site-packages/optuna/trial/_trial.py:677: RuntimeWarning: Inconsistent parameter values for distribution with name \"min_child_samples\"! This might be a configuration mistake. Optuna allows to call the same distribution with the same name more than once in a trial. When the parameter values are inconsistent optuna only uses the values of the first call and ignores all following. Using these values: {'log': False, 'step': 1, 'low': 2, 'high': 100}\n",
      "  warnings.warn(\n",
      "[I 2023-11-02 09:36:09,101] Trial 1 finished with value: 0.9653868351939303 and parameters: {'learning_rate': 0.1, 'lambda_l1': 4.151048613726598, 'lambda_l2': 9.967727814053958, 'max_bin': 96, 'max_depth': 30, 'min_data_in_leaf': 46, 'min_child_samples': 95, 'num_leaves': 68, 'feature_fraction': 0.2566082610190741, 'bagging_fraction': 0.62942326855029, 'bagging_freq': 5}. Best is trial 0 with value: 0.951844972522651.\n"
     ]
    },
    {
     "name": "stdout",
     "output_type": "stream",
     "text": [
      "fold n°4\n",
      "AUC score: 0.96539 \n",
      "fold n°0\n",
      "fold n°1\n",
      "fold n°2\n",
      "fold n°3\n"
     ]
    },
    {
     "name": "stderr",
     "output_type": "stream",
     "text": [
      "/environment/miniconda3/lib/python3.10/site-packages/optuna/trial/_trial.py:677: RuntimeWarning: Inconsistent parameter values for distribution with name \"min_child_samples\"! This might be a configuration mistake. Optuna allows to call the same distribution with the same name more than once in a trial. When the parameter values are inconsistent optuna only uses the values of the first call and ignores all following. Using these values: {'log': False, 'step': 1, 'low': 2, 'high': 100}\n",
      "  warnings.warn(\n",
      "[I 2023-11-02 09:36:09,318] Trial 2 finished with value: 0.9516720858866193 and parameters: {'learning_rate': 0.0005, 'lambda_l1': 7.503681035604057, 'lambda_l2': 5.892266857437017, 'max_bin': 64, 'max_depth': 26, 'min_data_in_leaf': 62, 'min_child_samples': 17, 'num_leaves': 68, 'feature_fraction': 0.3971187065730343, 'bagging_fraction': 0.3965271948151029, 'bagging_freq': 6}. Best is trial 2 with value: 0.9516720858866193.\n"
     ]
    },
    {
     "name": "stdout",
     "output_type": "stream",
     "text": [
      "fold n°4\n",
      "AUC score: 0.95167 \n",
      "fold n°0\n",
      "fold n°1\n",
      "fold n°2\n"
     ]
    },
    {
     "name": "stderr",
     "output_type": "stream",
     "text": [
      "/environment/miniconda3/lib/python3.10/site-packages/optuna/trial/_trial.py:677: RuntimeWarning: Inconsistent parameter values for distribution with name \"min_child_samples\"! This might be a configuration mistake. Optuna allows to call the same distribution with the same name more than once in a trial. When the parameter values are inconsistent optuna only uses the values of the first call and ignores all following. Using these values: {'log': False, 'step': 1, 'low': 2, 'high': 100}\n",
      "  warnings.warn(\n",
      "[I 2023-11-02 09:36:09,626] Trial 3 finished with value: 0.9700939054487578 and parameters: {'learning_rate': 0.05, 'lambda_l1': 4.091767124180888, 'lambda_l2': 8.501525325044149, 'max_bin': 33, 'max_depth': 40, 'min_data_in_leaf': 3, 'min_child_samples': 63, 'num_leaves': 18, 'feature_fraction': 0.6869913545599525, 'bagging_fraction': 0.6508801435498616, 'bagging_freq': 10}. Best is trial 2 with value: 0.9516720858866193.\n"
     ]
    },
    {
     "name": "stdout",
     "output_type": "stream",
     "text": [
      "fold n°3\n",
      "fold n°4\n",
      "AUC score: 0.97009 \n",
      "fold n°0\n",
      "fold n°1\n",
      "fold n°2\n"
     ]
    },
    {
     "name": "stderr",
     "output_type": "stream",
     "text": [
      "/environment/miniconda3/lib/python3.10/site-packages/optuna/trial/_trial.py:677: RuntimeWarning: Inconsistent parameter values for distribution with name \"min_child_samples\"! This might be a configuration mistake. Optuna allows to call the same distribution with the same name more than once in a trial. When the parameter values are inconsistent optuna only uses the values of the first call and ignores all following. Using these values: {'log': False, 'step': 1, 'low': 2, 'high': 100}\n",
      "  warnings.warn(\n",
      "[I 2023-11-02 09:36:09,798] Trial 4 finished with value: 0.9501303284301817 and parameters: {'learning_rate': 0.001, 'lambda_l1': 8.177381079198817, 'lambda_l2': 4.109409149652078, 'max_bin': 27, 'max_depth': 9, 'min_data_in_leaf': 26, 'min_child_samples': 41, 'num_leaves': 19, 'feature_fraction': 0.9408852524055468, 'bagging_fraction': 0.7685793700818757, 'bagging_freq': 0}. Best is trial 4 with value: 0.9501303284301817.\n",
      "/environment/miniconda3/lib/python3.10/site-packages/optuna/trial/_trial.py:677: RuntimeWarning: Inconsistent parameter values for distribution with name \"min_child_samples\"! This might be a configuration mistake. Optuna allows to call the same distribution with the same name more than once in a trial. When the parameter values are inconsistent optuna only uses the values of the first call and ignores all following. Using these values: {'log': False, 'step': 1, 'low': 2, 'high': 100}\n",
      "  warnings.warn(\n"
     ]
    },
    {
     "name": "stdout",
     "output_type": "stream",
     "text": [
      "fold n°3\n",
      "fold n°4\n",
      "AUC score: 0.95013 \n",
      "fold n°0\n",
      "fold n°1\n",
      "fold n°2\n",
      "fold n°3\n"
     ]
    },
    {
     "name": "stderr",
     "output_type": "stream",
     "text": [
      "[I 2023-11-02 09:36:10,000] Trial 5 finished with value: 0.9621554099660411 and parameters: {'learning_rate': 0.0005, 'lambda_l1': 2.6873965532060375, 'lambda_l2': 8.050928867964366, 'max_bin': 48, 'max_depth': 47, 'min_data_in_leaf': 92, 'min_child_samples': 67, 'num_leaves': 39, 'feature_fraction': 0.8024238566642714, 'bagging_fraction': 0.7783348940735046, 'bagging_freq': 15}. Best is trial 4 with value: 0.9501303284301817.\n",
      "/environment/miniconda3/lib/python3.10/site-packages/optuna/trial/_trial.py:677: RuntimeWarning: Inconsistent parameter values for distribution with name \"min_child_samples\"! This might be a configuration mistake. Optuna allows to call the same distribution with the same name more than once in a trial. When the parameter values are inconsistent optuna only uses the values of the first call and ignores all following. Using these values: {'log': False, 'step': 1, 'low': 2, 'high': 100}\n",
      "  warnings.warn(\n",
      "[I 2023-11-02 09:36:10,140] Trial 6 finished with value: 0.9653820196525673 and parameters: {'learning_rate': 1, 'lambda_l1': 9.328570681293614, 'lambda_l2': 7.7406942992115315, 'max_bin': 16, 'max_depth': 44, 'min_data_in_leaf': 73, 'min_child_samples': 43, 'num_leaves': 90, 'feature_fraction': 0.19883786985382018, 'bagging_fraction': 0.6201458486946805, 'bagging_freq': 9}. Best is trial 4 with value: 0.9501303284301817.\n"
     ]
    },
    {
     "name": "stdout",
     "output_type": "stream",
     "text": [
      "fold n°4\n",
      "AUC score: 0.96216 \n",
      "fold n°0\n",
      "fold n°1\n",
      "fold n°2\n",
      "fold n°3\n",
      "fold n°4\n",
      "AUC score: 0.96538 \n",
      "fold n°0\n"
     ]
    },
    {
     "name": "stderr",
     "output_type": "stream",
     "text": [
      "/environment/miniconda3/lib/python3.10/site-packages/optuna/trial/_trial.py:677: RuntimeWarning: Inconsistent parameter values for distribution with name \"min_child_samples\"! This might be a configuration mistake. Optuna allows to call the same distribution with the same name more than once in a trial. When the parameter values are inconsistent optuna only uses the values of the first call and ignores all following. Using these values: {'log': False, 'step': 1, 'low': 2, 'high': 100}\n",
      "  warnings.warn(\n"
     ]
    },
    {
     "name": "stdout",
     "output_type": "stream",
     "text": [
      "fold n°1\n",
      "fold n°2\n",
      "fold n°3\n"
     ]
    },
    {
     "name": "stderr",
     "output_type": "stream",
     "text": [
      "[I 2023-11-02 09:36:10,678] Trial 7 finished with value: 0.9603920757030568 and parameters: {'learning_rate': 0.05, 'lambda_l1': 0.8281960647703318, 'lambda_l2': 0.3632263769015964, 'max_bin': 65, 'max_depth': 17, 'min_data_in_leaf': 53, 'min_child_samples': 30, 'num_leaves': 24, 'feature_fraction': 0.45411106126202927, 'bagging_fraction': 0.9596677155845692, 'bagging_freq': 8}. Best is trial 4 with value: 0.9501303284301817.\n"
     ]
    },
    {
     "name": "stdout",
     "output_type": "stream",
     "text": [
      "fold n°4\n",
      "AUC score: 0.96039 \n",
      "fold n°0\n",
      "fold n°1\n"
     ]
    },
    {
     "name": "stderr",
     "output_type": "stream",
     "text": [
      "/environment/miniconda3/lib/python3.10/site-packages/optuna/trial/_trial.py:677: RuntimeWarning: Inconsistent parameter values for distribution with name \"min_child_samples\"! This might be a configuration mistake. Optuna allows to call the same distribution with the same name more than once in a trial. When the parameter values are inconsistent optuna only uses the values of the first call and ignores all following. Using these values: {'log': False, 'step': 1, 'low': 2, 'high': 100}\n",
      "  warnings.warn(\n",
      "[I 2023-11-02 09:36:10,866] Trial 8 finished with value: 0.9587656905428039 and parameters: {'learning_rate': 0.5, 'lambda_l1': 8.155518415951196, 'lambda_l2': 8.868598888290022, 'max_bin': 66, 'max_depth': 80, 'min_data_in_leaf': 11, 'min_child_samples': 30, 'num_leaves': 18, 'feature_fraction': 0.35594421682400323, 'bagging_fraction': 0.18622891284034765, 'bagging_freq': 5}. Best is trial 4 with value: 0.9501303284301817.\n",
      "/environment/miniconda3/lib/python3.10/site-packages/optuna/trial/_trial.py:677: RuntimeWarning: Inconsistent parameter values for distribution with name \"min_child_samples\"! This might be a configuration mistake. Optuna allows to call the same distribution with the same name more than once in a trial. When the parameter values are inconsistent optuna only uses the values of the first call and ignores all following. Using these values: {'log': False, 'step': 1, 'low': 2, 'high': 100}\n",
      "  warnings.warn(\n"
     ]
    },
    {
     "name": "stdout",
     "output_type": "stream",
     "text": [
      "fold n°2\n",
      "fold n°3\n",
      "fold n°4\n",
      "AUC score: 0.95877 \n",
      "fold n°0\n",
      "fold n°1\n",
      "fold n°2\n",
      "fold n°3\n",
      "fold n°4\n"
     ]
    },
    {
     "name": "stderr",
     "output_type": "stream",
     "text": [
      "[I 2023-11-02 09:36:11,604] Trial 9 finished with value: 0.9563593208717208 and parameters: {'learning_rate': 0.1, 'lambda_l1': 1.495322393233554, 'lambda_l2': 4.870081471536276, 'max_bin': 65, 'max_depth': 11, 'min_data_in_leaf': 40, 'min_child_samples': 9, 'num_leaves': 76, 'feature_fraction': 0.4695498994143579, 'bagging_fraction': 0.9335517048252009, 'bagging_freq': 13}. Best is trial 4 with value: 0.9501303284301817.\n"
     ]
    },
    {
     "name": "stdout",
     "output_type": "stream",
     "text": [
      "AUC score: 0.95636 \n",
      "fold n°0\n",
      "fold n°1\n",
      "fold n°2\n"
     ]
    },
    {
     "name": "stderr",
     "output_type": "stream",
     "text": [
      "/environment/miniconda3/lib/python3.10/site-packages/optuna/trial/_trial.py:677: RuntimeWarning: Inconsistent parameter values for distribution with name \"min_child_samples\"! This might be a configuration mistake. Optuna allows to call the same distribution with the same name more than once in a trial. When the parameter values are inconsistent optuna only uses the values of the first call and ignores all following. Using these values: {'log': False, 'step': 1, 'low': 2, 'high': 100}\n",
      "  warnings.warn(\n",
      "[I 2023-11-02 09:36:11,909] Trial 10 finished with value: 0.9566977705959421 and parameters: {'learning_rate': 0.001, 'lambda_l1': 9.742914298545758, 'lambda_l2': 2.573398122732232, 'max_bin': 5, 'max_depth': 74, 'min_data_in_leaf': 24, 'min_child_samples': 86, 'num_leaves': 5, 'feature_fraction': 0.9155621752503565, 'bagging_fraction': 0.4680417657306048, 'bagging_freq': 0}. Best is trial 4 with value: 0.9501303284301817.\n"
     ]
    },
    {
     "name": "stdout",
     "output_type": "stream",
     "text": [
      "fold n°3\n",
      "fold n°4\n",
      "AUC score: 0.95670 \n",
      "fold n°0\n"
     ]
    },
    {
     "name": "stderr",
     "output_type": "stream",
     "text": [
      "/environment/miniconda3/lib/python3.10/site-packages/optuna/trial/_trial.py:677: RuntimeWarning: Inconsistent parameter values for distribution with name \"min_child_samples\"! This might be a configuration mistake. Optuna allows to call the same distribution with the same name more than once in a trial. When the parameter values are inconsistent optuna only uses the values of the first call and ignores all following. Using these values: {'log': False, 'step': 1, 'low': 2, 'high': 100}\n",
      "  warnings.warn(\n",
      "[I 2023-11-02 09:36:12,213] Trial 11 finished with value: 0.9564419955028931 and parameters: {'learning_rate': 0.0005, 'lambda_l1': 7.023402889436442, 'lambda_l2': 6.0810026298220965, 'max_bin': 90, 'max_depth': 3, 'min_data_in_leaf': 63, 'min_child_samples': 3, 'num_leaves': 44, 'feature_fraction': 0.6451696893483216, 'bagging_fraction': 0.4218071232956306, 'bagging_freq': 0}. Best is trial 4 with value: 0.9501303284301817.\n"
     ]
    },
    {
     "name": "stdout",
     "output_type": "stream",
     "text": [
      "fold n°1\n",
      "fold n°2\n",
      "fold n°3\n",
      "fold n°4\n",
      "AUC score: 0.95644 \n"
     ]
    },
    {
     "name": "stderr",
     "output_type": "stream",
     "text": [
      "/environment/miniconda3/lib/python3.10/site-packages/optuna/trial/_trial.py:677: RuntimeWarning: Inconsistent parameter values for distribution with name \"min_child_samples\"! This might be a configuration mistake. Optuna allows to call the same distribution with the same name more than once in a trial. When the parameter values are inconsistent optuna only uses the values of the first call and ignores all following. Using these values: {'log': False, 'step': 1, 'low': 2, 'high': 100}\n",
      "  warnings.warn(\n"
     ]
    },
    {
     "name": "stdout",
     "output_type": "stream",
     "text": [
      "fold n°0\n",
      "fold n°1\n",
      "fold n°2\n",
      "fold n°3\n"
     ]
    },
    {
     "name": "stderr",
     "output_type": "stream",
     "text": [
      "[I 2023-11-02 09:36:12,547] Trial 12 finished with value: 0.9614008275422113 and parameters: {'learning_rate': 0.001, 'lambda_l1': 7.285754133730014, 'lambda_l2': 3.7890679004485395, 'max_bin': 28, 'max_depth': 25, 'min_data_in_leaf': 76, 'min_child_samples': 46, 'num_leaves': 92, 'feature_fraction': 0.8930575805966035, 'bagging_fraction': 0.3828220576042754, 'bagging_freq': 3}. Best is trial 4 with value: 0.9501303284301817.\n"
     ]
    },
    {
     "name": "stdout",
     "output_type": "stream",
     "text": [
      "fold n°4\n",
      "AUC score: 0.96140 \n",
      "fold n°0\n",
      "fold n°1\n"
     ]
    },
    {
     "name": "stderr",
     "output_type": "stream",
     "text": [
      "/environment/miniconda3/lib/python3.10/site-packages/optuna/trial/_trial.py:677: RuntimeWarning: Inconsistent parameter values for distribution with name \"min_child_samples\"! This might be a configuration mistake. Optuna allows to call the same distribution with the same name more than once in a trial. When the parameter values are inconsistent optuna only uses the values of the first call and ignores all following. Using these values: {'log': False, 'step': 1, 'low': 2, 'high': 100}\n",
      "  warnings.warn(\n",
      "[I 2023-11-02 09:36:12,907] Trial 13 finished with value: 0.9401354389460327 and parameters: {'learning_rate': 1e-05, 'lambda_l1': 5.711557455314402, 'lambda_l2': 6.920537963936132, 'max_bin': 78, 'max_depth': 60, 'min_data_in_leaf': 20, 'min_child_samples': 20, 'num_leaves': 52, 'feature_fraction': 0.10626087746920526, 'bagging_fraction': 0.7707286978841131, 'bagging_freq': 3}. Best is trial 13 with value: 0.9401354389460327.\n"
     ]
    },
    {
     "name": "stdout",
     "output_type": "stream",
     "text": [
      "fold n°2\n",
      "fold n°3\n",
      "fold n°4\n",
      "AUC score: 0.94014 \n"
     ]
    },
    {
     "name": "stderr",
     "output_type": "stream",
     "text": [
      "/environment/miniconda3/lib/python3.10/site-packages/optuna/trial/_trial.py:677: RuntimeWarning: Inconsistent parameter values for distribution with name \"min_child_samples\"! This might be a configuration mistake. Optuna allows to call the same distribution with the same name more than once in a trial. When the parameter values are inconsistent optuna only uses the values of the first call and ignores all following. Using these values: {'log': False, 'step': 1, 'low': 2, 'high': 100}\n",
      "  warnings.warn(\n"
     ]
    },
    {
     "name": "stdout",
     "output_type": "stream",
     "text": [
      "fold n°0\n",
      "fold n°1\n",
      "fold n°2\n"
     ]
    },
    {
     "name": "stderr",
     "output_type": "stream",
     "text": [
      "[I 2023-11-02 09:36:13,284] Trial 14 finished with value: 0.9406015856538763 and parameters: {'learning_rate': 1e-05, 'lambda_l1': 5.578859998840553, 'lambda_l2': 6.777202757962017, 'max_bin': 82, 'max_depth': 67, 'min_data_in_leaf': 20, 'min_child_samples': 38, 'num_leaves': 35, 'feature_fraction': 0.1084630429281821, 'bagging_fraction': 0.7939105071710887, 'bagging_freq': 2}. Best is trial 13 with value: 0.9401354389460327.\n"
     ]
    },
    {
     "name": "stdout",
     "output_type": "stream",
     "text": [
      "fold n°3\n",
      "fold n°4\n",
      "AUC score: 0.94060 \n",
      "fold n°0\n"
     ]
    },
    {
     "name": "stderr",
     "output_type": "stream",
     "text": [
      "/environment/miniconda3/lib/python3.10/site-packages/optuna/trial/_trial.py:677: RuntimeWarning: Inconsistent parameter values for distribution with name \"min_child_samples\"! This might be a configuration mistake. Optuna allows to call the same distribution with the same name more than once in a trial. When the parameter values are inconsistent optuna only uses the values of the first call and ignores all following. Using these values: {'log': False, 'step': 1, 'low': 2, 'high': 100}\n",
      "  warnings.warn(\n"
     ]
    },
    {
     "name": "stdout",
     "output_type": "stream",
     "text": [
      "fold n°1\n",
      "fold n°2\n",
      "fold n°3\n",
      "fold n°4\n"
     ]
    },
    {
     "name": "stderr",
     "output_type": "stream",
     "text": [
      "[I 2023-11-02 09:36:13,617] Trial 15 finished with value: 0.9402944716710072 and parameters: {'learning_rate': 1e-05, 'lambda_l1': 5.693355263333588, 'lambda_l2': 6.898794004245994, 'max_bin': 85, 'max_depth': 63, 'min_data_in_leaf': 18, 'min_child_samples': 59, 'num_leaves': 36, 'feature_fraction': 0.10166677003227449, 'bagging_fraction': 0.8197161292932676, 'bagging_freq': 3}. Best is trial 13 with value: 0.9401354389460327.\n"
     ]
    },
    {
     "name": "stdout",
     "output_type": "stream",
     "text": [
      "AUC score: 0.94029 \n",
      "fold n°0\n",
      "fold n°1\n",
      "fold n°2\n"
     ]
    },
    {
     "name": "stderr",
     "output_type": "stream",
     "text": [
      "/environment/miniconda3/lib/python3.10/site-packages/optuna/trial/_trial.py:677: RuntimeWarning: Inconsistent parameter values for distribution with name \"min_child_samples\"! This might be a configuration mistake. Optuna allows to call the same distribution with the same name more than once in a trial. When the parameter values are inconsistent optuna only uses the values of the first call and ignores all following. Using these values: {'log': False, 'step': 1, 'low': 2, 'high': 100}\n",
      "  warnings.warn(\n",
      "[I 2023-11-02 09:36:13,963] Trial 16 finished with value: 0.9406170226099198 and parameters: {'learning_rate': 1e-05, 'lambda_l1': 5.105618111031256, 'lambda_l2': 6.887492502740873, 'max_bin': 76, 'max_depth': 59, 'min_data_in_leaf': 11, 'min_child_samples': 62, 'num_leaves': 55, 'feature_fraction': 0.11311416544839402, 'bagging_fraction': 0.8458114612237195, 'bagging_freq': 3}. Best is trial 13 with value: 0.9401354389460327.\n"
     ]
    },
    {
     "name": "stdout",
     "output_type": "stream",
     "text": [
      "fold n°3\n",
      "fold n°4\n",
      "AUC score: 0.94062 \n",
      "fold n°0\n"
     ]
    },
    {
     "name": "stderr",
     "output_type": "stream",
     "text": [
      "/environment/miniconda3/lib/python3.10/site-packages/optuna/trial/_trial.py:677: RuntimeWarning: Inconsistent parameter values for distribution with name \"min_child_samples\"! This might be a configuration mistake. Optuna allows to call the same distribution with the same name more than once in a trial. When the parameter values are inconsistent optuna only uses the values of the first call and ignores all following. Using these values: {'log': False, 'step': 1, 'low': 2, 'high': 100}\n",
      "  warnings.warn(\n"
     ]
    },
    {
     "name": "stdout",
     "output_type": "stream",
     "text": [
      "fold n°1\n",
      "fold n°2\n",
      "fold n°3\n",
      "fold n°4\n"
     ]
    },
    {
     "name": "stderr",
     "output_type": "stream",
     "text": [
      "[I 2023-11-02 09:36:14,347] Trial 17 finished with value: 0.9497787359812042 and parameters: {'learning_rate': 1e-05, 'lambda_l1': 5.944880098077357, 'lambda_l2': 7.066867274760853, 'max_bin': 81, 'max_depth': 99, 'min_data_in_leaf': 31, 'min_child_samples': 82, 'num_leaves': 32, 'feature_fraction': 0.23135063739876716, 'bagging_fraction': 0.9884877728897331, 'bagging_freq': 3}. Best is trial 13 with value: 0.9401354389460327.\n"
     ]
    },
    {
     "name": "stdout",
     "output_type": "stream",
     "text": [
      "AUC score: 0.94978 \n",
      "fold n°0\n",
      "fold n°1\n",
      "fold n°2\n"
     ]
    },
    {
     "name": "stderr",
     "output_type": "stream",
     "text": [
      "/environment/miniconda3/lib/python3.10/site-packages/optuna/trial/_trial.py:677: RuntimeWarning: Inconsistent parameter values for distribution with name \"min_child_samples\"! This might be a configuration mistake. Optuna allows to call the same distribution with the same name more than once in a trial. When the parameter values are inconsistent optuna only uses the values of the first call and ignores all following. Using these values: {'log': False, 'step': 1, 'low': 2, 'high': 100}\n",
      "  warnings.warn(\n",
      "[I 2023-11-02 09:36:14,678] Trial 18 finished with value: 0.9423064815454609 and parameters: {'learning_rate': 0.01, 'lambda_l1': 4.177615907615174, 'lambda_l2': 5.882755512141241, 'max_bin': 99, 'max_depth': 90, 'min_data_in_leaf': 2, 'min_child_samples': 54, 'num_leaves': 48, 'feature_fraction': 0.11390413242127106, 'bagging_fraction': 0.7049549613128123, 'bagging_freq': 2}. Best is trial 13 with value: 0.9401354389460327.\n"
     ]
    },
    {
     "name": "stdout",
     "output_type": "stream",
     "text": [
      "fold n°3\n",
      "fold n°4\n",
      "AUC score: 0.94231 \n",
      "fold n°0\n"
     ]
    },
    {
     "name": "stderr",
     "output_type": "stream",
     "text": [
      "/environment/miniconda3/lib/python3.10/site-packages/optuna/trial/_trial.py:677: RuntimeWarning: Inconsistent parameter values for distribution with name \"min_child_samples\"! This might be a configuration mistake. Optuna allows to call the same distribution with the same name more than once in a trial. When the parameter values are inconsistent optuna only uses the values of the first call and ignores all following. Using these values: {'log': False, 'step': 1, 'low': 2, 'high': 100}\n",
      "  warnings.warn(\n"
     ]
    },
    {
     "name": "stdout",
     "output_type": "stream",
     "text": [
      "fold n°1\n",
      "fold n°2\n",
      "fold n°3\n",
      "fold n°4\n"
     ]
    },
    {
     "name": "stderr",
     "output_type": "stream",
     "text": [
      "[I 2023-11-02 09:36:15,020] Trial 19 finished with value: 0.9481925072152284 and parameters: {'learning_rate': 1e-05, 'lambda_l1': 6.213354340980706, 'lambda_l2': 8.958810536693903, 'max_bin': 56, 'max_depth': 58, 'min_data_in_leaf': 16, 'min_child_samples': 71, 'num_leaves': 80, 'feature_fraction': 0.2821470906640547, 'bagging_fraction': 0.8827137064779275, 'bagging_freq': 11}. Best is trial 13 with value: 0.9401354389460327.\n"
     ]
    },
    {
     "name": "stdout",
     "output_type": "stream",
     "text": [
      "AUC score: 0.94819 \n",
      "fold n°0\n",
      "fold n°1\n",
      "fold n°2\n",
      "fold n°3\n",
      "fold n°4\n"
     ]
    },
    {
     "name": "stderr",
     "output_type": "stream",
     "text": [
      "/environment/miniconda3/lib/python3.10/site-packages/optuna/trial/_trial.py:677: RuntimeWarning: Inconsistent parameter values for distribution with name \"min_child_samples\"! This might be a configuration mistake. Optuna allows to call the same distribution with the same name more than once in a trial. When the parameter values are inconsistent optuna only uses the values of the first call and ignores all following. Using these values: {'log': False, 'step': 1, 'low': 2, 'high': 100}\n",
      "  warnings.warn(\n",
      "[I 2023-11-02 09:36:15,250] Trial 20 finished with value: 0.9328608347520445 and parameters: {'learning_rate': 1e-05, 'lambda_l1': 3.006805963320872, 'lambda_l2': 7.465994370419296, 'max_bin': 89, 'max_depth': 57, 'min_data_in_leaf': 39, 'min_child_samples': 52, 'num_leaves': 2, 'feature_fraction': 0.2072010050909923, 'bagging_fraction': 0.8704355624033886, 'bagging_freq': 4}. Best is trial 20 with value: 0.9328608347520445.\n"
     ]
    },
    {
     "name": "stdout",
     "output_type": "stream",
     "text": [
      "AUC score: 0.93286 \n",
      "fold n°0\n",
      "fold n°1\n",
      "fold n°2\n",
      "fold n°3\n"
     ]
    },
    {
     "name": "stderr",
     "output_type": "stream",
     "text": [
      "/environment/miniconda3/lib/python3.10/site-packages/optuna/trial/_trial.py:677: RuntimeWarning: Inconsistent parameter values for distribution with name \"min_child_samples\"! This might be a configuration mistake. Optuna allows to call the same distribution with the same name more than once in a trial. When the parameter values are inconsistent optuna only uses the values of the first call and ignores all following. Using these values: {'log': False, 'step': 1, 'low': 2, 'high': 100}\n",
      "  warnings.warn(\n",
      "[I 2023-11-02 09:36:15,499] Trial 21 finished with value: 0.9450738489767205 and parameters: {'learning_rate': 1e-05, 'lambda_l1': 3.1643163813096216, 'lambda_l2': 7.48051890637729, 'max_bin': 87, 'max_depth': 60, 'min_data_in_leaf': 39, 'min_child_samples': 55, 'num_leaves': 3, 'feature_fraction': 0.2106471371671655, 'bagging_fraction': 0.8705920604535975, 'bagging_freq': 5}. Best is trial 20 with value: 0.9328608347520445.\n"
     ]
    },
    {
     "name": "stdout",
     "output_type": "stream",
     "text": [
      "fold n°4\n",
      "AUC score: 0.94507 \n",
      "fold n°0\n",
      "fold n°1\n",
      "fold n°2\n"
     ]
    },
    {
     "name": "stderr",
     "output_type": "stream",
     "text": [
      "/environment/miniconda3/lib/python3.10/site-packages/optuna/trial/_trial.py:677: RuntimeWarning: Inconsistent parameter values for distribution with name \"min_child_samples\"! This might be a configuration mistake. Optuna allows to call the same distribution with the same name more than once in a trial. When the parameter values are inconsistent optuna only uses the values of the first call and ignores all following. Using these values: {'log': False, 'step': 1, 'low': 2, 'high': 100}\n",
      "  warnings.warn(\n"
     ]
    },
    {
     "name": "stdout",
     "output_type": "stream",
     "text": [
      "fold n°3\n",
      "fold n°4\n"
     ]
    },
    {
     "name": "stderr",
     "output_type": "stream",
     "text": [
      "[I 2023-11-02 09:36:16,405] Trial 22 finished with value: 0.9499197298445671 and parameters: {'learning_rate': 1e-05, 'lambda_l1': 4.901921832250714, 'lambda_l2': 6.512764287492641, 'max_bin': 75, 'max_depth': 73, 'min_data_in_leaf': 28, 'min_child_samples': 77, 'num_leaves': 27, 'feature_fraction': 0.16953385523162595, 'bagging_fraction': 0.73783287339274, 'bagging_freq': 4}. Best is trial 20 with value: 0.9328608347520445.\n"
     ]
    },
    {
     "name": "stdout",
     "output_type": "stream",
     "text": [
      "AUC score: 0.94992 \n",
      "fold n°0\n"
     ]
    },
    {
     "name": "stderr",
     "output_type": "stream",
     "text": [
      "/environment/miniconda3/lib/python3.10/site-packages/optuna/trial/_trial.py:677: RuntimeWarning: Inconsistent parameter values for distribution with name \"min_child_samples\"! This might be a configuration mistake. Optuna allows to call the same distribution with the same name more than once in a trial. When the parameter values are inconsistent optuna only uses the values of the first call and ignores all following. Using these values: {'log': False, 'step': 1, 'low': 2, 'high': 100}\n",
      "  warnings.warn(\n"
     ]
    },
    {
     "name": "stdout",
     "output_type": "stream",
     "text": [
      "fold n°1\n",
      "fold n°2\n",
      "fold n°3\n"
     ]
    },
    {
     "name": "stderr",
     "output_type": "stream",
     "text": [
      "[I 2023-11-02 09:36:17,423] Trial 23 finished with value: 0.9513176873497272 and parameters: {'learning_rate': 1e-05, 'lambda_l1': 2.6400590964184465, 'lambda_l2': 7.624661690409882, 'max_bin': 91, 'max_depth': 54, 'min_data_in_leaf': 53, 'min_child_samples': 55, 'num_leaves': 11, 'feature_fraction': 0.29318293147816976, 'bagging_fraction': 0.831386993513298, 'bagging_freq': 2}. Best is trial 20 with value: 0.9328608347520445.\n"
     ]
    },
    {
     "name": "stdout",
     "output_type": "stream",
     "text": [
      "fold n°4\n",
      "AUC score: 0.95132 \n",
      "fold n°0\n"
     ]
    },
    {
     "name": "stderr",
     "output_type": "stream",
     "text": [
      "/environment/miniconda3/lib/python3.10/site-packages/optuna/trial/_trial.py:677: RuntimeWarning: Inconsistent parameter values for distribution with name \"min_child_samples\"! This might be a configuration mistake. Optuna allows to call the same distribution with the same name more than once in a trial. When the parameter values are inconsistent optuna only uses the values of the first call and ignores all following. Using these values: {'log': False, 'step': 1, 'low': 2, 'high': 100}\n",
      "  warnings.warn(\n"
     ]
    },
    {
     "name": "stdout",
     "output_type": "stream",
     "text": [
      "fold n°1\n",
      "fold n°2\n",
      "fold n°3\n",
      "fold n°4\n"
     ]
    },
    {
     "name": "stderr",
     "output_type": "stream",
     "text": [
      "[I 2023-11-02 09:36:18,667] Trial 24 finished with value: 0.9229409735709245 and parameters: {'learning_rate': 1, 'lambda_l1': 0.040841819215526876, 'lambda_l2': 8.210521303266178, 'max_bin': 78, 'max_depth': 64, 'min_data_in_leaf': 16, 'min_child_samples': 36, 'num_leaves': 62, 'feature_fraction': 0.17672607866658638, 'bagging_fraction': 0.9950401160348519, 'bagging_freq': 7}. Best is trial 24 with value: 0.9229409735709245.\n"
     ]
    },
    {
     "name": "stdout",
     "output_type": "stream",
     "text": [
      "AUC score: 0.92294 \n",
      "fold n°0\n"
     ]
    },
    {
     "name": "stderr",
     "output_type": "stream",
     "text": [
      "/environment/miniconda3/lib/python3.10/site-packages/optuna/trial/_trial.py:677: RuntimeWarning: Inconsistent parameter values for distribution with name \"min_child_samples\"! This might be a configuration mistake. Optuna allows to call the same distribution with the same name more than once in a trial. When the parameter values are inconsistent optuna only uses the values of the first call and ignores all following. Using these values: {'log': False, 'step': 1, 'low': 2, 'high': 100}\n",
      "  warnings.warn(\n"
     ]
    },
    {
     "name": "stdout",
     "output_type": "stream",
     "text": [
      "fold n°1\n",
      "fold n°2\n",
      "fold n°3\n",
      "fold n°4\n"
     ]
    },
    {
     "name": "stderr",
     "output_type": "stream",
     "text": [
      "[I 2023-11-02 09:36:19,612] Trial 25 finished with value: 0.9192071484308043 and parameters: {'learning_rate': 1, 'lambda_l1': 0.19874168989380184, 'lambda_l2': 9.45872588763003, 'max_bin': 71, 'max_depth': 82, 'min_data_in_leaf': 46, 'min_child_samples': 27, 'num_leaves': 62, 'feature_fraction': 0.1847840626634511, 'bagging_fraction': 0.9950394386544762, 'bagging_freq': 7}. Best is trial 25 with value: 0.9192071484308043.\n"
     ]
    },
    {
     "name": "stdout",
     "output_type": "stream",
     "text": [
      "AUC score: 0.91921 \n",
      "fold n°0\n"
     ]
    },
    {
     "name": "stderr",
     "output_type": "stream",
     "text": [
      "/environment/miniconda3/lib/python3.10/site-packages/optuna/trial/_trial.py:677: RuntimeWarning: Inconsistent parameter values for distribution with name \"min_child_samples\"! This might be a configuration mistake. Optuna allows to call the same distribution with the same name more than once in a trial. When the parameter values are inconsistent optuna only uses the values of the first call and ignores all following. Using these values: {'log': False, 'step': 1, 'low': 2, 'high': 100}\n",
      "  warnings.warn(\n"
     ]
    },
    {
     "name": "stdout",
     "output_type": "stream",
     "text": [
      "fold n°1\n",
      "fold n°2\n",
      "fold n°3\n",
      "fold n°4\n"
     ]
    },
    {
     "name": "stderr",
     "output_type": "stream",
     "text": [
      "[I 2023-11-02 09:36:20,566] Trial 26 finished with value: 0.9236219836998665 and parameters: {'learning_rate': 1, 'lambda_l1': 0.19652080993797708, 'lambda_l2': 9.778614062216738, 'max_bin': 71, 'max_depth': 85, 'min_data_in_leaf': 48, 'min_child_samples': 30, 'num_leaves': 63, 'feature_fraction': 0.2981758711280811, 'bagging_fraction': 0.990473785249134, 'bagging_freq': 7}. Best is trial 25 with value: 0.9192071484308043.\n"
     ]
    },
    {
     "name": "stdout",
     "output_type": "stream",
     "text": [
      "AUC score: 0.92362 \n",
      "fold n°0\n"
     ]
    },
    {
     "name": "stderr",
     "output_type": "stream",
     "text": [
      "/environment/miniconda3/lib/python3.10/site-packages/optuna/trial/_trial.py:677: RuntimeWarning: Inconsistent parameter values for distribution with name \"min_child_samples\"! This might be a configuration mistake. Optuna allows to call the same distribution with the same name more than once in a trial. When the parameter values are inconsistent optuna only uses the values of the first call and ignores all following. Using these values: {'log': False, 'step': 1, 'low': 2, 'high': 100}\n",
      "  warnings.warn(\n"
     ]
    },
    {
     "name": "stdout",
     "output_type": "stream",
     "text": [
      "fold n°1\n",
      "fold n°2\n",
      "fold n°3\n",
      "fold n°4\n"
     ]
    },
    {
     "name": "stderr",
     "output_type": "stream",
     "text": [
      "[I 2023-11-02 09:36:21,634] Trial 27 finished with value: 0.9277521665091495 and parameters: {'learning_rate': 1, 'lambda_l1': 0.025081614022519183, 'lambda_l2': 9.967219827922126, 'max_bin': 56, 'max_depth': 86, 'min_data_in_leaf': 64, 'min_child_samples': 33, 'num_leaves': 65, 'feature_fraction': 0.34250679259439853, 'bagging_fraction': 0.9860959963613438, 'bagging_freq': 7}. Best is trial 25 with value: 0.9192071484308043.\n"
     ]
    },
    {
     "name": "stdout",
     "output_type": "stream",
     "text": [
      "AUC score: 0.92775 \n",
      "fold n°0\n"
     ]
    },
    {
     "name": "stderr",
     "output_type": "stream",
     "text": [
      "/environment/miniconda3/lib/python3.10/site-packages/optuna/trial/_trial.py:677: RuntimeWarning: Inconsistent parameter values for distribution with name \"min_child_samples\"! This might be a configuration mistake. Optuna allows to call the same distribution with the same name more than once in a trial. When the parameter values are inconsistent optuna only uses the values of the first call and ignores all following. Using these values: {'log': False, 'step': 1, 'low': 2, 'high': 100}\n",
      "  warnings.warn(\n"
     ]
    },
    {
     "name": "stdout",
     "output_type": "stream",
     "text": [
      "fold n°1\n",
      "fold n°2\n",
      "fold n°3\n",
      "fold n°4\n"
     ]
    },
    {
     "name": "stderr",
     "output_type": "stream",
     "text": [
      "[I 2023-11-02 09:36:22,655] Trial 28 finished with value: 0.9206914048922906 and parameters: {'learning_rate': 1, 'lambda_l1': 0.11285358215701574, 'lambda_l2': 9.38275035121434, 'max_bin': 73, 'max_depth': 93, 'min_data_in_leaf': 48, 'min_child_samples': 26, 'num_leaves': 79, 'feature_fraction': 0.2876688361095017, 'bagging_fraction': 0.9351992179355884, 'bagging_freq': 9}. Best is trial 25 with value: 0.9192071484308043.\n"
     ]
    },
    {
     "name": "stdout",
     "output_type": "stream",
     "text": [
      "AUC score: 0.92069 \n",
      "fold n°0\n",
      "fold n°1\n"
     ]
    },
    {
     "name": "stderr",
     "output_type": "stream",
     "text": [
      "/environment/miniconda3/lib/python3.10/site-packages/optuna/trial/_trial.py:677: RuntimeWarning: Inconsistent parameter values for distribution with name \"min_child_samples\"! This might be a configuration mistake. Optuna allows to call the same distribution with the same name more than once in a trial. When the parameter values are inconsistent optuna only uses the values of the first call and ignores all following. Using these values: {'log': False, 'step': 1, 'low': 2, 'high': 100}\n",
      "  warnings.warn(\n"
     ]
    },
    {
     "name": "stdout",
     "output_type": "stream",
     "text": [
      "fold n°2\n",
      "fold n°3\n"
     ]
    },
    {
     "name": "stderr",
     "output_type": "stream",
     "text": [
      "[I 2023-11-02 09:36:23,240] Trial 29 finished with value: 0.9405479601621417 and parameters: {'learning_rate': 1, 'lambda_l1': 1.4618259324091816, 'lambda_l2': 9.047424321528911, 'max_bin': 41, 'max_depth': 94, 'min_data_in_leaf': 90, 'min_child_samples': 24, 'num_leaves': 80, 'feature_fraction': 0.3952965180886291, 'bagging_fraction': 0.9050949560000587, 'bagging_freq': 11}. Best is trial 25 with value: 0.9192071484308043.\n"
     ]
    },
    {
     "name": "stdout",
     "output_type": "stream",
     "text": [
      "fold n°4\n",
      "AUC score: 0.94055 \n",
      "fold n°0\n"
     ]
    },
    {
     "name": "stderr",
     "output_type": "stream",
     "text": [
      "/environment/miniconda3/lib/python3.10/site-packages/optuna/trial/_trial.py:677: RuntimeWarning: Inconsistent parameter values for distribution with name \"min_child_samples\"! This might be a configuration mistake. Optuna allows to call the same distribution with the same name more than once in a trial. When the parameter values are inconsistent optuna only uses the values of the first call and ignores all following. Using these values: {'log': False, 'step': 1, 'low': 2, 'high': 100}\n",
      "  warnings.warn(\n"
     ]
    },
    {
     "name": "stdout",
     "output_type": "stream",
     "text": [
      "fold n°1\n",
      "fold n°2\n",
      "fold n°3\n"
     ]
    },
    {
     "name": "stderr",
     "output_type": "stream",
     "text": [
      "[I 2023-11-02 09:36:23,699] Trial 30 finished with value: 0.9511670878331792 and parameters: {'learning_rate': 5e-05, 'lambda_l1': 0.832035594897877, 'lambda_l2': 8.403078703058847, 'max_bin': 55, 'max_depth': 77, 'min_data_in_leaf': 77, 'min_child_samples': 14, 'num_leaves': 98, 'feature_fraction': 0.17548641974926416, 'bagging_fraction': 0.9227365432459561, 'bagging_freq': 9}. Best is trial 25 with value: 0.9192071484308043.\n"
     ]
    },
    {
     "name": "stdout",
     "output_type": "stream",
     "text": [
      "fold n°4\n",
      "AUC score: 0.95117 \n",
      "fold n°0\n"
     ]
    },
    {
     "name": "stderr",
     "output_type": "stream",
     "text": [
      "/environment/miniconda3/lib/python3.10/site-packages/optuna/trial/_trial.py:677: RuntimeWarning: Inconsistent parameter values for distribution with name \"min_child_samples\"! This might be a configuration mistake. Optuna allows to call the same distribution with the same name more than once in a trial. When the parameter values are inconsistent optuna only uses the values of the first call and ignores all following. Using these values: {'log': False, 'step': 1, 'low': 2, 'high': 100}\n",
      "  warnings.warn(\n"
     ]
    },
    {
     "name": "stdout",
     "output_type": "stream",
     "text": [
      "fold n°1\n",
      "fold n°2\n",
      "fold n°3\n"
     ]
    },
    {
     "name": "stderr",
     "output_type": "stream",
     "text": [
      "[I 2023-11-02 09:36:24,752] Trial 31 finished with value: 0.9236185390429377 and parameters: {'learning_rate': 1, 'lambda_l1': 0.26974658420772624, 'lambda_l2': 9.417330485721006, 'max_bin': 72, 'max_depth': 84, 'min_data_in_leaf': 49, 'min_child_samples': 23, 'num_leaves': 63, 'feature_fraction': 0.3330781004535628, 'bagging_fraction': 0.9727539794845742, 'bagging_freq': 7}. Best is trial 25 with value: 0.9192071484308043.\n"
     ]
    },
    {
     "name": "stdout",
     "output_type": "stream",
     "text": [
      "fold n°4\n",
      "AUC score: 0.92362 \n"
     ]
    },
    {
     "name": "stderr",
     "output_type": "stream",
     "text": [
      "/environment/miniconda3/lib/python3.10/site-packages/optuna/trial/_trial.py:677: RuntimeWarning: Inconsistent parameter values for distribution with name \"min_child_samples\"! This might be a configuration mistake. Optuna allows to call the same distribution with the same name more than once in a trial. When the parameter values are inconsistent optuna only uses the values of the first call and ignores all following. Using these values: {'log': False, 'step': 1, 'low': 2, 'high': 100}\n",
      "  warnings.warn(\n"
     ]
    },
    {
     "name": "stdout",
     "output_type": "stream",
     "text": [
      "fold n°0\n",
      "fold n°1\n",
      "fold n°2\n",
      "fold n°3\n"
     ]
    },
    {
     "name": "stderr",
     "output_type": "stream",
     "text": [
      "[I 2023-11-02 09:36:25,780] Trial 32 finished with value: 0.91110077842182 and parameters: {'learning_rate': 1, 'lambda_l1': 0.022684385868027814, 'lambda_l2': 9.344798923343093, 'max_bin': 71, 'max_depth': 97, 'min_data_in_leaf': 49, 'min_child_samples': 24, 'num_leaves': 74, 'feature_fraction': 0.2618363186695962, 'bagging_fraction': 0.933069672622945, 'bagging_freq': 8}. Best is trial 32 with value: 0.91110077842182.\n"
     ]
    },
    {
     "name": "stdout",
     "output_type": "stream",
     "text": [
      "fold n°4\n",
      "AUC score: 0.91110 \n"
     ]
    },
    {
     "name": "stderr",
     "output_type": "stream",
     "text": [
      "/environment/miniconda3/lib/python3.10/site-packages/optuna/trial/_trial.py:677: RuntimeWarning: Inconsistent parameter values for distribution with name \"min_child_samples\"! This might be a configuration mistake. Optuna allows to call the same distribution with the same name more than once in a trial. When the parameter values are inconsistent optuna only uses the values of the first call and ignores all following. Using these values: {'log': False, 'step': 1, 'low': 2, 'high': 100}\n",
      "  warnings.warn(\n"
     ]
    },
    {
     "name": "stdout",
     "output_type": "stream",
     "text": [
      "fold n°0\n",
      "fold n°1\n",
      "fold n°2\n"
     ]
    },
    {
     "name": "stderr",
     "output_type": "stream",
     "text": [
      "[I 2023-11-02 09:36:26,309] Trial 33 finished with value: 0.9266004512012692 and parameters: {'learning_rate': 1, 'lambda_l1': 0.9607976057064489, 'lambda_l2': 9.04888248720822, 'max_bin': 61, 'max_depth': 99, 'min_data_in_leaf': 57, 'min_child_samples': 12, 'num_leaves': 72, 'feature_fraction': 0.2573306793259475, 'bagging_fraction': 0.9062655709001565, 'bagging_freq': 8}. Best is trial 32 with value: 0.91110077842182.\n"
     ]
    },
    {
     "name": "stdout",
     "output_type": "stream",
     "text": [
      "fold n°3\n",
      "fold n°4\n",
      "AUC score: 0.92660 \n"
     ]
    },
    {
     "name": "stderr",
     "output_type": "stream",
     "text": [
      "/environment/miniconda3/lib/python3.10/site-packages/optuna/trial/_trial.py:677: RuntimeWarning: Inconsistent parameter values for distribution with name \"min_child_samples\"! This might be a configuration mistake. Optuna allows to call the same distribution with the same name more than once in a trial. When the parameter values are inconsistent optuna only uses the values of the first call and ignores all following. Using these values: {'log': False, 'step': 1, 'low': 2, 'high': 100}\n",
      "  warnings.warn(\n"
     ]
    },
    {
     "name": "stdout",
     "output_type": "stream",
     "text": [
      "fold n°0\n",
      "fold n°1\n",
      "fold n°2\n"
     ]
    },
    {
     "name": "stderr",
     "output_type": "stream",
     "text": [
      "[I 2023-11-02 09:36:26,721] Trial 34 finished with value: 0.9350978677784582 and parameters: {'learning_rate': 1, 'lambda_l1': 1.774915361460686, 'lambda_l2': 9.532128310661578, 'max_bin': 70, 'max_depth': 93, 'min_data_in_leaf': 45, 'min_child_samples': 36, 'num_leaves': 85, 'feature_fraction': 0.25093602284326133, 'bagging_fraction': 0.933253765977019, 'bagging_freq': 9}. Best is trial 32 with value: 0.91110077842182.\n"
     ]
    },
    {
     "name": "stdout",
     "output_type": "stream",
     "text": [
      "fold n°3\n",
      "fold n°4\n",
      "AUC score: 0.93510 \n",
      "fold n°0\n"
     ]
    },
    {
     "name": "stderr",
     "output_type": "stream",
     "text": [
      "/environment/miniconda3/lib/python3.10/site-packages/optuna/trial/_trial.py:677: RuntimeWarning: Inconsistent parameter values for distribution with name \"min_child_samples\"! This might be a configuration mistake. Optuna allows to call the same distribution with the same name more than once in a trial. When the parameter values are inconsistent optuna only uses the values of the first call and ignores all following. Using these values: {'log': False, 'step': 1, 'low': 2, 'high': 100}\n",
      "  warnings.warn(\n"
     ]
    },
    {
     "name": "stdout",
     "output_type": "stream",
     "text": [
      "fold n°1\n",
      "fold n°2\n",
      "fold n°3\n"
     ]
    },
    {
     "name": "stderr",
     "output_type": "stream",
     "text": [
      "[I 2023-11-02 09:36:28,599] Trial 35 finished with value: 0.9326986078617093 and parameters: {'learning_rate': 1, 'lambda_l1': 0.00883112692674802, 'lambda_l2': 9.972281522055614, 'max_bin': 48, 'max_depth': 69, 'min_data_in_leaf': 70, 'min_child_samples': 25, 'num_leaves': 70, 'feature_fraction': 0.16524993307849578, 'bagging_fraction': 0.9344655936198678, 'bagging_freq': 6}. Best is trial 32 with value: 0.91110077842182.\n"
     ]
    },
    {
     "name": "stdout",
     "output_type": "stream",
     "text": [
      "fold n°4\n",
      "AUC score: 0.93270 \n",
      "fold n°0\n"
     ]
    },
    {
     "name": "stderr",
     "output_type": "stream",
     "text": [
      "/environment/miniconda3/lib/python3.10/site-packages/optuna/trial/_trial.py:677: RuntimeWarning: Inconsistent parameter values for distribution with name \"min_child_samples\"! This might be a configuration mistake. Optuna allows to call the same distribution with the same name more than once in a trial. When the parameter values are inconsistent optuna only uses the values of the first call and ignores all following. Using these values: {'log': False, 'step': 1, 'low': 2, 'high': 100}\n",
      "  warnings.warn(\n"
     ]
    },
    {
     "name": "stdout",
     "output_type": "stream",
     "text": [
      "fold n°1\n",
      "fold n°2\n",
      "fold n°3\n",
      "fold n°4\n"
     ]
    },
    {
     "name": "stderr",
     "output_type": "stream",
     "text": [
      "[I 2023-11-02 09:36:29,454] Trial 36 finished with value: 0.9241083772930823 and parameters: {'learning_rate': 1, 'lambda_l1': 0.5967380244088665, 'lambda_l2': 8.70630367556011, 'max_bin': 94, 'max_depth': 90, 'min_data_in_leaf': 34, 'min_child_samples': 45, 'num_leaves': 74, 'feature_fraction': 0.23453665412620348, 'bagging_fraction': 0.9985376737959026, 'bagging_freq': 11}. Best is trial 32 with value: 0.91110077842182.\n"
     ]
    },
    {
     "name": "stdout",
     "output_type": "stream",
     "text": [
      "AUC score: 0.92411 \n",
      "fold n°0\n",
      "fold n°1\n"
     ]
    },
    {
     "name": "stderr",
     "output_type": "stream",
     "text": [
      "/environment/miniconda3/lib/python3.10/site-packages/optuna/trial/_trial.py:677: RuntimeWarning: Inconsistent parameter values for distribution with name \"min_child_samples\"! This might be a configuration mistake. Optuna allows to call the same distribution with the same name more than once in a trial. When the parameter values are inconsistent optuna only uses the values of the first call and ignores all following. Using these values: {'log': False, 'step': 1, 'low': 2, 'high': 100}\n",
      "  warnings.warn(\n"
     ]
    },
    {
     "name": "stdout",
     "output_type": "stream",
     "text": [
      "fold n°2\n",
      "fold n°3\n"
     ]
    },
    {
     "name": "stderr",
     "output_type": "stream",
     "text": [
      "[I 2023-11-02 09:36:30,029] Trial 37 finished with value: 0.9504499807389027 and parameters: {'learning_rate': 0.5, 'lambda_l1': 1.0806417825228516, 'lambda_l2': 8.287583255884005, 'max_bin': 61, 'max_depth': 80, 'min_data_in_leaf': 83, 'min_child_samples': 19, 'num_leaves': 58, 'feature_fraction': 0.30405517111854674, 'bagging_fraction': 0.8548364239431656, 'bagging_freq': 10}. Best is trial 32 with value: 0.91110077842182.\n"
     ]
    },
    {
     "name": "stdout",
     "output_type": "stream",
     "text": [
      "fold n°4\n",
      "AUC score: 0.95045 \n",
      "fold n°0\n"
     ]
    },
    {
     "name": "stderr",
     "output_type": "stream",
     "text": [
      "/environment/miniconda3/lib/python3.10/site-packages/optuna/trial/_trial.py:677: RuntimeWarning: Inconsistent parameter values for distribution with name \"min_child_samples\"! This might be a configuration mistake. Optuna allows to call the same distribution with the same name more than once in a trial. When the parameter values are inconsistent optuna only uses the values of the first call and ignores all following. Using these values: {'log': False, 'step': 1, 'low': 2, 'high': 100}\n",
      "  warnings.warn(\n"
     ]
    },
    {
     "name": "stdout",
     "output_type": "stream",
     "text": [
      "fold n°1\n",
      "fold n°2\n",
      "fold n°3\n",
      "fold n°4\n"
     ]
    },
    {
     "name": "stderr",
     "output_type": "stream",
     "text": [
      "[I 2023-11-02 09:36:30,428] Trial 38 finished with value: 0.9545239348612469 and parameters: {'learning_rate': 0.01, 'lambda_l1': 1.9513516351430353, 'lambda_l2': 8.289171727321872, 'max_bin': 78, 'max_depth': 96, 'min_data_in_leaf': 58, 'min_child_samples': 7, 'num_leaves': 83, 'feature_fraction': 0.16659915405395648, 'bagging_fraction': 0.821887814996378, 'bagging_freq': 6}. Best is trial 32 with value: 0.91110077842182.\n"
     ]
    },
    {
     "name": "stdout",
     "output_type": "stream",
     "text": [
      "AUC score: 0.95452 \n",
      "fold n°0\n",
      "fold n°1\n"
     ]
    },
    {
     "name": "stderr",
     "output_type": "stream",
     "text": [
      "/environment/miniconda3/lib/python3.10/site-packages/optuna/trial/_trial.py:677: RuntimeWarning: Inconsistent parameter values for distribution with name \"min_child_samples\"! This might be a configuration mistake. Optuna allows to call the same distribution with the same name more than once in a trial. When the parameter values are inconsistent optuna only uses the values of the first call and ignores all following. Using these values: {'log': False, 'step': 1, 'low': 2, 'high': 100}\n",
      "  warnings.warn(\n"
     ]
    },
    {
     "name": "stdout",
     "output_type": "stream",
     "text": [
      "fold n°2\n",
      "fold n°3\n",
      "fold n°4\n"
     ]
    },
    {
     "name": "stderr",
     "output_type": "stream",
     "text": [
      "[I 2023-11-02 09:36:30,913] Trial 39 finished with value: 0.9586377248151274 and parameters: {'learning_rate': 5e-05, 'lambda_l1': 0.502879116545792, 'lambda_l2': 9.427877379370837, 'max_bin': 42, 'max_depth': 39, 'min_data_in_leaf': 43, 'min_child_samples': 39, 'num_leaves': 59, 'feature_fraction': 0.3745612254184406, 'bagging_fraction': 0.8950008418055273, 'bagging_freq': 8}. Best is trial 32 with value: 0.91110077842182.\n"
     ]
    },
    {
     "name": "stdout",
     "output_type": "stream",
     "text": [
      "AUC score: 0.95864 \n",
      "fold n°0\n"
     ]
    },
    {
     "name": "stderr",
     "output_type": "stream",
     "text": [
      "/environment/miniconda3/lib/python3.10/site-packages/optuna/trial/_trial.py:677: RuntimeWarning: Inconsistent parameter values for distribution with name \"min_child_samples\"! This might be a configuration mistake. Optuna allows to call the same distribution with the same name more than once in a trial. When the parameter values are inconsistent optuna only uses the values of the first call and ignores all following. Using these values: {'log': False, 'step': 1, 'low': 2, 'high': 100}\n",
      "  warnings.warn(\n"
     ]
    },
    {
     "name": "stdout",
     "output_type": "stream",
     "text": [
      "fold n°1\n",
      "fold n°2\n",
      "fold n°3\n",
      "fold n°4\n"
     ]
    },
    {
     "name": "stderr",
     "output_type": "stream",
     "text": [
      "[I 2023-11-02 09:36:31,830] Trial 40 finished with value: 0.95203665405406 and parameters: {'learning_rate': 0.1, 'lambda_l1': 1.2797704109886694, 'lambda_l2': 8.013668199475145, 'max_bin': 68, 'max_depth': 88, 'min_data_in_leaf': 10, 'min_child_samples': 26, 'num_leaves': 88, 'feature_fraction': 0.43872028472798885, 'bagging_fraction': 0.9464263085937552, 'bagging_freq': 12}. Best is trial 32 with value: 0.91110077842182.\n"
     ]
    },
    {
     "name": "stdout",
     "output_type": "stream",
     "text": [
      "AUC score: 0.95204 \n",
      "fold n°0\n"
     ]
    },
    {
     "name": "stderr",
     "output_type": "stream",
     "text": [
      "/environment/miniconda3/lib/python3.10/site-packages/optuna/trial/_trial.py:677: RuntimeWarning: Inconsistent parameter values for distribution with name \"min_child_samples\"! This might be a configuration mistake. Optuna allows to call the same distribution with the same name more than once in a trial. When the parameter values are inconsistent optuna only uses the values of the first call and ignores all following. Using these values: {'log': False, 'step': 1, 'low': 2, 'high': 100}\n",
      "  warnings.warn(\n"
     ]
    },
    {
     "name": "stdout",
     "output_type": "stream",
     "text": [
      "fold n°1\n",
      "fold n°2\n",
      "fold n°3\n",
      "fold n°4\n"
     ]
    },
    {
     "name": "stderr",
     "output_type": "stream",
     "text": [
      "[I 2023-11-02 09:36:32,651] Trial 41 finished with value: 0.928383513850099 and parameters: {'learning_rate': 1, 'lambda_l1': 0.42760736504453284, 'lambda_l2': 9.475750430188935, 'max_bin': 73, 'max_depth': 84, 'min_data_in_leaf': 50, 'min_child_samples': 15, 'num_leaves': 62, 'feature_fraction': 0.31734721856488574, 'bagging_fraction': 0.9984101098153504, 'bagging_freq': 6}. Best is trial 32 with value: 0.91110077842182.\n"
     ]
    },
    {
     "name": "stdout",
     "output_type": "stream",
     "text": [
      "AUC score: 0.92838 \n",
      "fold n°0\n"
     ]
    },
    {
     "name": "stderr",
     "output_type": "stream",
     "text": [
      "/environment/miniconda3/lib/python3.10/site-packages/optuna/trial/_trial.py:677: RuntimeWarning: Inconsistent parameter values for distribution with name \"min_child_samples\"! This might be a configuration mistake. Optuna allows to call the same distribution with the same name more than once in a trial. When the parameter values are inconsistent optuna only uses the values of the first call and ignores all following. Using these values: {'log': False, 'step': 1, 'low': 2, 'high': 100}\n",
      "  warnings.warn(\n"
     ]
    },
    {
     "name": "stdout",
     "output_type": "stream",
     "text": [
      "fold n°1\n",
      "fold n°2\n",
      "fold n°3\n",
      "fold n°4\n"
     ]
    },
    {
     "name": "stderr",
     "output_type": "stream",
     "text": [
      "[I 2023-11-02 09:36:33,719] Trial 42 finished with value: 0.9214613398580287 and parameters: {'learning_rate': 1, 'lambda_l1': 0.0545439514700119, 'lambda_l2': 9.273645429261506, 'max_bin': 81, 'max_depth': 80, 'min_data_in_leaf': 57, 'min_child_samples': 22, 'num_leaves': 67, 'feature_fraction': 0.3352241271121841, 'bagging_fraction': 0.9494913152594823, 'bagging_freq': 7}. Best is trial 32 with value: 0.91110077842182.\n"
     ]
    },
    {
     "name": "stdout",
     "output_type": "stream",
     "text": [
      "AUC score: 0.92146 \n",
      "fold n°0\n",
      "fold n°1\n"
     ]
    },
    {
     "name": "stderr",
     "output_type": "stream",
     "text": [
      "/environment/miniconda3/lib/python3.10/site-packages/optuna/trial/_trial.py:677: RuntimeWarning: Inconsistent parameter values for distribution with name \"min_child_samples\"! This might be a configuration mistake. Optuna allows to call the same distribution with the same name more than once in a trial. When the parameter values are inconsistent optuna only uses the values of the first call and ignores all following. Using these values: {'log': False, 'step': 1, 'low': 2, 'high': 100}\n",
      "  warnings.warn(\n"
     ]
    },
    {
     "name": "stdout",
     "output_type": "stream",
     "text": [
      "fold n°2\n",
      "fold n°3\n"
     ]
    },
    {
     "name": "stderr",
     "output_type": "stream",
     "text": [
      "[I 2023-11-02 09:36:34,368] Trial 43 finished with value: 0.9615278069978437 and parameters: {'learning_rate': 0.05, 'lambda_l1': 0.8162533865357, 'lambda_l2': 8.686110775549261, 'max_bin': 81, 'max_depth': 80, 'min_data_in_leaf': 59, 'min_child_samples': 30, 'num_leaves': 69, 'feature_fraction': 0.2726966325290427, 'bagging_fraction': 0.9476123173800791, 'bagging_freq': 9}. Best is trial 32 with value: 0.91110077842182.\n"
     ]
    },
    {
     "name": "stdout",
     "output_type": "stream",
     "text": [
      "fold n°4\n",
      "AUC score: 0.96153 \n",
      "fold n°0\n"
     ]
    },
    {
     "name": "stderr",
     "output_type": "stream",
     "text": [
      "/environment/miniconda3/lib/python3.10/site-packages/optuna/trial/_trial.py:677: RuntimeWarning: Inconsistent parameter values for distribution with name \"min_child_samples\"! This might be a configuration mistake. Optuna allows to call the same distribution with the same name more than once in a trial. When the parameter values are inconsistent optuna only uses the values of the first call and ignores all following. Using these values: {'log': False, 'step': 1, 'low': 2, 'high': 100}\n",
      "  warnings.warn(\n"
     ]
    },
    {
     "name": "stdout",
     "output_type": "stream",
     "text": [
      "fold n°1\n",
      "fold n°2\n",
      "fold n°3\n",
      "fold n°4\n"
     ]
    },
    {
     "name": "stderr",
     "output_type": "stream",
     "text": [
      "[I 2023-11-02 09:36:35,201] Trial 44 finished with value: 0.9285752159341474 and parameters: {'learning_rate': 1, 'lambda_l1': 0.5367981654531602, 'lambda_l2': 9.31748469381461, 'max_bin': 61, 'max_depth': 68, 'min_data_in_leaf': 68, 'min_child_samples': 34, 'num_leaves': 75, 'feature_fraction': 0.34576950193804823, 'bagging_fraction': 0.8752910726334444, 'bagging_freq': 8}. Best is trial 32 with value: 0.91110077842182.\n"
     ]
    },
    {
     "name": "stdout",
     "output_type": "stream",
     "text": [
      "AUC score: 0.92858 \n",
      "fold n°0\n"
     ]
    },
    {
     "name": "stderr",
     "output_type": "stream",
     "text": [
      "/environment/miniconda3/lib/python3.10/site-packages/optuna/trial/_trial.py:677: RuntimeWarning: Inconsistent parameter values for distribution with name \"min_child_samples\"! This might be a configuration mistake. Optuna allows to call the same distribution with the same name more than once in a trial. When the parameter values are inconsistent optuna only uses the values of the first call and ignores all following. Using these values: {'log': False, 'step': 1, 'low': 2, 'high': 100}\n",
      "  warnings.warn(\n"
     ]
    },
    {
     "name": "stdout",
     "output_type": "stream",
     "text": [
      "fold n°1\n",
      "fold n°2\n",
      "fold n°3\n",
      "fold n°4\n"
     ]
    },
    {
     "name": "stderr",
     "output_type": "stream",
     "text": [
      "[I 2023-11-02 09:36:36,224] Trial 45 finished with value: 0.9219605328750703 and parameters: {'learning_rate': 1, 'lambda_l1': 0.06841281431818183, 'lambda_l2': 8.65621434297924, 'max_bin': 84, 'max_depth': 72, 'min_data_in_leaf': 53, 'min_child_samples': 100, 'num_leaves': 50, 'feature_fraction': 0.24158593481238438, 'bagging_fraction': 0.9587118760332686, 'bagging_freq': 10}. Best is trial 32 with value: 0.91110077842182.\n"
     ]
    },
    {
     "name": "stdout",
     "output_type": "stream",
     "text": [
      "AUC score: 0.92196 \n",
      "fold n°0\n",
      "fold n°1\n"
     ]
    },
    {
     "name": "stderr",
     "output_type": "stream",
     "text": [
      "/environment/miniconda3/lib/python3.10/site-packages/optuna/trial/_trial.py:677: RuntimeWarning: Inconsistent parameter values for distribution with name \"min_child_samples\"! This might be a configuration mistake. Optuna allows to call the same distribution with the same name more than once in a trial. When the parameter values are inconsistent optuna only uses the values of the first call and ignores all following. Using these values: {'log': False, 'step': 1, 'low': 2, 'high': 100}\n",
      "  warnings.warn(\n"
     ]
    },
    {
     "name": "stdout",
     "output_type": "stream",
     "text": [
      "fold n°2\n",
      "fold n°3\n",
      "fold n°4\n"
     ]
    },
    {
     "name": "stderr",
     "output_type": "stream",
     "text": [
      "[I 2023-11-02 09:36:36,706] Trial 46 finished with value: 0.9557039875765291 and parameters: {'learning_rate': 0.0005, 'lambda_l1': 1.241567343016753, 'lambda_l2': 8.835511869915212, 'max_bin': 95, 'max_depth': 76, 'min_data_in_leaf': 54, 'min_child_samples': 91, 'num_leaves': 45, 'feature_fraction': 0.39618294511869645, 'bagging_fraction': 0.9426804839511992, 'bagging_freq': 10}. Best is trial 32 with value: 0.91110077842182.\n"
     ]
    },
    {
     "name": "stdout",
     "output_type": "stream",
     "text": [
      "AUC score: 0.95570 \n",
      "fold n°0\n",
      "fold n°1\n"
     ]
    },
    {
     "name": "stderr",
     "output_type": "stream",
     "text": [
      "/environment/miniconda3/lib/python3.10/site-packages/optuna/trial/_trial.py:677: RuntimeWarning: Inconsistent parameter values for distribution with name \"min_child_samples\"! This might be a configuration mistake. Optuna allows to call the same distribution with the same name more than once in a trial. When the parameter values are inconsistent optuna only uses the values of the first call and ignores all following. Using these values: {'log': False, 'step': 1, 'low': 2, 'high': 100}\n",
      "  warnings.warn(\n"
     ]
    },
    {
     "name": "stdout",
     "output_type": "stream",
     "text": [
      "fold n°2\n",
      "fold n°3\n",
      "fold n°4\n"
     ]
    },
    {
     "name": "stderr",
     "output_type": "stream",
     "text": [
      "[I 2023-11-02 09:36:37,246] Trial 47 finished with value: 0.9402538419748427 and parameters: {'learning_rate': 1, 'lambda_l1': 2.153256214475306, 'lambda_l2': 9.830191940669318, 'max_bin': 82, 'max_depth': 100, 'min_data_in_leaf': 42, 'min_child_samples': 8, 'num_leaves': 54, 'feature_fraction': 0.49385678833776375, 'bagging_fraction': 0.7999734925026887, 'bagging_freq': 13}. Best is trial 32 with value: 0.91110077842182.\n"
     ]
    },
    {
     "name": "stdout",
     "output_type": "stream",
     "text": [
      "AUC score: 0.94025 \n",
      "fold n°0\n",
      "fold n°1\n"
     ]
    },
    {
     "name": "stderr",
     "output_type": "stream",
     "text": [
      "/environment/miniconda3/lib/python3.10/site-packages/optuna/trial/_trial.py:677: RuntimeWarning: Inconsistent parameter values for distribution with name \"min_child_samples\"! This might be a configuration mistake. Optuna allows to call the same distribution with the same name more than once in a trial. When the parameter values are inconsistent optuna only uses the values of the first call and ignores all following. Using these values: {'log': False, 'step': 1, 'low': 2, 'high': 100}\n",
      "  warnings.warn(\n"
     ]
    },
    {
     "name": "stdout",
     "output_type": "stream",
     "text": [
      "fold n°2\n",
      "fold n°3\n"
     ]
    },
    {
     "name": "stderr",
     "output_type": "stream",
     "text": [
      "[I 2023-11-02 09:36:37,997] Trial 48 finished with value: 0.9434558630761203 and parameters: {'learning_rate': 0.5, 'lambda_l1': 0.9122608376000733, 'lambda_l2': 9.12599864907011, 'max_bin': 86, 'max_depth': 92, 'min_data_in_leaf': 35, 'min_child_samples': 2, 'num_leaves': 49, 'feature_fraction': 0.25219386864477517, 'bagging_fraction': 0.9003627977761309, 'bagging_freq': 10}. Best is trial 32 with value: 0.91110077842182.\n"
     ]
    },
    {
     "name": "stdout",
     "output_type": "stream",
     "text": [
      "fold n°4\n",
      "AUC score: 0.94346 \n",
      "fold n°0\n"
     ]
    },
    {
     "name": "stderr",
     "output_type": "stream",
     "text": [
      "/environment/miniconda3/lib/python3.10/site-packages/optuna/trial/_trial.py:677: RuntimeWarning: Inconsistent parameter values for distribution with name \"min_child_samples\"! This might be a configuration mistake. Optuna allows to call the same distribution with the same name more than once in a trial. When the parameter values are inconsistent optuna only uses the values of the first call and ignores all following. Using these values: {'log': False, 'step': 1, 'low': 2, 'high': 100}\n",
      "  warnings.warn(\n"
     ]
    },
    {
     "name": "stdout",
     "output_type": "stream",
     "text": [
      "fold n°1\n",
      "fold n°2\n",
      "fold n°3\n"
     ]
    },
    {
     "name": "stderr",
     "output_type": "stream",
     "text": [
      "[I 2023-11-02 09:36:38,452] Trial 49 finished with value: 0.9605291452276239 and parameters: {'learning_rate': 0.001, 'lambda_l1': 0.558950694672755, 'lambda_l2': 8.558553604126132, 'max_bin': 67, 'max_depth': 81, 'min_data_in_leaf': 65, 'min_child_samples': 19, 'num_leaves': 95, 'feature_fraction': 0.42842675476134845, 'bagging_fraction': 0.8466439488589614, 'bagging_freq': 9}. Best is trial 32 with value: 0.91110077842182.\n"
     ]
    },
    {
     "name": "stdout",
     "output_type": "stream",
     "text": [
      "fold n°4\n",
      "AUC score: 0.96053 \n",
      "fold n°0\n"
     ]
    },
    {
     "name": "stderr",
     "output_type": "stream",
     "text": [
      "/environment/miniconda3/lib/python3.10/site-packages/optuna/trial/_trial.py:677: RuntimeWarning: Inconsistent parameter values for distribution with name \"min_child_samples\"! This might be a configuration mistake. Optuna allows to call the same distribution with the same name more than once in a trial. When the parameter values are inconsistent optuna only uses the values of the first call and ignores all following. Using these values: {'log': False, 'step': 1, 'low': 2, 'high': 100}\n",
      "  warnings.warn(\n"
     ]
    },
    {
     "name": "stdout",
     "output_type": "stream",
     "text": [
      "fold n°1\n",
      "fold n°2\n",
      "fold n°3\n"
     ]
    },
    {
     "name": "stderr",
     "output_type": "stream",
     "text": [
      "[I 2023-11-02 09:36:40,170] Trial 50 finished with value: 0.9347591144069993 and parameters: {'learning_rate': 1, 'lambda_l1': 1.4971300394476632, 'lambda_l2': 8.016190564323342, 'max_bin': 100, 'max_depth': 73, 'min_data_in_leaf': 56, 'min_child_samples': 49, 'num_leaves': 67, 'feature_fraction': 0.37028310962911004, 'bagging_fraction': 0.9609377827359237, 'bagging_freq': 12}. Best is trial 32 with value: 0.91110077842182.\n"
     ]
    },
    {
     "name": "stdout",
     "output_type": "stream",
     "text": [
      "fold n°4\n",
      "AUC score: 0.93476 \n",
      "fold n°0\n"
     ]
    },
    {
     "name": "stderr",
     "output_type": "stream",
     "text": [
      "/environment/miniconda3/lib/python3.10/site-packages/optuna/trial/_trial.py:677: RuntimeWarning: Inconsistent parameter values for distribution with name \"min_child_samples\"! This might be a configuration mistake. Optuna allows to call the same distribution with the same name more than once in a trial. When the parameter values are inconsistent optuna only uses the values of the first call and ignores all following. Using these values: {'log': False, 'step': 1, 'low': 2, 'high': 100}\n",
      "  warnings.warn(\n"
     ]
    },
    {
     "name": "stdout",
     "output_type": "stream",
     "text": [
      "fold n°1\n",
      "fold n°2\n",
      "fold n°3\n",
      "fold n°4\n"
     ]
    },
    {
     "name": "stderr",
     "output_type": "stream",
     "text": [
      "[I 2023-11-02 09:36:41,073] Trial 51 finished with value: 0.9362253105021884 and parameters: {'learning_rate': 1, 'lambda_l1': 0.010498400036473253, 'lambda_l2': 8.483292397900112, 'max_bin': 85, 'max_depth': 66, 'min_data_in_leaf': 61, 'min_child_samples': 27, 'num_leaves': 78, 'feature_fraction': 0.20994964702583685, 'bagging_fraction': 0.9560800049269089, 'bagging_freq': 7}. Best is trial 32 with value: 0.91110077842182.\n"
     ]
    },
    {
     "name": "stdout",
     "output_type": "stream",
     "text": [
      "AUC score: 0.93623 \n",
      "fold n°0\n"
     ]
    },
    {
     "name": "stderr",
     "output_type": "stream",
     "text": [
      "/environment/miniconda3/lib/python3.10/site-packages/optuna/trial/_trial.py:677: RuntimeWarning: Inconsistent parameter values for distribution with name \"min_child_samples\"! This might be a configuration mistake. Optuna allows to call the same distribution with the same name more than once in a trial. When the parameter values are inconsistent optuna only uses the values of the first call and ignores all following. Using these values: {'log': False, 'step': 1, 'low': 2, 'high': 100}\n",
      "  warnings.warn(\n"
     ]
    },
    {
     "name": "stdout",
     "output_type": "stream",
     "text": [
      "fold n°1\n",
      "fold n°2\n",
      "fold n°3\n",
      "fold n°4\n"
     ]
    },
    {
     "name": "stderr",
     "output_type": "stream",
     "text": [
      "[I 2023-11-02 09:36:41,927] Trial 52 finished with value: 0.9288832529955009 and parameters: {'learning_rate': 1, 'lambda_l1': 0.3320676197725907, 'lambda_l2': 9.194385718574724, 'max_bin': 77, 'max_depth': 71, 'min_data_in_leaf': 47, 'min_child_samples': 43, 'num_leaves': 43, 'feature_fraction': 0.2617666263814813, 'bagging_fraction': 0.9084589635234833, 'bagging_freq': 5}. Best is trial 32 with value: 0.91110077842182.\n"
     ]
    },
    {
     "name": "stdout",
     "output_type": "stream",
     "text": [
      "AUC score: 0.92888 \n",
      "fold n°0\n",
      "fold n°1\n"
     ]
    },
    {
     "name": "stderr",
     "output_type": "stream",
     "text": [
      "/environment/miniconda3/lib/python3.10/site-packages/optuna/trial/_trial.py:677: RuntimeWarning: Inconsistent parameter values for distribution with name \"min_child_samples\"! This might be a configuration mistake. Optuna allows to call the same distribution with the same name more than once in a trial. When the parameter values are inconsistent optuna only uses the values of the first call and ignores all following. Using these values: {'log': False, 'step': 1, 'low': 2, 'high': 100}\n",
      "  warnings.warn(\n"
     ]
    },
    {
     "name": "stdout",
     "output_type": "stream",
     "text": [
      "fold n°2\n",
      "fold n°3\n",
      "fold n°4\n"
     ]
    },
    {
     "name": "stderr",
     "output_type": "stream",
     "text": [
      "[I 2023-11-02 09:36:42,474] Trial 53 finished with value: 0.9364258329667375 and parameters: {'learning_rate': 1, 'lambda_l1': 0.9739127808670571, 'lambda_l2': 7.870533327924765, 'max_bin': 80, 'max_depth': 48, 'min_data_in_leaf': 51, 'min_child_samples': 33, 'num_leaves': 58, 'feature_fraction': 0.1445677019392222, 'bagging_fraction': 0.9529342141127825, 'bagging_freq': 8}. Best is trial 32 with value: 0.91110077842182.\n"
     ]
    },
    {
     "name": "stdout",
     "output_type": "stream",
     "text": [
      "AUC score: 0.93643 \n",
      "fold n°0\n",
      "fold n°1\n"
     ]
    },
    {
     "name": "stderr",
     "output_type": "stream",
     "text": [
      "/environment/miniconda3/lib/python3.10/site-packages/optuna/trial/_trial.py:677: RuntimeWarning: Inconsistent parameter values for distribution with name \"min_child_samples\"! This might be a configuration mistake. Optuna allows to call the same distribution with the same name more than once in a trial. When the parameter values are inconsistent optuna only uses the values of the first call and ignores all following. Using these values: {'log': False, 'step': 1, 'low': 2, 'high': 100}\n",
      "  warnings.warn(\n"
     ]
    },
    {
     "name": "stdout",
     "output_type": "stream",
     "text": [
      "fold n°2\n",
      "fold n°3\n"
     ]
    },
    {
     "name": "stderr",
     "output_type": "stream",
     "text": [
      "[I 2023-11-02 09:36:43,147] Trial 54 finished with value: 0.9539804069454092 and parameters: {'learning_rate': 0.1, 'lambda_l1': 0.021308988809206474, 'lambda_l2': 9.623776018783767, 'max_bin': 64, 'max_depth': 63, 'min_data_in_leaf': 99, 'min_child_samples': 99, 'num_leaves': 54, 'feature_fraction': 0.19989954201199794, 'bagging_fraction': 0.9161234867209528, 'bagging_freq': 6}. Best is trial 32 with value: 0.91110077842182.\n"
     ]
    },
    {
     "name": "stdout",
     "output_type": "stream",
     "text": [
      "fold n°4\n",
      "AUC score: 0.95398 \n",
      "fold n°0\n"
     ]
    },
    {
     "name": "stderr",
     "output_type": "stream",
     "text": [
      "/environment/miniconda3/lib/python3.10/site-packages/optuna/trial/_trial.py:677: RuntimeWarning: Inconsistent parameter values for distribution with name \"min_child_samples\"! This might be a configuration mistake. Optuna allows to call the same distribution with the same name more than once in a trial. When the parameter values are inconsistent optuna only uses the values of the first call and ignores all following. Using these values: {'log': False, 'step': 1, 'low': 2, 'high': 100}\n",
      "  warnings.warn(\n"
     ]
    },
    {
     "name": "stdout",
     "output_type": "stream",
     "text": [
      "fold n°1\n",
      "fold n°2\n",
      "fold n°3\n",
      "fold n°4\n"
     ]
    },
    {
     "name": "stderr",
     "output_type": "stream",
     "text": [
      "[I 2023-11-02 09:36:43,803] Trial 55 finished with value: 0.9571192862693717 and parameters: {'learning_rate': 0.05, 'lambda_l1': 0.5579160576653469, 'lambda_l2': 8.659146767812867, 'max_bin': 92, 'max_depth': 77, 'min_data_in_leaf': 36, 'min_child_samples': 22, 'num_leaves': 69, 'feature_fraction': 0.14449500098887505, 'bagging_fraction': 0.8689950997546656, 'bagging_freq': 7}. Best is trial 32 with value: 0.91110077842182.\n"
     ]
    },
    {
     "name": "stdout",
     "output_type": "stream",
     "text": [
      "AUC score: 0.95712 \n",
      "fold n°0\n",
      "fold n°1\n"
     ]
    },
    {
     "name": "stderr",
     "output_type": "stream",
     "text": [
      "/environment/miniconda3/lib/python3.10/site-packages/optuna/trial/_trial.py:677: RuntimeWarning: Inconsistent parameter values for distribution with name \"min_child_samples\"! This might be a configuration mistake. Optuna allows to call the same distribution with the same name more than once in a trial. When the parameter values are inconsistent optuna only uses the values of the first call and ignores all following. Using these values: {'log': False, 'step': 1, 'low': 2, 'high': 100}\n",
      "  warnings.warn(\n"
     ]
    },
    {
     "name": "stdout",
     "output_type": "stream",
     "text": [
      "fold n°2\n",
      "fold n°3\n",
      "fold n°4\n"
     ]
    },
    {
     "name": "stderr",
     "output_type": "stream",
     "text": [
      "[I 2023-11-02 09:36:44,351] Trial 56 finished with value: 0.9236664520569849 and parameters: {'learning_rate': 1, 'lambda_l1': 1.302201754124477, 'lambda_l2': 9.052867632616579, 'max_bin': 74, 'max_depth': 95, 'min_data_in_leaf': 30, 'min_child_samples': 40, 'num_leaves': 85, 'feature_fraction': 0.22904297464057882, 'bagging_fraction': 0.9988915095964566, 'bagging_freq': 15}. Best is trial 32 with value: 0.91110077842182.\n"
     ]
    },
    {
     "name": "stdout",
     "output_type": "stream",
     "text": [
      "AUC score: 0.92367 \n",
      "fold n°0\n",
      "fold n°1\n",
      "fold n°2\n"
     ]
    },
    {
     "name": "stderr",
     "output_type": "stream",
     "text": [
      "/environment/miniconda3/lib/python3.10/site-packages/optuna/trial/_trial.py:677: RuntimeWarning: Inconsistent parameter values for distribution with name \"min_child_samples\"! This might be a configuration mistake. Optuna allows to call the same distribution with the same name more than once in a trial. When the parameter values are inconsistent optuna only uses the values of the first call and ignores all following. Using these values: {'log': False, 'step': 1, 'low': 2, 'high': 100}\n",
      "  warnings.warn(\n",
      "[I 2023-11-02 09:36:44,760] Trial 57 finished with value: 0.9579309714592498 and parameters: {'learning_rate': 0.01, 'lambda_l1': 0.6878443398676483, 'lambda_l2': 9.978397358926612, 'max_bin': 12, 'max_depth': 88, 'min_data_in_leaf': 53, 'min_child_samples': 28, 'num_leaves': 77, 'feature_fraction': 0.31270030296272305, 'bagging_fraction': 0.7648480466589545, 'bagging_freq': 9}. Best is trial 32 with value: 0.91110077842182.\n"
     ]
    },
    {
     "name": "stdout",
     "output_type": "stream",
     "text": [
      "fold n°3\n",
      "fold n°4\n",
      "AUC score: 0.95793 \n"
     ]
    },
    {
     "name": "stderr",
     "output_type": "stream",
     "text": [
      "/environment/miniconda3/lib/python3.10/site-packages/optuna/trial/_trial.py:677: RuntimeWarning: Inconsistent parameter values for distribution with name \"min_child_samples\"! This might be a configuration mistake. Optuna allows to call the same distribution with the same name more than once in a trial. When the parameter values are inconsistent optuna only uses the values of the first call and ignores all following. Using these values: {'log': False, 'step': 1, 'low': 2, 'high': 100}\n",
      "  warnings.warn(\n"
     ]
    },
    {
     "name": "stdout",
     "output_type": "stream",
     "text": [
      "fold n°0\n",
      "fold n°1\n",
      "fold n°2\n"
     ]
    },
    {
     "name": "stderr",
     "output_type": "stream",
     "text": [
      "[I 2023-11-02 09:36:45,301] Trial 58 finished with value: 0.9546722856828318 and parameters: {'learning_rate': 0.0005, 'lambda_l1': 0.31069016162397034, 'lambda_l2': 8.077500985306635, 'max_bin': 83, 'max_depth': 81, 'min_data_in_leaf': 45, 'min_child_samples': 70, 'num_leaves': 72, 'feature_fraction': 0.2888703417215734, 'bagging_fraction': 0.967556842500077, 'bagging_freq': 8}. Best is trial 32 with value: 0.91110077842182.\n"
     ]
    },
    {
     "name": "stdout",
     "output_type": "stream",
     "text": [
      "fold n°3\n",
      "fold n°4\n",
      "AUC score: 0.95467 \n"
     ]
    },
    {
     "name": "stderr",
     "output_type": "stream",
     "text": [
      "/environment/miniconda3/lib/python3.10/site-packages/optuna/trial/_trial.py:677: RuntimeWarning: Inconsistent parameter values for distribution with name \"min_child_samples\"! This might be a configuration mistake. Optuna allows to call the same distribution with the same name more than once in a trial. When the parameter values are inconsistent optuna only uses the values of the first call and ignores all following. Using these values: {'log': False, 'step': 1, 'low': 2, 'high': 100}\n",
      "  warnings.warn(\n"
     ]
    },
    {
     "name": "stdout",
     "output_type": "stream",
     "text": [
      "fold n°0\n",
      "fold n°1\n",
      "fold n°2\n"
     ]
    },
    {
     "name": "stderr",
     "output_type": "stream",
     "text": [
      "[I 2023-11-02 09:36:45,831] Trial 59 finished with value: 0.9400520661747629 and parameters: {'learning_rate': 1, 'lambda_l1': 1.6611754982828764, 'lambda_l2': 9.539060225764272, 'max_bin': 88, 'max_depth': 53, 'min_data_in_leaf': 7, 'min_child_samples': 17, 'num_leaves': 65, 'feature_fraction': 0.19836477042034645, 'bagging_fraction': 0.8236383010656769, 'bagging_freq': 10}. Best is trial 32 with value: 0.91110077842182.\n"
     ]
    },
    {
     "name": "stdout",
     "output_type": "stream",
     "text": [
      "fold n°3\n",
      "fold n°4\n",
      "AUC score: 0.94005 \n"
     ]
    },
    {
     "name": "stderr",
     "output_type": "stream",
     "text": [
      "/environment/miniconda3/lib/python3.10/site-packages/optuna/trial/_trial.py:677: RuntimeWarning: Inconsistent parameter values for distribution with name \"min_child_samples\"! This might be a configuration mistake. Optuna allows to call the same distribution with the same name more than once in a trial. When the parameter values are inconsistent optuna only uses the values of the first call and ignores all following. Using these values: {'log': False, 'step': 1, 'low': 2, 'high': 100}\n",
      "  warnings.warn(\n"
     ]
    },
    {
     "name": "stdout",
     "output_type": "stream",
     "text": [
      "fold n°0\n",
      "fold n°1\n",
      "fold n°2\n",
      "fold n°3\n"
     ]
    },
    {
     "name": "stderr",
     "output_type": "stream",
     "text": [
      "[I 2023-11-02 09:36:46,506] Trial 60 finished with value: 0.9239959431330362 and parameters: {'learning_rate': 1, 'lambda_l1': 1.100966225382495, 'lambda_l2': 7.21035550785599, 'max_bin': 37, 'max_depth': 36, 'min_data_in_leaf': 24, 'min_child_samples': 36, 'num_leaves': 51, 'feature_fraction': 0.22827666450479706, 'bagging_fraction': 0.8737199638347078, 'bagging_freq': 5}. Best is trial 32 with value: 0.91110077842182.\n"
     ]
    },
    {
     "name": "stdout",
     "output_type": "stream",
     "text": [
      "fold n°4\n",
      "AUC score: 0.92400 \n",
      "fold n°0\n"
     ]
    },
    {
     "name": "stderr",
     "output_type": "stream",
     "text": [
      "/environment/miniconda3/lib/python3.10/site-packages/optuna/trial/_trial.py:677: RuntimeWarning: Inconsistent parameter values for distribution with name \"min_child_samples\"! This might be a configuration mistake. Optuna allows to call the same distribution with the same name more than once in a trial. When the parameter values are inconsistent optuna only uses the values of the first call and ignores all following. Using these values: {'log': False, 'step': 1, 'low': 2, 'high': 100}\n",
      "  warnings.warn(\n"
     ]
    },
    {
     "name": "stdout",
     "output_type": "stream",
     "text": [
      "fold n°1\n",
      "fold n°2\n",
      "fold n°3\n",
      "fold n°4\n"
     ]
    },
    {
     "name": "stderr",
     "output_type": "stream",
     "text": [
      "[I 2023-11-02 09:36:47,498] Trial 61 finished with value: 0.9091282109965441 and parameters: {'learning_rate': 1, 'lambda_l1': 0.2695895441388778, 'lambda_l2': 9.332579011463128, 'max_bin': 70, 'max_depth': 85, 'min_data_in_leaf': 51, 'min_child_samples': 22, 'num_leaves': 62, 'feature_fraction': 0.33512634334063285, 'bagging_fraction': 0.9709669445240383, 'bagging_freq': 7}. Best is trial 61 with value: 0.9091282109965441.\n"
     ]
    },
    {
     "name": "stdout",
     "output_type": "stream",
     "text": [
      "AUC score: 0.90913 \n",
      "fold n°0\n"
     ]
    },
    {
     "name": "stderr",
     "output_type": "stream",
     "text": [
      "/environment/miniconda3/lib/python3.10/site-packages/optuna/trial/_trial.py:677: RuntimeWarning: Inconsistent parameter values for distribution with name \"min_child_samples\"! This might be a configuration mistake. Optuna allows to call the same distribution with the same name more than once in a trial. When the parameter values are inconsistent optuna only uses the values of the first call and ignores all following. Using these values: {'log': False, 'step': 1, 'low': 2, 'high': 100}\n",
      "  warnings.warn(\n"
     ]
    },
    {
     "name": "stdout",
     "output_type": "stream",
     "text": [
      "fold n°1\n",
      "fold n°2\n",
      "fold n°3\n",
      "fold n°4\n"
     ]
    },
    {
     "name": "stderr",
     "output_type": "stream",
     "text": [
      "[I 2023-11-02 09:36:48,574] Trial 62 finished with value: 0.9253564840948065 and parameters: {'learning_rate': 1, 'lambda_l1': 0.005579279115422678, 'lambda_l2': 9.234087748201878, 'max_bin': 77, 'max_depth': 97, 'min_data_in_leaf': 60, 'min_child_samples': 11, 'num_leaves': 60, 'feature_fraction': 0.2726707880925963, 'bagging_fraction': 0.9710252230650357, 'bagging_freq': 7}. Best is trial 61 with value: 0.9091282109965441.\n"
     ]
    },
    {
     "name": "stdout",
     "output_type": "stream",
     "text": [
      "AUC score: 0.92536 \n",
      "fold n°0\n"
     ]
    },
    {
     "name": "stderr",
     "output_type": "stream",
     "text": [
      "/environment/miniconda3/lib/python3.10/site-packages/optuna/trial/_trial.py:677: RuntimeWarning: Inconsistent parameter values for distribution with name \"min_child_samples\"! This might be a configuration mistake. Optuna allows to call the same distribution with the same name more than once in a trial. When the parameter values are inconsistent optuna only uses the values of the first call and ignores all following. Using these values: {'log': False, 'step': 1, 'low': 2, 'high': 100}\n",
      "  warnings.warn(\n"
     ]
    },
    {
     "name": "stdout",
     "output_type": "stream",
     "text": [
      "fold n°1\n",
      "fold n°2\n",
      "fold n°3\n",
      "fold n°4\n"
     ]
    },
    {
     "name": "stderr",
     "output_type": "stream",
     "text": [
      "[I 2023-11-02 09:36:49,595] Trial 63 finished with value: 0.911241981230533 and parameters: {'learning_rate': 1, 'lambda_l1': 0.30289957676090534, 'lambda_l2': 8.925382192742504, 'max_bin': 70, 'max_depth': 90, 'min_data_in_leaf': 39, 'min_child_samples': 20, 'num_leaves': 57, 'feature_fraction': 0.3260003007400472, 'bagging_fraction': 0.9152981677504696, 'bagging_freq': 6}. Best is trial 61 with value: 0.9091282109965441.\n"
     ]
    },
    {
     "name": "stdout",
     "output_type": "stream",
     "text": [
      "AUC score: 0.91124 \n",
      "fold n°0\n",
      "fold n°1\n"
     ]
    },
    {
     "name": "stderr",
     "output_type": "stream",
     "text": [
      "/environment/miniconda3/lib/python3.10/site-packages/optuna/trial/_trial.py:677: RuntimeWarning: Inconsistent parameter values for distribution with name \"min_child_samples\"! This might be a configuration mistake. Optuna allows to call the same distribution with the same name more than once in a trial. When the parameter values are inconsistent optuna only uses the values of the first call and ignores all following. Using these values: {'log': False, 'step': 1, 'low': 2, 'high': 100}\n",
      "  warnings.warn(\n"
     ]
    },
    {
     "name": "stdout",
     "output_type": "stream",
     "text": [
      "fold n°2\n",
      "fold n°3\n",
      "fold n°4\n"
     ]
    },
    {
     "name": "stderr",
     "output_type": "stream",
     "text": [
      "[I 2023-11-02 09:36:51,330] Trial 64 finished with value: 0.9597082284849223 and parameters: {'learning_rate': 5e-05, 'lambda_l1': 0.7904353355938332, 'lambda_l2': 8.835496968421984, 'max_bin': 69, 'max_depth': 90, 'min_data_in_leaf': 40, 'min_child_samples': 16, 'num_leaves': 56, 'feature_fraction': 0.3373520402259764, 'bagging_fraction': 0.9232465836383367, 'bagging_freq': 6}. Best is trial 61 with value: 0.9091282109965441.\n"
     ]
    },
    {
     "name": "stdout",
     "output_type": "stream",
     "text": [
      "AUC score: 0.95971 \n",
      "fold n°0\n",
      "fold n°1\n"
     ]
    },
    {
     "name": "stderr",
     "output_type": "stream",
     "text": [
      "/environment/miniconda3/lib/python3.10/site-packages/optuna/trial/_trial.py:677: RuntimeWarning: Inconsistent parameter values for distribution with name \"min_child_samples\"! This might be a configuration mistake. Optuna allows to call the same distribution with the same name more than once in a trial. When the parameter values are inconsistent optuna only uses the values of the first call and ignores all following. Using these values: {'log': False, 'step': 1, 'low': 2, 'high': 100}\n",
      "  warnings.warn(\n"
     ]
    },
    {
     "name": "stdout",
     "output_type": "stream",
     "text": [
      "fold n°2\n",
      "fold n°3\n",
      "fold n°4\n"
     ]
    },
    {
     "name": "stderr",
     "output_type": "stream",
     "text": [
      "[I 2023-11-02 09:36:51,901] Trial 65 finished with value: 0.9588486049311282 and parameters: {'learning_rate': 0.001, 'lambda_l1': 0.325092842558549, 'lambda_l2': 9.506462655425944, 'max_bin': 58, 'max_depth': 87, 'min_data_in_leaf': 43, 'min_child_samples': 21, 'num_leaves': 39, 'feature_fraction': 0.3658898526421815, 'bagging_fraction': 0.8859645000792552, 'bagging_freq': 4}. Best is trial 61 with value: 0.9091282109965441.\n"
     ]
    },
    {
     "name": "stdout",
     "output_type": "stream",
     "text": [
      "AUC score: 0.95885 \n",
      "fold n°0\n",
      "fold n°1\n"
     ]
    },
    {
     "name": "stderr",
     "output_type": "stream",
     "text": [
      "/environment/miniconda3/lib/python3.10/site-packages/optuna/trial/_trial.py:677: RuntimeWarning: Inconsistent parameter values for distribution with name \"min_child_samples\"! This might be a configuration mistake. Optuna allows to call the same distribution with the same name more than once in a trial. When the parameter values are inconsistent optuna only uses the values of the first call and ignores all following. Using these values: {'log': False, 'step': 1, 'low': 2, 'high': 100}\n",
      "  warnings.warn(\n"
     ]
    },
    {
     "name": "stdout",
     "output_type": "stream",
     "text": [
      "fold n°2\n",
      "fold n°3\n"
     ]
    },
    {
     "name": "stderr",
     "output_type": "stream",
     "text": [
      "[I 2023-11-02 09:36:52,574] Trial 66 finished with value: 0.9306790485415111 and parameters: {'learning_rate': 1, 'lambda_l1': 1.2166209568495645, 'lambda_l2': 8.932629290709798, 'max_bin': 50, 'max_depth': 92, 'min_data_in_leaf': 51, 'min_child_samples': 29, 'num_leaves': 66, 'feature_fraction': 0.31949963927240604, 'bagging_fraction': 0.8442816319475902, 'bagging_freq': 8}. Best is trial 61 with value: 0.9091282109965441.\n"
     ]
    },
    {
     "name": "stdout",
     "output_type": "stream",
     "text": [
      "fold n°4\n",
      "AUC score: 0.93068 \n",
      "fold n°0\n"
     ]
    },
    {
     "name": "stderr",
     "output_type": "stream",
     "text": [
      "/environment/miniconda3/lib/python3.10/site-packages/optuna/trial/_trial.py:677: RuntimeWarning: Inconsistent parameter values for distribution with name \"min_child_samples\"! This might be a configuration mistake. Optuna allows to call the same distribution with the same name more than once in a trial. When the parameter values are inconsistent optuna only uses the values of the first call and ignores all following. Using these values: {'log': False, 'step': 1, 'low': 2, 'high': 100}\n",
      "  warnings.warn(\n"
     ]
    },
    {
     "name": "stdout",
     "output_type": "stream",
     "text": [
      "fold n°1\n",
      "fold n°2\n",
      "fold n°3\n",
      "fold n°4\n"
     ]
    },
    {
     "name": "stderr",
     "output_type": "stream",
     "text": [
      "[I 2023-11-02 09:36:53,452] Trial 67 finished with value: 0.926166852271753 and parameters: {'learning_rate': 1, 'lambda_l1': 0.38701603399668905, 'lambda_l2': 7.647054447141989, 'max_bin': 73, 'max_depth': 84, 'min_data_in_leaf': 55, 'min_child_samples': 24, 'num_leaves': 47, 'feature_fraction': 0.2850802067611369, 'bagging_fraction': 0.9295106084739534, 'bagging_freq': 6}. Best is trial 61 with value: 0.9091282109965441.\n"
     ]
    },
    {
     "name": "stdout",
     "output_type": "stream",
     "text": [
      "AUC score: 0.92617 \n",
      "fold n°0\n"
     ]
    },
    {
     "name": "stderr",
     "output_type": "stream",
     "text": [
      "/environment/miniconda3/lib/python3.10/site-packages/optuna/trial/_trial.py:677: RuntimeWarning: Inconsistent parameter values for distribution with name \"min_child_samples\"! This might be a configuration mistake. Optuna allows to call the same distribution with the same name more than once in a trial. When the parameter values are inconsistent optuna only uses the values of the first call and ignores all following. Using these values: {'log': False, 'step': 1, 'low': 2, 'high': 100}\n",
      "  warnings.warn(\n"
     ]
    },
    {
     "name": "stdout",
     "output_type": "stream",
     "text": [
      "fold n°1\n",
      "fold n°2\n",
      "fold n°3\n",
      "fold n°4\n"
     ]
    },
    {
     "name": "stderr",
     "output_type": "stream",
     "text": [
      "[I 2023-11-02 09:36:54,271] Trial 68 finished with value: 0.9276354314815839 and parameters: {'learning_rate': 1, 'lambda_l1': 0.7189148728671186, 'lambda_l2': 9.785385417252208, 'max_bin': 65, 'max_depth': 77, 'min_data_in_leaf': 47, 'min_child_samples': 5, 'num_leaves': 80, 'feature_fraction': 0.3251095044814751, 'bagging_fraction': 0.9726605469517865, 'bagging_freq': 9}. Best is trial 61 with value: 0.9091282109965441.\n"
     ]
    },
    {
     "name": "stdout",
     "output_type": "stream",
     "text": [
      "AUC score: 0.92764 \n",
      "fold n°0\n",
      "fold n°1\n"
     ]
    },
    {
     "name": "stderr",
     "output_type": "stream",
     "text": [
      "/environment/miniconda3/lib/python3.10/site-packages/optuna/trial/_trial.py:677: RuntimeWarning: Inconsistent parameter values for distribution with name \"min_child_samples\"! This might be a configuration mistake. Optuna allows to call the same distribution with the same name more than once in a trial. When the parameter values are inconsistent optuna only uses the values of the first call and ignores all following. Using these values: {'log': False, 'step': 1, 'low': 2, 'high': 100}\n",
      "  warnings.warn(\n"
     ]
    },
    {
     "name": "stdout",
     "output_type": "stream",
     "text": [
      "fold n°2\n",
      "fold n°3\n"
     ]
    },
    {
     "name": "stderr",
     "output_type": "stream",
     "text": [
      "[I 2023-11-02 09:36:54,936] Trial 69 finished with value: 0.9434276643732513 and parameters: {'learning_rate': 0.5, 'lambda_l1': 1.595223197409793, 'lambda_l2': 8.416727138959555, 'max_bin': 70, 'max_depth': 96, 'min_data_in_leaf': 37, 'min_child_samples': 81, 'num_leaves': 71, 'feature_fraction': 0.4144231901162286, 'bagging_fraction': 0.9125497257785327, 'bagging_freq': 5}. Best is trial 61 with value: 0.9091282109965441.\n"
     ]
    },
    {
     "name": "stdout",
     "output_type": "stream",
     "text": [
      "fold n°4\n",
      "AUC score: 0.94343 \n",
      "fold n°0\n"
     ]
    },
    {
     "name": "stderr",
     "output_type": "stream",
     "text": [
      "/environment/miniconda3/lib/python3.10/site-packages/optuna/trial/_trial.py:677: RuntimeWarning: Inconsistent parameter values for distribution with name \"min_child_samples\"! This might be a configuration mistake. Optuna allows to call the same distribution with the same name more than once in a trial. When the parameter values are inconsistent optuna only uses the values of the first call and ignores all following. Using these values: {'log': False, 'step': 1, 'low': 2, 'high': 100}\n",
      "  warnings.warn(\n"
     ]
    },
    {
     "name": "stdout",
     "output_type": "stream",
     "text": [
      "fold n°1\n",
      "fold n°2\n",
      "fold n°3\n",
      "fold n°4\n"
     ]
    },
    {
     "name": "stderr",
     "output_type": "stream",
     "text": [
      "[I 2023-11-02 09:36:55,939] Trial 70 finished with value: 0.9162312984135926 and parameters: {'learning_rate': 1, 'lambda_l1': 0.28378890599514583, 'lambda_l2': 9.284920764507884, 'max_bin': 53, 'max_depth': 84, 'min_data_in_leaf': 32, 'min_child_samples': 12, 'num_leaves': 52, 'feature_fraction': 0.36094464553508454, 'bagging_fraction': 0.8876376023568272, 'bagging_freq': 8}. Best is trial 61 with value: 0.9091282109965441.\n"
     ]
    },
    {
     "name": "stdout",
     "output_type": "stream",
     "text": [
      "AUC score: 0.91623 \n",
      "fold n°0\n"
     ]
    },
    {
     "name": "stderr",
     "output_type": "stream",
     "text": [
      "/environment/miniconda3/lib/python3.10/site-packages/optuna/trial/_trial.py:677: RuntimeWarning: Inconsistent parameter values for distribution with name \"min_child_samples\"! This might be a configuration mistake. Optuna allows to call the same distribution with the same name more than once in a trial. When the parameter values are inconsistent optuna only uses the values of the first call and ignores all following. Using these values: {'log': False, 'step': 1, 'low': 2, 'high': 100}\n",
      "  warnings.warn(\n"
     ]
    },
    {
     "name": "stdout",
     "output_type": "stream",
     "text": [
      "fold n°1\n",
      "fold n°2\n",
      "fold n°3\n",
      "fold n°4\n"
     ]
    },
    {
     "name": "stderr",
     "output_type": "stream",
     "text": [
      "[I 2023-11-02 09:36:56,984] Trial 71 finished with value: 0.9202610221565319 and parameters: {'learning_rate': 1, 'lambda_l1': 0.28650508257017615, 'lambda_l2': 9.257915275597618, 'max_bin': 53, 'max_depth': 82, 'min_data_in_leaf': 32, 'min_child_samples': 12, 'num_leaves': 52, 'feature_fraction': 0.36140521785358376, 'bagging_fraction': 0.8922582433502664, 'bagging_freq': 8}. Best is trial 61 with value: 0.9091282109965441.\n"
     ]
    },
    {
     "name": "stdout",
     "output_type": "stream",
     "text": [
      "AUC score: 0.92026 \n",
      "fold n°0\n",
      "fold n°1\n"
     ]
    },
    {
     "name": "stderr",
     "output_type": "stream",
     "text": [
      "/environment/miniconda3/lib/python3.10/site-packages/optuna/trial/_trial.py:677: RuntimeWarning: Inconsistent parameter values for distribution with name \"min_child_samples\"! This might be a configuration mistake. Optuna allows to call the same distribution with the same name more than once in a trial. When the parameter values are inconsistent optuna only uses the values of the first call and ignores all following. Using these values: {'log': False, 'step': 1, 'low': 2, 'high': 100}\n",
      "  warnings.warn(\n"
     ]
    },
    {
     "name": "stdout",
     "output_type": "stream",
     "text": [
      "fold n°2\n",
      "fold n°3\n"
     ]
    },
    {
     "name": "stderr",
     "output_type": "stream",
     "text": [
      "[I 2023-11-02 09:36:57,713] Trial 72 finished with value: 0.9323937917306168 and parameters: {'learning_rate': 1, 'lambda_l1': 0.9924321697589666, 'lambda_l2': 9.350596340737502, 'max_bin': 47, 'max_depth': 90, 'min_data_in_leaf': 33, 'min_child_samples': 12, 'num_leaves': 61, 'feature_fraction': 0.35529994590691105, 'bagging_fraction': 0.8964474849723975, 'bagging_freq': 7}. Best is trial 61 with value: 0.9091282109965441.\n"
     ]
    },
    {
     "name": "stdout",
     "output_type": "stream",
     "text": [
      "fold n°4\n",
      "AUC score: 0.93239 \n",
      "fold n°0\n"
     ]
    },
    {
     "name": "stderr",
     "output_type": "stream",
     "text": [
      "/environment/miniconda3/lib/python3.10/site-packages/optuna/trial/_trial.py:677: RuntimeWarning: Inconsistent parameter values for distribution with name \"min_child_samples\"! This might be a configuration mistake. Optuna allows to call the same distribution with the same name more than once in a trial. When the parameter values are inconsistent optuna only uses the values of the first call and ignores all following. Using these values: {'log': False, 'step': 1, 'low': 2, 'high': 100}\n",
      "  warnings.warn(\n"
     ]
    },
    {
     "name": "stdout",
     "output_type": "stream",
     "text": [
      "fold n°1\n",
      "fold n°2\n",
      "fold n°3\n",
      "fold n°4\n"
     ]
    },
    {
     "name": "stderr",
     "output_type": "stream",
     "text": [
      "[I 2023-11-02 09:36:58,992] Trial 73 finished with value: 0.9250605165291464 and parameters: {'learning_rate': 1, 'lambda_l1': 0.28092567685487635, 'lambda_l2': 9.222565354329598, 'max_bin': 30, 'max_depth': 82, 'min_data_in_leaf': 26, 'min_child_samples': 18, 'num_leaves': 55, 'feature_fraction': 0.38841868073924646, 'bagging_fraction': 0.8623516852551124, 'bagging_freq': 8}. Best is trial 61 with value: 0.9091282109965441.\n"
     ]
    },
    {
     "name": "stdout",
     "output_type": "stream",
     "text": [
      "AUC score: 0.92506 \n",
      "fold n°0\n"
     ]
    },
    {
     "name": "stderr",
     "output_type": "stream",
     "text": [
      "/environment/miniconda3/lib/python3.10/site-packages/optuna/trial/_trial.py:677: RuntimeWarning: Inconsistent parameter values for distribution with name \"min_child_samples\"! This might be a configuration mistake. Optuna allows to call the same distribution with the same name more than once in a trial. When the parameter values are inconsistent optuna only uses the values of the first call and ignores all following. Using these values: {'log': False, 'step': 1, 'low': 2, 'high': 100}\n",
      "  warnings.warn(\n"
     ]
    },
    {
     "name": "stdout",
     "output_type": "stream",
     "text": [
      "fold n°1\n",
      "fold n°2\n",
      "fold n°3\n",
      "fold n°4\n"
     ]
    },
    {
     "name": "stderr",
     "output_type": "stream",
     "text": [
      "[I 2023-11-02 09:36:59,993] Trial 74 finished with value: 0.9171947234575593 and parameters: {'learning_rate': 1, 'lambda_l1': 0.705687846661662, 'lambda_l2': 9.687643277967236, 'max_bin': 54, 'max_depth': 87, 'min_data_in_leaf': 32, 'min_child_samples': 10, 'num_leaves': 42, 'feature_fraction': 0.4594025277725769, 'bagging_fraction': 0.811557624013157, 'bagging_freq': 8}. Best is trial 61 with value: 0.9091282109965441.\n"
     ]
    },
    {
     "name": "stdout",
     "output_type": "stream",
     "text": [
      "AUC score: 0.91719 \n",
      "fold n°0\n"
     ]
    },
    {
     "name": "stderr",
     "output_type": "stream",
     "text": [
      "/environment/miniconda3/lib/python3.10/site-packages/optuna/trial/_trial.py:677: RuntimeWarning: Inconsistent parameter values for distribution with name \"min_child_samples\"! This might be a configuration mistake. Optuna allows to call the same distribution with the same name more than once in a trial. When the parameter values are inconsistent optuna only uses the values of the first call and ignores all following. Using these values: {'log': False, 'step': 1, 'low': 2, 'high': 100}\n",
      "  warnings.warn(\n"
     ]
    },
    {
     "name": "stdout",
     "output_type": "stream",
     "text": [
      "fold n°1\n",
      "fold n°2\n",
      "fold n°3\n",
      "fold n°4\n"
     ]
    },
    {
     "name": "stderr",
     "output_type": "stream",
     "text": [
      "[I 2023-11-02 09:37:00,734] Trial 75 finished with value: 0.9475621028024721 and parameters: {'learning_rate': 0.1, 'lambda_l1': 0.6922814470722699, 'lambda_l2': 9.659349482621197, 'max_bin': 51, 'max_depth': 19, 'min_data_in_leaf': 31, 'min_child_samples': 10, 'num_leaves': 42, 'feature_fraction': 0.4722764117671505, 'bagging_fraction': 0.8035535709578467, 'bagging_freq': 8}. Best is trial 61 with value: 0.9091282109965441.\n"
     ]
    },
    {
     "name": "stdout",
     "output_type": "stream",
     "text": [
      "AUC score: 0.94756 \n",
      "fold n°0\n"
     ]
    },
    {
     "name": "stderr",
     "output_type": "stream",
     "text": [
      "/environment/miniconda3/lib/python3.10/site-packages/optuna/trial/_trial.py:677: RuntimeWarning: Inconsistent parameter values for distribution with name \"min_child_samples\"! This might be a configuration mistake. Optuna allows to call the same distribution with the same name more than once in a trial. When the parameter values are inconsistent optuna only uses the values of the first call and ignores all following. Using these values: {'log': False, 'step': 1, 'low': 2, 'high': 100}\n",
      "  warnings.warn(\n"
     ]
    },
    {
     "name": "stdout",
     "output_type": "stream",
     "text": [
      "fold n°1\n",
      "fold n°2\n",
      "fold n°3\n"
     ]
    },
    {
     "name": "stderr",
     "output_type": "stream",
     "text": [
      "[I 2023-11-02 09:37:02,688] Trial 76 finished with value: 0.9551576388618525 and parameters: {'learning_rate': 0.05, 'lambda_l1': 0.5151153382660796, 'lambda_l2': 9.905507781249701, 'max_bin': 54, 'max_depth': 86, 'min_data_in_leaf': 38, 'min_child_samples': 5, 'num_leaves': 30, 'feature_fraction': 0.4012081389076941, 'bagging_fraction': 0.839617632665318, 'bagging_freq': 9}. Best is trial 61 with value: 0.9091282109965441.\n"
     ]
    },
    {
     "name": "stdout",
     "output_type": "stream",
     "text": [
      "fold n°4\n",
      "AUC score: 0.95516 \n",
      "fold n°0\n"
     ]
    },
    {
     "name": "stderr",
     "output_type": "stream",
     "text": [
      "/environment/miniconda3/lib/python3.10/site-packages/optuna/trial/_trial.py:677: RuntimeWarning: Inconsistent parameter values for distribution with name \"min_child_samples\"! This might be a configuration mistake. Optuna allows to call the same distribution with the same name more than once in a trial. When the parameter values are inconsistent optuna only uses the values of the first call and ignores all following. Using these values: {'log': False, 'step': 1, 'low': 2, 'high': 100}\n",
      "  warnings.warn(\n"
     ]
    },
    {
     "name": "stdout",
     "output_type": "stream",
     "text": [
      "fold n°1\n",
      "fold n°2\n",
      "fold n°3\n",
      "fold n°4\n"
     ]
    },
    {
     "name": "stderr",
     "output_type": "stream",
     "text": [
      "[I 2023-11-02 09:37:03,388] Trial 77 finished with value: 0.9400108238089329 and parameters: {'learning_rate': 1, 'lambda_l1': 1.049705124547677, 'lambda_l2': 8.943722904250594, 'max_bin': 59, 'max_depth': 93, 'min_data_in_leaf': 23, 'min_child_samples': 14, 'num_leaves': 39, 'feature_fraction': 0.3652063141852503, 'bagging_fraction': 0.8905089491934094, 'bagging_freq': 8}. Best is trial 61 with value: 0.9091282109965441.\n"
     ]
    },
    {
     "name": "stdout",
     "output_type": "stream",
     "text": [
      "AUC score: 0.94001 \n",
      "fold n°0\n",
      "fold n°1\n"
     ]
    },
    {
     "name": "stderr",
     "output_type": "stream",
     "text": [
      "/environment/miniconda3/lib/python3.10/site-packages/optuna/trial/_trial.py:677: RuntimeWarning: Inconsistent parameter values for distribution with name \"min_child_samples\"! This might be a configuration mistake. Optuna allows to call the same distribution with the same name more than once in a trial. When the parameter values are inconsistent optuna only uses the values of the first call and ignores all following. Using these values: {'log': False, 'step': 1, 'low': 2, 'high': 100}\n",
      "  warnings.warn(\n"
     ]
    },
    {
     "name": "stdout",
     "output_type": "stream",
     "text": [
      "fold n°2\n",
      "fold n°3\n"
     ]
    },
    {
     "name": "stderr",
     "output_type": "stream",
     "text": [
      "[I 2023-11-02 09:37:03,985] Trial 78 finished with value: 0.9585603425098604 and parameters: {'learning_rate': 0.01, 'lambda_l1': 0.3328421659076987, 'lambda_l2': 9.711831184133484, 'max_bin': 54, 'max_depth': 97, 'min_data_in_leaf': 41, 'min_child_samples': 13, 'num_leaves': 46, 'feature_fraction': 0.3031216335666079, 'bagging_fraction': 0.9292605549864861, 'bagging_freq': 6}. Best is trial 61 with value: 0.9091282109965441.\n"
     ]
    },
    {
     "name": "stdout",
     "output_type": "stream",
     "text": [
      "fold n°4\n",
      "AUC score: 0.95856 \n",
      "fold n°0\n"
     ]
    },
    {
     "name": "stderr",
     "output_type": "stream",
     "text": [
      "/environment/miniconda3/lib/python3.10/site-packages/optuna/trial/_trial.py:677: RuntimeWarning: Inconsistent parameter values for distribution with name \"min_child_samples\"! This might be a configuration mistake. Optuna allows to call the same distribution with the same name more than once in a trial. When the parameter values are inconsistent optuna only uses the values of the first call and ignores all following. Using these values: {'log': False, 'step': 1, 'low': 2, 'high': 100}\n",
      "  warnings.warn(\n"
     ]
    },
    {
     "name": "stdout",
     "output_type": "stream",
     "text": [
      "fold n°1\n",
      "fold n°2\n",
      "fold n°3\n",
      "fold n°4\n"
     ]
    },
    {
     "name": "stderr",
     "output_type": "stream",
     "text": [
      "[I 2023-11-02 09:37:04,856] Trial 79 finished with value: 0.9386570272882727 and parameters: {'learning_rate': 1, 'lambda_l1': 0.7701708422741611, 'lambda_l2': 9.644791502764667, 'max_bin': 62, 'max_depth': 83, 'min_data_in_leaf': 45, 'min_child_samples': 6, 'num_leaves': 53, 'feature_fraction': 0.4170932518515188, 'bagging_fraction': 0.9781341723574195, 'bagging_freq': 9}. Best is trial 61 with value: 0.9091282109965441.\n"
     ]
    },
    {
     "name": "stdout",
     "output_type": "stream",
     "text": [
      "AUC score: 0.93866 \n",
      "fold n°0\n",
      "fold n°1\n"
     ]
    },
    {
     "name": "stderr",
     "output_type": "stream",
     "text": [
      "/environment/miniconda3/lib/python3.10/site-packages/optuna/trial/_trial.py:677: RuntimeWarning: Inconsistent parameter values for distribution with name \"min_child_samples\"! This might be a configuration mistake. Optuna allows to call the same distribution with the same name more than once in a trial. When the parameter values are inconsistent optuna only uses the values of the first call and ignores all following. Using these values: {'log': False, 'step': 1, 'low': 2, 'high': 100}\n",
      "  warnings.warn(\n"
     ]
    },
    {
     "name": "stdout",
     "output_type": "stream",
     "text": [
      "fold n°2\n",
      "fold n°3\n",
      "fold n°4\n"
     ]
    },
    {
     "name": "stderr",
     "output_type": "stream",
     "text": [
      "[I 2023-11-02 09:37:05,390] Trial 80 finished with value: 0.9570739951513575 and parameters: {'learning_rate': 0.0005, 'lambda_l1': 1.3233239724189625, 'lambda_l2': 9.98907230599228, 'max_bin': 40, 'max_depth': 100, 'min_data_in_leaf': 28, 'min_child_samples': 20, 'num_leaves': 35, 'feature_fraction': 0.4536167162392277, 'bagging_fraction': 0.7846705548154682, 'bagging_freq': 6}. Best is trial 61 with value: 0.9091282109965441.\n"
     ]
    },
    {
     "name": "stdout",
     "output_type": "stream",
     "text": [
      "AUC score: 0.95707 \n",
      "fold n°0\n"
     ]
    },
    {
     "name": "stderr",
     "output_type": "stream",
     "text": [
      "/environment/miniconda3/lib/python3.10/site-packages/optuna/trial/_trial.py:677: RuntimeWarning: Inconsistent parameter values for distribution with name \"min_child_samples\"! This might be a configuration mistake. Optuna allows to call the same distribution with the same name more than once in a trial. When the parameter values are inconsistent optuna only uses the values of the first call and ignores all following. Using these values: {'log': False, 'step': 1, 'low': 2, 'high': 100}\n",
      "  warnings.warn(\n"
     ]
    },
    {
     "name": "stdout",
     "output_type": "stream",
     "text": [
      "fold n°1\n",
      "fold n°2\n",
      "fold n°3\n",
      "fold n°4\n"
     ]
    },
    {
     "name": "stderr",
     "output_type": "stream",
     "text": [
      "[I 2023-11-02 09:37:06,406] Trial 81 finished with value: 0.9106800685843535 and parameters: {'learning_rate': 1, 'lambda_l1': 0.2936322079381926, 'lambda_l2': 9.275924401816223, 'max_bin': 46, 'max_depth': 89, 'min_data_in_leaf': 31, 'min_child_samples': 23, 'num_leaves': 57, 'feature_fraction': 0.34878657636009236, 'bagging_fraction': 0.9385993293015729, 'bagging_freq': 7}. Best is trial 61 with value: 0.9091282109965441.\n"
     ]
    },
    {
     "name": "stdout",
     "output_type": "stream",
     "text": [
      "AUC score: 0.91068 \n",
      "fold n°0\n"
     ]
    },
    {
     "name": "stderr",
     "output_type": "stream",
     "text": [
      "/environment/miniconda3/lib/python3.10/site-packages/optuna/trial/_trial.py:677: RuntimeWarning: Inconsistent parameter values for distribution with name \"min_child_samples\"! This might be a configuration mistake. Optuna allows to call the same distribution with the same name more than once in a trial. When the parameter values are inconsistent optuna only uses the values of the first call and ignores all following. Using these values: {'log': False, 'step': 1, 'low': 2, 'high': 100}\n",
      "  warnings.warn(\n"
     ]
    },
    {
     "name": "stdout",
     "output_type": "stream",
     "text": [
      "fold n°1\n",
      "fold n°2\n",
      "fold n°3\n",
      "fold n°4\n"
     ]
    },
    {
     "name": "stderr",
     "output_type": "stream",
     "text": [
      "[I 2023-11-02 09:37:07,487] Trial 82 finished with value: 0.9203668459846751 and parameters: {'learning_rate': 1, 'lambda_l1': 0.19860295935960393, 'lambda_l2': 8.865695587448823, 'max_bin': 45, 'max_depth': 87, 'min_data_in_leaf': 33, 'min_child_samples': 9, 'num_leaves': 58, 'feature_fraction': 0.37479530615149104, 'bagging_fraction': 0.9270496714008458, 'bagging_freq': 7}. Best is trial 61 with value: 0.9091282109965441.\n"
     ]
    },
    {
     "name": "stdout",
     "output_type": "stream",
     "text": [
      "AUC score: 0.92037 \n",
      "fold n°0\n"
     ]
    },
    {
     "name": "stderr",
     "output_type": "stream",
     "text": [
      "/environment/miniconda3/lib/python3.10/site-packages/optuna/trial/_trial.py:677: RuntimeWarning: Inconsistent parameter values for distribution with name \"min_child_samples\"! This might be a configuration mistake. Optuna allows to call the same distribution with the same name more than once in a trial. When the parameter values are inconsistent optuna only uses the values of the first call and ignores all following. Using these values: {'log': False, 'step': 1, 'low': 2, 'high': 100}\n",
      "  warnings.warn(\n"
     ]
    },
    {
     "name": "stdout",
     "output_type": "stream",
     "text": [
      "fold n°1\n",
      "fold n°2\n",
      "fold n°3\n",
      "fold n°4\n"
     ]
    },
    {
     "name": "stderr",
     "output_type": "stream",
     "text": [
      "[I 2023-11-02 09:37:08,521] Trial 83 finished with value: 0.9109275152848951 and parameters: {'learning_rate': 1, 'lambda_l1': 0.29335810768979814, 'lambda_l2': 8.246595419479577, 'max_bin': 45, 'max_depth': 88, 'min_data_in_leaf': 33, 'min_child_samples': 8, 'num_leaves': 56, 'feature_fraction': 0.3828859145132737, 'bagging_fraction': 0.852029852431869, 'bagging_freq': 7}. Best is trial 61 with value: 0.9091282109965441.\n"
     ]
    },
    {
     "name": "stdout",
     "output_type": "stream",
     "text": [
      "AUC score: 0.91093 \n",
      "fold n°0\n"
     ]
    },
    {
     "name": "stderr",
     "output_type": "stream",
     "text": [
      "/environment/miniconda3/lib/python3.10/site-packages/optuna/trial/_trial.py:677: RuntimeWarning: Inconsistent parameter values for distribution with name \"min_child_samples\"! This might be a configuration mistake. Optuna allows to call the same distribution with the same name more than once in a trial. When the parameter values are inconsistent optuna only uses the values of the first call and ignores all following. Using these values: {'log': False, 'step': 1, 'low': 2, 'high': 100}\n",
      "  warnings.warn(\n"
     ]
    },
    {
     "name": "stdout",
     "output_type": "stream",
     "text": [
      "fold n°1\n",
      "fold n°2\n",
      "fold n°3\n",
      "fold n°4\n"
     ]
    },
    {
     "name": "stderr",
     "output_type": "stream",
     "text": [
      "[I 2023-11-02 09:37:09,451] Trial 84 finished with value: 0.9247439151075583 and parameters: {'learning_rate': 1, 'lambda_l1': 0.4961888519767288, 'lambda_l2': 8.353562391516224, 'max_bin': 44, 'max_depth': 90, 'min_data_in_leaf': 21, 'min_child_samples': 17, 'num_leaves': 56, 'feature_fraction': 0.3409253748915891, 'bagging_fraction': 0.8628156547714538, 'bagging_freq': 7}. Best is trial 61 with value: 0.9091282109965441.\n"
     ]
    },
    {
     "name": "stdout",
     "output_type": "stream",
     "text": [
      "AUC score: 0.92474 \n",
      "fold n°0\n"
     ]
    },
    {
     "name": "stderr",
     "output_type": "stream",
     "text": [
      "/environment/miniconda3/lib/python3.10/site-packages/optuna/trial/_trial.py:677: RuntimeWarning: Inconsistent parameter values for distribution with name \"min_child_samples\"! This might be a configuration mistake. Optuna allows to call the same distribution with the same name more than once in a trial. When the parameter values are inconsistent optuna only uses the values of the first call and ignores all following. Using these values: {'log': False, 'step': 1, 'low': 2, 'high': 100}\n",
      "  warnings.warn(\n"
     ]
    },
    {
     "name": "stdout",
     "output_type": "stream",
     "text": [
      "fold n°1\n",
      "fold n°2\n",
      "fold n°3\n",
      "fold n°4\n"
     ]
    },
    {
     "name": "stderr",
     "output_type": "stream",
     "text": [
      "[I 2023-11-02 09:37:10,208] Trial 85 finished with value: 0.9349501915657923 and parameters: {'learning_rate': 1, 'lambda_l1': 0.8726475635654607, 'lambda_l2': 9.130816858562737, 'max_bin': 36, 'max_depth': 75, 'min_data_in_leaf': 37, 'min_child_samples': 3, 'num_leaves': 49, 'feature_fraction': 0.3917199814476096, 'bagging_fraction': 0.8869440588568512, 'bagging_freq': 7}. Best is trial 61 with value: 0.9091282109965441.\n"
     ]
    },
    {
     "name": "stdout",
     "output_type": "stream",
     "text": [
      "AUC score: 0.93495 \n",
      "fold n°0\n"
     ]
    },
    {
     "name": "stderr",
     "output_type": "stream",
     "text": [
      "/environment/miniconda3/lib/python3.10/site-packages/optuna/trial/_trial.py:677: RuntimeWarning: Inconsistent parameter values for distribution with name \"min_child_samples\"! This might be a configuration mistake. Optuna allows to call the same distribution with the same name more than once in a trial. When the parameter values are inconsistent optuna only uses the values of the first call and ignores all following. Using these values: {'log': False, 'step': 1, 'low': 2, 'high': 100}\n",
      "  warnings.warn(\n"
     ]
    },
    {
     "name": "stdout",
     "output_type": "stream",
     "text": [
      "fold n°1\n",
      "fold n°2\n",
      "fold n°3\n"
     ]
    },
    {
     "name": "stderr",
     "output_type": "stream",
     "text": [
      "[I 2023-11-02 09:37:11,258] Trial 86 finished with value: 0.9119804514568847 and parameters: {'learning_rate': 1, 'lambda_l1': 0.2742213997734652, 'lambda_l2': 8.778566919943627, 'max_bin': 48, 'max_depth': 89, 'min_data_in_leaf': 30, 'min_child_samples': 15, 'num_leaves': 51, 'feature_fraction': 0.43653558123552616, 'bagging_fraction': 0.8342326510593527, 'bagging_freq': 8}. Best is trial 61 with value: 0.9091282109965441.\n"
     ]
    },
    {
     "name": "stdout",
     "output_type": "stream",
     "text": [
      "fold n°4\n",
      "AUC score: 0.91198 \n"
     ]
    },
    {
     "name": "stderr",
     "output_type": "stream",
     "text": [
      "/environment/miniconda3/lib/python3.10/site-packages/optuna/trial/_trial.py:677: RuntimeWarning: Inconsistent parameter values for distribution with name \"min_child_samples\"! This might be a configuration mistake. Optuna allows to call the same distribution with the same name more than once in a trial. When the parameter values are inconsistent optuna only uses the values of the first call and ignores all following. Using these values: {'log': False, 'step': 1, 'low': 2, 'high': 100}\n",
      "  warnings.warn(\n"
     ]
    },
    {
     "name": "stdout",
     "output_type": "stream",
     "text": [
      "fold n°0\n",
      "fold n°1\n",
      "fold n°2\n"
     ]
    },
    {
     "name": "stderr",
     "output_type": "stream",
     "text": [
      "[I 2023-11-02 09:37:11,795] Trial 87 finished with value: 0.9603795656688787 and parameters: {'learning_rate': 5e-05, 'lambda_l1': 0.6232493814937776, 'lambda_l2': 8.66542271905909, 'max_bin': 48, 'max_depth': 79, 'min_data_in_leaf': 26, 'min_child_samples': 15, 'num_leaves': 41, 'feature_fraction': 0.5316888299918967, 'bagging_fraction': 0.8188591309395405, 'bagging_freq': 5}. Best is trial 61 with value: 0.9091282109965441.\n"
     ]
    },
    {
     "name": "stdout",
     "output_type": "stream",
     "text": [
      "fold n°3\n",
      "fold n°4\n",
      "AUC score: 0.96038 \n"
     ]
    },
    {
     "name": "stderr",
     "output_type": "stream",
     "text": [
      "/environment/miniconda3/lib/python3.10/site-packages/optuna/trial/_trial.py:677: RuntimeWarning: Inconsistent parameter values for distribution with name \"min_child_samples\"! This might be a configuration mistake. Optuna allows to call the same distribution with the same name more than once in a trial. When the parameter values are inconsistent optuna only uses the values of the first call and ignores all following. Using these values: {'log': False, 'step': 1, 'low': 2, 'high': 100}\n",
      "  warnings.warn(\n"
     ]
    },
    {
     "name": "stdout",
     "output_type": "stream",
     "text": [
      "fold n°0\n",
      "fold n°1\n",
      "fold n°2\n"
     ]
    },
    {
     "name": "stderr",
     "output_type": "stream",
     "text": [
      "[I 2023-11-02 09:37:12,317] Trial 88 finished with value: 0.9560988120233425 and parameters: {'learning_rate': 0.001, 'lambda_l1': 1.8874434605278072, 'lambda_l2': 8.419147225244153, 'max_bin': 38, 'max_depth': 89, 'min_data_in_leaf': 29, 'min_child_samples': 8, 'num_leaves': 64, 'feature_fraction': 0.44650454044689825, 'bagging_fraction': 0.7563534316125909, 'bagging_freq': 6}. Best is trial 61 with value: 0.9091282109965441.\n"
     ]
    },
    {
     "name": "stdout",
     "output_type": "stream",
     "text": [
      "fold n°3\n",
      "fold n°4\n",
      "AUC score: 0.95610 \n"
     ]
    },
    {
     "name": "stderr",
     "output_type": "stream",
     "text": [
      "/environment/miniconda3/lib/python3.10/site-packages/optuna/trial/_trial.py:677: RuntimeWarning: Inconsistent parameter values for distribution with name \"min_child_samples\"! This might be a configuration mistake. Optuna allows to call the same distribution with the same name more than once in a trial. When the parameter values are inconsistent optuna only uses the values of the first call and ignores all following. Using these values: {'log': False, 'step': 1, 'low': 2, 'high': 100}\n",
      "  warnings.warn(\n"
     ]
    },
    {
     "name": "stdout",
     "output_type": "stream",
     "text": [
      "fold n°0\n",
      "fold n°1\n",
      "fold n°2\n",
      "fold n°3\n"
     ]
    },
    {
     "name": "stderr",
     "output_type": "stream",
     "text": [
      "[I 2023-11-02 09:37:14,200] Trial 89 finished with value: 0.936376919543225 and parameters: {'learning_rate': 1, 'lambda_l1': 1.1814159769377561, 'lambda_l2': 7.839167729027546, 'max_bin': 58, 'max_depth': 86, 'min_data_in_leaf': 35, 'min_child_samples': 24, 'num_leaves': 60, 'feature_fraction': 0.30882384820261133, 'bagging_fraction': 0.6977303988427912, 'bagging_freq': 7}. Best is trial 61 with value: 0.9091282109965441.\n"
     ]
    },
    {
     "name": "stdout",
     "output_type": "stream",
     "text": [
      "fold n°4\n",
      "AUC score: 0.93638 \n",
      "fold n°0\n"
     ]
    },
    {
     "name": "stderr",
     "output_type": "stream",
     "text": [
      "/environment/miniconda3/lib/python3.10/site-packages/optuna/trial/_trial.py:677: RuntimeWarning: Inconsistent parameter values for distribution with name \"min_child_samples\"! This might be a configuration mistake. Optuna allows to call the same distribution with the same name more than once in a trial. When the parameter values are inconsistent optuna only uses the values of the first call and ignores all following. Using these values: {'log': False, 'step': 1, 'low': 2, 'high': 100}\n",
      "  warnings.warn(\n"
     ]
    },
    {
     "name": "stdout",
     "output_type": "stream",
     "text": [
      "fold n°1\n",
      "fold n°2\n",
      "fold n°3\n",
      "fold n°4\n"
     ]
    },
    {
     "name": "stderr",
     "output_type": "stream",
     "text": [
      "[I 2023-11-02 09:37:14,905] Trial 90 finished with value: 0.933135450079359 and parameters: {'learning_rate': 1, 'lambda_l1': 1.4176135472783014, 'lambda_l2': 8.808982436542998, 'max_bin': 23, 'max_depth': 92, 'min_data_in_leaf': 17, 'min_child_samples': 20, 'num_leaves': 51, 'feature_fraction': 0.4280284236414146, 'bagging_fraction': 0.8459532668425909, 'bagging_freq': 4}. Best is trial 61 with value: 0.9091282109965441.\n"
     ]
    },
    {
     "name": "stdout",
     "output_type": "stream",
     "text": [
      "AUC score: 0.93314 \n",
      "fold n°0\n"
     ]
    },
    {
     "name": "stderr",
     "output_type": "stream",
     "text": [
      "/environment/miniconda3/lib/python3.10/site-packages/optuna/trial/_trial.py:677: RuntimeWarning: Inconsistent parameter values for distribution with name \"min_child_samples\"! This might be a configuration mistake. Optuna allows to call the same distribution with the same name more than once in a trial. When the parameter values are inconsistent optuna only uses the values of the first call and ignores all following. Using these values: {'log': False, 'step': 1, 'low': 2, 'high': 100}\n",
      "  warnings.warn(\n"
     ]
    },
    {
     "name": "stdout",
     "output_type": "stream",
     "text": [
      "fold n°1\n",
      "fold n°2\n",
      "fold n°3\n",
      "fold n°4\n"
     ]
    },
    {
     "name": "stderr",
     "output_type": "stream",
     "text": [
      "[I 2023-11-02 09:37:16,016] Trial 91 finished with value: 0.9096240255462114 and parameters: {'learning_rate': 1, 'lambda_l1': 0.256050681987832, 'lambda_l2': 9.40034818027494, 'max_bin': 51, 'max_depth': 83, 'min_data_in_leaf': 33, 'min_child_samples': 11, 'num_leaves': 52, 'feature_fraction': 0.35305315052950914, 'bagging_fraction': 0.9100097951436087, 'bagging_freq': 8}. Best is trial 61 with value: 0.9091282109965441.\n"
     ]
    },
    {
     "name": "stdout",
     "output_type": "stream",
     "text": [
      "AUC score: 0.90962 \n",
      "fold n°0\n"
     ]
    },
    {
     "name": "stderr",
     "output_type": "stream",
     "text": [
      "/environment/miniconda3/lib/python3.10/site-packages/optuna/trial/_trial.py:677: RuntimeWarning: Inconsistent parameter values for distribution with name \"min_child_samples\"! This might be a configuration mistake. Optuna allows to call the same distribution with the same name more than once in a trial. When the parameter values are inconsistent optuna only uses the values of the first call and ignores all following. Using these values: {'log': False, 'step': 1, 'low': 2, 'high': 100}\n",
      "  warnings.warn(\n"
     ]
    },
    {
     "name": "stdout",
     "output_type": "stream",
     "text": [
      "fold n°1\n",
      "fold n°2\n",
      "fold n°3\n",
      "fold n°4\n"
     ]
    },
    {
     "name": "stderr",
     "output_type": "stream",
     "text": [
      "[I 2023-11-02 09:37:17,202] Trial 92 finished with value: 0.9237877238972045 and parameters: {'learning_rate': 1, 'lambda_l1': 0.2074383522346263, 'lambda_l2': 9.464083826372082, 'max_bin': 46, 'max_depth': 85, 'min_data_in_leaf': 26, 'min_child_samples': 10, 'num_leaves': 57, 'feature_fraction': 0.408557705991043, 'bagging_fraction': 0.9787064126021071, 'bagging_freq': 8}. Best is trial 61 with value: 0.9091282109965441.\n"
     ]
    },
    {
     "name": "stdout",
     "output_type": "stream",
     "text": [
      "AUC score: 0.92379 \n",
      "fold n°0\n"
     ]
    },
    {
     "name": "stderr",
     "output_type": "stream",
     "text": [
      "/environment/miniconda3/lib/python3.10/site-packages/optuna/trial/_trial.py:677: RuntimeWarning: Inconsistent parameter values for distribution with name \"min_child_samples\"! This might be a configuration mistake. Optuna allows to call the same distribution with the same name more than once in a trial. When the parameter values are inconsistent optuna only uses the values of the first call and ignores all following. Using these values: {'log': False, 'step': 1, 'low': 2, 'high': 100}\n",
      "  warnings.warn(\n"
     ]
    },
    {
     "name": "stdout",
     "output_type": "stream",
     "text": [
      "fold n°1\n",
      "fold n°2\n",
      "fold n°3\n",
      "fold n°4\n"
     ]
    },
    {
     "name": "stderr",
     "output_type": "stream",
     "text": [
      "[I 2023-11-02 09:37:18,132] Trial 93 finished with value: 0.9163021175978197 and parameters: {'learning_rate': 1, 'lambda_l1': 0.47822859798892725, 'lambda_l2': 9.711723856273267, 'max_bin': 50, 'max_depth': 94, 'min_data_in_leaf': 39, 'min_child_samples': 15, 'num_leaves': 46, 'feature_fraction': 0.3470281699399186, 'bagging_fraction': 0.944750799601551, 'bagging_freq': 7}. Best is trial 61 with value: 0.9091282109965441.\n"
     ]
    },
    {
     "name": "stdout",
     "output_type": "stream",
     "text": [
      "AUC score: 0.91630 \n",
      "fold n°0\n"
     ]
    },
    {
     "name": "stderr",
     "output_type": "stream",
     "text": [
      "/environment/miniconda3/lib/python3.10/site-packages/optuna/trial/_trial.py:677: RuntimeWarning: Inconsistent parameter values for distribution with name \"min_child_samples\"! This might be a configuration mistake. Optuna allows to call the same distribution with the same name more than once in a trial. When the parameter values are inconsistent optuna only uses the values of the first call and ignores all following. Using these values: {'log': False, 'step': 1, 'low': 2, 'high': 100}\n",
      "  warnings.warn(\n"
     ]
    },
    {
     "name": "stdout",
     "output_type": "stream",
     "text": [
      "fold n°1\n",
      "fold n°2\n",
      "fold n°3\n",
      "fold n°4\n"
     ]
    },
    {
     "name": "stderr",
     "output_type": "stream",
     "text": [
      "[I 2023-11-02 09:37:19,106] Trial 94 finished with value: 0.9140439132930128 and parameters: {'learning_rate': 1, 'lambda_l1': 0.4760108419047715, 'lambda_l2': 9.728337437739249, 'max_bin': 51, 'max_depth': 95, 'min_data_in_leaf': 28, 'min_child_samples': 15, 'num_leaves': 47, 'feature_fraction': 0.33807038654928684, 'bagging_fraction': 0.91316261029263, 'bagging_freq': 7}. Best is trial 61 with value: 0.9091282109965441.\n"
     ]
    },
    {
     "name": "stdout",
     "output_type": "stream",
     "text": [
      "AUC score: 0.91404 \n",
      "fold n°0\n"
     ]
    },
    {
     "name": "stderr",
     "output_type": "stream",
     "text": [
      "/environment/miniconda3/lib/python3.10/site-packages/optuna/trial/_trial.py:677: RuntimeWarning: Inconsistent parameter values for distribution with name \"min_child_samples\"! This might be a configuration mistake. Optuna allows to call the same distribution with the same name more than once in a trial. When the parameter values are inconsistent optuna only uses the values of the first call and ignores all following. Using these values: {'log': False, 'step': 1, 'low': 2, 'high': 100}\n",
      "  warnings.warn(\n"
     ]
    },
    {
     "name": "stdout",
     "output_type": "stream",
     "text": [
      "fold n°1\n",
      "fold n°2\n",
      "fold n°3\n",
      "fold n°4\n"
     ]
    },
    {
     "name": "stderr",
     "output_type": "stream",
     "text": [
      "[I 2023-11-02 09:37:20,069] Trial 95 finished with value: 0.9062288686567642 and parameters: {'learning_rate': 1, 'lambda_l1': 0.4808110347596675, 'lambda_l2': 9.14071907221033, 'max_bin': 50, 'max_depth': 98, 'min_data_in_leaf': 39, 'min_child_samples': 15, 'num_leaves': 47, 'feature_fraction': 0.3490118472322772, 'bagging_fraction': 0.9153083279581834, 'bagging_freq': 7}. Best is trial 95 with value: 0.9062288686567642.\n"
     ]
    },
    {
     "name": "stdout",
     "output_type": "stream",
     "text": [
      "AUC score: 0.90623 \n",
      "fold n°0\n"
     ]
    },
    {
     "name": "stderr",
     "output_type": "stream",
     "text": [
      "/environment/miniconda3/lib/python3.10/site-packages/optuna/trial/_trial.py:677: RuntimeWarning: Inconsistent parameter values for distribution with name \"min_child_samples\"! This might be a configuration mistake. Optuna allows to call the same distribution with the same name more than once in a trial. When the parameter values are inconsistent optuna only uses the values of the first call and ignores all following. Using these values: {'log': False, 'step': 1, 'low': 2, 'high': 100}\n",
      "  warnings.warn(\n"
     ]
    },
    {
     "name": "stdout",
     "output_type": "stream",
     "text": [
      "fold n°1\n",
      "fold n°2\n",
      "fold n°3\n",
      "fold n°4\n"
     ]
    },
    {
     "name": "stderr",
     "output_type": "stream",
     "text": [
      "[I 2023-11-02 09:37:20,871] Trial 96 finished with value: 0.9351801721405184 and parameters: {'learning_rate': 0.5, 'lambda_l1': 0.9343082982466155, 'lambda_l2': 8.583964315453038, 'max_bin': 42, 'max_depth': 98, 'min_data_in_leaf': 22, 'min_child_samples': 18, 'num_leaves': 48, 'feature_fraction': 0.3226415584077119, 'bagging_fraction': 0.9133190652311147, 'bagging_freq': 6}. Best is trial 95 with value: 0.9062288686567642.\n"
     ]
    },
    {
     "name": "stdout",
     "output_type": "stream",
     "text": [
      "AUC score: 0.93518 \n",
      "fold n°0\n"
     ]
    },
    {
     "name": "stderr",
     "output_type": "stream",
     "text": [
      "/environment/miniconda3/lib/python3.10/site-packages/optuna/trial/_trial.py:677: RuntimeWarning: Inconsistent parameter values for distribution with name \"min_child_samples\"! This might be a configuration mistake. Optuna allows to call the same distribution with the same name more than once in a trial. When the parameter values are inconsistent optuna only uses the values of the first call and ignores all following. Using these values: {'log': False, 'step': 1, 'low': 2, 'high': 100}\n",
      "  warnings.warn(\n"
     ]
    },
    {
     "name": "stdout",
     "output_type": "stream",
     "text": [
      "fold n°1\n",
      "fold n°2\n",
      "fold n°3\n",
      "fold n°4\n"
     ]
    },
    {
     "name": "stderr",
     "output_type": "stream",
     "text": [
      "[I 2023-11-02 09:37:21,964] Trial 97 finished with value: 0.9059881664721482 and parameters: {'learning_rate': 1, 'lambda_l1': 0.20629303587860484, 'lambda_l2': 9.095829850430668, 'max_bin': 44, 'max_depth': 95, 'min_data_in_leaf': 19, 'min_child_samples': 6, 'num_leaves': 44, 'feature_fraction': 0.3887340344507606, 'bagging_fraction': 0.8552755966670972, 'bagging_freq': 7}. Best is trial 97 with value: 0.9059881664721482.\n"
     ]
    },
    {
     "name": "stdout",
     "output_type": "stream",
     "text": [
      "AUC score: 0.90599 \n",
      "fold n°0\n"
     ]
    },
    {
     "name": "stderr",
     "output_type": "stream",
     "text": [
      "/environment/miniconda3/lib/python3.10/site-packages/optuna/trial/_trial.py:677: RuntimeWarning: Inconsistent parameter values for distribution with name \"min_child_samples\"! This might be a configuration mistake. Optuna allows to call the same distribution with the same name more than once in a trial. When the parameter values are inconsistent optuna only uses the values of the first call and ignores all following. Using these values: {'log': False, 'step': 1, 'low': 2, 'high': 100}\n",
      "  warnings.warn(\n"
     ]
    },
    {
     "name": "stdout",
     "output_type": "stream",
     "text": [
      "fold n°1\n",
      "fold n°2\n",
      "fold n°3\n",
      "fold n°4\n"
     ]
    },
    {
     "name": "stderr",
     "output_type": "stream",
     "text": [
      "[I 2023-11-02 09:37:22,920] Trial 98 finished with value: 0.9205218353190869 and parameters: {'learning_rate': 1, 'lambda_l1': 0.5228506245510517, 'lambda_l2': 8.155347913825327, 'max_bin': 35, 'max_depth': 95, 'min_data_in_leaf': 25, 'min_child_samples': 4, 'num_leaves': 36, 'feature_fraction': 0.3866069530903815, 'bagging_fraction': 0.8629059228476504, 'bagging_freq': 7}. Best is trial 97 with value: 0.9059881664721482.\n"
     ]
    },
    {
     "name": "stdout",
     "output_type": "stream",
     "text": [
      "AUC score: 0.92052 \n",
      "fold n°0\n"
     ]
    },
    {
     "name": "stderr",
     "output_type": "stream",
     "text": [
      "/environment/miniconda3/lib/python3.10/site-packages/optuna/trial/_trial.py:677: RuntimeWarning: Inconsistent parameter values for distribution with name \"min_child_samples\"! This might be a configuration mistake. Optuna allows to call the same distribution with the same name more than once in a trial. When the parameter values are inconsistent optuna only uses the values of the first call and ignores all following. Using these values: {'log': False, 'step': 1, 'low': 2, 'high': 100}\n",
      "  warnings.warn(\n"
     ]
    },
    {
     "name": "stdout",
     "output_type": "stream",
     "text": [
      "fold n°1\n",
      "fold n°2\n",
      "fold n°3\n",
      "fold n°4\n"
     ]
    },
    {
     "name": "stderr",
     "output_type": "stream",
     "text": [
      "[I 2023-11-02 09:37:23,719] Trial 99 finished with value: 0.9508880982302739 and parameters: {'learning_rate': 0.1, 'lambda_l1': 1.0742014884614683, 'lambda_l2': 8.947196946510507, 'max_bin': 40, 'max_depth': 98, 'min_data_in_leaf': 19, 'min_child_samples': 7, 'num_leaves': 49, 'feature_fraction': 0.2940763071920582, 'bagging_fraction': 0.842035959655087, 'bagging_freq': 6}. Best is trial 97 with value: 0.9059881664721482.\n"
     ]
    },
    {
     "name": "stdout",
     "output_type": "stream",
     "text": [
      "AUC score: 0.95089 \n",
      "Number of finished trials: 100\n",
      "Best trial: {'learning_rate': 1, 'lambda_l1': 0.20629303587860484, 'lambda_l2': 9.095829850430668, 'max_bin': 44, 'max_depth': 95, 'min_data_in_leaf': 19, 'min_child_samples': 6, 'num_leaves': 44, 'feature_fraction': 0.3887340344507606, 'bagging_fraction': 0.8552755966670972, 'bagging_freq': 7}\n"
     ]
    }
   ],
   "source": [
    "study = optuna.create_study(direction='minimize')\n",
    "study.trials_dataframe()\n",
    "study.optimize(objective, n_trials=100)\n",
    "print('Number of finished trials:', len(study.trials))\n",
    "print('Best trial:', study.best_trial.params)"
   ]
  },
  {
   "cell_type": "code",
   "execution_count": 130,
   "id": "cd70554f-c09a-4016-8dcb-8701b06d15e2",
   "metadata": {},
   "outputs": [
    {
     "data": {
      "text/html": [
       "<div>\n",
       "<style scoped>\n",
       "    .dataframe tbody tr th:only-of-type {\n",
       "        vertical-align: middle;\n",
       "    }\n",
       "\n",
       "    .dataframe tbody tr th {\n",
       "        vertical-align: top;\n",
       "    }\n",
       "\n",
       "    .dataframe thead th {\n",
       "        text-align: right;\n",
       "    }\n",
       "</style>\n",
       "<table border=\"1\" class=\"dataframe\">\n",
       "  <thead>\n",
       "    <tr style=\"text-align: right;\">\n",
       "      <th></th>\n",
       "      <th>amount.donated.2013</th>\n",
       "      <th>amount.donated.lifetime</th>\n",
       "      <th>no.donations.lifetime</th>\n",
       "      <th>first.donated</th>\n",
       "      <th>Lat_account</th>\n",
       "      <th>Long_account</th>\n",
       "      <th>Decommisioned</th>\n",
       "      <th>TaxReturnsFiled</th>\n",
       "      <th>EstimatedPopulation</th>\n",
       "      <th>TotalWages</th>\n",
       "      <th>season</th>\n",
       "      <th>package</th>\n",
       "      <th>no.seats</th>\n",
       "      <th>section</th>\n",
       "      <th>multiple.subs</th>\n",
       "      <th>price.level</th>\n",
       "      <th>subscription_tier</th>\n",
       "      <th>Lat_sub</th>\n",
       "      <th>Long_sub</th>\n",
       "      <th>music_taste</th>\n",
       "    </tr>\n",
       "  </thead>\n",
       "  <tbody>\n",
       "    <tr>\n",
       "      <th>0</th>\n",
       "      <td>-0.051702</td>\n",
       "      <td>-0.064751</td>\n",
       "      <td>-0.332850</td>\n",
       "      <td>-0.621491</td>\n",
       "      <td>-2.407165</td>\n",
       "      <td>2.380143</td>\n",
       "      <td>-2.42750</td>\n",
       "      <td>-1.363469</td>\n",
       "      <td>-1.374205</td>\n",
       "      <td>-1.298341</td>\n",
       "      <td>-0.423773</td>\n",
       "      <td>0.098643</td>\n",
       "      <td>-0.780493</td>\n",
       "      <td>0.201565</td>\n",
       "      <td>-0.811932</td>\n",
       "      <td>-0.770503</td>\n",
       "      <td>-0.733920</td>\n",
       "      <td>-0.816447</td>\n",
       "      <td>0.801136</td>\n",
       "      <td>-0.280775</td>\n",
       "    </tr>\n",
       "    <tr>\n",
       "      <th>1</th>\n",
       "      <td>-0.051702</td>\n",
       "      <td>-0.064751</td>\n",
       "      <td>-0.332850</td>\n",
       "      <td>-0.621491</td>\n",
       "      <td>-2.407165</td>\n",
       "      <td>2.380143</td>\n",
       "      <td>-2.42750</td>\n",
       "      <td>-1.363469</td>\n",
       "      <td>-1.374205</td>\n",
       "      <td>-1.298341</td>\n",
       "      <td>-0.423773</td>\n",
       "      <td>0.098643</td>\n",
       "      <td>-0.780493</td>\n",
       "      <td>0.201565</td>\n",
       "      <td>-0.811932</td>\n",
       "      <td>-0.770503</td>\n",
       "      <td>-0.733920</td>\n",
       "      <td>-0.816447</td>\n",
       "      <td>0.801136</td>\n",
       "      <td>-0.280775</td>\n",
       "    </tr>\n",
       "    <tr>\n",
       "      <th>2</th>\n",
       "      <td>-0.051702</td>\n",
       "      <td>-0.064751</td>\n",
       "      <td>-0.332850</td>\n",
       "      <td>-0.621491</td>\n",
       "      <td>0.420841</td>\n",
       "      <td>-0.452699</td>\n",
       "      <td>0.41099</td>\n",
       "      <td>-0.152553</td>\n",
       "      <td>-0.175230</td>\n",
       "      <td>-0.181474</td>\n",
       "      <td>-0.423773</td>\n",
       "      <td>0.098643</td>\n",
       "      <td>-0.780493</td>\n",
       "      <td>0.201565</td>\n",
       "      <td>-0.811932</td>\n",
       "      <td>-0.770503</td>\n",
       "      <td>-0.733920</td>\n",
       "      <td>-0.816447</td>\n",
       "      <td>0.801136</td>\n",
       "      <td>-0.280775</td>\n",
       "    </tr>\n",
       "    <tr>\n",
       "      <th>3</th>\n",
       "      <td>-0.051702</td>\n",
       "      <td>-0.064751</td>\n",
       "      <td>-0.332850</td>\n",
       "      <td>-0.621491</td>\n",
       "      <td>0.403684</td>\n",
       "      <td>-0.460589</td>\n",
       "      <td>0.41099</td>\n",
       "      <td>-1.066116</td>\n",
       "      <td>-1.067346</td>\n",
       "      <td>-0.959960</td>\n",
       "      <td>-0.154389</td>\n",
       "      <td>-1.471726</td>\n",
       "      <td>0.624601</td>\n",
       "      <td>0.201565</td>\n",
       "      <td>1.198635</td>\n",
       "      <td>0.998406</td>\n",
       "      <td>1.015863</td>\n",
       "      <td>1.188713</td>\n",
       "      <td>-1.435318</td>\n",
       "      <td>-0.280775</td>\n",
       "    </tr>\n",
       "    <tr>\n",
       "      <th>4</th>\n",
       "      <td>-0.051702</td>\n",
       "      <td>-0.064751</td>\n",
       "      <td>-0.332850</td>\n",
       "      <td>-0.621491</td>\n",
       "      <td>0.413381</td>\n",
       "      <td>-0.456644</td>\n",
       "      <td>0.41099</td>\n",
       "      <td>0.505654</td>\n",
       "      <td>0.332200</td>\n",
       "      <td>0.404025</td>\n",
       "      <td>-0.423773</td>\n",
       "      <td>0.098643</td>\n",
       "      <td>-0.780493</td>\n",
       "      <td>0.201565</td>\n",
       "      <td>-0.811932</td>\n",
       "      <td>-0.770503</td>\n",
       "      <td>-0.733920</td>\n",
       "      <td>-0.816447</td>\n",
       "      <td>0.801136</td>\n",
       "      <td>-0.280775</td>\n",
       "    </tr>\n",
       "    <tr>\n",
       "      <th>...</th>\n",
       "      <td>...</td>\n",
       "      <td>...</td>\n",
       "      <td>...</td>\n",
       "      <td>...</td>\n",
       "      <td>...</td>\n",
       "      <td>...</td>\n",
       "      <td>...</td>\n",
       "      <td>...</td>\n",
       "      <td>...</td>\n",
       "      <td>...</td>\n",
       "      <td>...</td>\n",
       "      <td>...</td>\n",
       "      <td>...</td>\n",
       "      <td>...</td>\n",
       "      <td>...</td>\n",
       "      <td>...</td>\n",
       "      <td>...</td>\n",
       "      <td>...</td>\n",
       "      <td>...</td>\n",
       "      <td>...</td>\n",
       "    </tr>\n",
       "    <tr>\n",
       "      <th>6936</th>\n",
       "      <td>-0.051702</td>\n",
       "      <td>-0.064751</td>\n",
       "      <td>-0.332850</td>\n",
       "      <td>-0.621491</td>\n",
       "      <td>0.383542</td>\n",
       "      <td>-0.454091</td>\n",
       "      <td>0.41099</td>\n",
       "      <td>0.108996</td>\n",
       "      <td>0.236717</td>\n",
       "      <td>0.912474</td>\n",
       "      <td>-0.423773</td>\n",
       "      <td>0.098643</td>\n",
       "      <td>-0.780493</td>\n",
       "      <td>0.201565</td>\n",
       "      <td>-0.811932</td>\n",
       "      <td>-0.770503</td>\n",
       "      <td>-0.733920</td>\n",
       "      <td>-0.816447</td>\n",
       "      <td>0.801136</td>\n",
       "      <td>-0.280775</td>\n",
       "    </tr>\n",
       "    <tr>\n",
       "      <th>6937</th>\n",
       "      <td>-0.051702</td>\n",
       "      <td>-0.064751</td>\n",
       "      <td>-0.332850</td>\n",
       "      <td>-0.621491</td>\n",
       "      <td>0.411144</td>\n",
       "      <td>-0.461749</td>\n",
       "      <td>0.41099</td>\n",
       "      <td>0.968178</td>\n",
       "      <td>0.788992</td>\n",
       "      <td>1.376473</td>\n",
       "      <td>-0.423773</td>\n",
       "      <td>0.098643</td>\n",
       "      <td>-0.780493</td>\n",
       "      <td>0.201565</td>\n",
       "      <td>-0.811932</td>\n",
       "      <td>-0.770503</td>\n",
       "      <td>-0.733920</td>\n",
       "      <td>-0.816447</td>\n",
       "      <td>0.801136</td>\n",
       "      <td>-0.280775</td>\n",
       "    </tr>\n",
       "    <tr>\n",
       "      <th>6938</th>\n",
       "      <td>-0.051702</td>\n",
       "      <td>0.878131</td>\n",
       "      <td>0.934114</td>\n",
       "      <td>1.613920</td>\n",
       "      <td>0.505137</td>\n",
       "      <td>0.605063</td>\n",
       "      <td>0.41099</td>\n",
       "      <td>-0.185092</td>\n",
       "      <td>-0.053899</td>\n",
       "      <td>-0.169367</td>\n",
       "      <td>-0.423773</td>\n",
       "      <td>0.098643</td>\n",
       "      <td>-0.780493</td>\n",
       "      <td>0.201565</td>\n",
       "      <td>-0.811932</td>\n",
       "      <td>-0.770503</td>\n",
       "      <td>-0.733920</td>\n",
       "      <td>-0.816447</td>\n",
       "      <td>0.801136</td>\n",
       "      <td>-0.280775</td>\n",
       "    </tr>\n",
       "    <tr>\n",
       "      <th>6939</th>\n",
       "      <td>-0.051702</td>\n",
       "      <td>-0.051865</td>\n",
       "      <td>1.356436</td>\n",
       "      <td>1.602754</td>\n",
       "      <td>0.409652</td>\n",
       "      <td>-0.461285</td>\n",
       "      <td>0.41099</td>\n",
       "      <td>1.090452</td>\n",
       "      <td>0.594636</td>\n",
       "      <td>1.242513</td>\n",
       "      <td>1.731303</td>\n",
       "      <td>-1.471726</td>\n",
       "      <td>1.327149</td>\n",
       "      <td>-1.724632</td>\n",
       "      <td>1.198635</td>\n",
       "      <td>1.502277</td>\n",
       "      <td>1.890755</td>\n",
       "      <td>1.141478</td>\n",
       "      <td>-1.362007</td>\n",
       "      <td>-0.280775</td>\n",
       "    </tr>\n",
       "    <tr>\n",
       "      <th>6940</th>\n",
       "      <td>-0.051702</td>\n",
       "      <td>-0.064751</td>\n",
       "      <td>-0.332850</td>\n",
       "      <td>-0.621491</td>\n",
       "      <td>0.413381</td>\n",
       "      <td>-0.456644</td>\n",
       "      <td>0.41099</td>\n",
       "      <td>0.505654</td>\n",
       "      <td>0.332200</td>\n",
       "      <td>0.404025</td>\n",
       "      <td>-0.423773</td>\n",
       "      <td>0.098643</td>\n",
       "      <td>-0.780493</td>\n",
       "      <td>0.201565</td>\n",
       "      <td>-0.811932</td>\n",
       "      <td>-0.770503</td>\n",
       "      <td>-0.733920</td>\n",
       "      <td>-0.816447</td>\n",
       "      <td>0.801136</td>\n",
       "      <td>-0.280775</td>\n",
       "    </tr>\n",
       "  </tbody>\n",
       "</table>\n",
       "<p>6941 rows × 20 columns</p>\n",
       "</div>"
      ],
      "text/plain": [
       "      amount.donated.2013  amount.donated.lifetime  no.donations.lifetime  \\\n",
       "0               -0.051702                -0.064751              -0.332850   \n",
       "1               -0.051702                -0.064751              -0.332850   \n",
       "2               -0.051702                -0.064751              -0.332850   \n",
       "3               -0.051702                -0.064751              -0.332850   \n",
       "4               -0.051702                -0.064751              -0.332850   \n",
       "...                   ...                      ...                    ...   \n",
       "6936            -0.051702                -0.064751              -0.332850   \n",
       "6937            -0.051702                -0.064751              -0.332850   \n",
       "6938            -0.051702                 0.878131               0.934114   \n",
       "6939            -0.051702                -0.051865               1.356436   \n",
       "6940            -0.051702                -0.064751              -0.332850   \n",
       "\n",
       "      first.donated  Lat_account  Long_account  Decommisioned  \\\n",
       "0         -0.621491    -2.407165      2.380143       -2.42750   \n",
       "1         -0.621491    -2.407165      2.380143       -2.42750   \n",
       "2         -0.621491     0.420841     -0.452699        0.41099   \n",
       "3         -0.621491     0.403684     -0.460589        0.41099   \n",
       "4         -0.621491     0.413381     -0.456644        0.41099   \n",
       "...             ...          ...           ...            ...   \n",
       "6936      -0.621491     0.383542     -0.454091        0.41099   \n",
       "6937      -0.621491     0.411144     -0.461749        0.41099   \n",
       "6938       1.613920     0.505137      0.605063        0.41099   \n",
       "6939       1.602754     0.409652     -0.461285        0.41099   \n",
       "6940      -0.621491     0.413381     -0.456644        0.41099   \n",
       "\n",
       "      TaxReturnsFiled  EstimatedPopulation  TotalWages    season   package  \\\n",
       "0           -1.363469            -1.374205   -1.298341 -0.423773  0.098643   \n",
       "1           -1.363469            -1.374205   -1.298341 -0.423773  0.098643   \n",
       "2           -0.152553            -0.175230   -0.181474 -0.423773  0.098643   \n",
       "3           -1.066116            -1.067346   -0.959960 -0.154389 -1.471726   \n",
       "4            0.505654             0.332200    0.404025 -0.423773  0.098643   \n",
       "...               ...                  ...         ...       ...       ...   \n",
       "6936         0.108996             0.236717    0.912474 -0.423773  0.098643   \n",
       "6937         0.968178             0.788992    1.376473 -0.423773  0.098643   \n",
       "6938        -0.185092            -0.053899   -0.169367 -0.423773  0.098643   \n",
       "6939         1.090452             0.594636    1.242513  1.731303 -1.471726   \n",
       "6940         0.505654             0.332200    0.404025 -0.423773  0.098643   \n",
       "\n",
       "      no.seats   section  multiple.subs  price.level  subscription_tier  \\\n",
       "0    -0.780493  0.201565      -0.811932    -0.770503          -0.733920   \n",
       "1    -0.780493  0.201565      -0.811932    -0.770503          -0.733920   \n",
       "2    -0.780493  0.201565      -0.811932    -0.770503          -0.733920   \n",
       "3     0.624601  0.201565       1.198635     0.998406           1.015863   \n",
       "4    -0.780493  0.201565      -0.811932    -0.770503          -0.733920   \n",
       "...        ...       ...            ...          ...                ...   \n",
       "6936 -0.780493  0.201565      -0.811932    -0.770503          -0.733920   \n",
       "6937 -0.780493  0.201565      -0.811932    -0.770503          -0.733920   \n",
       "6938 -0.780493  0.201565      -0.811932    -0.770503          -0.733920   \n",
       "6939  1.327149 -1.724632       1.198635     1.502277           1.890755   \n",
       "6940 -0.780493  0.201565      -0.811932    -0.770503          -0.733920   \n",
       "\n",
       "       Lat_sub  Long_sub  music_taste  \n",
       "0    -0.816447  0.801136    -0.280775  \n",
       "1    -0.816447  0.801136    -0.280775  \n",
       "2    -0.816447  0.801136    -0.280775  \n",
       "3     1.188713 -1.435318    -0.280775  \n",
       "4    -0.816447  0.801136    -0.280775  \n",
       "...        ...       ...          ...  \n",
       "6936 -0.816447  0.801136    -0.280775  \n",
       "6937 -0.816447  0.801136    -0.280775  \n",
       "6938 -0.816447  0.801136    -0.280775  \n",
       "6939  1.141478 -1.362007    -0.280775  \n",
       "6940 -0.816447  0.801136    -0.280775  \n",
       "\n",
       "[6941 rows x 20 columns]"
      ]
     },
     "execution_count": 130,
     "metadata": {},
     "output_type": "execute_result"
    }
   ],
   "source": [
    "X_train"
   ]
  },
  {
   "cell_type": "code",
   "execution_count": 129,
   "id": "ac480691-a29e-4649-9aee-f11d59c54932",
   "metadata": {},
   "outputs": [
    {
     "data": {
      "text/html": [
       "<div>\n",
       "<style scoped>\n",
       "    .dataframe tbody tr th:only-of-type {\n",
       "        vertical-align: middle;\n",
       "    }\n",
       "\n",
       "    .dataframe tbody tr th {\n",
       "        vertical-align: top;\n",
       "    }\n",
       "\n",
       "    .dataframe thead th {\n",
       "        text-align: right;\n",
       "    }\n",
       "</style>\n",
       "<table border=\"1\" class=\"dataframe\">\n",
       "  <thead>\n",
       "    <tr style=\"text-align: right;\">\n",
       "      <th></th>\n",
       "      <th>number</th>\n",
       "      <th>value</th>\n",
       "      <th>datetime_start</th>\n",
       "      <th>datetime_complete</th>\n",
       "      <th>duration</th>\n",
       "      <th>params_C</th>\n",
       "      <th>params_degree</th>\n",
       "      <th>params_epsilon</th>\n",
       "      <th>params_gamma</th>\n",
       "      <th>params_kernel</th>\n",
       "      <th>state</th>\n",
       "    </tr>\n",
       "  </thead>\n",
       "  <tbody>\n",
       "    <tr>\n",
       "      <th>0</th>\n",
       "      <td>0</td>\n",
       "      <td>0.5</td>\n",
       "      <td>2023-11-02 06:08:30.317401</td>\n",
       "      <td>2023-11-02 06:08:30.374883</td>\n",
       "      <td>0 days 00:00:00.057482</td>\n",
       "      <td>814.728948</td>\n",
       "      <td>9</td>\n",
       "      <td>8.661347</td>\n",
       "      <td>scale</td>\n",
       "      <td>linear</td>\n",
       "      <td>COMPLETE</td>\n",
       "    </tr>\n",
       "    <tr>\n",
       "      <th>1</th>\n",
       "      <td>1</td>\n",
       "      <td>0.5</td>\n",
       "      <td>2023-11-02 06:08:30.376467</td>\n",
       "      <td>2023-11-02 06:08:30.425768</td>\n",
       "      <td>0 days 00:00:00.049301</td>\n",
       "      <td>462.517783</td>\n",
       "      <td>3</td>\n",
       "      <td>13.446457</td>\n",
       "      <td>scale</td>\n",
       "      <td>poly</td>\n",
       "      <td>COMPLETE</td>\n",
       "    </tr>\n",
       "    <tr>\n",
       "      <th>2</th>\n",
       "      <td>2</td>\n",
       "      <td>0.5</td>\n",
       "      <td>2023-11-02 06:08:30.427284</td>\n",
       "      <td>2023-11-02 06:08:30.470315</td>\n",
       "      <td>0 days 00:00:00.043031</td>\n",
       "      <td>302.231377</td>\n",
       "      <td>8</td>\n",
       "      <td>77.685456</td>\n",
       "      <td>auto</td>\n",
       "      <td>linear</td>\n",
       "      <td>COMPLETE</td>\n",
       "    </tr>\n",
       "    <tr>\n",
       "      <th>3</th>\n",
       "      <td>3</td>\n",
       "      <td>0.5</td>\n",
       "      <td>2023-11-02 06:08:30.471666</td>\n",
       "      <td>2023-11-02 06:08:30.514465</td>\n",
       "      <td>0 days 00:00:00.042799</td>\n",
       "      <td>946.474825</td>\n",
       "      <td>5</td>\n",
       "      <td>96.011788</td>\n",
       "      <td>scale</td>\n",
       "      <td>sigmoid</td>\n",
       "      <td>COMPLETE</td>\n",
       "    </tr>\n",
       "    <tr>\n",
       "      <th>4</th>\n",
       "      <td>4</td>\n",
       "      <td>0.5</td>\n",
       "      <td>2023-11-02 06:08:30.516125</td>\n",
       "      <td>2023-11-02 06:08:30.564002</td>\n",
       "      <td>0 days 00:00:00.047877</td>\n",
       "      <td>544.503339</td>\n",
       "      <td>2</td>\n",
       "      <td>18.891098</td>\n",
       "      <td>scale</td>\n",
       "      <td>rbf</td>\n",
       "      <td>COMPLETE</td>\n",
       "    </tr>\n",
       "    <tr>\n",
       "      <th>...</th>\n",
       "      <td>...</td>\n",
       "      <td>...</td>\n",
       "      <td>...</td>\n",
       "      <td>...</td>\n",
       "      <td>...</td>\n",
       "      <td>...</td>\n",
       "      <td>...</td>\n",
       "      <td>...</td>\n",
       "      <td>...</td>\n",
       "      <td>...</td>\n",
       "      <td>...</td>\n",
       "    </tr>\n",
       "    <tr>\n",
       "      <th>95</th>\n",
       "      <td>95</td>\n",
       "      <td>0.5</td>\n",
       "      <td>2023-11-02 06:39:59.617161</td>\n",
       "      <td>2023-11-02 06:39:59.689284</td>\n",
       "      <td>0 days 00:00:00.072123</td>\n",
       "      <td>597.502262</td>\n",
       "      <td>7</td>\n",
       "      <td>48.839658</td>\n",
       "      <td>auto</td>\n",
       "      <td>sigmoid</td>\n",
       "      <td>COMPLETE</td>\n",
       "    </tr>\n",
       "    <tr>\n",
       "      <th>96</th>\n",
       "      <td>96</td>\n",
       "      <td>0.5</td>\n",
       "      <td>2023-11-02 06:39:59.690528</td>\n",
       "      <td>2023-11-02 06:39:59.762869</td>\n",
       "      <td>0 days 00:00:00.072341</td>\n",
       "      <td>653.452691</td>\n",
       "      <td>8</td>\n",
       "      <td>51.591551</td>\n",
       "      <td>scale</td>\n",
       "      <td>rbf</td>\n",
       "      <td>COMPLETE</td>\n",
       "    </tr>\n",
       "    <tr>\n",
       "      <th>97</th>\n",
       "      <td>97</td>\n",
       "      <td>0.5</td>\n",
       "      <td>2023-11-02 06:39:59.764223</td>\n",
       "      <td>2023-11-02 06:39:59.833192</td>\n",
       "      <td>0 days 00:00:00.068969</td>\n",
       "      <td>756.495429</td>\n",
       "      <td>4</td>\n",
       "      <td>70.818068</td>\n",
       "      <td>scale</td>\n",
       "      <td>linear</td>\n",
       "      <td>COMPLETE</td>\n",
       "    </tr>\n",
       "    <tr>\n",
       "      <th>98</th>\n",
       "      <td>98</td>\n",
       "      <td>0.5</td>\n",
       "      <td>2023-11-02 06:39:59.834230</td>\n",
       "      <td>2023-11-02 06:39:59.896474</td>\n",
       "      <td>0 days 00:00:00.062244</td>\n",
       "      <td>800.589773</td>\n",
       "      <td>2</td>\n",
       "      <td>66.751758</td>\n",
       "      <td>auto</td>\n",
       "      <td>poly</td>\n",
       "      <td>COMPLETE</td>\n",
       "    </tr>\n",
       "    <tr>\n",
       "      <th>99</th>\n",
       "      <td>99</td>\n",
       "      <td>0.5</td>\n",
       "      <td>2023-11-02 06:39:59.897812</td>\n",
       "      <td>2023-11-02 06:39:59.955219</td>\n",
       "      <td>0 days 00:00:00.057407</td>\n",
       "      <td>562.463777</td>\n",
       "      <td>5</td>\n",
       "      <td>82.420793</td>\n",
       "      <td>scale</td>\n",
       "      <td>linear</td>\n",
       "      <td>COMPLETE</td>\n",
       "    </tr>\n",
       "  </tbody>\n",
       "</table>\n",
       "<p>100 rows × 11 columns</p>\n",
       "</div>"
      ],
      "text/plain": [
       "    number  value             datetime_start          datetime_complete  \\\n",
       "0        0    0.5 2023-11-02 06:08:30.317401 2023-11-02 06:08:30.374883   \n",
       "1        1    0.5 2023-11-02 06:08:30.376467 2023-11-02 06:08:30.425768   \n",
       "2        2    0.5 2023-11-02 06:08:30.427284 2023-11-02 06:08:30.470315   \n",
       "3        3    0.5 2023-11-02 06:08:30.471666 2023-11-02 06:08:30.514465   \n",
       "4        4    0.5 2023-11-02 06:08:30.516125 2023-11-02 06:08:30.564002   \n",
       "..     ...    ...                        ...                        ...   \n",
       "95      95    0.5 2023-11-02 06:39:59.617161 2023-11-02 06:39:59.689284   \n",
       "96      96    0.5 2023-11-02 06:39:59.690528 2023-11-02 06:39:59.762869   \n",
       "97      97    0.5 2023-11-02 06:39:59.764223 2023-11-02 06:39:59.833192   \n",
       "98      98    0.5 2023-11-02 06:39:59.834230 2023-11-02 06:39:59.896474   \n",
       "99      99    0.5 2023-11-02 06:39:59.897812 2023-11-02 06:39:59.955219   \n",
       "\n",
       "                 duration    params_C  params_degree  params_epsilon  \\\n",
       "0  0 days 00:00:00.057482  814.728948              9        8.661347   \n",
       "1  0 days 00:00:00.049301  462.517783              3       13.446457   \n",
       "2  0 days 00:00:00.043031  302.231377              8       77.685456   \n",
       "3  0 days 00:00:00.042799  946.474825              5       96.011788   \n",
       "4  0 days 00:00:00.047877  544.503339              2       18.891098   \n",
       "..                    ...         ...            ...             ...   \n",
       "95 0 days 00:00:00.072123  597.502262              7       48.839658   \n",
       "96 0 days 00:00:00.072341  653.452691              8       51.591551   \n",
       "97 0 days 00:00:00.068969  756.495429              4       70.818068   \n",
       "98 0 days 00:00:00.062244  800.589773              2       66.751758   \n",
       "99 0 days 00:00:00.057407  562.463777              5       82.420793   \n",
       "\n",
       "   params_gamma params_kernel     state  \n",
       "0         scale        linear  COMPLETE  \n",
       "1         scale          poly  COMPLETE  \n",
       "2          auto        linear  COMPLETE  \n",
       "3         scale       sigmoid  COMPLETE  \n",
       "4         scale           rbf  COMPLETE  \n",
       "..          ...           ...       ...  \n",
       "95         auto       sigmoid  COMPLETE  \n",
       "96        scale           rbf  COMPLETE  \n",
       "97        scale        linear  COMPLETE  \n",
       "98         auto          poly  COMPLETE  \n",
       "99        scale        linear  COMPLETE  \n",
       "\n",
       "[100 rows x 11 columns]"
      ]
     },
     "execution_count": 129,
     "metadata": {},
     "output_type": "execute_result"
    }
   ],
   "source": []
  },
  {
   "cell_type": "code",
   "execution_count": null,
   "id": "d0cb542f-b971-4c9a-ab5f-6917f583b04c",
   "metadata": {},
   "outputs": [],
   "source": [
    "import json\n",
    "\n",
    "def save_pet(pet):\n",
    "    filename = \"lightgbm_feature_97.json\"\n",
    "    with open(filename, 'w') as f:\n",
    "        f.write(json.dumps(pet))\n",
    "        \n",
    "        \n",
    "        \n",
    "\n",
    "def load_pet(filename):\n",
    "    with open(filename) as f:\n",
    "        pet = json.loads(f.read())\n",
    "    return pet"
   ]
  },
  {
   "cell_type": "code",
   "execution_count": 152,
   "id": "ccb7401f-4600-4c6d-a892-c750a5c2ae20",
   "metadata": {},
   "outputs": [],
   "source": [
    "# 0.94\n",
    "from copy import copy\n",
    "final_94 = copy(final_importance)\n",
    "study_94 = copy(study)"
   ]
  },
  {
   "cell_type": "code",
   "execution_count": 161,
   "id": "9972206e-af17-419b-9fd5-d7bf35e31ace",
   "metadata": {},
   "outputs": [],
   "source": [
    "# 0.97\n",
    "from copy import copy\n",
    "final_97 = copy(final_importance)\n",
    "study_97 = copy(study)"
   ]
  },
  {
   "cell_type": "code",
   "execution_count": 170,
   "id": "3aae8e98-6d4e-4fd8-8739-be6531e4f915",
   "metadata": {},
   "outputs": [
    {
     "data": {
      "text/plain": [
       "{'learning_rate': 1,\n",
       " 'lambda_l1': 8.250014573451526,\n",
       " 'lambda_l2': 7.754522245063642,\n",
       " 'max_bin': 7,\n",
       " 'max_depth': 91,\n",
       " 'min_data_in_leaf': 86,\n",
       " 'min_child_samples': 10,\n",
       " 'num_leaves': 25,\n",
       " 'feature_fraction': 0.6355356333132587,\n",
       " 'bagging_fraction': 0.31474003799934913,\n",
       " 'bagging_freq': 10,\n",
       " 'objective': 'regression',\n",
       " 'seed': 42,\n",
       " 'metric': 'auc',\n",
       " 'boosting_type': 'gbdt',\n",
       " 'is_unbalance': True}"
      ]
     },
     "execution_count": 170,
     "metadata": {},
     "output_type": "execute_result"
    }
   ],
   "source": [
    "params = study_97.best_trial.params\n",
    "params=study.best_params   \n",
    "params[\"objective\"] = \"regression\"\n",
    "params[\"seed\"] = 42\n",
    "params[\"metric\"] = \"auc\"\n",
    "params[\"boosting_type\"] = \"gbdt\"\n",
    "params['is_unbalance'] = True\n",
    "\n",
    "params"
   ]
  },
  {
   "cell_type": "code",
   "execution_count": 169,
   "id": "960c3689-41d0-423c-a232-1b1bcc8ace82",
   "metadata": {},
   "outputs": [],
   "source": [
    "final_97.to_csv(\"lightgbm_feature_97.csv\")\n",
    "save_pet(params)"
   ]
  },
  {
   "cell_type": "code",
   "execution_count": 171,
   "id": "c3a7abca-a9ea-426d-b231-f1f726ae05fa",
   "metadata": {},
   "outputs": [],
   "source": []
  },
  {
   "cell_type": "code",
   "execution_count": 172,
   "id": "605f36f9-2c5f-4ca1-953c-1356bcb85169",
   "metadata": {},
   "outputs": [],
   "source": [
    "from lightgbm import LGBMRegressor\n",
    "model = LGBMRegressor(**params) "
   ]
  },
  {
   "cell_type": "code",
   "execution_count": null,
   "id": "74aed66d-30ea-42d8-88b6-a088bbab40b3",
   "metadata": {},
   "outputs": [],
   "source": [
    "def ensemble_predictions(preds):\n",
    "    ensemble_prediction = np.zeros(preds[0].shape)\n",
    "    for pred in preds:\n",
    "        ensemble_prediction += pred\n",
    "    ensemble_prediction /= len(preds)\n",
    "    return get_submission_df(ensemble_prediction)"
   ]
  },
  {
   "cell_type": "code",
   "execution_count": 154,
   "id": "ad76860f-ae95-4384-91db-dbe8debfa32d",
   "metadata": {},
   "outputs": [
    {
     "name": "stdout",
     "output_type": "stream",
     "text": [
      "[LightGBM] [Warning] min_data_in_leaf is set=12, min_child_samples=69 will be ignored. Current value: min_data_in_leaf=12\n",
      "[LightGBM] [Warning] feature_fraction is set=0.7567280942336068, colsample_bytree=1.0 will be ignored. Current value: feature_fraction=0.7567280942336068\n",
      "[LightGBM] [Warning] lambda_l2 is set=7.343865093123624, reg_lambda=0.0 will be ignored. Current value: lambda_l2=7.343865093123624\n",
      "[LightGBM] [Warning] lambda_l1 is set=0.24256594536354759, reg_alpha=0.0 will be ignored. Current value: lambda_l1=0.24256594536354759\n",
      "[LightGBM] [Warning] bagging_fraction is set=0.6600148016947055, subsample=1.0 will be ignored. Current value: bagging_fraction=0.6600148016947055\n",
      "[LightGBM] [Warning] bagging_freq is set=14, subsample_freq=0 will be ignored. Current value: bagging_freq=14\n",
      "[LightGBM] [Warning] min_data_in_leaf is set=12, min_child_samples=69 will be ignored. Current value: min_data_in_leaf=12\n",
      "[LightGBM] [Warning] feature_fraction is set=0.7567280942336068, colsample_bytree=1.0 will be ignored. Current value: feature_fraction=0.7567280942336068\n",
      "[LightGBM] [Warning] lambda_l2 is set=7.343865093123624, reg_lambda=0.0 will be ignored. Current value: lambda_l2=7.343865093123624\n",
      "[LightGBM] [Warning] lambda_l1 is set=0.24256594536354759, reg_alpha=0.0 will be ignored. Current value: lambda_l1=0.24256594536354759\n",
      "[LightGBM] [Warning] bagging_fraction is set=0.6600148016947055, subsample=1.0 will be ignored. Current value: bagging_fraction=0.6600148016947055\n",
      "[LightGBM] [Warning] bagging_freq is set=14, subsample_freq=0 will be ignored. Current value: bagging_freq=14\n",
      "[LightGBM] [Info] Auto-choosing col-wise multi-threading, the overhead of testing was 0.000886 seconds.\n",
      "You can set `force_col_wise=true` to remove the overhead.\n",
      "[LightGBM] [Info] Total Bins 645\n",
      "[LightGBM] [Info] Number of data points in the train set: 6941, number of used features: 13\n",
      "[LightGBM] [Info] Start training from score 0.047832\n",
      "[LightGBM] [Warning] min_data_in_leaf is set=12, min_child_samples=69 will be ignored. Current value: min_data_in_leaf=12\n",
      "[LightGBM] [Warning] feature_fraction is set=0.7567280942336068, colsample_bytree=1.0 will be ignored. Current value: feature_fraction=0.7567280942336068\n",
      "[LightGBM] [Warning] lambda_l2 is set=7.343865093123624, reg_lambda=0.0 will be ignored. Current value: lambda_l2=7.343865093123624\n",
      "[LightGBM] [Warning] lambda_l1 is set=0.24256594536354759, reg_alpha=0.0 will be ignored. Current value: lambda_l1=0.24256594536354759\n",
      "[LightGBM] [Warning] bagging_fraction is set=0.6600148016947055, subsample=1.0 will be ignored. Current value: bagging_fraction=0.6600148016947055\n",
      "[LightGBM] [Warning] bagging_freq is set=14, subsample_freq=0 will be ignored. Current value: bagging_freq=14\n",
      "0.9942441121727036\n"
     ]
    },
    {
     "data": {
      "image/png": "[encoded data removed]",
      "text/plain": [
       "<Figure size 1400x2500 with 1 Axes>"
      ]
     },
     "metadata": {},
     "output_type": "display_data"
    }
   ],
   "source": [
    "def feature_selection(model,  X_train, y_train):\n",
    "    \n",
    "    \n",
    "    from sklearn.metrics import roc_auc_score\n",
    "    # params=study.best_params   \n",
    "    # params[\"objective\"] = \"regression\"\n",
    "    # params[\"seed\"] = 42\n",
    "    # params[\"metric\"] = \"auc\"\n",
    "    # params[\"boosting_type\"] = \"gbdt\"\n",
    "    # params['is_unbalance'] = True\n",
    "    \n",
    "     \n",
    "\n",
    "    model.fit(X_train,y_train)\n",
    "    \n",
    "    pred = model.predict(X_train)\n",
    "\n",
    "    AUC = roc_auc_score(y_train.values, pred)\n",
    "    print(AUC)\n",
    "    \n",
    "    \n",
    "    \n",
    "    feature_importance_df = pd.DataFrame()\n",
    "    feature_importance_df[\"feature\"] = X_train.columns\n",
    "    feature_importance_df[\"importance\"] = model.booster_.feature_importance()\n",
    "    \n",
    "    final_importance = feature_importance_df.sort_values(by=\"importance\", ascending=False)\n",
    "    \n",
    "    final_importance.reset_index(inplace=True)\n",
    "\n",
    "    import matplotlib.pyplot as plt\n",
    "    import seaborn as sns\n",
    "\n",
    "    plt.figure(figsize=(14,25))\n",
    "    sns.barplot(x=\"importance\",y=\"feature\",data=final_importance)\n",
    "    plt.tight_layout()\n",
    "    \n",
    "    return final_importance\n",
    "\n",
    "\n",
    "final_importance = feature_selection(study, X_train, y_train)"
   ]
  },
  {
   "cell_type": "code",
   "execution_count": 176,
   "id": "42a4da12-4f95-4a0f-9bac-dbd9e975715a",
   "metadata": {},
   "outputs": [
    {
     "data": {
      "text/html": [
       "<div>\n",
       "<style scoped>\n",
       "    .dataframe tbody tr th:only-of-type {\n",
       "        vertical-align: middle;\n",
       "    }\n",
       "\n",
       "    .dataframe tbody tr th {\n",
       "        vertical-align: top;\n",
       "    }\n",
       "\n",
       "    .dataframe thead th {\n",
       "        text-align: right;\n",
       "    }\n",
       "</style>\n",
       "<table border=\"1\" class=\"dataframe\">\n",
       "  <thead>\n",
       "    <tr style=\"text-align: right;\">\n",
       "      <th></th>\n",
       "      <th>index</th>\n",
       "      <th>feature</th>\n",
       "      <th>importance</th>\n",
       "    </tr>\n",
       "  </thead>\n",
       "  <tbody>\n",
       "    <tr>\n",
       "      <th>0</th>\n",
       "      <td>7</td>\n",
       "      <td>music_taste</td>\n",
       "      <td>170</td>\n",
       "    </tr>\n",
       "    <tr>\n",
       "      <th>1</th>\n",
       "      <td>11</td>\n",
       "      <td>first.donated</td>\n",
       "      <td>121</td>\n",
       "    </tr>\n",
       "    <tr>\n",
       "      <th>2</th>\n",
       "      <td>4</td>\n",
       "      <td>amount.donated.lifetime</td>\n",
       "      <td>99</td>\n",
       "    </tr>\n",
       "    <tr>\n",
       "      <th>3</th>\n",
       "      <td>2</td>\n",
       "      <td>TotalWages</td>\n",
       "      <td>86</td>\n",
       "    </tr>\n",
       "    <tr>\n",
       "      <th>4</th>\n",
       "      <td>3</td>\n",
       "      <td>price.level</td>\n",
       "      <td>85</td>\n",
       "    </tr>\n",
       "    <tr>\n",
       "      <th>5</th>\n",
       "      <td>0</td>\n",
       "      <td>Long_account</td>\n",
       "      <td>80</td>\n",
       "    </tr>\n",
       "    <tr>\n",
       "      <th>6</th>\n",
       "      <td>12</td>\n",
       "      <td>no.seats</td>\n",
       "      <td>71</td>\n",
       "    </tr>\n",
       "    <tr>\n",
       "      <th>7</th>\n",
       "      <td>8</td>\n",
       "      <td>EstimatedPopulation</td>\n",
       "      <td>67</td>\n",
       "    </tr>\n",
       "    <tr>\n",
       "      <th>8</th>\n",
       "      <td>1</td>\n",
       "      <td>TaxReturnsFiled</td>\n",
       "      <td>66</td>\n",
       "    </tr>\n",
       "    <tr>\n",
       "      <th>9</th>\n",
       "      <td>9</td>\n",
       "      <td>season</td>\n",
       "      <td>66</td>\n",
       "    </tr>\n",
       "    <tr>\n",
       "      <th>10</th>\n",
       "      <td>10</td>\n",
       "      <td>no.donations.lifetime</td>\n",
       "      <td>64</td>\n",
       "    </tr>\n",
       "    <tr>\n",
       "      <th>11</th>\n",
       "      <td>5</td>\n",
       "      <td>Lat_account</td>\n",
       "      <td>63</td>\n",
       "    </tr>\n",
       "    <tr>\n",
       "      <th>12</th>\n",
       "      <td>6</td>\n",
       "      <td>subscription_tier</td>\n",
       "      <td>62</td>\n",
       "    </tr>\n",
       "  </tbody>\n",
       "</table>\n",
       "</div>"
      ],
      "text/plain": [
       "    index                  feature  importance\n",
       "0       7              music_taste         170\n",
       "1      11            first.donated         121\n",
       "2       4  amount.donated.lifetime          99\n",
       "3       2               TotalWages          86\n",
       "4       3              price.level          85\n",
       "5       0             Long_account          80\n",
       "6      12                 no.seats          71\n",
       "7       8      EstimatedPopulation          67\n",
       "8       1          TaxReturnsFiled          66\n",
       "9       9                   season          66\n",
       "10     10    no.donations.lifetime          64\n",
       "11      5              Lat_account          63\n",
       "12      6        subscription_tier          62"
      ]
     },
     "execution_count": 176,
     "metadata": {},
     "output_type": "execute_result"
    }
   ],
   "source": [
    "final_importance"
   ]
  },
  {
   "cell_type": "code",
   "execution_count": 156,
   "id": "6fbaa7a3-06fe-4345-a4f9-9b5c5c6bce36",
   "metadata": {},
   "outputs": [
    {
     "data": {
      "text/plain": [
       "array(['music_taste', 'first.donated', 'amount.donated.lifetime',\n",
       "       'TotalWages', 'price.level', 'Long_account', 'no.seats'],\n",
       "      dtype=object)"
      ]
     },
     "execution_count": 156,
     "metadata": {},
     "output_type": "execute_result"
    }
   ],
   "source": [
    "selected_features = final_importance.iloc[:7, 1]\n",
    "selected_features.values"
   ]
  },
  {
   "cell_type": "code",
   "execution_count": 1,
   "id": "90e8aec0-32d0-4483-9d1b-b3f31d43c41f",
   "metadata": {},
   "outputs": [
    {
     "data": {
      "text/plain": [
       "'20231106-123328'"
      ]
     },
     "execution_count": 1,
     "metadata": {},
     "output_type": "execute_result"
    }
   ],
   "source": [
    "import datetime\n",
    "datetime.datetime.now().strftime('%Y%m%d-%H%M%S')"
   ]
  },
  {
   "cell_type": "code",
   "execution_count": 177,
   "id": "733e602b-8518-4823-94e9-f81d8dcc9975",
   "metadata": {},
   "outputs": [],
   "source": [
    "accounts_df = engineer_account()\n",
    "subscriptions_df = engineer_subscription()\n",
    "zipcodes_df = engineer_zipcode()\n",
    "\n",
    "\n",
    "train_df = pd.read_csv(data_path / \"train.csv\") # whether the patrons have purchased a 2014-15 subscription or not\n",
    "test_df = pd.read_csv(data_path / \"test.csv\")\n",
    "\n",
    "X_train, y_train = feature_engineering(train_df, \"train\", subscriptions_df, zipcodes_df, accounts_df)\n",
    "\n",
    "X_test, y_test = feature_engineering(test_df, \"test\", subscriptions_df, zipcodes_df, accounts_df)\n",
    "\n",
    "X_train = X_train[selected_features.values]\n",
    "X_test = X_test[selected_features.values]\n",
    "\n",
    "# from sklearn.preprocessing import StandardScaler\n",
    "# scaler = StandardScaler()\n",
    "# scaler.fit(X_train)\n",
    "\n",
    "\n",
    "# X_train[X_train.columns] = scaler.transform(X_train[X_train.columns])\n",
    "# X_test[X_test.columns] = scaler.transform(X_test[X_test.columns])\n"
   ]
  },
  {
   "cell_type": "code",
   "execution_count": null,
   "id": "3d3d1103-179e-4a06-b4ee-e1cae34e4c92",
   "metadata": {},
   "outputs": [
    {
     "name": "stderr",
     "output_type": "stream",
     "text": [
      "[I 2023-11-02 10:57:44,612] A new study created in memory with name: no-name-89ebef3d-a5db-48d4-af6b-20874f9609f6\n",
      "/environment/miniconda3/lib/python3.10/site-packages/optuna/trial/_trial.py:677: RuntimeWarning: Inconsistent parameter values for distribution with name \"min_child_samples\"! This might be a configuration mistake. Optuna allows to call the same distribution with the same name more than once in a trial. When the parameter values are inconsistent optuna only uses the values of the first call and ignores all following. Using these values: {'log': False, 'step': 1, 'low': 2, 'high': 100}\n",
      "  warnings.warn(\n"
     ]
    },
    {
     "name": "stdout",
     "output_type": "stream",
     "text": [
      "fold n°0\n",
      "fold n°1\n",
      "fold n°2\n",
      "fold n°3\n",
      "fold n°4\n"
     ]
    },
    {
     "name": "stderr",
     "output_type": "stream",
     "text": [
      "[I 2023-11-02 10:57:44,841] Trial 0 finished with value: 0.9606944474584559 and parameters: {'learning_rate': 1e-05, 'lambda_l1': 0.6804338393463915, 'lambda_l2': 4.635141463911015, 'max_bin': 15, 'max_depth': 58, 'min_data_in_leaf': 80, 'min_child_samples': 49, 'num_leaves': 84, 'feature_fraction': 0.7685133972069083, 'bagging_fraction': 0.3377743716562968, 'bagging_freq': 0}. Best is trial 0 with value: 0.9606944474584559.\n",
      "/environment/miniconda3/lib/python3.10/site-packages/optuna/trial/_trial.py:677: RuntimeWarning: Inconsistent parameter values for distribution with name \"min_child_samples\"! This might be a configuration mistake. Optuna allows to call the same distribution with the same name more than once in a trial. When the parameter values are inconsistent optuna only uses the values of the first call and ignores all following. Using these values: {'log': False, 'step': 1, 'low': 2, 'high': 100}\n",
      "  warnings.warn(\n",
      "[I 2023-11-02 10:57:44,962] Trial 1 finished with value: 0.9505846736308667 and parameters: {'learning_rate': 0.001, 'lambda_l1': 2.2501748732289126, 'lambda_l2': 5.88470831203511, 'max_bin': 7, 'max_depth': 73, 'min_data_in_leaf': 75, 'min_child_samples': 82, 'num_leaves': 72, 'feature_fraction': 0.5728483975021031, 'bagging_fraction': 0.17818739318898802, 'bagging_freq': 15}. Best is trial 1 with value: 0.9505846736308667.\n"
     ]
    },
    {
     "name": "stdout",
     "output_type": "stream",
     "text": [
      "AUC score: 0.96069 \n",
      "fold n°0\n",
      "fold n°1\n",
      "fold n°2\n",
      "fold n°3\n",
      "fold n°4\n",
      "AUC score: 0.95058 \n",
      "fold n°0\n",
      "fold n°1\n",
      "fold n°2\n"
     ]
    },
    {
     "name": "stderr",
     "output_type": "stream",
     "text": [
      "/environment/miniconda3/lib/python3.10/site-packages/optuna/trial/_trial.py:677: RuntimeWarning: Inconsistent parameter values for distribution with name \"min_child_samples\"! This might be a configuration mistake. Optuna allows to call the same distribution with the same name more than once in a trial. When the parameter values are inconsistent optuna only uses the values of the first call and ignores all following. Using these values: {'log': False, 'step': 1, 'low': 2, 'high': 100}\n",
      "  warnings.warn(\n",
      "[I 2023-11-02 10:57:45,099] Trial 2 finished with value: 0.9613857208376487 and parameters: {'learning_rate': 0.05, 'lambda_l1': 6.5378245470737735, 'lambda_l2': 1.495550693695593, 'max_bin': 74, 'max_depth': 54, 'min_data_in_leaf': 3, 'min_child_samples': 85, 'num_leaves': 93, 'feature_fraction': 0.9314046180474952, 'bagging_fraction': 0.13910459324483226, 'bagging_freq': 3}. Best is trial 1 with value: 0.9505846736308667.\n",
      "/environment/miniconda3/lib/python3.10/site-packages/optuna/trial/_trial.py:677: RuntimeWarning: Inconsistent parameter values for distribution with name \"min_child_samples\"! This might be a configuration mistake. Optuna allows to call the same distribution with the same name more than once in a trial. When the parameter values are inconsistent optuna only uses the values of the first call and ignores all following. Using these values: {'log': False, 'step': 1, 'low': 2, 'high': 100}\n",
      "  warnings.warn(\n"
     ]
    },
    {
     "name": "stdout",
     "output_type": "stream",
     "text": [
      "fold n°3\n",
      "fold n°4\n",
      "AUC score: 0.96139 \n",
      "fold n°0\n",
      "fold n°1\n",
      "fold n°2\n"
     ]
    },
    {
     "name": "stderr",
     "output_type": "stream",
     "text": [
      "[I 2023-11-02 10:57:45,345] Trial 3 finished with value: 0.9634121543433787 and parameters: {'learning_rate': 0.05, 'lambda_l1': 0.9074562762646058, 'lambda_l2': 4.451386551845127, 'max_bin': 42, 'max_depth': 6, 'min_data_in_leaf': 69, 'min_child_samples': 92, 'num_leaves': 70, 'feature_fraction': 0.6403839776777944, 'bagging_fraction': 0.8017279597694184, 'bagging_freq': 1}. Best is trial 1 with value: 0.9505846736308667.\n"
     ]
    },
    {
     "name": "stdout",
     "output_type": "stream",
     "text": [
      "fold n°3\n",
      "fold n°4\n",
      "AUC score: 0.96341 \n",
      "fold n°0\n",
      "fold n°1\n",
      "fold n°2\n"
     ]
    },
    {
     "name": "stderr",
     "output_type": "stream",
     "text": [
      "/environment/miniconda3/lib/python3.10/site-packages/optuna/trial/_trial.py:677: RuntimeWarning: Inconsistent parameter values for distribution with name \"min_child_samples\"! This might be a configuration mistake. Optuna allows to call the same distribution with the same name more than once in a trial. When the parameter values are inconsistent optuna only uses the values of the first call and ignores all following. Using these values: {'log': False, 'step': 1, 'low': 2, 'high': 100}\n",
      "  warnings.warn(\n",
      "[I 2023-11-02 10:57:45,561] Trial 4 finished with value: 0.9584676579944441 and parameters: {'learning_rate': 5e-05, 'lambda_l1': 3.2940052977011045, 'lambda_l2': 0.6738523649627259, 'max_bin': 29, 'max_depth': 34, 'min_data_in_leaf': 54, 'min_child_samples': 66, 'num_leaves': 98, 'feature_fraction': 0.4569867037273335, 'bagging_fraction': 0.8829377130738983, 'bagging_freq': 13}. Best is trial 1 with value: 0.9505846736308667.\n"
     ]
    },
    {
     "name": "stdout",
     "output_type": "stream",
     "text": [
      "fold n°3\n",
      "fold n°4\n",
      "AUC score: 0.95847 \n",
      "fold n°0\n",
      "fold n°1\n",
      "fold n°2\n"
     ]
    },
    {
     "name": "stderr",
     "output_type": "stream",
     "text": [
      "/environment/miniconda3/lib/python3.10/site-packages/optuna/trial/_trial.py:677: RuntimeWarning: Inconsistent parameter values for distribution with name \"min_child_samples\"! This might be a configuration mistake. Optuna allows to call the same distribution with the same name more than once in a trial. When the parameter values are inconsistent optuna only uses the values of the first call and ignores all following. Using these values: {'log': False, 'step': 1, 'low': 2, 'high': 100}\n",
      "  warnings.warn(\n",
      "[I 2023-11-02 10:57:45,760] Trial 5 finished with value: 0.9690072127482333 and parameters: {'learning_rate': 0.05, 'lambda_l1': 6.236615223035565, 'lambda_l2': 2.6831008227229978, 'max_bin': 98, 'max_depth': 74, 'min_data_in_leaf': 91, 'min_child_samples': 81, 'num_leaves': 63, 'feature_fraction': 0.58466880374982, 'bagging_fraction': 0.7817834805629366, 'bagging_freq': 9}. Best is trial 1 with value: 0.9505846736308667.\n",
      "/environment/miniconda3/lib/python3.10/site-packages/optuna/trial/_trial.py:677: RuntimeWarning: Inconsistent parameter values for distribution with name \"min_child_samples\"! This might be a configuration mistake. Optuna allows to call the same distribution with the same name more than once in a trial. When the parameter values are inconsistent optuna only uses the values of the first call and ignores all following. Using these values: {'log': False, 'step': 1, 'low': 2, 'high': 100}\n",
      "  warnings.warn(\n"
     ]
    },
    {
     "name": "stdout",
     "output_type": "stream",
     "text": [
      "fold n°3\n",
      "fold n°4\n",
      "AUC score: 0.96901 \n",
      "fold n°0\n",
      "fold n°1\n",
      "fold n°2\n",
      "fold n°3\n"
     ]
    },
    {
     "name": "stderr",
     "output_type": "stream",
     "text": [
      "[I 2023-11-02 10:57:45,952] Trial 6 finished with value: 0.9637816664895895 and parameters: {'learning_rate': 0.05, 'lambda_l1': 4.409879202840236, 'lambda_l2': 8.84938293771995, 'max_bin': 96, 'max_depth': 68, 'min_data_in_leaf': 57, 'min_child_samples': 33, 'num_leaves': 37, 'feature_fraction': 0.45094961818045864, 'bagging_fraction': 0.43776152020163916, 'bagging_freq': 2}. Best is trial 1 with value: 0.9505846736308667.\n",
      "/environment/miniconda3/lib/python3.10/site-packages/optuna/trial/_trial.py:677: RuntimeWarning: Inconsistent parameter values for distribution with name \"min_child_samples\"! This might be a configuration mistake. Optuna allows to call the same distribution with the same name more than once in a trial. When the parameter values are inconsistent optuna only uses the values of the first call and ignores all following. Using these values: {'log': False, 'step': 1, 'low': 2, 'high': 100}\n",
      "  warnings.warn(\n"
     ]
    },
    {
     "name": "stdout",
     "output_type": "stream",
     "text": [
      "fold n°4\n",
      "AUC score: 0.96378 \n",
      "fold n°0\n",
      "fold n°1\n",
      "fold n°2\n",
      "fold n°3\n",
      "fold n°4\n"
     ]
    },
    {
     "name": "stderr",
     "output_type": "stream",
     "text": [
      "[I 2023-11-02 10:57:46,153] Trial 7 finished with value: 0.9681636705214565 and parameters: {'learning_rate': 0.05, 'lambda_l1': 5.271453869944421, 'lambda_l2': 7.320454297815307, 'max_bin': 53, 'max_depth': 74, 'min_data_in_leaf': 55, 'min_child_samples': 63, 'num_leaves': 26, 'feature_fraction': 0.8370872482267578, 'bagging_fraction': 0.9416054992438279, 'bagging_freq': 13}. Best is trial 1 with value: 0.9505846736308667.\n",
      "/environment/miniconda3/lib/python3.10/site-packages/optuna/trial/_trial.py:677: RuntimeWarning: Inconsistent parameter values for distribution with name \"min_child_samples\"! This might be a configuration mistake. Optuna allows to call the same distribution with the same name more than once in a trial. When the parameter values are inconsistent optuna only uses the values of the first call and ignores all following. Using these values: {'log': False, 'step': 1, 'low': 2, 'high': 100}\n",
      "  warnings.warn(\n",
      "[I 2023-11-02 10:57:46,269] Trial 8 finished with value: 0.9540963495431966 and parameters: {'learning_rate': 0.1, 'lambda_l1': 6.553956230059008, 'lambda_l2': 5.070857773421511, 'max_bin': 58, 'max_depth': 5, 'min_data_in_leaf': 10, 'min_child_samples': 15, 'num_leaves': 2, 'feature_fraction': 0.25226287966263433, 'bagging_fraction': 0.31752296181618067, 'bagging_freq': 7}. Best is trial 1 with value: 0.9505846736308667.\n"
     ]
    },
    {
     "name": "stdout",
     "output_type": "stream",
     "text": [
      "AUC score: 0.96816 \n",
      "fold n°0\n",
      "fold n°1\n",
      "fold n°2\n",
      "fold n°3\n",
      "fold n°4\n",
      "AUC score: 0.95410 \n",
      "fold n°0\n",
      "fold n°1\n",
      "fold n°2\n",
      "fold n°3\n"
     ]
    },
    {
     "name": "stderr",
     "output_type": "stream",
     "text": [
      "/environment/miniconda3/lib/python3.10/site-packages/optuna/trial/_trial.py:677: RuntimeWarning: Inconsistent parameter values for distribution with name \"min_child_samples\"! This might be a configuration mistake. Optuna allows to call the same distribution with the same name more than once in a trial. When the parameter values are inconsistent optuna only uses the values of the first call and ignores all following. Using these values: {'log': False, 'step': 1, 'low': 2, 'high': 100}\n",
      "  warnings.warn(\n",
      "[I 2023-11-02 10:57:46,402] Trial 9 finished with value: 0.9505406920197444 and parameters: {'learning_rate': 5e-05, 'lambda_l1': 9.012240924839602, 'lambda_l2': 8.82887710039531, 'max_bin': 58, 'max_depth': 66, 'min_data_in_leaf': 48, 'min_child_samples': 29, 'num_leaves': 97, 'feature_fraction': 0.5430796222495542, 'bagging_fraction': 0.10066776308997699, 'bagging_freq': 2}. Best is trial 9 with value: 0.9505406920197444.\n",
      "/environment/miniconda3/lib/python3.10/site-packages/optuna/trial/_trial.py:677: RuntimeWarning: Inconsistent parameter values for distribution with name \"min_child_samples\"! This might be a configuration mistake. Optuna allows to call the same distribution with the same name more than once in a trial. When the parameter values are inconsistent optuna only uses the values of the first call and ignores all following. Using these values: {'log': False, 'step': 1, 'low': 2, 'high': 100}\n",
      "  warnings.warn(\n"
     ]
    },
    {
     "name": "stdout",
     "output_type": "stream",
     "text": [
      "fold n°4\n",
      "AUC score: 0.95054 \n",
      "fold n°0\n",
      "fold n°1\n",
      "fold n°2\n",
      "fold n°3\n",
      "fold n°4\n"
     ]
    },
    {
     "name": "stderr",
     "output_type": "stream",
     "text": [
      "[I 2023-11-02 10:57:46,604] Trial 10 finished with value: 0.9498475118829998 and parameters: {'learning_rate': 5e-05, 'lambda_l1': 9.904005156051637, 'lambda_l2': 9.119145973889196, 'max_bin': 74, 'max_depth': 93, 'min_data_in_leaf': 22, 'min_child_samples': 10, 'num_leaves': 48, 'feature_fraction': 0.10530257569059248, 'bagging_fraction': 0.5874586300784677, 'bagging_freq': 5}. Best is trial 10 with value: 0.9498475118829998.\n",
      "/environment/miniconda3/lib/python3.10/site-packages/optuna/trial/_trial.py:677: RuntimeWarning: Inconsistent parameter values for distribution with name \"min_child_samples\"! This might be a configuration mistake. Optuna allows to call the same distribution with the same name more than once in a trial. When the parameter values are inconsistent optuna only uses the values of the first call and ignores all following. Using these values: {'log': False, 'step': 1, 'low': 2, 'high': 100}\n",
      "  warnings.warn(\n",
      "[I 2023-11-02 10:57:46,800] Trial 11 finished with value: 0.9499095126808405 and parameters: {'learning_rate': 5e-05, 'lambda_l1': 9.946942183775024, 'lambda_l2': 9.543385284790759, 'max_bin': 72, 'max_depth': 100, 'min_data_in_leaf': 27, 'min_child_samples': 2, 'num_leaves': 48, 'feature_fraction': 0.10447707776010645, 'bagging_fraction': 0.6044727175941143, 'bagging_freq': 5}. Best is trial 10 with value: 0.9498475118829998.\n"
     ]
    },
    {
     "name": "stdout",
     "output_type": "stream",
     "text": [
      "AUC score: 0.94985 \n",
      "fold n°0\n",
      "fold n°1\n",
      "fold n°2\n",
      "fold n°3\n",
      "fold n°4\n",
      "AUC score: 0.94991 \n"
     ]
    },
    {
     "name": "stderr",
     "output_type": "stream",
     "text": [
      "/environment/miniconda3/lib/python3.10/site-packages/optuna/trial/_trial.py:677: RuntimeWarning: Inconsistent parameter values for distribution with name \"min_child_samples\"! This might be a configuration mistake. Optuna allows to call the same distribution with the same name more than once in a trial. When the parameter values are inconsistent optuna only uses the values of the first call and ignores all following. Using these values: {'log': False, 'step': 1, 'low': 2, 'high': 100}\n",
      "  warnings.warn(\n",
      "[I 2023-11-02 10:57:47,011] Trial 12 finished with value: 0.9498447040476845 and parameters: {'learning_rate': 5e-05, 'lambda_l1': 9.479451096799467, 'lambda_l2': 9.726523496153208, 'max_bin': 76, 'max_depth': 100, 'min_data_in_leaf': 26, 'min_child_samples': 2, 'num_leaves': 44, 'feature_fraction': 0.11860237992316647, 'bagging_fraction': 0.6636909453144173, 'bagging_freq': 6}. Best is trial 12 with value: 0.9498447040476845.\n"
     ]
    },
    {
     "name": "stdout",
     "output_type": "stream",
     "text": [
      "fold n°0\n",
      "fold n°1\n",
      "fold n°2\n",
      "fold n°3\n",
      "fold n°4\n",
      "AUC score: 0.94984 \n"
     ]
    },
    {
     "name": "stderr",
     "output_type": "stream",
     "text": [
      "/environment/miniconda3/lib/python3.10/site-packages/optuna/trial/_trial.py:677: RuntimeWarning: Inconsistent parameter values for distribution with name \"min_child_samples\"! This might be a configuration mistake. Optuna allows to call the same distribution with the same name more than once in a trial. When the parameter values are inconsistent optuna only uses the values of the first call and ignores all following. Using these values: {'log': False, 'step': 1, 'low': 2, 'high': 100}\n",
      "  warnings.warn(\n",
      "[I 2023-11-02 10:57:47,241] Trial 13 finished with value: 0.9514495348769533 and parameters: {'learning_rate': 0.0005, 'lambda_l1': 8.642659665592573, 'lambda_l2': 9.919162608217555, 'max_bin': 79, 'max_depth': 100, 'min_data_in_leaf': 27, 'min_child_samples': 3, 'num_leaves': 25, 'feature_fraction': 0.10226592563320674, 'bagging_fraction': 0.6126680216497685, 'bagging_freq': 8}. Best is trial 12 with value: 0.9498447040476845.\n"
     ]
    },
    {
     "name": "stdout",
     "output_type": "stream",
     "text": [
      "fold n°0\n",
      "fold n°1\n",
      "fold n°2\n",
      "fold n°3\n",
      "fold n°4\n",
      "AUC score: 0.95145 \n"
     ]
    },
    {
     "name": "stderr",
     "output_type": "stream",
     "text": [
      "/environment/miniconda3/lib/python3.10/site-packages/optuna/trial/_trial.py:677: RuntimeWarning: Inconsistent parameter values for distribution with name \"min_child_samples\"! This might be a configuration mistake. Optuna allows to call the same distribution with the same name more than once in a trial. When the parameter values are inconsistent optuna only uses the values of the first call and ignores all following. Using these values: {'log': False, 'step': 1, 'low': 2, 'high': 100}\n",
      "  warnings.warn(\n",
      "[I 2023-11-02 10:57:47,501] Trial 14 finished with value: 0.9635799134488897 and parameters: {'learning_rate': 0.5, 'lambda_l1': 8.058112871143317, 'lambda_l2': 7.587301021564322, 'max_bin': 84, 'max_depth': 87, 'min_data_in_leaf': 27, 'min_child_samples': 21, 'num_leaves': 53, 'feature_fraction': 0.24766833723174478, 'bagging_fraction': 0.6645211383260404, 'bagging_freq': 4}. Best is trial 12 with value: 0.9498447040476845.\n"
     ]
    },
    {
     "name": "stdout",
     "output_type": "stream",
     "text": [
      "fold n°0\n",
      "fold n°1\n",
      "fold n°2\n",
      "fold n°3\n",
      "fold n°4\n",
      "AUC score: 0.96358 \n"
     ]
    },
    {
     "name": "stderr",
     "output_type": "stream",
     "text": [
      "/environment/miniconda3/lib/python3.10/site-packages/optuna/trial/_trial.py:677: RuntimeWarning: Inconsistent parameter values for distribution with name \"min_child_samples\"! This might be a configuration mistake. Optuna allows to call the same distribution with the same name more than once in a trial. When the parameter values are inconsistent optuna only uses the values of the first call and ignores all following. Using these values: {'log': False, 'step': 1, 'low': 2, 'high': 100}\n",
      "  warnings.warn(\n",
      "[I 2023-11-02 10:57:47,685] Trial 15 finished with value: 0.9539138092167356 and parameters: {'learning_rate': 1, 'lambda_l1': 9.799100202202029, 'lambda_l2': 7.980474898536932, 'max_bin': 67, 'max_depth': 35, 'min_data_in_leaf': 36, 'min_child_samples': 40, 'num_leaves': 40, 'feature_fraction': 0.25164918275598247, 'bagging_fraction': 0.5027994692339571, 'bagging_freq': 6}. Best is trial 12 with value: 0.9498447040476845.\n",
      "/environment/miniconda3/lib/python3.10/site-packages/optuna/trial/_trial.py:677: RuntimeWarning: Inconsistent parameter values for distribution with name \"min_child_samples\"! This might be a configuration mistake. Optuna allows to call the same distribution with the same name more than once in a trial. When the parameter values are inconsistent optuna only uses the values of the first call and ignores all following. Using these values: {'log': False, 'step': 1, 'low': 2, 'high': 100}\n",
      "  warnings.warn(\n"
     ]
    },
    {
     "name": "stdout",
     "output_type": "stream",
     "text": [
      "fold n°0\n",
      "fold n°1\n",
      "fold n°2\n",
      "fold n°3\n",
      "fold n°4\n",
      "AUC score: 0.95391 \n",
      "fold n°0\n"
     ]
    },
    {
     "name": "stderr",
     "output_type": "stream",
     "text": [
      "[I 2023-11-02 10:57:47,992] Trial 16 finished with value: 0.9540908993423806 and parameters: {'learning_rate': 0.01, 'lambda_l1': 7.780926959552516, 'lambda_l2': 9.853961848487172, 'max_bin': 88, 'max_depth': 87, 'min_data_in_leaf': 13, 'min_child_samples': 15, 'num_leaves': 14, 'feature_fraction': 0.32155399044470545, 'bagging_fraction': 0.701056495999026, 'bagging_freq': 10}. Best is trial 12 with value: 0.9498447040476845.\n"
     ]
    },
    {
     "name": "stdout",
     "output_type": "stream",
     "text": [
      "fold n°1\n",
      "fold n°2\n",
      "fold n°3\n",
      "fold n°4\n",
      "AUC score: 0.95409 \n"
     ]
    },
    {
     "name": "stderr",
     "output_type": "stream",
     "text": [
      "/environment/miniconda3/lib/python3.10/site-packages/optuna/trial/_trial.py:677: RuntimeWarning: Inconsistent parameter values for distribution with name \"min_child_samples\"! This might be a configuration mistake. Optuna allows to call the same distribution with the same name more than once in a trial. When the parameter values are inconsistent optuna only uses the values of the first call and ignores all following. Using these values: {'log': False, 'step': 1, 'low': 2, 'high': 100}\n",
      "  warnings.warn(\n",
      "[I 2023-11-02 10:57:48,232] Trial 17 finished with value: 0.9510848224409815 and parameters: {'learning_rate': 5e-05, 'lambda_l1': 7.666528458396908, 'lambda_l2': 7.008340686510562, 'max_bin': 40, 'max_depth': 88, 'min_data_in_leaf': 40, 'min_child_samples': 10, 'num_leaves': 60, 'feature_fraction': 0.1524507322400989, 'bagging_fraction': 0.4804137205468979, 'bagging_freq': 11}. Best is trial 12 with value: 0.9498447040476845.\n"
     ]
    },
    {
     "name": "stdout",
     "output_type": "stream",
     "text": [
      "fold n°0\n",
      "fold n°1\n",
      "fold n°2\n",
      "fold n°3\n",
      "fold n°4\n",
      "AUC score: 0.95108 \n"
     ]
    },
    {
     "name": "stderr",
     "output_type": "stream",
     "text": [
      "/environment/miniconda3/lib/python3.10/site-packages/optuna/trial/_trial.py:677: RuntimeWarning: Inconsistent parameter values for distribution with name \"min_child_samples\"! This might be a configuration mistake. Optuna allows to call the same distribution with the same name more than once in a trial. When the parameter values are inconsistent optuna only uses the values of the first call and ignores all following. Using these values: {'log': False, 'step': 1, 'low': 2, 'high': 100}\n",
      "  warnings.warn(\n"
     ]
    },
    {
     "name": "stdout",
     "output_type": "stream",
     "text": [
      "fold n°0\n",
      "fold n°1\n",
      "fold n°2\n",
      "fold n°3\n",
      "fold n°4\n"
     ]
    },
    {
     "name": "stderr",
     "output_type": "stream",
     "text": [
      "[I 2023-11-02 10:57:48,536] Trial 18 finished with value: 0.9503731860886194 and parameters: {'learning_rate': 5e-05, 'lambda_l1': 9.617876551549868, 'lambda_l2': 8.51965076232229, 'max_bin': 64, 'max_depth': 39, 'min_data_in_leaf': 18, 'min_child_samples': 26, 'num_leaves': 37, 'feature_fraction': 0.35213653771303, 'bagging_fraction': 0.7132903804959967, 'bagging_freq': 5}. Best is trial 12 with value: 0.9498447040476845.\n"
     ]
    },
    {
     "name": "stdout",
     "output_type": "stream",
     "text": [
      "AUC score: 0.95037 \n",
      "fold n°0\n",
      "fold n°1\n",
      "fold n°2\n",
      "fold n°3\n",
      "fold n°4\n"
     ]
    },
    {
     "name": "stderr",
     "output_type": "stream",
     "text": [
      "/environment/miniconda3/lib/python3.10/site-packages/optuna/trial/_trial.py:677: RuntimeWarning: Inconsistent parameter values for distribution with name \"min_child_samples\"! This might be a configuration mistake. Optuna allows to call the same distribution with the same name more than once in a trial. When the parameter values are inconsistent optuna only uses the values of the first call and ignores all following. Using these values: {'log': False, 'step': 1, 'low': 2, 'high': 100}\n",
      "  warnings.warn(\n",
      "[I 2023-11-02 10:57:48,774] Trial 19 finished with value: 0.9514045769000645 and parameters: {'learning_rate': 0.0005, 'lambda_l1': 8.635588000641206, 'lambda_l2': 6.549467897749848, 'max_bin': 86, 'max_depth': 90, 'min_data_in_leaf': 41, 'min_child_samples': 42, 'num_leaves': 48, 'feature_fraction': 0.19389379923944838, 'bagging_fraction': 0.5491601682450776, 'bagging_freq': 7}. Best is trial 12 with value: 0.9498447040476845.\n",
      "/environment/miniconda3/lib/python3.10/site-packages/optuna/trial/_trial.py:677: RuntimeWarning: Inconsistent parameter values for distribution with name \"min_child_samples\"! This might be a configuration mistake. Optuna allows to call the same distribution with the same name more than once in a trial. When the parameter values are inconsistent optuna only uses the values of the first call and ignores all following. Using these values: {'log': False, 'step': 1, 'low': 2, 'high': 100}\n",
      "  warnings.warn(\n",
      "[I 2023-11-02 10:57:48,961] Trial 20 finished with value: 0.9683686020487541 and parameters: {'learning_rate': 1, 'lambda_l1': 9.909843158476534, 'lambda_l2': 8.252625325097965, 'max_bin': 43, 'max_depth': 20, 'min_data_in_leaf': 18, 'min_child_samples': 10, 'num_leaves': 79, 'feature_fraction': 0.1842309856279032, 'bagging_fraction': 0.6060700325679967, 'bagging_freq': 5}. Best is trial 12 with value: 0.9498447040476845.\n"
     ]
    },
    {
     "name": "stdout",
     "output_type": "stream",
     "text": [
      "AUC score: 0.95140 \n",
      "fold n°0\n",
      "fold n°1\n",
      "fold n°2\n",
      "fold n°3\n",
      "fold n°4\n",
      "AUC score: 0.96837 \n"
     ]
    },
    {
     "name": "stderr",
     "output_type": "stream",
     "text": [
      "/environment/miniconda3/lib/python3.10/site-packages/optuna/trial/_trial.py:677: RuntimeWarning: Inconsistent parameter values for distribution with name \"min_child_samples\"! This might be a configuration mistake. Optuna allows to call the same distribution with the same name more than once in a trial. When the parameter values are inconsistent optuna only uses the values of the first call and ignores all following. Using these values: {'log': False, 'step': 1, 'low': 2, 'high': 100}\n",
      "  warnings.warn(\n"
     ]
    },
    {
     "name": "stdout",
     "output_type": "stream",
     "text": [
      "fold n°0\n",
      "fold n°1\n",
      "fold n°2\n",
      "fold n°3\n",
      "fold n°4\n"
     ]
    },
    {
     "name": "stderr",
     "output_type": "stream",
     "text": [
      "[I 2023-11-02 10:57:49,247] Trial 21 finished with value: 0.9506437316480444 and parameters: {'learning_rate': 5e-05, 'lambda_l1': 9.999399892199024, 'lambda_l2': 9.852486289390852, 'max_bin': 71, 'max_depth': 100, 'min_data_in_leaf': 28, 'min_child_samples': 2, 'num_leaves': 47, 'feature_fraction': 0.10814630373002934, 'bagging_fraction': 0.5880143668970736, 'bagging_freq': 4}. Best is trial 12 with value: 0.9498447040476845.\n"
     ]
    },
    {
     "name": "stdout",
     "output_type": "stream",
     "text": [
      "AUC score: 0.95064 \n",
      "fold n°0\n",
      "fold n°1\n",
      "fold n°2\n"
     ]
    },
    {
     "name": "stderr",
     "output_type": "stream",
     "text": [
      "/environment/miniconda3/lib/python3.10/site-packages/optuna/trial/_trial.py:677: RuntimeWarning: Inconsistent parameter values for distribution with name \"min_child_samples\"! This might be a configuration mistake. Optuna allows to call the same distribution with the same name more than once in a trial. When the parameter values are inconsistent optuna only uses the values of the first call and ignores all following. Using these values: {'log': False, 'step': 1, 'low': 2, 'high': 100}\n",
      "  warnings.warn(\n",
      "[I 2023-11-02 10:57:49,548] Trial 22 finished with value: 0.9505445367072696 and parameters: {'learning_rate': 5e-05, 'lambda_l1': 9.018733534933016, 'lambda_l2': 9.156146162847298, 'max_bin': 76, 'max_depth': 95, 'min_data_in_leaf': 2, 'min_child_samples': 3, 'num_leaves': 27, 'feature_fraction': 0.11887231078579055, 'bagging_fraction': 0.6620761414046554, 'bagging_freq': 5}. Best is trial 12 with value: 0.9498447040476845.\n"
     ]
    },
    {
     "name": "stdout",
     "output_type": "stream",
     "text": [
      "fold n°3\n",
      "fold n°4\n",
      "AUC score: 0.95054 \n",
      "fold n°0\n",
      "fold n°1\n"
     ]
    },
    {
     "name": "stderr",
     "output_type": "stream",
     "text": [
      "/environment/miniconda3/lib/python3.10/site-packages/optuna/trial/_trial.py:677: RuntimeWarning: Inconsistent parameter values for distribution with name \"min_child_samples\"! This might be a configuration mistake. Optuna allows to call the same distribution with the same name more than once in a trial. When the parameter values are inconsistent optuna only uses the values of the first call and ignores all following. Using these values: {'log': False, 'step': 1, 'low': 2, 'high': 100}\n",
      "  warnings.warn(\n",
      "[I 2023-11-02 10:57:49,824] Trial 23 finished with value: 0.954025656135616 and parameters: {'learning_rate': 5e-05, 'lambda_l1': 7.472361894465907, 'lambda_l2': 9.178618910792254, 'max_bin': 64, 'max_depth': 81, 'min_data_in_leaf': 31, 'min_child_samples': 18, 'num_leaves': 57, 'feature_fraction': 0.18961895198418302, 'bagging_fraction': 0.7616265583955903, 'bagging_freq': 8}. Best is trial 12 with value: 0.9498447040476845.\n"
     ]
    },
    {
     "name": "stdout",
     "output_type": "stream",
     "text": [
      "fold n°2\n",
      "fold n°3\n",
      "fold n°4\n",
      "AUC score: 0.95403 \n"
     ]
    },
    {
     "name": "stderr",
     "output_type": "stream",
     "text": [
      "/environment/miniconda3/lib/python3.10/site-packages/optuna/trial/_trial.py:677: RuntimeWarning: Inconsistent parameter values for distribution with name \"min_child_samples\"! This might be a configuration mistake. Optuna allows to call the same distribution with the same name more than once in a trial. When the parameter values are inconsistent optuna only uses the values of the first call and ignores all following. Using these values: {'log': False, 'step': 1, 'low': 2, 'high': 100}\n",
      "  warnings.warn(\n",
      "[I 2023-11-02 10:57:50,057] Trial 24 finished with value: 0.9588494084752577 and parameters: {'learning_rate': 0.1, 'lambda_l1': 9.10482163260049, 'lambda_l2': 8.096009765957554, 'max_bin': 90, 'max_depth': 100, 'min_data_in_leaf': 21, 'min_child_samples': 12, 'num_leaves': 43, 'feature_fraction': 0.10446502520584365, 'bagging_fraction': 0.5468794245601243, 'bagging_freq': 6}. Best is trial 12 with value: 0.9498447040476845.\n"
     ]
    },
    {
     "name": "stdout",
     "output_type": "stream",
     "text": [
      "fold n°0\n",
      "fold n°1\n",
      "fold n°2\n",
      "fold n°3\n",
      "fold n°4\n",
      "AUC score: 0.95885 \n"
     ]
    },
    {
     "name": "stderr",
     "output_type": "stream",
     "text": [
      "/environment/miniconda3/lib/python3.10/site-packages/optuna/trial/_trial.py:677: RuntimeWarning: Inconsistent parameter values for distribution with name \"min_child_samples\"! This might be a configuration mistake. Optuna allows to call the same distribution with the same name more than once in a trial. When the parameter values are inconsistent optuna only uses the values of the first call and ignores all following. Using these values: {'log': False, 'step': 1, 'low': 2, 'high': 100}\n",
      "  warnings.warn(\n",
      "[I 2023-11-02 10:57:50,276] Trial 25 finished with value: 0.9647302821725006 and parameters: {'learning_rate': 0.5, 'lambda_l1': 8.271347505447311, 'lambda_l2': 9.305359149052547, 'max_bin': 79, 'max_depth': 83, 'min_data_in_leaf': 46, 'min_child_samples': 22, 'num_leaves': 31, 'feature_fraction': 0.3229992175421629, 'bagging_fraction': 0.6520918182270998, 'bagging_freq': 3}. Best is trial 12 with value: 0.9498447040476845.\n"
     ]
    },
    {
     "name": "stdout",
     "output_type": "stream",
     "text": [
      "fold n°0\n",
      "fold n°1\n",
      "fold n°2\n",
      "fold n°3\n",
      "fold n°4\n",
      "AUC score: 0.96473 \n"
     ]
    },
    {
     "name": "stderr",
     "output_type": "stream",
     "text": [
      "/environment/miniconda3/lib/python3.10/site-packages/optuna/trial/_trial.py:677: RuntimeWarning: Inconsistent parameter values for distribution with name \"min_child_samples\"! This might be a configuration mistake. Optuna allows to call the same distribution with the same name more than once in a trial. When the parameter values are inconsistent optuna only uses the values of the first call and ignores all following. Using these values: {'log': False, 'step': 1, 'low': 2, 'high': 100}\n",
      "  warnings.warn(\n"
     ]
    },
    {
     "name": "stdout",
     "output_type": "stream",
     "text": [
      "fold n°0\n",
      "fold n°1\n",
      "fold n°2\n",
      "fold n°3\n",
      "fold n°4\n"
     ]
    },
    {
     "name": "stderr",
     "output_type": "stream",
     "text": [
      "[I 2023-11-02 10:57:50,532] Trial 26 finished with value: 0.9521233552637876 and parameters: {'learning_rate': 0.001, 'lambda_l1': 9.225569000960846, 'lambda_l2': 8.04808241943385, 'max_bin': 48, 'max_depth': 94, 'min_data_in_leaf': 9, 'min_child_samples': 8, 'num_leaves': 66, 'feature_fraction': 0.19328673371604457, 'bagging_fraction': 0.8227416492587822, 'bagging_freq': 6}. Best is trial 12 with value: 0.9498447040476845.\n"
     ]
    },
    {
     "name": "stdout",
     "output_type": "stream",
     "text": [
      "AUC score: 0.95212 \n",
      "fold n°0\n",
      "fold n°1\n",
      "fold n°2\n",
      "fold n°3\n"
     ]
    },
    {
     "name": "stderr",
     "output_type": "stream",
     "text": [
      "/environment/miniconda3/lib/python3.10/site-packages/optuna/trial/_trial.py:677: RuntimeWarning: Inconsistent parameter values for distribution with name \"min_child_samples\"! This might be a configuration mistake. Optuna allows to call the same distribution with the same name more than once in a trial. When the parameter values are inconsistent optuna only uses the values of the first call and ignores all following. Using these values: {'log': False, 'step': 1, 'low': 2, 'high': 100}\n",
      "  warnings.warn(\n",
      "[I 2023-11-02 10:57:50,809] Trial 27 finished with value: 0.9535362107878985 and parameters: {'learning_rate': 0.01, 'lambda_l1': 8.360415977624715, 'lambda_l2': 9.937175300994266, 'max_bin': 69, 'max_depth': 78, 'min_data_in_leaf': 36, 'min_child_samples': 35, 'num_leaves': 18, 'feature_fraction': 0.2614331729003117, 'bagging_fraction': 0.7361396163046592, 'bagging_freq': 9}. Best is trial 12 with value: 0.9498447040476845.\n"
     ]
    },
    {
     "name": "stdout",
     "output_type": "stream",
     "text": [
      "fold n°4\n",
      "AUC score: 0.95354 \n",
      "fold n°0\n",
      "fold n°1\n",
      "fold n°2\n"
     ]
    },
    {
     "name": "stderr",
     "output_type": "stream",
     "text": [
      "/environment/miniconda3/lib/python3.10/site-packages/optuna/trial/_trial.py:677: RuntimeWarning: Inconsistent parameter values for distribution with name \"min_child_samples\"! This might be a configuration mistake. Optuna allows to call the same distribution with the same name more than once in a trial. When the parameter values are inconsistent optuna only uses the values of the first call and ignores all following. Using these values: {'log': False, 'step': 1, 'low': 2, 'high': 100}\n",
      "  warnings.warn(\n",
      "[I 2023-11-02 10:57:51,053] Trial 28 finished with value: 0.9525299358551511 and parameters: {'learning_rate': 1e-05, 'lambda_l1': 9.941605242743659, 'lambda_l2': 8.727157520133115, 'max_bin': 56, 'max_depth': 47, 'min_data_in_leaf': 64, 'min_child_samples': 64, 'num_leaves': 54, 'feature_fraction': 0.1689176855056012, 'bagging_fraction': 0.8432647877708038, 'bagging_freq': 4}. Best is trial 12 with value: 0.9498447040476845.\n"
     ]
    },
    {
     "name": "stdout",
     "output_type": "stream",
     "text": [
      "fold n°3\n",
      "fold n°4\n",
      "AUC score: 0.95253 \n",
      "fold n°0\n",
      "fold n°1\n"
     ]
    },
    {
     "name": "stderr",
     "output_type": "stream",
     "text": [
      "/environment/miniconda3/lib/python3.10/site-packages/optuna/trial/_trial.py:677: RuntimeWarning: Inconsistent parameter values for distribution with name \"min_child_samples\"! This might be a configuration mistake. Optuna allows to call the same distribution with the same name more than once in a trial. When the parameter values are inconsistent optuna only uses the values of the first call and ignores all following. Using these values: {'log': False, 'step': 1, 'low': 2, 'high': 100}\n",
      "  warnings.warn(\n",
      "[I 2023-11-02 10:57:51,346] Trial 29 finished with value: 0.953476123755979 and parameters: {'learning_rate': 1e-05, 'lambda_l1': 9.157133155401995, 'lambda_l2': 7.490631586649713, 'max_bin': 26, 'max_depth': 61, 'min_data_in_leaf': 21, 'min_child_samples': 25, 'num_leaves': 80, 'feature_fraction': 0.3722755104045447, 'bagging_fraction': 0.40194677303770665, 'bagging_freq': 1}. Best is trial 12 with value: 0.9498447040476845.\n"
     ]
    },
    {
     "name": "stdout",
     "output_type": "stream",
     "text": [
      "fold n°2\n",
      "fold n°3\n",
      "fold n°4\n",
      "AUC score: 0.95348 \n",
      "fold n°0\n"
     ]
    },
    {
     "name": "stderr",
     "output_type": "stream",
     "text": [
      "/environment/miniconda3/lib/python3.10/site-packages/optuna/trial/_trial.py:677: RuntimeWarning: Inconsistent parameter values for distribution with name \"min_child_samples\"! This might be a configuration mistake. Optuna allows to call the same distribution with the same name more than once in a trial. When the parameter values are inconsistent optuna only uses the values of the first call and ignores all following. Using these values: {'log': False, 'step': 1, 'low': 2, 'high': 100}\n",
      "  warnings.warn(\n",
      "[I 2023-11-02 10:57:51,616] Trial 30 finished with value: 0.9531976848534154 and parameters: {'learning_rate': 5e-05, 'lambda_l1': 7.1710274231859215, 'lambda_l2': 6.705906821835901, 'max_bin': 93, 'max_depth': 93, 'min_data_in_leaf': 98, 'min_child_samples': 2, 'num_leaves': 46, 'feature_fraction': 0.28141271824285885, 'bagging_fraction': 0.5603990589271031, 'bagging_freq': 0}. Best is trial 12 with value: 0.9498447040476845.\n"
     ]
    },
    {
     "name": "stdout",
     "output_type": "stream",
     "text": [
      "fold n°1\n",
      "fold n°2\n",
      "fold n°3\n",
      "fold n°4\n",
      "AUC score: 0.95320 \n"
     ]
    },
    {
     "name": "stderr",
     "output_type": "stream",
     "text": [
      "/environment/miniconda3/lib/python3.10/site-packages/optuna/trial/_trial.py:677: RuntimeWarning: Inconsistent parameter values for distribution with name \"min_child_samples\"! This might be a configuration mistake. Optuna allows to call the same distribution with the same name more than once in a trial. When the parameter values are inconsistent optuna only uses the values of the first call and ignores all following. Using these values: {'log': False, 'step': 1, 'low': 2, 'high': 100}\n",
      "  warnings.warn(\n",
      "[I 2023-11-02 10:57:51,863] Trial 31 finished with value: 0.9517052330118048 and parameters: {'learning_rate': 5e-05, 'lambda_l1': 9.346771579590387, 'lambda_l2': 8.363448068797458, 'max_bin': 81, 'max_depth': 44, 'min_data_in_leaf': 16, 'min_child_samples': 25, 'num_leaves': 36, 'feature_fraction': 0.15342953493798886, 'bagging_fraction': 0.7305186929777876, 'bagging_freq': 5}. Best is trial 12 with value: 0.9498447040476845.\n"
     ]
    },
    {
     "name": "stdout",
     "output_type": "stream",
     "text": [
      "fold n°0\n",
      "fold n°1\n",
      "fold n°2\n",
      "fold n°3\n",
      "fold n°4\n",
      "AUC score: 0.95171 \n"
     ]
    },
    {
     "name": "stderr",
     "output_type": "stream",
     "text": [
      "/environment/miniconda3/lib/python3.10/site-packages/optuna/trial/_trial.py:677: RuntimeWarning: Inconsistent parameter values for distribution with name \"min_child_samples\"! This might be a configuration mistake. Optuna allows to call the same distribution with the same name more than once in a trial. When the parameter values are inconsistent optuna only uses the values of the first call and ignores all following. Using these values: {'log': False, 'step': 1, 'low': 2, 'high': 100}\n",
      "  warnings.warn(\n",
      "[I 2023-11-02 10:57:52,106] Trial 32 finished with value: 0.9511393657733631 and parameters: {'learning_rate': 5e-05, 'lambda_l1': 8.463984827644579, 'lambda_l2': 9.247532828383799, 'max_bin': 63, 'max_depth': 35, 'min_data_in_leaf': 21, 'min_child_samples': 8, 'num_leaves': 32, 'feature_fraction': 0.21189478162882125, 'bagging_fraction': 0.6596769278058485, 'bagging_freq': 6}. Best is trial 12 with value: 0.9498447040476845.\n"
     ]
    },
    {
     "name": "stdout",
     "output_type": "stream",
     "text": [
      "fold n°0\n",
      "fold n°1\n",
      "fold n°2\n",
      "fold n°3\n",
      "fold n°4\n",
      "AUC score: 0.95114 \n"
     ]
    },
    {
     "name": "stderr",
     "output_type": "stream",
     "text": [
      "/environment/miniconda3/lib/python3.10/site-packages/optuna/trial/_trial.py:677: RuntimeWarning: Inconsistent parameter values for distribution with name \"min_child_samples\"! This might be a configuration mistake. Optuna allows to call the same distribution with the same name more than once in a trial. When the parameter values are inconsistent optuna only uses the values of the first call and ignores all following. Using these values: {'log': False, 'step': 1, 'low': 2, 'high': 100}\n",
      "  warnings.warn(\n"
     ]
    },
    {
     "name": "stdout",
     "output_type": "stream",
     "text": [
      "fold n°0\n",
      "fold n°1\n",
      "fold n°2\n",
      "fold n°3\n",
      "fold n°4\n"
     ]
    },
    {
     "name": "stderr",
     "output_type": "stream",
     "text": [
      "[I 2023-11-02 10:57:52,397] Trial 33 finished with value: 0.9503794156758254 and parameters: {'learning_rate': 5e-05, 'lambda_l1': 9.389210461290189, 'lambda_l2': 8.55519777033679, 'max_bin': 71, 'max_depth': 41, 'min_data_in_leaf': 8, 'min_child_samples': 55, 'num_leaves': 41, 'feature_fraction': 0.3379993594878228, 'bagging_fraction': 0.7068381838294054, 'bagging_freq': 3}. Best is trial 12 with value: 0.9498447040476845.\n"
     ]
    },
    {
     "name": "stdout",
     "output_type": "stream",
     "text": [
      "AUC score: 0.95038 \n",
      "fold n°0\n",
      "fold n°1\n",
      "fold n°2\n",
      "fold n°3\n"
     ]
    },
    {
     "name": "stderr",
     "output_type": "stream",
     "text": [
      "/environment/miniconda3/lib/python3.10/site-packages/optuna/trial/_trial.py:677: RuntimeWarning: Inconsistent parameter values for distribution with name \"min_child_samples\"! This might be a configuration mistake. Optuna allows to call the same distribution with the same name more than once in a trial. When the parameter values are inconsistent optuna only uses the values of the first call and ignores all following. Using these values: {'log': False, 'step': 1, 'low': 2, 'high': 100}\n",
      "  warnings.warn(\n"
     ]
    },
    {
     "name": "stdout",
     "output_type": "stream",
     "text": [
      "fold n°4\n"
     ]
    },
    {
     "name": "stderr",
     "output_type": "stream",
     "text": [
      "[I 2023-11-02 10:57:53,868] Trial 34 finished with value: 0.9494257062474121 and parameters: {'learning_rate': 5e-05, 'lambda_l1': 9.948228469935088, 'lambda_l2': 9.377968529650714, 'max_bin': 62, 'max_depth': 23, 'min_data_in_leaf': 33, 'min_child_samples': 17, 'num_leaves': 51, 'feature_fraction': 0.1364913012142608, 'bagging_fraction': 0.6204236682877992, 'bagging_freq': 5}. Best is trial 34 with value: 0.9494257062474121.\n"
     ]
    },
    {
     "name": "stdout",
     "output_type": "stream",
     "text": [
      "AUC score: 0.94943 \n",
      "fold n°0\n",
      "fold n°1\n",
      "fold n°2\n",
      "fold n°3\n",
      "fold n°4\n"
     ]
    },
    {
     "name": "stderr",
     "output_type": "stream",
     "text": [
      "/environment/miniconda3/lib/python3.10/site-packages/optuna/trial/_trial.py:677: RuntimeWarning: Inconsistent parameter values for distribution with name \"min_child_samples\"! This might be a configuration mistake. Optuna allows to call the same distribution with the same name more than once in a trial. When the parameter values are inconsistent optuna only uses the values of the first call and ignores all following. Using these values: {'log': False, 'step': 1, 'low': 2, 'high': 100}\n",
      "  warnings.warn(\n",
      "[I 2023-11-02 10:57:54,098] Trial 35 finished with value: 0.9467922837142895 and parameters: {'learning_rate': 0.001, 'lambda_l1': 9.946090232111262, 'lambda_l2': 9.506422895815387, 'max_bin': 6, 'max_depth': 18, 'min_data_in_leaf': 33, 'min_child_samples': 18, 'num_leaves': 71, 'feature_fraction': 0.1513754042190554, 'bagging_fraction': 0.6169836789686528, 'bagging_freq': 7}. Best is trial 35 with value: 0.9467922837142895.\n"
     ]
    },
    {
     "name": "stdout",
     "output_type": "stream",
     "text": [
      "AUC score: 0.94679 \n",
      "fold n°0\n",
      "fold n°1\n",
      "fold n°2\n",
      "fold n°3\n",
      "fold n°4\n"
     ]
    },
    {
     "name": "stderr",
     "output_type": "stream",
     "text": [
      "/environment/miniconda3/lib/python3.10/site-packages/optuna/trial/_trial.py:677: RuntimeWarning: Inconsistent parameter values for distribution with name \"min_child_samples\"! This might be a configuration mistake. Optuna allows to call the same distribution with the same name more than once in a trial. When the parameter values are inconsistent optuna only uses the values of the first call and ignores all following. Using these values: {'log': False, 'step': 1, 'low': 2, 'high': 100}\n",
      "  warnings.warn(\n",
      "[I 2023-11-02 10:57:54,325] Trial 36 finished with value: 0.9455457337879334 and parameters: {'learning_rate': 0.001, 'lambda_l1': 8.671156432051827, 'lambda_l2': 9.243814349815143, 'max_bin': 4, 'max_depth': 20, 'min_data_in_leaf': 33, 'min_child_samples': 17, 'num_leaves': 72, 'feature_fraction': 0.21553328839996738, 'bagging_fraction': 0.5080832794158374, 'bagging_freq': 8}. Best is trial 36 with value: 0.9455457337879334.\n",
      "/environment/miniconda3/lib/python3.10/site-packages/optuna/trial/_trial.py:677: RuntimeWarning: Inconsistent parameter values for distribution with name \"min_child_samples\"! This might be a configuration mistake. Optuna allows to call the same distribution with the same name more than once in a trial. When the parameter values are inconsistent optuna only uses the values of the first call and ignores all following. Using these values: {'log': False, 'step': 1, 'low': 2, 'high': 100}\n",
      "  warnings.warn(\n",
      "[I 2023-11-02 10:57:54,521] Trial 37 finished with value: 0.948740478123766 and parameters: {'learning_rate': 0.001, 'lambda_l1': 8.580930790571523, 'lambda_l2': 9.566500963907261, 'max_bin': 3, 'max_depth': 21, 'min_data_in_leaf': 44, 'min_child_samples': 48, 'num_leaves': 72, 'feature_fraction': 0.1570189418505046, 'bagging_fraction': 0.4969073271221628, 'bagging_freq': 9}. Best is trial 36 with value: 0.9455457337879334.\n"
     ]
    },
    {
     "name": "stdout",
     "output_type": "stream",
     "text": [
      "AUC score: 0.94555 \n",
      "fold n°0\n",
      "fold n°1\n",
      "fold n°2\n",
      "fold n°3\n",
      "fold n°4\n",
      "AUC score: 0.94874 \n"
     ]
    },
    {
     "name": "stderr",
     "output_type": "stream",
     "text": [
      "/environment/miniconda3/lib/python3.10/site-packages/optuna/trial/_trial.py:677: RuntimeWarning: Inconsistent parameter values for distribution with name \"min_child_samples\"! This might be a configuration mistake. Optuna allows to call the same distribution with the same name more than once in a trial. When the parameter values are inconsistent optuna only uses the values of the first call and ignores all following. Using these values: {'log': False, 'step': 1, 'low': 2, 'high': 100}\n",
      "  warnings.warn(\n",
      "[I 2023-11-02 10:57:54,720] Trial 38 finished with value: 0.9323823769498366 and parameters: {'learning_rate': 0.001, 'lambda_l1': 7.983185448885789, 'lambda_l2': 7.773456935659665, 'max_bin': 2, 'max_depth': 20, 'min_data_in_leaf': 61, 'min_child_samples': 51, 'num_leaves': 73, 'feature_fraction': 0.22734627613831135, 'bagging_fraction': 0.5059268615909988, 'bagging_freq': 11}. Best is trial 38 with value: 0.9323823769498366.\n",
      "/environment/miniconda3/lib/python3.10/site-packages/optuna/trial/_trial.py:677: RuntimeWarning: Inconsistent parameter values for distribution with name \"min_child_samples\"! This might be a configuration mistake. Optuna allows to call the same distribution with the same name more than once in a trial. When the parameter values are inconsistent optuna only uses the values of the first call and ignores all following. Using these values: {'log': False, 'step': 1, 'low': 2, 'high': 100}\n",
      "  warnings.warn(\n"
     ]
    },
    {
     "name": "stdout",
     "output_type": "stream",
     "text": [
      "fold n°0\n",
      "fold n°1\n",
      "fold n°2\n",
      "fold n°3\n",
      "fold n°4\n",
      "AUC score: 0.93238 \n",
      "fold n°0\n"
     ]
    },
    {
     "name": "stderr",
     "output_type": "stream",
     "text": [
      "[I 2023-11-02 10:57:54,921] Trial 39 finished with value: 0.9323215585778228 and parameters: {'learning_rate': 0.001, 'lambda_l1': 6.931877188534447, 'lambda_l2': 6.211011327025852, 'max_bin': 2, 'max_depth': 13, 'min_data_in_leaf': 60, 'min_child_samples': 49, 'num_leaves': 89, 'feature_fraction': 0.2224476810640968, 'bagging_fraction': 0.34761114822091654, 'bagging_freq': 11}. Best is trial 39 with value: 0.9323215585778228.\n"
     ]
    },
    {
     "name": "stdout",
     "output_type": "stream",
     "text": [
      "fold n°1\n",
      "fold n°2\n",
      "fold n°3\n",
      "fold n°4\n",
      "AUC score: 0.93232 \n",
      "fold n°0\n"
     ]
    },
    {
     "name": "stderr",
     "output_type": "stream",
     "text": [
      "/environment/miniconda3/lib/python3.10/site-packages/optuna/trial/_trial.py:677: RuntimeWarning: Inconsistent parameter values for distribution with name \"min_child_samples\"! This might be a configuration mistake. Optuna allows to call the same distribution with the same name more than once in a trial. When the parameter values are inconsistent optuna only uses the values of the first call and ignores all following. Using these values: {'log': False, 'step': 1, 'low': 2, 'high': 100}\n",
      "  warnings.warn(\n",
      "[I 2023-11-02 10:57:55,162] Trial 40 finished with value: 0.9509354036274017 and parameters: {'learning_rate': 0.001, 'lambda_l1': 7.176992361104015, 'lambda_l2': 6.158273467836429, 'max_bin': 13, 'max_depth': 12, 'min_data_in_leaf': 76, 'min_child_samples': 59, 'num_leaves': 89, 'feature_fraction': 0.4232122597506105, 'bagging_fraction': 0.3110625208269434, 'bagging_freq': 12}. Best is trial 39 with value: 0.9323215585778228.\n"
     ]
    },
    {
     "name": "stdout",
     "output_type": "stream",
     "text": [
      "fold n°1\n",
      "fold n°2\n",
      "fold n°3\n",
      "fold n°4\n",
      "AUC score: 0.95094 \n",
      "fold n°0\n"
     ]
    },
    {
     "name": "stderr",
     "output_type": "stream",
     "text": [
      "/environment/miniconda3/lib/python3.10/site-packages/optuna/trial/_trial.py:677: RuntimeWarning: Inconsistent parameter values for distribution with name \"min_child_samples\"! This might be a configuration mistake. Optuna allows to call the same distribution with the same name more than once in a trial. When the parameter values are inconsistent optuna only uses the values of the first call and ignores all following. Using these values: {'log': False, 'step': 1, 'low': 2, 'high': 100}\n",
      "  warnings.warn(\n",
      "[I 2023-11-02 10:57:55,362] Trial 41 finished with value: 0.9323215585778228 and parameters: {'learning_rate': 0.001, 'lambda_l1': 8.075405740022186, 'lambda_l2': 7.676448137492173, 'max_bin': 2, 'max_depth': 25, 'min_data_in_leaf': 62, 'min_child_samples': 51, 'num_leaves': 75, 'feature_fraction': 0.21994780051176915, 'bagging_fraction': 0.3786128117414431, 'bagging_freq': 15}. Best is trial 39 with value: 0.9323215585778228.\n",
      "/environment/miniconda3/lib/python3.10/site-packages/optuna/trial/_trial.py:677: RuntimeWarning: Inconsistent parameter values for distribution with name \"min_child_samples\"! This might be a configuration mistake. Optuna allows to call the same distribution with the same name more than once in a trial. When the parameter values are inconsistent optuna only uses the values of the first call and ignores all following. Using these values: {'log': False, 'step': 1, 'low': 2, 'high': 100}\n",
      "  warnings.warn(\n"
     ]
    },
    {
     "name": "stdout",
     "output_type": "stream",
     "text": [
      "fold n°1\n",
      "fold n°2\n",
      "fold n°3\n",
      "fold n°4\n",
      "AUC score: 0.93232 \n",
      "fold n°0\n"
     ]
    },
    {
     "name": "stderr",
     "output_type": "stream",
     "text": [
      "[I 2023-11-02 10:57:55,593] Trial 42 finished with value: 0.9477730995308903 and parameters: {'learning_rate': 0.001, 'lambda_l1': 7.916083280519096, 'lambda_l2': 7.414552300522948, 'max_bin': 9, 'max_depth': 12, 'min_data_in_leaf': 62, 'min_child_samples': 75, 'num_leaves': 87, 'feature_fraction': 0.2295142836862057, 'bagging_fraction': 0.38423343010302785, 'bagging_freq': 15}. Best is trial 39 with value: 0.9323215585778228.\n"
     ]
    },
    {
     "name": "stdout",
     "output_type": "stream",
     "text": [
      "fold n°1\n",
      "fold n°2\n",
      "fold n°3\n",
      "fold n°4\n",
      "AUC score: 0.94777 \n",
      "fold n°0\n"
     ]
    },
    {
     "name": "stderr",
     "output_type": "stream",
     "text": [
      "/environment/miniconda3/lib/python3.10/site-packages/optuna/trial/_trial.py:677: RuntimeWarning: Inconsistent parameter values for distribution with name \"min_child_samples\"! This might be a configuration mistake. Optuna allows to call the same distribution with the same name more than once in a trial. When the parameter values are inconsistent optuna only uses the values of the first call and ignores all following. Using these values: {'log': False, 'step': 1, 'low': 2, 'high': 100}\n",
      "  warnings.warn(\n",
      "[I 2023-11-02 10:57:55,811] Trial 43 finished with value: 0.9499848168017271 and parameters: {'learning_rate': 0.001, 'lambda_l1': 6.740224867703471, 'lambda_l2': 5.58984100642326, 'max_bin': 21, 'max_depth': 26, 'min_data_in_leaf': 70, 'min_child_samples': 98, 'num_leaves': 78, 'feature_fraction': 0.2894361756454671, 'bagging_fraction': 0.26369093222487905, 'bagging_freq': 14}. Best is trial 39 with value: 0.9323215585778228.\n"
     ]
    },
    {
     "name": "stdout",
     "output_type": "stream",
     "text": [
      "fold n°1\n",
      "fold n°2\n",
      "fold n°3\n",
      "fold n°4\n",
      "AUC score: 0.94998 \n",
      "fold n°0\n"
     ]
    },
    {
     "name": "stderr",
     "output_type": "stream",
     "text": [
      "/environment/miniconda3/lib/python3.10/site-packages/optuna/trial/_trial.py:677: RuntimeWarning: Inconsistent parameter values for distribution with name \"min_child_samples\"! This might be a configuration mistake. Optuna allows to call the same distribution with the same name more than once in a trial. When the parameter values are inconsistent optuna only uses the values of the first call and ignores all following. Using these values: {'log': False, 'step': 1, 'low': 2, 'high': 100}\n",
      "  warnings.warn(\n",
      "[I 2023-11-02 10:57:56,012] Trial 44 finished with value: 0.9323823769498366 and parameters: {'learning_rate': 0.001, 'lambda_l1': 6.066731648718983, 'lambda_l2': 7.040547840479042, 'max_bin': 2, 'max_depth': 14, 'min_data_in_leaf': 53, 'min_child_samples': 49, 'num_leaves': 68, 'feature_fraction': 0.22014492377908332, 'bagging_fraction': 0.4569248790120277, 'bagging_freq': 12}. Best is trial 39 with value: 0.9323215585778228.\n",
      "/environment/miniconda3/lib/python3.10/site-packages/optuna/trial/_trial.py:677: RuntimeWarning: Inconsistent parameter values for distribution with name \"min_child_samples\"! This might be a configuration mistake. Optuna allows to call the same distribution with the same name more than once in a trial. When the parameter values are inconsistent optuna only uses the values of the first call and ignores all following. Using these values: {'log': False, 'step': 1, 'low': 2, 'high': 100}\n",
      "  warnings.warn(\n"
     ]
    },
    {
     "name": "stdout",
     "output_type": "stream",
     "text": [
      "fold n°1\n",
      "fold n°2\n",
      "fold n°3\n",
      "fold n°4\n",
      "AUC score: 0.93238 \n",
      "fold n°0\n"
     ]
    },
    {
     "name": "stderr",
     "output_type": "stream",
     "text": [
      "[I 2023-11-02 10:57:56,262] Trial 45 finished with value: 0.9486397428723873 and parameters: {'learning_rate': 0.001, 'lambda_l1': 5.99360918850815, 'lambda_l2': 7.055829973989396, 'max_bin': 15, 'max_depth': 29, 'min_data_in_leaf': 53, 'min_child_samples': 50, 'num_leaves': 94, 'feature_fraction': 0.2923973439824946, 'bagging_fraction': 0.4442913648813953, 'bagging_freq': 13}. Best is trial 39 with value: 0.9323215585778228.\n"
     ]
    },
    {
     "name": "stdout",
     "output_type": "stream",
     "text": [
      "fold n°1\n",
      "fold n°2\n",
      "fold n°3\n",
      "fold n°4\n",
      "AUC score: 0.94864 \n"
     ]
    },
    {
     "name": "stderr",
     "output_type": "stream",
     "text": [
      "/environment/miniconda3/lib/python3.10/site-packages/optuna/trial/_trial.py:677: RuntimeWarning: Inconsistent parameter values for distribution with name \"min_child_samples\"! This might be a configuration mistake. Optuna allows to call the same distribution with the same name more than once in a trial. When the parameter values are inconsistent optuna only uses the values of the first call and ignores all following. Using these values: {'log': False, 'step': 1, 'low': 2, 'high': 100}\n",
      "  warnings.warn(\n",
      "[I 2023-11-02 10:57:56,462] Trial 46 finished with value: 0.9323215585778228 and parameters: {'learning_rate': 0.001, 'lambda_l1': 5.921579366176135, 'lambda_l2': 7.723093384254871, 'max_bin': 2, 'max_depth': 11, 'min_data_in_leaf': 61, 'min_child_samples': 71, 'num_leaves': 66, 'feature_fraction': 0.232004234655607, 'bagging_fraction': 0.3575643829335331, 'bagging_freq': 11}. Best is trial 39 with value: 0.9323215585778228.\n",
      "/environment/miniconda3/lib/python3.10/site-packages/optuna/trial/_trial.py:677: RuntimeWarning: Inconsistent parameter values for distribution with name \"min_child_samples\"! This might be a configuration mistake. Optuna allows to call the same distribution with the same name more than once in a trial. When the parameter values are inconsistent optuna only uses the values of the first call and ignores all following. Using these values: {'log': False, 'step': 1, 'low': 2, 'high': 100}\n",
      "  warnings.warn(\n"
     ]
    },
    {
     "name": "stdout",
     "output_type": "stream",
     "text": [
      "fold n°0\n",
      "fold n°1\n",
      "fold n°2\n",
      "fold n°3\n",
      "fold n°4\n",
      "AUC score: 0.93232 \n",
      "fold n°0\n"
     ]
    },
    {
     "name": "stderr",
     "output_type": "stream",
     "text": [
      "[I 2023-11-02 10:57:56,680] Trial 47 finished with value: 0.9525011697927399 and parameters: {'learning_rate': 0.001, 'lambda_l1': 6.076178321140129, 'lambda_l2': 6.324233159777712, 'max_bin': 10, 'max_depth': 3, 'min_data_in_leaf': 83, 'min_child_samples': 45, 'num_leaves': 65, 'feature_fraction': 0.39542413150551936, 'bagging_fraction': 0.34394210186073415, 'bagging_freq': 12}. Best is trial 39 with value: 0.9323215585778228.\n"
     ]
    },
    {
     "name": "stdout",
     "output_type": "stream",
     "text": [
      "fold n°1\n",
      "fold n°2\n",
      "fold n°3\n",
      "fold n°4\n",
      "AUC score: 0.95250 \n",
      "fold n°0\n"
     ]
    },
    {
     "name": "stderr",
     "output_type": "stream",
     "text": [
      "/environment/miniconda3/lib/python3.10/site-packages/optuna/trial/_trial.py:677: RuntimeWarning: Inconsistent parameter values for distribution with name \"min_child_samples\"! This might be a configuration mistake. Optuna allows to call the same distribution with the same name more than once in a trial. When the parameter values are inconsistent optuna only uses the values of the first call and ignores all following. Using these values: {'log': False, 'step': 1, 'low': 2, 'high': 100}\n",
      "  warnings.warn(\n",
      "[I 2023-11-02 10:57:56,899] Trial 48 finished with value: 0.9492137107140284 and parameters: {'learning_rate': 0.001, 'lambda_l1': 5.63901983711219, 'lambda_l2': 5.82054377924676, 'max_bin': 18, 'max_depth': 10, 'min_data_in_leaf': 59, 'min_child_samples': 70, 'num_leaves': 82, 'feature_fraction': 0.22800564211408905, 'bagging_fraction': 0.2524700389096944, 'bagging_freq': 14}. Best is trial 39 with value: 0.9323215585778228.\n"
     ]
    },
    {
     "name": "stdout",
     "output_type": "stream",
     "text": [
      "fold n°1\n",
      "fold n°2\n",
      "fold n°3\n",
      "fold n°4\n",
      "AUC score: 0.94921 \n",
      "fold n°0\n"
     ]
    },
    {
     "name": "stderr",
     "output_type": "stream",
     "text": [
      "/environment/miniconda3/lib/python3.10/site-packages/optuna/trial/_trial.py:677: RuntimeWarning: Inconsistent parameter values for distribution with name \"min_child_samples\"! This might be a configuration mistake. Optuna allows to call the same distribution with the same name more than once in a trial. When the parameter values are inconsistent optuna only uses the values of the first call and ignores all following. Using these values: {'log': False, 'step': 1, 'low': 2, 'high': 100}\n",
      "  warnings.warn(\n",
      "[I 2023-11-02 10:57:57,156] Trial 49 finished with value: 0.9492483276953652 and parameters: {'learning_rate': 0.001, 'lambda_l1': 4.654930191199599, 'lambda_l2': 7.807121826465796, 'max_bin': 22, 'max_depth': 15, 'min_data_in_leaf': 69, 'min_child_samples': 55, 'num_leaves': 76, 'feature_fraction': 0.30565139622012677, 'bagging_fraction': 0.4348540412070051, 'bagging_freq': 11}. Best is trial 39 with value: 0.9323215585778228.\n"
     ]
    },
    {
     "name": "stdout",
     "output_type": "stream",
     "text": [
      "fold n°1\n",
      "fold n°2\n",
      "fold n°3\n",
      "fold n°4\n",
      "AUC score: 0.94925 \n"
     ]
    },
    {
     "name": "stderr",
     "output_type": "stream",
     "text": [
      "/environment/miniconda3/lib/python3.10/site-packages/optuna/trial/_trial.py:677: RuntimeWarning: Inconsistent parameter values for distribution with name \"min_child_samples\"! This might be a configuration mistake. Optuna allows to call the same distribution with the same name more than once in a trial. When the parameter values are inconsistent optuna only uses the values of the first call and ignores all following. Using these values: {'log': False, 'step': 1, 'low': 2, 'high': 100}\n",
      "  warnings.warn(\n",
      "[I 2023-11-02 10:57:57,356] Trial 50 finished with value: 0.9323702132754338 and parameters: {'learning_rate': 0.001, 'lambda_l1': 6.777120342836941, 'lambda_l2': 6.9963896729792046, 'max_bin': 2, 'max_depth': 8, 'min_data_in_leaf': 51, 'min_child_samples': 36, 'num_leaves': 84, 'feature_fraction': 0.24701918378886362, 'bagging_fraction': 0.38048855228248085, 'bagging_freq': 11}. Best is trial 39 with value: 0.9323215585778228.\n",
      "/environment/miniconda3/lib/python3.10/site-packages/optuna/trial/_trial.py:677: RuntimeWarning: Inconsistent parameter values for distribution with name \"min_child_samples\"! This might be a configuration mistake. Optuna allows to call the same distribution with the same name more than once in a trial. When the parameter values are inconsistent optuna only uses the values of the first call and ignores all following. Using these values: {'log': False, 'step': 1, 'low': 2, 'high': 100}\n",
      "  warnings.warn(\n"
     ]
    },
    {
     "name": "stdout",
     "output_type": "stream",
     "text": [
      "fold n°0\n",
      "fold n°1\n",
      "fold n°2\n",
      "fold n°3\n",
      "fold n°4\n",
      "AUC score: 0.93237 \n"
     ]
    },
    {
     "name": "stderr",
     "output_type": "stream",
     "text": [
      "[I 2023-11-02 10:57:57,559] Trial 51 finished with value: 0.9323823769498366 and parameters: {'learning_rate': 0.001, 'lambda_l1': 6.660920737408579, 'lambda_l2': 6.853287684052104, 'max_bin': 2, 'max_depth': 5, 'min_data_in_leaf': 51, 'min_child_samples': 36, 'num_leaves': 87, 'feature_fraction': 0.26468546260098236, 'bagging_fraction': 0.37168716357231074, 'bagging_freq': 11}. Best is trial 39 with value: 0.9323215585778228.\n"
     ]
    },
    {
     "name": "stdout",
     "output_type": "stream",
     "text": [
      "fold n°0\n",
      "fold n°1\n",
      "fold n°2\n",
      "fold n°3\n",
      "fold n°4\n",
      "AUC score: 0.93238 \n"
     ]
    },
    {
     "name": "stderr",
     "output_type": "stream",
     "text": [
      "/environment/miniconda3/lib/python3.10/site-packages/optuna/trial/_trial.py:677: RuntimeWarning: Inconsistent parameter values for distribution with name \"min_child_samples\"! This might be a configuration mistake. Optuna allows to call the same distribution with the same name more than once in a trial. When the parameter values are inconsistent optuna only uses the values of the first call and ignores all following. Using these values: {'log': False, 'step': 1, 'low': 2, 'high': 100}\n",
      "  warnings.warn(\n"
     ]
    },
    {
     "name": "stdout",
     "output_type": "stream",
     "text": [
      "fold n°0\n",
      "fold n°1\n",
      "fold n°2\n",
      "fold n°3\n",
      "fold n°4\n"
     ]
    },
    {
     "name": "stderr",
     "output_type": "stream",
     "text": [
      "[I 2023-11-02 10:57:57,850] Trial 52 finished with value: 0.9493807356018958 and parameters: {'learning_rate': 0.001, 'lambda_l1': 5.450796989975599, 'lambda_l2': 7.335976180040808, 'max_bin': 11, 'max_depth': 15, 'min_data_in_leaf': 58, 'min_child_samples': 55, 'num_leaves': 91, 'feature_fraction': 0.24247805548232754, 'bagging_fraction': 0.41492231456678774, 'bagging_freq': 12}. Best is trial 39 with value: 0.9323215585778228.\n"
     ]
    },
    {
     "name": "stdout",
     "output_type": "stream",
     "text": [
      "AUC score: 0.94938 \n",
      "fold n°0\n",
      "fold n°1\n",
      "fold n°2\n",
      "fold n°3\n"
     ]
    },
    {
     "name": "stderr",
     "output_type": "stream",
     "text": [
      "/environment/miniconda3/lib/python3.10/site-packages/optuna/trial/_trial.py:677: RuntimeWarning: Inconsistent parameter values for distribution with name \"min_child_samples\"! This might be a configuration mistake. Optuna allows to call the same distribution with the same name more than once in a trial. When the parameter values are inconsistent optuna only uses the values of the first call and ignores all following. Using these values: {'log': False, 'step': 1, 'low': 2, 'high': 100}\n",
      "  warnings.warn(\n",
      "[I 2023-11-02 10:57:58,123] Trial 53 finished with value: 0.9539058136253029 and parameters: {'learning_rate': 0.05, 'lambda_l1': 6.975802044021524, 'lambda_l2': 7.666748522204638, 'max_bin': 7, 'max_depth': 9, 'min_data_in_leaf': 64, 'min_child_samples': 40, 'num_leaves': 100, 'feature_fraction': 0.2991294556995135, 'bagging_fraction': 0.45865140975926233, 'bagging_freq': 10}. Best is trial 39 with value: 0.9323215585778228.\n"
     ]
    },
    {
     "name": "stdout",
     "output_type": "stream",
     "text": [
      "fold n°4\n",
      "AUC score: 0.95391 \n",
      "fold n°0\n",
      "fold n°1\n",
      "fold n°2\n"
     ]
    },
    {
     "name": "stderr",
     "output_type": "stream",
     "text": [
      "/environment/miniconda3/lib/python3.10/site-packages/optuna/trial/_trial.py:677: RuntimeWarning: Inconsistent parameter values for distribution with name \"min_child_samples\"! This might be a configuration mistake. Optuna allows to call the same distribution with the same name more than once in a trial. When the parameter values are inconsistent optuna only uses the values of the first call and ignores all following. Using these values: {'log': False, 'step': 1, 'low': 2, 'high': 100}\n",
      "  warnings.warn(\n",
      "[I 2023-11-02 10:57:58,355] Trial 54 finished with value: 0.9323215585778228 and parameters: {'learning_rate': 0.001, 'lambda_l1': 6.372644045830268, 'lambda_l2': 6.94766228322729, 'max_bin': 2, 'max_depth': 27, 'min_data_in_leaf': 73, 'min_child_samples': 59, 'num_leaves': 84, 'feature_fraction': 0.3563251854988947, 'bagging_fraction': 0.354663832418807, 'bagging_freq': 10}. Best is trial 39 with value: 0.9323215585778228.\n"
     ]
    },
    {
     "name": "stdout",
     "output_type": "stream",
     "text": [
      "fold n°3\n",
      "fold n°4\n",
      "AUC score: 0.93232 \n",
      "fold n°0\n",
      "fold n°1\n"
     ]
    },
    {
     "name": "stderr",
     "output_type": "stream",
     "text": [
      "/environment/miniconda3/lib/python3.10/site-packages/optuna/trial/_trial.py:677: RuntimeWarning: Inconsistent parameter values for distribution with name \"min_child_samples\"! This might be a configuration mistake. Optuna allows to call the same distribution with the same name more than once in a trial. When the parameter values are inconsistent optuna only uses the values of the first call and ignores all following. Using these values: {'log': False, 'step': 1, 'low': 2, 'high': 100}\n",
      "  warnings.warn(\n",
      "[I 2023-11-02 10:57:58,614] Trial 55 finished with value: 0.9537432857920122 and parameters: {'learning_rate': 0.1, 'lambda_l1': 6.355961354240189, 'lambda_l2': 6.59055890771951, 'max_bin': 33, 'max_depth': 30, 'min_data_in_leaf': 74, 'min_child_samples': 70, 'num_leaves': 75, 'feature_fraction': 0.35697914769525513, 'bagging_fraction': 0.3595025393253652, 'bagging_freq': 10}. Best is trial 39 with value: 0.9323215585778228.\n"
     ]
    },
    {
     "name": "stdout",
     "output_type": "stream",
     "text": [
      "fold n°2\n",
      "fold n°3\n",
      "fold n°4\n",
      "AUC score: 0.95374 \n",
      "fold n°0\n"
     ]
    },
    {
     "name": "stderr",
     "output_type": "stream",
     "text": [
      "/environment/miniconda3/lib/python3.10/site-packages/optuna/trial/_trial.py:677: RuntimeWarning: Inconsistent parameter values for distribution with name \"min_child_samples\"! This might be a configuration mistake. Optuna allows to call the same distribution with the same name more than once in a trial. When the parameter values are inconsistent optuna only uses the values of the first call and ignores all following. Using these values: {'log': False, 'step': 1, 'low': 2, 'high': 100}\n",
      "  warnings.warn(\n",
      "[I 2023-11-02 10:57:58,865] Trial 56 finished with value: 0.9498630526877763 and parameters: {'learning_rate': 0.001, 'lambda_l1': 7.376715002022054, 'lambda_l2': 7.857264109509073, 'max_bin': 7, 'max_depth': 8, 'min_data_in_leaf': 82, 'min_child_samples': 81, 'num_leaves': 84, 'feature_fraction': 0.26894248016637856, 'bagging_fraction': 0.3306786080545571, 'bagging_freq': 14}. Best is trial 39 with value: 0.9323215585778228.\n"
     ]
    },
    {
     "name": "stdout",
     "output_type": "stream",
     "text": [
      "fold n°1\n",
      "fold n°2\n",
      "fold n°3\n",
      "fold n°4\n",
      "AUC score: 0.94986 \n"
     ]
    },
    {
     "name": "stderr",
     "output_type": "stream",
     "text": [
      "/environment/miniconda3/lib/python3.10/site-packages/optuna/trial/_trial.py:677: RuntimeWarning: Inconsistent parameter values for distribution with name \"min_child_samples\"! This might be a configuration mistake. Optuna allows to call the same distribution with the same name more than once in a trial. When the parameter values are inconsistent optuna only uses the values of the first call and ignores all following. Using these values: {'log': False, 'step': 1, 'low': 2, 'high': 100}\n",
      "  warnings.warn(\n",
      "[I 2023-11-02 10:57:59,115] Trial 57 finished with value: 0.9529069289994021 and parameters: {'learning_rate': 0.0005, 'lambda_l1': 7.594815855234374, 'lambda_l2': 7.24377447059756, 'max_bin': 17, 'max_depth': 26, 'min_data_in_leaf': 66, 'min_child_samples': 45, 'num_leaves': 96, 'feature_fraction': 0.4780012380456872, 'bagging_fraction': 0.4030132231534361, 'bagging_freq': 11}. Best is trial 39 with value: 0.9323215585778228.\n"
     ]
    },
    {
     "name": "stdout",
     "output_type": "stream",
     "text": [
      "fold n°0\n",
      "fold n°1\n",
      "fold n°2\n",
      "fold n°3\n",
      "fold n°4\n",
      "AUC score: 0.95291 \n"
     ]
    },
    {
     "name": "stderr",
     "output_type": "stream",
     "text": [
      "/environment/miniconda3/lib/python3.10/site-packages/optuna/trial/_trial.py:677: RuntimeWarning: Inconsistent parameter values for distribution with name \"min_child_samples\"! This might be a configuration mistake. Optuna allows to call the same distribution with the same name more than once in a trial. When the parameter values are inconsistent optuna only uses the values of the first call and ignores all following. Using these values: {'log': False, 'step': 1, 'low': 2, 'high': 100}\n",
      "  warnings.warn(\n",
      "[I 2023-11-02 10:57:59,304] Trial 58 finished with value: 0.9480560976345075 and parameters: {'learning_rate': 1, 'lambda_l1': 6.929424833088653, 'lambda_l2': 6.165023939714312, 'max_bin': 13, 'max_depth': 2, 'min_data_in_leaf': 73, 'min_child_samples': 59, 'num_leaves': 84, 'feature_fraction': 0.32479288422688146, 'bagging_fraction': 0.29607232924426813, 'bagging_freq': 10}. Best is trial 39 with value: 0.9323215585778228.\n"
     ]
    },
    {
     "name": "stdout",
     "output_type": "stream",
     "text": [
      "fold n°0\n",
      "fold n°1\n",
      "fold n°2\n",
      "fold n°3\n",
      "fold n°4\n",
      "AUC score: 0.94806 \n"
     ]
    },
    {
     "name": "stderr",
     "output_type": "stream",
     "text": [
      "/environment/miniconda3/lib/python3.10/site-packages/optuna/trial/_trial.py:677: RuntimeWarning: Inconsistent parameter values for distribution with name \"min_child_samples\"! This might be a configuration mistake. Optuna allows to call the same distribution with the same name more than once in a trial. When the parameter values are inconsistent optuna only uses the values of the first call and ignores all following. Using these values: {'log': False, 'step': 1, 'low': 2, 'high': 100}\n",
      "  warnings.warn(\n",
      "[I 2023-11-02 10:57:59,521] Trial 59 finished with value: 0.9593102825198361 and parameters: {'learning_rate': 0.5, 'lambda_l1': 7.960153883469998, 'lambda_l2': 5.326301073190544, 'max_bin': 6, 'max_depth': 18, 'min_data_in_leaf': 87, 'min_child_samples': 87, 'num_leaves': 59, 'feature_fraction': 0.18640836118238696, 'bagging_fraction': 0.37573128486287943, 'bagging_freq': 13}. Best is trial 39 with value: 0.9323215585778228.\n",
      "/environment/miniconda3/lib/python3.10/site-packages/optuna/trial/_trial.py:677: RuntimeWarning: Inconsistent parameter values for distribution with name \"min_child_samples\"! This might be a configuration mistake. Optuna allows to call the same distribution with the same name more than once in a trial. When the parameter values are inconsistent optuna only uses the values of the first call and ignores all following. Using these values: {'log': False, 'step': 1, 'low': 2, 'high': 100}\n",
      "  warnings.warn(\n"
     ]
    },
    {
     "name": "stdout",
     "output_type": "stream",
     "text": [
      "fold n°0\n",
      "fold n°1\n",
      "fold n°2\n",
      "fold n°3\n",
      "fold n°4\n",
      "AUC score: 0.95931 \n",
      "fold n°0\n"
     ]
    },
    {
     "name": "stderr",
     "output_type": "stream",
     "text": [
      "[I 2023-11-02 10:57:59,810] Trial 60 finished with value: 0.9496736794986645 and parameters: {'learning_rate': 0.01, 'lambda_l1': 6.6864436455321865, 'lambda_l2': 4.514125510395735, 'max_bin': 10, 'max_depth': 31, 'min_data_in_leaf': 49, 'min_child_samples': 68, 'num_leaves': 76, 'feature_fraction': 0.2489644578324578, 'bagging_fraction': 0.34332296452540023, 'bagging_freq': 9}. Best is trial 39 with value: 0.9323215585778228.\n"
     ]
    },
    {
     "name": "stdout",
     "output_type": "stream",
     "text": [
      "fold n°1\n",
      "fold n°2\n",
      "fold n°3\n",
      "fold n°4\n",
      "AUC score: 0.94967 \n"
     ]
    },
    {
     "name": "stderr",
     "output_type": "stream",
     "text": [
      "/environment/miniconda3/lib/python3.10/site-packages/optuna/trial/_trial.py:677: RuntimeWarning: Inconsistent parameter values for distribution with name \"min_child_samples\"! This might be a configuration mistake. Optuna allows to call the same distribution with the same name more than once in a trial. When the parameter values are inconsistent optuna only uses the values of the first call and ignores all following. Using these values: {'log': False, 'step': 1, 'low': 2, 'high': 100}\n",
      "  warnings.warn(\n",
      "[I 2023-11-02 10:58:00,047] Trial 61 finished with value: 0.9453347536057132 and parameters: {'learning_rate': 0.001, 'lambda_l1': 6.336244788357645, 'lambda_l2': 6.900281526802492, 'max_bin': 2, 'max_depth': 15, 'min_data_in_leaf': 56, 'min_child_samples': 76, 'num_leaves': 68, 'feature_fraction': 0.21423613202649142, 'bagging_fraction': 0.46400650720315395, 'bagging_freq': 12}. Best is trial 39 with value: 0.9323215585778228.\n"
     ]
    },
    {
     "name": "stdout",
     "output_type": "stream",
     "text": [
      "fold n°0\n",
      "fold n°1\n",
      "fold n°2\n",
      "fold n°3\n",
      "fold n°4\n",
      "AUC score: 0.94533 \n"
     ]
    },
    {
     "name": "stderr",
     "output_type": "stream",
     "text": [
      "/environment/miniconda3/lib/python3.10/site-packages/optuna/trial/_trial.py:677: RuntimeWarning: Inconsistent parameter values for distribution with name \"min_child_samples\"! This might be a configuration mistake. Optuna allows to call the same distribution with the same name more than once in a trial. When the parameter values are inconsistent optuna only uses the values of the first call and ignores all following. Using these values: {'log': False, 'step': 1, 'low': 2, 'high': 100}\n",
      "  warnings.warn(\n",
      "[I 2023-11-02 10:58:00,281] Trial 62 finished with value: 0.9323823769498366 and parameters: {'learning_rate': 0.001, 'lambda_l1': 5.678627727142729, 'lambda_l2': 7.131316388645806, 'max_bin': 2, 'max_depth': 24, 'min_data_in_leaf': 60, 'min_child_samples': 53, 'num_leaves': 63, 'feature_fraction': 0.22111309616464705, 'bagging_fraction': 0.42930311975373325, 'bagging_freq': 11}. Best is trial 39 with value: 0.9323215585778228.\n"
     ]
    },
    {
     "name": "stdout",
     "output_type": "stream",
     "text": [
      "fold n°0\n",
      "fold n°1\n",
      "fold n°2\n",
      "fold n°3\n",
      "fold n°4\n",
      "AUC score: 0.93238 \n"
     ]
    },
    {
     "name": "stderr",
     "output_type": "stream",
     "text": [
      "/environment/miniconda3/lib/python3.10/site-packages/optuna/trial/_trial.py:677: RuntimeWarning: Inconsistent parameter values for distribution with name \"min_child_samples\"! This might be a configuration mistake. Optuna allows to call the same distribution with the same name more than once in a trial. When the parameter values are inconsistent optuna only uses the values of the first call and ignores all following. Using these values: {'log': False, 'step': 1, 'low': 2, 'high': 100}\n",
      "  warnings.warn(\n",
      "[I 2023-11-02 10:58:00,528] Trial 63 finished with value: 0.9500412201717292 and parameters: {'learning_rate': 0.001, 'lambda_l1': 5.0398547711015, 'lambda_l2': 7.58029793931351, 'max_bin': 6, 'max_depth': 12, 'min_data_in_leaf': 54, 'min_child_samples': 60, 'num_leaves': 69, 'feature_fraction': 0.17520063442639686, 'bagging_fraction': 0.38814289553374287, 'bagging_freq': 13}. Best is trial 39 with value: 0.9323215585778228.\n"
     ]
    },
    {
     "name": "stdout",
     "output_type": "stream",
     "text": [
      "fold n°0\n",
      "fold n°1\n",
      "fold n°2\n",
      "fold n°3\n",
      "fold n°4\n",
      "AUC score: 0.95004 \n"
     ]
    },
    {
     "name": "stderr",
     "output_type": "stream",
     "text": [
      "/environment/miniconda3/lib/python3.10/site-packages/optuna/trial/_trial.py:677: RuntimeWarning: Inconsistent parameter values for distribution with name \"min_child_samples\"! This might be a configuration mistake. Optuna allows to call the same distribution with the same name more than once in a trial. When the parameter values are inconsistent optuna only uses the values of the first call and ignores all following. Using these values: {'log': False, 'step': 1, 'low': 2, 'high': 100}\n",
      "  warnings.warn(\n"
     ]
    },
    {
     "name": "stdout",
     "output_type": "stream",
     "text": [
      "fold n°0\n",
      "fold n°1\n",
      "fold n°2\n",
      "fold n°3\n",
      "fold n°4\n"
     ]
    },
    {
     "name": "stderr",
     "output_type": "stream",
     "text": [
      "[I 2023-11-02 10:58:00,813] Trial 64 finished with value: 0.9486455226708534 and parameters: {'learning_rate': 0.001, 'lambda_l1': 5.963502707513466, 'lambda_l2': 8.137070390434923, 'max_bin': 15, 'max_depth': 16, 'min_data_in_leaf': 67, 'min_child_samples': 31, 'num_leaves': 92, 'feature_fraction': 0.2549961496163987, 'bagging_fraction': 0.4749317997484396, 'bagging_freq': 15}. Best is trial 39 with value: 0.9323215585778228.\n"
     ]
    },
    {
     "name": "stdout",
     "output_type": "stream",
     "text": [
      "AUC score: 0.94865 \n",
      "fold n°0\n",
      "fold n°1\n",
      "fold n°2\n",
      "fold n°3\n"
     ]
    },
    {
     "name": "stderr",
     "output_type": "stream",
     "text": [
      "/environment/miniconda3/lib/python3.10/site-packages/optuna/trial/_trial.py:677: RuntimeWarning: Inconsistent parameter values for distribution with name \"min_child_samples\"! This might be a configuration mistake. Optuna allows to call the same distribution with the same name more than once in a trial. When the parameter values are inconsistent optuna only uses the values of the first call and ignores all following. Using these values: {'log': False, 'step': 1, 'low': 2, 'high': 100}\n",
      "  warnings.warn(\n",
      "[I 2023-11-02 10:58:01,088] Trial 65 finished with value: 0.9481707868197888 and parameters: {'learning_rate': 0.001, 'lambda_l1': 6.367013653946089, 'lambda_l2': 6.502223028001946, 'max_bin': 12, 'max_depth': 8, 'min_data_in_leaf': 78, 'min_child_samples': 46, 'num_leaves': 81, 'feature_fraction': 0.3161546501515671, 'bagging_fraction': 0.42914283684899895, 'bagging_freq': 12}. Best is trial 39 with value: 0.9323215585778228.\n"
     ]
    },
    {
     "name": "stdout",
     "output_type": "stream",
     "text": [
      "fold n°4\n",
      "AUC score: 0.94817 \n",
      "fold n°0\n",
      "fold n°1\n",
      "fold n°2\n"
     ]
    },
    {
     "name": "stderr",
     "output_type": "stream",
     "text": [
      "/environment/miniconda3/lib/python3.10/site-packages/optuna/trial/_trial.py:677: RuntimeWarning: Inconsistent parameter values for distribution with name \"min_child_samples\"! This might be a configuration mistake. Optuna allows to call the same distribution with the same name more than once in a trial. When the parameter values are inconsistent optuna only uses the values of the first call and ignores all following. Using these values: {'log': False, 'step': 1, 'low': 2, 'high': 100}\n",
      "  warnings.warn(\n",
      "[I 2023-11-02 10:58:01,336] Trial 66 finished with value: 0.9490966473901216 and parameters: {'learning_rate': 1e-05, 'lambda_l1': 7.428269378166954, 'lambda_l2': 6.863410518653673, 'max_bin': 20, 'max_depth': 5, 'min_data_in_leaf': 71, 'min_child_samples': 42, 'num_leaves': 74, 'feature_fraction': 0.2806444025105041, 'bagging_fraction': 0.39858535147132723, 'bagging_freq': 10}. Best is trial 39 with value: 0.9323215585778228.\n"
     ]
    },
    {
     "name": "stdout",
     "output_type": "stream",
     "text": [
      "fold n°3\n",
      "fold n°4\n",
      "AUC score: 0.94910 \n",
      "fold n°0\n",
      "fold n°1\n",
      "fold n°2\n"
     ]
    },
    {
     "name": "stderr",
     "output_type": "stream",
     "text": [
      "/environment/miniconda3/lib/python3.10/site-packages/optuna/trial/_trial.py:677: RuntimeWarning: Inconsistent parameter values for distribution with name \"min_child_samples\"! This might be a configuration mistake. Optuna allows to call the same distribution with the same name more than once in a trial. When the parameter values are inconsistent optuna only uses the values of the first call and ignores all following. Using these values: {'log': False, 'step': 1, 'low': 2, 'high': 100}\n",
      "  warnings.warn(\n",
      "[I 2023-11-02 10:58:01,556] Trial 67 finished with value: 0.9498802833727286 and parameters: {'learning_rate': 0.001, 'lambda_l1': 7.710847877527091, 'lambda_l2': 7.802038998867678, 'max_bin': 5, 'max_depth': 54, 'min_data_in_leaf': 62, 'min_child_samples': 63, 'num_leaves': 87, 'feature_fraction': 0.14016114875026603, 'bagging_fraction': 0.3579591202955115, 'bagging_freq': 10}. Best is trial 39 with value: 0.9323215585778228.\n"
     ]
    },
    {
     "name": "stdout",
     "output_type": "stream",
     "text": [
      "fold n°3\n",
      "fold n°4\n",
      "AUC score: 0.94988 \n",
      "fold n°0\n",
      "fold n°1\n",
      "fold n°2\n"
     ]
    },
    {
     "name": "stderr",
     "output_type": "stream",
     "text": [
      "/environment/miniconda3/lib/python3.10/site-packages/optuna/trial/_trial.py:677: RuntimeWarning: Inconsistent parameter values for distribution with name \"min_child_samples\"! This might be a configuration mistake. Optuna allows to call the same distribution with the same name more than once in a trial. When the parameter values are inconsistent optuna only uses the values of the first call and ignores all following. Using these values: {'log': False, 'step': 1, 'low': 2, 'high': 100}\n",
      "  warnings.warn(\n",
      "[I 2023-11-02 10:58:01,779] Trial 68 finished with value: 0.9548469826277554 and parameters: {'learning_rate': 0.05, 'lambda_l1': 6.95739668447751, 'lambda_l2': 7.336299327177997, 'max_bin': 26, 'max_depth': 23, 'min_data_in_leaf': 50, 'min_child_samples': 52, 'num_leaves': 79, 'feature_fraction': 0.19845139380052262, 'bagging_fraction': 0.27544002915075416, 'bagging_freq': 9}. Best is trial 39 with value: 0.9323215585778228.\n"
     ]
    },
    {
     "name": "stdout",
     "output_type": "stream",
     "text": [
      "fold n°3\n",
      "fold n°4\n",
      "AUC score: 0.95485 \n",
      "fold n°0\n",
      "fold n°1\n",
      "fold n°2\n"
     ]
    },
    {
     "name": "stderr",
     "output_type": "stream",
     "text": [
      "/environment/miniconda3/lib/python3.10/site-packages/optuna/trial/_trial.py:677: RuntimeWarning: Inconsistent parameter values for distribution with name \"min_child_samples\"! This might be a configuration mistake. Optuna allows to call the same distribution with the same name more than once in a trial. When the parameter values are inconsistent optuna only uses the values of the first call and ignores all following. Using these values: {'log': False, 'step': 1, 'low': 2, 'high': 100}\n",
      "  warnings.warn(\n",
      "[I 2023-11-02 10:58:01,988] Trial 69 finished with value: 0.9501799204151753 and parameters: {'learning_rate': 0.0005, 'lambda_l1': 6.541757983857307, 'lambda_l2': 8.476956422168309, 'max_bin': 9, 'max_depth': 27, 'min_data_in_leaf': 56, 'min_child_samples': 37, 'num_leaves': 62, 'feature_fraction': 0.17494449161993986, 'bagging_fraction': 0.22406692589572108, 'bagging_freq': 11}. Best is trial 39 with value: 0.9323215585778228.\n"
     ]
    },
    {
     "name": "stdout",
     "output_type": "stream",
     "text": [
      "fold n°3\n",
      "fold n°4\n",
      "AUC score: 0.95018 \n",
      "fold n°0\n",
      "fold n°1\n",
      "fold n°2\n",
      "fold n°3\n"
     ]
    },
    {
     "name": "stderr",
     "output_type": "stream",
     "text": [
      "/environment/miniconda3/lib/python3.10/site-packages/optuna/trial/_trial.py:677: RuntimeWarning: Inconsistent parameter values for distribution with name \"min_child_samples\"! This might be a configuration mistake. Optuna allows to call the same distribution with the same name more than once in a trial. When the parameter values are inconsistent optuna only uses the values of the first call and ignores all following. Using these values: {'log': False, 'step': 1, 'low': 2, 'high': 100}\n",
      "  warnings.warn(\n",
      "[I 2023-11-02 10:58:02,183] Trial 70 finished with value: 0.9443326376144704 and parameters: {'learning_rate': 0.1, 'lambda_l1': 7.298314808507075, 'lambda_l2': 8.858538117080244, 'max_bin': 2, 'max_depth': 32, 'min_data_in_leaf': 42, 'min_child_samples': 48, 'num_leaves': 67, 'feature_fraction': 0.23345599857352192, 'bagging_fraction': 0.32117649312953267, 'bagging_freq': 12}. Best is trial 39 with value: 0.9323215585778228.\n",
      "/environment/miniconda3/lib/python3.10/site-packages/optuna/trial/_trial.py:677: RuntimeWarning: Inconsistent parameter values for distribution with name \"min_child_samples\"! This might be a configuration mistake. Optuna allows to call the same distribution with the same name more than once in a trial. When the parameter values are inconsistent optuna only uses the values of the first call and ignores all following. Using these values: {'log': False, 'step': 1, 'low': 2, 'high': 100}\n",
      "  warnings.warn(\n"
     ]
    },
    {
     "name": "stdout",
     "output_type": "stream",
     "text": [
      "fold n°4\n",
      "AUC score: 0.94433 \n",
      "fold n°0\n",
      "fold n°1\n",
      "fold n°2\n",
      "fold n°3\n"
     ]
    },
    {
     "name": "stderr",
     "output_type": "stream",
     "text": [
      "[I 2023-11-02 10:58:02,396] Trial 71 finished with value: 0.9323702132754338 and parameters: {'learning_rate': 0.001, 'lambda_l1': 6.656306397884683, 'lambda_l2': 6.834456745025411, 'max_bin': 2, 'max_depth': 6, 'min_data_in_leaf': 51, 'min_child_samples': 34, 'num_leaves': 85, 'feature_fraction': 0.26203177995178306, 'bagging_fraction': 0.36617396964900245, 'bagging_freq': 11}. Best is trial 39 with value: 0.9323215585778228.\n"
     ]
    },
    {
     "name": "stdout",
     "output_type": "stream",
     "text": [
      "fold n°4\n",
      "AUC score: 0.93237 \n",
      "fold n°0\n",
      "fold n°1\n",
      "fold n°2\n",
      "fold n°3\n"
     ]
    },
    {
     "name": "stderr",
     "output_type": "stream",
     "text": [
      "/environment/miniconda3/lib/python3.10/site-packages/optuna/trial/_trial.py:677: RuntimeWarning: Inconsistent parameter values for distribution with name \"min_child_samples\"! This might be a configuration mistake. Optuna allows to call the same distribution with the same name more than once in a trial. When the parameter values are inconsistent optuna only uses the values of the first call and ignores all following. Using these values: {'log': False, 'step': 1, 'low': 2, 'high': 100}\n",
      "  warnings.warn(\n",
      "[I 2023-11-02 10:58:02,640] Trial 72 finished with value: 0.9484680165408393 and parameters: {'learning_rate': 0.001, 'lambda_l1': 6.0719151920811, 'lambda_l2': 7.053496248517335, 'max_bin': 9, 'max_depth': 12, 'min_data_in_leaf': 52, 'min_child_samples': 32, 'num_leaves': 84, 'feature_fraction': 0.2755330335350431, 'bagging_fraction': 0.29678856517972685, 'bagging_freq': 13}. Best is trial 39 with value: 0.9323215585778228.\n"
     ]
    },
    {
     "name": "stdout",
     "output_type": "stream",
     "text": [
      "fold n°4\n",
      "AUC score: 0.94847 \n",
      "fold n°0\n",
      "fold n°1\n",
      "fold n°2\n",
      "fold n°3\n"
     ]
    },
    {
     "name": "stderr",
     "output_type": "stream",
     "text": [
      "/environment/miniconda3/lib/python3.10/site-packages/optuna/trial/_trial.py:677: RuntimeWarning: Inconsistent parameter values for distribution with name \"min_child_samples\"! This might be a configuration mistake. Optuna allows to call the same distribution with the same name more than once in a trial. When the parameter values are inconsistent optuna only uses the values of the first call and ignores all following. Using these values: {'log': False, 'step': 1, 'low': 2, 'high': 100}\n",
      "  warnings.warn(\n",
      "[I 2023-11-02 10:58:02,869] Trial 73 finished with value: 0.9471763419945459 and parameters: {'learning_rate': 0.001, 'lambda_l1': 8.136630445431308, 'lambda_l2': 6.596275738343175, 'max_bin': 6, 'max_depth': 18, 'min_data_in_leaf': 47, 'min_child_samples': 41, 'num_leaves': 89, 'feature_fraction': 0.20164565041508012, 'bagging_fraction': 0.3517603608692103, 'bagging_freq': 11}. Best is trial 39 with value: 0.9323215585778228.\n"
     ]
    },
    {
     "name": "stdout",
     "output_type": "stream",
     "text": [
      "fold n°4\n",
      "AUC score: 0.94718 \n",
      "fold n°0\n",
      "fold n°1\n",
      "fold n°2\n"
     ]
    },
    {
     "name": "stderr",
     "output_type": "stream",
     "text": [
      "/environment/miniconda3/lib/python3.10/site-packages/optuna/trial/_trial.py:677: RuntimeWarning: Inconsistent parameter values for distribution with name \"min_child_samples\"! This might be a configuration mistake. Optuna allows to call the same distribution with the same name more than once in a trial. When the parameter values are inconsistent optuna only uses the values of the first call and ignores all following. Using these values: {'log': False, 'step': 1, 'low': 2, 'high': 100}\n",
      "  warnings.warn(\n",
      "[I 2023-11-02 10:58:03,120] Trial 74 finished with value: 0.9453167498210113 and parameters: {'learning_rate': 0.001, 'lambda_l1': 7.086294859365067, 'lambda_l2': 8.092385984130493, 'max_bin': 4, 'max_depth': 6, 'min_data_in_leaf': 60, 'min_child_samples': 57, 'num_leaves': 83, 'feature_fraction': 0.24443055465525199, 'bagging_fraction': 0.42239159202933246, 'bagging_freq': 11}. Best is trial 39 with value: 0.9323215585778228.\n"
     ]
    },
    {
     "name": "stdout",
     "output_type": "stream",
     "text": [
      "fold n°3\n",
      "fold n°4\n",
      "AUC score: 0.94532 \n",
      "fold n°0\n",
      "fold n°1\n"
     ]
    },
    {
     "name": "stderr",
     "output_type": "stream",
     "text": [
      "/environment/miniconda3/lib/python3.10/site-packages/optuna/trial/_trial.py:677: RuntimeWarning: Inconsistent parameter values for distribution with name \"min_child_samples\"! This might be a configuration mistake. Optuna allows to call the same distribution with the same name more than once in a trial. When the parameter values are inconsistent optuna only uses the values of the first call and ignores all following. Using these values: {'log': False, 'step': 1, 'low': 2, 'high': 100}\n",
      "  warnings.warn(\n",
      "[I 2023-11-02 10:58:03,334] Trial 75 finished with value: 0.9643347780124957 and parameters: {'learning_rate': 0.5, 'lambda_l1': 6.763082201648509, 'lambda_l2': 7.600911844051141, 'max_bin': 13, 'max_depth': 21, 'min_data_in_leaf': 45, 'min_child_samples': 38, 'num_leaves': 95, 'feature_fraction': 0.34627296401371, 'bagging_fraction': 0.3765833525559528, 'bagging_freq': 14}. Best is trial 39 with value: 0.9323215585778228.\n",
      "/environment/miniconda3/lib/python3.10/site-packages/optuna/trial/_trial.py:677: RuntimeWarning: Inconsistent parameter values for distribution with name \"min_child_samples\"! This might be a configuration mistake. Optuna allows to call the same distribution with the same name more than once in a trial. When the parameter values are inconsistent optuna only uses the values of the first call and ignores all following. Using these values: {'log': False, 'step': 1, 'low': 2, 'high': 100}\n",
      "  warnings.warn(\n"
     ]
    },
    {
     "name": "stdout",
     "output_type": "stream",
     "text": [
      "fold n°2\n",
      "fold n°3\n",
      "fold n°4\n",
      "AUC score: 0.96433 \n",
      "fold n°0\n",
      "fold n°1\n",
      "fold n°2\n"
     ]
    },
    {
     "name": "stderr",
     "output_type": "stream",
     "text": [
      "[I 2023-11-02 10:58:03,521] Trial 76 finished with value: 0.9501283371824067 and parameters: {'learning_rate': 1, 'lambda_l1': 7.765258521385824, 'lambda_l2': 6.358378816409553, 'max_bin': 8, 'max_depth': 11, 'min_data_in_leaf': 66, 'min_child_samples': 28, 'num_leaves': 78, 'feature_fraction': 0.3010110174961975, 'bagging_fraction': 0.33141117146711213, 'bagging_freq': 10}. Best is trial 39 with value: 0.9323215585778228.\n",
      "/environment/miniconda3/lib/python3.10/site-packages/optuna/trial/_trial.py:677: RuntimeWarning: Inconsistent parameter values for distribution with name \"min_child_samples\"! This might be a configuration mistake. Optuna allows to call the same distribution with the same name more than once in a trial. When the parameter values are inconsistent optuna only uses the values of the first call and ignores all following. Using these values: {'log': False, 'step': 1, 'low': 2, 'high': 100}\n",
      "  warnings.warn(\n"
     ]
    },
    {
     "name": "stdout",
     "output_type": "stream",
     "text": [
      "fold n°3\n",
      "fold n°4\n",
      "AUC score: 0.95013 \n",
      "fold n°0\n",
      "fold n°1\n",
      "fold n°2\n"
     ]
    },
    {
     "name": "stderr",
     "output_type": "stream",
     "text": [
      "[I 2023-11-02 10:58:03,769] Trial 77 finished with value: 0.9480601534173176 and parameters: {'learning_rate': 0.001, 'lambda_l1': 6.4866084251789164, 'lambda_l2': 5.937641595030492, 'max_bin': 4, 'max_depth': 7, 'min_data_in_leaf': 63, 'min_child_samples': 51, 'num_leaves': 73, 'feature_fraction': 0.210071104994837, 'bagging_fraction': 0.44772177234843663, 'bagging_freq': 12}. Best is trial 39 with value: 0.9323215585778228.\n"
     ]
    },
    {
     "name": "stdout",
     "output_type": "stream",
     "text": [
      "fold n°3\n",
      "fold n°4\n",
      "AUC score: 0.94806 \n",
      "fold n°0\n",
      "fold n°1\n"
     ]
    },
    {
     "name": "stderr",
     "output_type": "stream",
     "text": [
      "/environment/miniconda3/lib/python3.10/site-packages/optuna/trial/_trial.py:677: RuntimeWarning: Inconsistent parameter values for distribution with name \"min_child_samples\"! This might be a configuration mistake. Optuna allows to call the same distribution with the same name more than once in a trial. When the parameter values are inconsistent optuna only uses the values of the first call and ignores all following. Using these values: {'log': False, 'step': 1, 'low': 2, 'high': 100}\n",
      "  warnings.warn(\n"
     ]
    },
    {
     "name": "stdout",
     "output_type": "stream",
     "text": [
      "fold n°2\n",
      "fold n°3\n"
     ]
    },
    {
     "name": "stderr",
     "output_type": "stream",
     "text": [
      "[I 2023-11-02 10:58:05,248] Trial 78 finished with value: 0.9529578713691771 and parameters: {'learning_rate': 0.01, 'lambda_l1': 5.832469448394953, 'lambda_l2': 6.743843040858898, 'max_bin': 15, 'max_depth': 37, 'min_data_in_leaf': 55, 'min_child_samples': 64, 'num_leaves': 70, 'feature_fraction': 0.13455508476225664, 'bagging_fraction': 0.5216340378212165, 'bagging_freq': 9}. Best is trial 39 with value: 0.9323215585778228.\n"
     ]
    },
    {
     "name": "stdout",
     "output_type": "stream",
     "text": [
      "fold n°4\n",
      "AUC score: 0.95296 \n",
      "fold n°0\n",
      "fold n°1\n",
      "fold n°2\n",
      "fold n°3\n"
     ]
    },
    {
     "name": "stderr",
     "output_type": "stream",
     "text": [
      "/environment/miniconda3/lib/python3.10/site-packages/optuna/trial/_trial.py:677: RuntimeWarning: Inconsistent parameter values for distribution with name \"min_child_samples\"! This might be a configuration mistake. Optuna allows to call the same distribution with the same name more than once in a trial. When the parameter values are inconsistent optuna only uses the values of the first call and ignores all following. Using these values: {'log': False, 'step': 1, 'low': 2, 'high': 100}\n",
      "  warnings.warn(\n",
      "[I 2023-11-02 10:58:05,467] Trial 79 finished with value: 0.9454539576148603 and parameters: {'learning_rate': 0.001, 'lambda_l1': 6.270626436561411, 'lambda_l2': 7.196174718271193, 'max_bin': 2, 'max_depth': 14, 'min_data_in_leaf': 58, 'min_child_samples': 43, 'num_leaves': 86, 'feature_fraction': 0.17408047274172167, 'bagging_fraction': 0.48243185465188676, 'bagging_freq': 8}. Best is trial 39 with value: 0.9323215585778228.\n"
     ]
    },
    {
     "name": "stdout",
     "output_type": "stream",
     "text": [
      "fold n°4\n",
      "AUC score: 0.94545 \n",
      "fold n°0\n",
      "fold n°1\n",
      "fold n°2\n"
     ]
    },
    {
     "name": "stderr",
     "output_type": "stream",
     "text": [
      "/environment/miniconda3/lib/python3.10/site-packages/optuna/trial/_trial.py:677: RuntimeWarning: Inconsistent parameter values for distribution with name \"min_child_samples\"! This might be a configuration mistake. Optuna allows to call the same distribution with the same name more than once in a trial. When the parameter values are inconsistent optuna only uses the values of the first call and ignores all following. Using these values: {'log': False, 'step': 1, 'low': 2, 'high': 100}\n",
      "  warnings.warn(\n",
      "[I 2023-11-02 10:58:05,721] Trial 80 finished with value: 0.9497627209682775 and parameters: {'learning_rate': 0.001, 'lambda_l1': 5.437874777067092, 'lambda_l2': 8.288709409446131, 'max_bin': 18, 'max_depth': 17, 'min_data_in_leaf': 38, 'min_child_samples': 62, 'num_leaves': 90, 'feature_fraction': 0.2693856963685996, 'bagging_fraction': 0.3989240113309134, 'bagging_freq': 13}. Best is trial 39 with value: 0.9323215585778228.\n"
     ]
    },
    {
     "name": "stdout",
     "output_type": "stream",
     "text": [
      "fold n°3\n",
      "fold n°4\n",
      "AUC score: 0.94976 \n",
      "fold n°0\n",
      "fold n°1\n",
      "fold n°2\n"
     ]
    },
    {
     "name": "stderr",
     "output_type": "stream",
     "text": [
      "/environment/miniconda3/lib/python3.10/site-packages/optuna/trial/_trial.py:677: RuntimeWarning: Inconsistent parameter values for distribution with name \"min_child_samples\"! This might be a configuration mistake. Optuna allows to call the same distribution with the same name more than once in a trial. When the parameter values are inconsistent optuna only uses the values of the first call and ignores all following. Using these values: {'log': False, 'step': 1, 'low': 2, 'high': 100}\n",
      "  warnings.warn(\n",
      "[I 2023-11-02 10:58:05,948] Trial 81 finished with value: 0.9323702132754338 and parameters: {'learning_rate': 0.001, 'lambda_l1': 6.713882767456694, 'lambda_l2': 6.952625283901357, 'max_bin': 2, 'max_depth': 3, 'min_data_in_leaf': 51, 'min_child_samples': 38, 'num_leaves': 87, 'feature_fraction': 0.2487146818604598, 'bagging_fraction': 0.3669977038103964, 'bagging_freq': 11}. Best is trial 39 with value: 0.9323215585778228.\n"
     ]
    },
    {
     "name": "stdout",
     "output_type": "stream",
     "text": [
      "fold n°3\n",
      "fold n°4\n",
      "AUC score: 0.93237 \n",
      "fold n°0\n",
      "fold n°1\n"
     ]
    },
    {
     "name": "stderr",
     "output_type": "stream",
     "text": [
      "/environment/miniconda3/lib/python3.10/site-packages/optuna/trial/_trial.py:677: RuntimeWarning: Inconsistent parameter values for distribution with name \"min_child_samples\"! This might be a configuration mistake. Optuna allows to call the same distribution with the same name more than once in a trial. When the parameter values are inconsistent optuna only uses the values of the first call and ignores all following. Using these values: {'log': False, 'step': 1, 'low': 2, 'high': 100}\n",
      "  warnings.warn(\n",
      "[I 2023-11-02 10:58:06,201] Trial 82 finished with value: 0.9508996569911327 and parameters: {'learning_rate': 0.001, 'lambda_l1': 7.279208563252391, 'lambda_l2': 7.475220407222851, 'max_bin': 5, 'max_depth': 2, 'min_data_in_leaf': 49, 'min_child_samples': 48, 'num_leaves': 81, 'feature_fraction': 0.23346218979198918, 'bagging_fraction': 0.3657994594974428, 'bagging_freq': 11}. Best is trial 39 with value: 0.9323215585778228.\n"
     ]
    },
    {
     "name": "stdout",
     "output_type": "stream",
     "text": [
      "fold n°2\n",
      "fold n°3\n",
      "fold n°4\n",
      "AUC score: 0.95090 \n",
      "fold n°0\n"
     ]
    },
    {
     "name": "stderr",
     "output_type": "stream",
     "text": [
      "/environment/miniconda3/lib/python3.10/site-packages/optuna/trial/_trial.py:677: RuntimeWarning: Inconsistent parameter values for distribution with name \"min_child_samples\"! This might be a configuration mistake. Optuna allows to call the same distribution with the same name more than once in a trial. When the parameter values are inconsistent optuna only uses the values of the first call and ignores all following. Using these values: {'log': False, 'step': 1, 'low': 2, 'high': 100}\n",
      "  warnings.warn(\n",
      "[I 2023-11-02 10:58:06,508] Trial 83 finished with value: 0.9492712294013381 and parameters: {'learning_rate': 0.001, 'lambda_l1': 6.131463407544384, 'lambda_l2': 6.911512446463503, 'max_bin': 8, 'max_depth': 4, 'min_data_in_leaf': 44, 'min_child_samples': 35, 'num_leaves': 98, 'feature_fraction': 0.3252549418916195, 'bagging_fraction': 0.41303598179404616, 'bagging_freq': 10}. Best is trial 39 with value: 0.9323215585778228.\n"
     ]
    },
    {
     "name": "stdout",
     "output_type": "stream",
     "text": [
      "fold n°1\n",
      "fold n°2\n",
      "fold n°3\n",
      "fold n°4\n",
      "AUC score: 0.94927 \n"
     ]
    },
    {
     "name": "stderr",
     "output_type": "stream",
     "text": [
      "/environment/miniconda3/lib/python3.10/site-packages/optuna/trial/_trial.py:677: RuntimeWarning: Inconsistent parameter values for distribution with name \"min_child_samples\"! This might be a configuration mistake. Optuna allows to call the same distribution with the same name more than once in a trial. When the parameter values are inconsistent optuna only uses the values of the first call and ignores all following. Using these values: {'log': False, 'step': 1, 'low': 2, 'high': 100}\n",
      "  warnings.warn(\n"
     ]
    },
    {
     "name": "stdout",
     "output_type": "stream",
     "text": [
      "fold n°0\n",
      "fold n°1\n",
      "fold n°2\n",
      "fold n°3\n",
      "fold n°4\n"
     ]
    },
    {
     "name": "stderr",
     "output_type": "stream",
     "text": [
      "[I 2023-11-02 10:58:06,817] Trial 84 finished with value: 0.9481901630827909 and parameters: {'learning_rate': 0.001, 'lambda_l1': 6.86307088556301, 'lambda_l2': 7.973504735188525, 'max_bin': 11, 'max_depth': 9, 'min_data_in_leaf': 52, 'min_child_samples': 30, 'num_leaves': 77, 'feature_fraction': 0.2949094383394479, 'bagging_fraction': 0.3103386427259728, 'bagging_freq': 12}. Best is trial 39 with value: 0.9323215585778228.\n"
     ]
    },
    {
     "name": "stdout",
     "output_type": "stream",
     "text": [
      "AUC score: 0.94819 \n",
      "fold n°0\n",
      "fold n°1\n",
      "fold n°2\n",
      "fold n°3\n"
     ]
    },
    {
     "name": "stderr",
     "output_type": "stream",
     "text": [
      "/environment/miniconda3/lib/python3.10/site-packages/optuna/trial/_trial.py:677: RuntimeWarning: Inconsistent parameter values for distribution with name \"min_child_samples\"! This might be a configuration mistake. Optuna allows to call the same distribution with the same name more than once in a trial. When the parameter values are inconsistent optuna only uses the values of the first call and ignores all following. Using these values: {'log': False, 'step': 1, 'low': 2, 'high': 100}\n",
      "  warnings.warn(\n",
      "[I 2023-11-02 10:58:07,089] Trial 85 finished with value: 0.9456058093550579 and parameters: {'learning_rate': 0.001, 'lambda_l1': 7.540164366010606, 'lambda_l2': 7.166802863667057, 'max_bin': 4, 'max_depth': 13, 'min_data_in_leaf': 61, 'min_child_samples': 34, 'num_leaves': 65, 'feature_fraction': 0.25576442365251106, 'bagging_fraction': 0.45354505682296054, 'bagging_freq': 11}. Best is trial 39 with value: 0.9323215585778228.\n"
     ]
    },
    {
     "name": "stdout",
     "output_type": "stream",
     "text": [
      "fold n°4\n",
      "AUC score: 0.94561 \n",
      "fold n°0\n",
      "fold n°1\n",
      "fold n°2\n"
     ]
    },
    {
     "name": "stderr",
     "output_type": "stream",
     "text": [
      "/environment/miniconda3/lib/python3.10/site-packages/optuna/trial/_trial.py:677: RuntimeWarning: Inconsistent parameter values for distribution with name \"min_child_samples\"! This might be a configuration mistake. Optuna allows to call the same distribution with the same name more than once in a trial. When the parameter values are inconsistent optuna only uses the values of the first call and ignores all following. Using these values: {'log': False, 'step': 1, 'low': 2, 'high': 100}\n",
      "  warnings.warn(\n",
      "[I 2023-11-02 10:58:07,340] Trial 86 finished with value: 0.9480332716196015 and parameters: {'learning_rate': 1e-05, 'lambda_l1': 6.579527256617875, 'lambda_l2': 7.700482939468786, 'max_bin': 8, 'max_depth': 7, 'min_data_in_leaf': 68, 'min_child_samples': 39, 'num_leaves': 92, 'feature_fraction': 0.19806998743350593, 'bagging_fraction': 0.3380667548192578, 'bagging_freq': 12}. Best is trial 39 with value: 0.9323215585778228.\n"
     ]
    },
    {
     "name": "stdout",
     "output_type": "stream",
     "text": [
      "fold n°3\n",
      "fold n°4\n",
      "AUC score: 0.94803 \n",
      "fold n°0\n",
      "fold n°1\n"
     ]
    },
    {
     "name": "stderr",
     "output_type": "stream",
     "text": [
      "/environment/miniconda3/lib/python3.10/site-packages/optuna/trial/_trial.py:677: RuntimeWarning: Inconsistent parameter values for distribution with name \"min_child_samples\"! This might be a configuration mistake. Optuna allows to call the same distribution with the same name more than once in a trial. When the parameter values are inconsistent optuna only uses the values of the first call and ignores all following. Using these values: {'log': False, 'step': 1, 'low': 2, 'high': 100}\n",
      "  warnings.warn(\n",
      "[I 2023-11-02 10:58:07,590] Trial 87 finished with value: 0.9505355656315911 and parameters: {'learning_rate': 0.001, 'lambda_l1': 7.104760801535461, 'lambda_l2': 6.6180206554154895, 'max_bin': 5, 'max_depth': 20, 'min_data_in_leaf': 57, 'min_child_samples': 45, 'num_leaves': 56, 'feature_fraction': 0.1553888313266602, 'bagging_fraction': 0.3757216400986619, 'bagging_freq': 11}. Best is trial 39 with value: 0.9323215585778228.\n"
     ]
    },
    {
     "name": "stdout",
     "output_type": "stream",
     "text": [
      "fold n°2\n",
      "fold n°3\n",
      "fold n°4\n",
      "AUC score: 0.95054 \n",
      "fold n°0\n"
     ]
    },
    {
     "name": "stderr",
     "output_type": "stream",
     "text": [
      "/environment/miniconda3/lib/python3.10/site-packages/optuna/trial/_trial.py:677: RuntimeWarning: Inconsistent parameter values for distribution with name \"min_child_samples\"! This might be a configuration mistake. Optuna allows to call the same distribution with the same name more than once in a trial. When the parameter values are inconsistent optuna only uses the values of the first call and ignores all following. Using these values: {'log': False, 'step': 1, 'low': 2, 'high': 100}\n",
      "  warnings.warn(\n",
      "[I 2023-11-02 10:58:07,824] Trial 88 finished with value: 0.9323702132754338 and parameters: {'learning_rate': 0.001, 'lambda_l1': 5.703166627199561, 'lambda_l2': 7.426741053723911, 'max_bin': 2, 'max_depth': 23, 'min_data_in_leaf': 65, 'min_child_samples': 54, 'num_leaves': 80, 'feature_fraction': 0.22666948242854176, 'bagging_fraction': 0.4131194138960488, 'bagging_freq': 10}. Best is trial 39 with value: 0.9323215585778228.\n"
     ]
    },
    {
     "name": "stdout",
     "output_type": "stream",
     "text": [
      "fold n°1\n",
      "fold n°2\n",
      "fold n°3\n",
      "fold n°4\n",
      "AUC score: 0.93237 \n",
      "fold n°0\n"
     ]
    },
    {
     "name": "stderr",
     "output_type": "stream",
     "text": [
      "/environment/miniconda3/lib/python3.10/site-packages/optuna/trial/_trial.py:677: RuntimeWarning: Inconsistent parameter values for distribution with name \"min_child_samples\"! This might be a configuration mistake. Optuna allows to call the same distribution with the same name more than once in a trial. When the parameter values are inconsistent optuna only uses the values of the first call and ignores all following. Using these values: {'log': False, 'step': 1, 'low': 2, 'high': 100}\n",
      "  warnings.warn(\n",
      "[I 2023-11-02 10:58:08,066] Trial 89 finished with value: 0.9546187019868972 and parameters: {'learning_rate': 0.05, 'lambda_l1': 8.088634139437218, 'lambda_l2': 7.391421387695692, 'max_bin': 36, 'max_depth': 24, 'min_data_in_leaf': 72, 'min_child_samples': 57, 'num_leaves': 88, 'feature_fraction': 0.12604963458334204, 'bagging_fraction': 0.40683660446049663, 'bagging_freq': 10}. Best is trial 39 with value: 0.9323215585778228.\n"
     ]
    },
    {
     "name": "stdout",
     "output_type": "stream",
     "text": [
      "fold n°1\n",
      "fold n°2\n",
      "fold n°3\n",
      "fold n°4\n",
      "AUC score: 0.95462 \n",
      "fold n°0\n"
     ]
    },
    {
     "name": "stderr",
     "output_type": "stream",
     "text": [
      "/environment/miniconda3/lib/python3.10/site-packages/optuna/trial/_trial.py:677: RuntimeWarning: Inconsistent parameter values for distribution with name \"min_child_samples\"! This might be a configuration mistake. Optuna allows to call the same distribution with the same name more than once in a trial. When the parameter values are inconsistent optuna only uses the values of the first call and ignores all following. Using these values: {'log': False, 'step': 1, 'low': 2, 'high': 100}\n",
      "  warnings.warn(\n",
      "[I 2023-11-02 10:58:08,349] Trial 90 finished with value: 0.9488286953849187 and parameters: {'learning_rate': 0.001, 'lambda_l1': 6.810926791715818, 'lambda_l2': 7.844939579919391, 'max_bin': 12, 'max_depth': 28, 'min_data_in_leaf': 65, 'min_child_samples': 53, 'num_leaves': 80, 'feature_fraction': 0.2332222749024157, 'bagging_fraction': 0.39018703440959085, 'bagging_freq': 9}. Best is trial 39 with value: 0.9323215585778228.\n"
     ]
    },
    {
     "name": "stdout",
     "output_type": "stream",
     "text": [
      "fold n°1\n",
      "fold n°2\n",
      "fold n°3\n",
      "fold n°4\n",
      "AUC score: 0.94883 \n"
     ]
    },
    {
     "name": "stderr",
     "output_type": "stream",
     "text": [
      "/environment/miniconda3/lib/python3.10/site-packages/optuna/trial/_trial.py:677: RuntimeWarning: Inconsistent parameter values for distribution with name \"min_child_samples\"! This might be a configuration mistake. Optuna allows to call the same distribution with the same name more than once in a trial. When the parameter values are inconsistent optuna only uses the values of the first call and ignores all following. Using these values: {'log': False, 'step': 1, 'low': 2, 'high': 100}\n",
      "  warnings.warn(\n",
      "[I 2023-11-02 10:58:08,602] Trial 91 finished with value: 0.9493330800556501 and parameters: {'learning_rate': 0.001, 'lambda_l1': 5.796095833204242, 'lambda_l2': 7.028095788866619, 'max_bin': 3, 'max_depth': 10, 'min_data_in_leaf': 54, 'min_child_samples': 48, 'num_leaves': 86, 'feature_fraction': 0.21705884680021223, 'bagging_fraction': 0.35933856278287746, 'bagging_freq': 10}. Best is trial 39 with value: 0.9323215585778228.\n"
     ]
    },
    {
     "name": "stdout",
     "output_type": "stream",
     "text": [
      "fold n°0\n",
      "fold n°1\n",
      "fold n°2\n",
      "fold n°3\n",
      "fold n°4\n",
      "AUC score: 0.94933 \n"
     ]
    },
    {
     "name": "stderr",
     "output_type": "stream",
     "text": [
      "/environment/miniconda3/lib/python3.10/site-packages/optuna/trial/_trial.py:677: RuntimeWarning: Inconsistent parameter values for distribution with name \"min_child_samples\"! This might be a configuration mistake. Optuna allows to call the same distribution with the same name more than once in a trial. When the parameter values are inconsistent optuna only uses the values of the first call and ignores all following. Using these values: {'log': False, 'step': 1, 'low': 2, 'high': 100}\n",
      "  warnings.warn(\n",
      "[I 2023-11-02 10:58:08,852] Trial 92 finished with value: 0.932412321232083 and parameters: {'learning_rate': 0.001, 'lambda_l1': 6.119625639776267, 'lambda_l2': 6.76175832131108, 'max_bin': 2, 'max_depth': 18, 'min_data_in_leaf': 47, 'min_child_samples': 66, 'num_leaves': 74, 'feature_fraction': 0.28017668956763625, 'bagging_fraction': 0.4376498474776844, 'bagging_freq': 11}. Best is trial 39 with value: 0.9323215585778228.\n"
     ]
    },
    {
     "name": "stdout",
     "output_type": "stream",
     "text": [
      "fold n°0\n",
      "fold n°1\n",
      "fold n°2\n",
      "fold n°3\n",
      "fold n°4\n",
      "AUC score: 0.93241 \n"
     ]
    },
    {
     "name": "stderr",
     "output_type": "stream",
     "text": [
      "/environment/miniconda3/lib/python3.10/site-packages/optuna/trial/_trial.py:677: RuntimeWarning: Inconsistent parameter values for distribution with name \"min_child_samples\"! This might be a configuration mistake. Optuna allows to call the same distribution with the same name more than once in a trial. When the parameter values are inconsistent optuna only uses the values of the first call and ignores all following. Using these values: {'log': False, 'step': 1, 'low': 2, 'high': 100}\n",
      "  warnings.warn(\n"
     ]
    },
    {
     "name": "stdout",
     "output_type": "stream",
     "text": [
      "fold n°0\n",
      "fold n°1\n",
      "fold n°2\n",
      "fold n°3\n",
      "fold n°4\n"
     ]
    },
    {
     "name": "stderr",
     "output_type": "stream",
     "text": [
      "[I 2023-11-02 10:58:09,131] Trial 93 finished with value: 0.9522321421506053 and parameters: {'learning_rate': 0.001, 'lambda_l1': 6.432408197479184, 'lambda_l2': 6.297702467438409, 'max_bin': 100, 'max_depth': 21, 'min_data_in_leaf': 59, 'min_child_samples': 50, 'num_leaves': 83, 'feature_fraction': 0.18620207065891514, 'bagging_fraction': 0.420391293189458, 'bagging_freq': 12}. Best is trial 39 with value: 0.9323215585778228.\n"
     ]
    },
    {
     "name": "stdout",
     "output_type": "stream",
     "text": [
      "AUC score: 0.95223 \n",
      "fold n°0\n",
      "fold n°1\n",
      "fold n°2\n",
      "fold n°3\n"
     ]
    },
    {
     "name": "stderr",
     "output_type": "stream",
     "text": [
      "/environment/miniconda3/lib/python3.10/site-packages/optuna/trial/_trial.py:677: RuntimeWarning: Inconsistent parameter values for distribution with name \"min_child_samples\"! This might be a configuration mistake. Optuna allows to call the same distribution with the same name more than once in a trial. When the parameter values are inconsistent optuna only uses the values of the first call and ignores all following. Using these values: {'log': False, 'step': 1, 'low': 2, 'high': 100}\n",
      "  warnings.warn(\n",
      "[I 2023-11-02 10:58:09,416] Trial 94 finished with value: 0.9496356056975399 and parameters: {'learning_rate': 0.001, 'lambda_l1': 5.8470731070033635, 'lambda_l2': 7.518395972019702, 'max_bin': 7, 'max_depth': 33, 'min_data_in_leaf': 63, 'min_child_samples': 43, 'num_leaves': 85, 'feature_fraction': 0.2527344886126708, 'bagging_fraction': 0.34753916724118245, 'bagging_freq': 11}. Best is trial 39 with value: 0.9323215585778228.\n"
     ]
    },
    {
     "name": "stdout",
     "output_type": "stream",
     "text": [
      "fold n°4\n",
      "AUC score: 0.94964 \n",
      "fold n°0\n",
      "fold n°1\n",
      "fold n°2\n"
     ]
    },
    {
     "name": "stderr",
     "output_type": "stream",
     "text": [
      "/environment/miniconda3/lib/python3.10/site-packages/optuna/trial/_trial.py:677: RuntimeWarning: Inconsistent parameter values for distribution with name \"min_child_samples\"! This might be a configuration mistake. Optuna allows to call the same distribution with the same name more than once in a trial. When the parameter values are inconsistent optuna only uses the values of the first call and ignores all following. Using these values: {'log': False, 'step': 1, 'low': 2, 'high': 100}\n",
      "  warnings.warn(\n",
      "[I 2023-11-02 10:58:09,667] Trial 95 finished with value: 0.9495570799046826 and parameters: {'learning_rate': 0.0005, 'lambda_l1': 6.215757230541646, 'lambda_l2': 7.245217975484048, 'max_bin': 10, 'max_depth': 71, 'min_data_in_leaf': 76, 'min_child_samples': 58, 'num_leaves': 94, 'feature_fraction': 0.16540592645972174, 'bagging_fraction': 0.32183519540813366, 'bagging_freq': 10}. Best is trial 39 with value: 0.9323215585778228.\n"
     ]
    },
    {
     "name": "stdout",
     "output_type": "stream",
     "text": [
      "fold n°3\n",
      "fold n°4\n",
      "AUC score: 0.94956 \n",
      "fold n°0\n",
      "fold n°1\n",
      "fold n°2\n"
     ]
    },
    {
     "name": "stderr",
     "output_type": "stream",
     "text": [
      "/environment/miniconda3/lib/python3.10/site-packages/optuna/trial/_trial.py:677: RuntimeWarning: Inconsistent parameter values for distribution with name \"min_child_samples\"! This might be a configuration mistake. Optuna allows to call the same distribution with the same name more than once in a trial. When the parameter values are inconsistent optuna only uses the values of the first call and ignores all following. Using these values: {'log': False, 'step': 1, 'low': 2, 'high': 100}\n",
      "  warnings.warn(\n",
      "[I 2023-11-02 10:58:09,891] Trial 96 finished with value: 0.9576829592511757 and parameters: {'learning_rate': 0.1, 'lambda_l1': 5.5337033518001135, 'lambda_l2': 6.476059076922627, 'max_bin': 48, 'max_depth': 4, 'min_data_in_leaf': 70, 'min_child_samples': 22, 'num_leaves': 77, 'feature_fraction': 0.31073447115426917, 'bagging_fraction': 0.3875413705094806, 'bagging_freq': 12}. Best is trial 39 with value: 0.9323215585778228.\n"
     ]
    },
    {
     "name": "stdout",
     "output_type": "stream",
     "text": [
      "fold n°3\n",
      "fold n°4\n",
      "AUC score: 0.95768 \n",
      "fold n°0\n",
      "fold n°1\n",
      "fold n°2\n"
     ]
    },
    {
     "name": "stderr",
     "output_type": "stream",
     "text": [
      "/environment/miniconda3/lib/python3.10/site-packages/optuna/trial/_trial.py:677: RuntimeWarning: Inconsistent parameter values for distribution with name \"min_child_samples\"! This might be a configuration mistake. Optuna allows to call the same distribution with the same name more than once in a trial. When the parameter values are inconsistent optuna only uses the values of the first call and ignores all following. Using these values: {'log': False, 'step': 1, 'low': 2, 'high': 100}\n",
      "  warnings.warn(\n",
      "[I 2023-11-02 10:58:10,111] Trial 97 finished with value: 0.9485795358250361 and parameters: {'learning_rate': 0.001, 'lambda_l1': 6.535512796414607, 'lambda_l2': 8.279228549655391, 'max_bin': 5, 'max_depth': 14, 'min_data_in_leaf': 51, 'min_child_samples': 72, 'num_leaves': 72, 'feature_fraction': 0.22746456163457524, 'bagging_fraction': 0.46865544819963506, 'bagging_freq': 9}. Best is trial 39 with value: 0.9323215585778228.\n"
     ]
    },
    {
     "name": "stdout",
     "output_type": "stream",
     "text": [
      "fold n°3\n",
      "fold n°4\n",
      "AUC score: 0.94858 \n",
      "fold n°0\n",
      "fold n°1\n",
      "fold n°2\n",
      "fold n°3\n",
      "fold n°4\n"
     ]
    },
    {
     "name": "stderr",
     "output_type": "stream",
     "text": [
      "/environment/miniconda3/lib/python3.10/site-packages/optuna/trial/_trial.py:677: RuntimeWarning: Inconsistent parameter values for distribution with name \"min_child_samples\"! This might be a configuration mistake. Optuna allows to call the same distribution with the same name more than once in a trial. When the parameter values are inconsistent optuna only uses the values of the first call and ignores all following. Using these values: {'log': False, 'step': 1, 'low': 2, 'high': 100}\n",
      "  warnings.warn(\n",
      "[I 2023-11-02 10:58:10,269] Trial 98 finished with value: 0.946465112061022 and parameters: {'learning_rate': 1, 'lambda_l1': 5.164062475934994, 'lambda_l2': 6.901076682493834, 'max_bin': 2, 'max_depth': 10, 'min_data_in_leaf': 54, 'min_child_samples': 55, 'num_leaves': 8, 'feature_fraction': 0.263858547049881, 'bagging_fraction': 0.49633611711943837, 'bagging_freq': 14}. Best is trial 39 with value: 0.9323215585778228.\n",
      "/environment/miniconda3/lib/python3.10/site-packages/optuna/trial/_trial.py:677: RuntimeWarning: Inconsistent parameter values for distribution with name \"min_child_samples\"! This might be a configuration mistake. Optuna allows to call the same distribution with the same name more than once in a trial. When the parameter values are inconsistent optuna only uses the values of the first call and ignores all following. Using these values: {'log': False, 'step': 1, 'low': 2, 'high': 100}\n",
      "  warnings.warn(\n"
     ]
    },
    {
     "name": "stdout",
     "output_type": "stream",
     "text": [
      "AUC score: 0.94647 \n",
      "fold n°0\n",
      "fold n°1\n",
      "fold n°2\n",
      "fold n°3\n",
      "fold n°4\n",
      "AUC score: 0.95151 \n"
     ]
    },
    {
     "name": "stderr",
     "output_type": "stream",
     "text": [
      "[I 2023-11-02 10:58:10,469] Trial 99 finished with value: 0.9515061194873697 and parameters: {'learning_rate': 0.001, 'lambda_l1': 7.167204161854131, 'lambda_l2': 7.929821291285705, 'max_bin': 7, 'max_depth': 23, 'min_data_in_leaf': 42, 'min_child_samples': 27, 'num_leaves': 81, 'feature_fraction': 0.2060201807037199, 'bagging_fraction': 0.44271043521785836, 'bagging_freq': 15}. Best is trial 39 with value: 0.9323215585778228.\n",
      "/environment/miniconda3/lib/python3.10/site-packages/optuna/trial/_trial.py:677: RuntimeWarning: Inconsistent parameter values for distribution with name \"min_child_samples\"! This might be a configuration mistake. Optuna allows to call the same distribution with the same name more than once in a trial. When the parameter values are inconsistent optuna only uses the values of the first call and ignores all following. Using these values: {'log': False, 'step': 1, 'low': 2, 'high': 100}\n",
      "  warnings.warn(\n",
      "[I 2023-11-02 10:58:10,697] Trial 100 finished with value: 0.9492284050897309 and parameters: {'learning_rate': 0.001, 'lambda_l1': 5.4116690026928165, 'lambda_l2': 6.125376725103783, 'max_bin': 14, 'max_depth': 16, 'min_data_in_leaf': 57, 'min_child_samples': 61, 'num_leaves': 90, 'feature_fraction': 0.28477594820260604, 'bagging_fraction': 0.3690343089830289, 'bagging_freq': 11}. Best is trial 39 with value: 0.9323215585778228.\n"
     ]
    },
    {
     "name": "stdout",
     "output_type": "stream",
     "text": [
      "fold n°0\n",
      "fold n°1\n",
      "fold n°2\n",
      "fold n°3\n",
      "fold n°4\n",
      "AUC score: 0.94923 \n"
     ]
    },
    {
     "name": "stderr",
     "output_type": "stream",
     "text": [
      "/environment/miniconda3/lib/python3.10/site-packages/optuna/trial/_trial.py:677: RuntimeWarning: Inconsistent parameter values for distribution with name \"min_child_samples\"! This might be a configuration mistake. Optuna allows to call the same distribution with the same name more than once in a trial. When the parameter values are inconsistent optuna only uses the values of the first call and ignores all following. Using these values: {'log': False, 'step': 1, 'low': 2, 'high': 100}\n",
      "  warnings.warn(\n",
      "[I 2023-11-02 10:58:10,885] Trial 101 finished with value: 0.9323823769498366 and parameters: {'learning_rate': 0.001, 'lambda_l1': 6.6747628285596505, 'lambda_l2': 6.744443623229391, 'max_bin': 2, 'max_depth': 6, 'min_data_in_leaf': 51, 'min_child_samples': 35, 'num_leaves': 88, 'feature_fraction': 0.26293689776309254, 'bagging_fraction': 0.40701648396306445, 'bagging_freq': 11}. Best is trial 39 with value: 0.9323215585778228.\n",
      "/environment/miniconda3/lib/python3.10/site-packages/optuna/trial/_trial.py:677: RuntimeWarning: Inconsistent parameter values for distribution with name \"min_child_samples\"! This might be a configuration mistake. Optuna allows to call the same distribution with the same name more than once in a trial. When the parameter values are inconsistent optuna only uses the values of the first call and ignores all following. Using these values: {'log': False, 'step': 1, 'low': 2, 'high': 100}\n",
      "  warnings.warn(\n"
     ]
    },
    {
     "name": "stdout",
     "output_type": "stream",
     "text": [
      "fold n°0\n",
      "fold n°1\n",
      "fold n°2\n",
      "fold n°3\n",
      "fold n°4\n",
      "AUC score: 0.93238 \n",
      "fold n°0\n"
     ]
    },
    {
     "name": "stderr",
     "output_type": "stream",
     "text": [
      "[I 2023-11-02 10:58:11,099] Trial 102 finished with value: 0.9442513047141677 and parameters: {'learning_rate': 0.001, 'lambda_l1': 6.901765146432719, 'lambda_l2': 7.0777121044785245, 'max_bin': 4, 'max_depth': 2, 'min_data_in_leaf': 60, 'min_child_samples': 37, 'num_leaves': 70, 'feature_fraction': 0.24192145318027383, 'bagging_fraction': 0.34616557189365205, 'bagging_freq': 13}. Best is trial 39 with value: 0.9323215585778228.\n"
     ]
    },
    {
     "name": "stdout",
     "output_type": "stream",
     "text": [
      "fold n°1\n",
      "fold n°2\n",
      "fold n°3\n",
      "fold n°4\n",
      "AUC score: 0.94425 \n",
      "fold n°0\n"
     ]
    },
    {
     "name": "stderr",
     "output_type": "stream",
     "text": [
      "/environment/miniconda3/lib/python3.10/site-packages/optuna/trial/_trial.py:677: RuntimeWarning: Inconsistent parameter values for distribution with name \"min_child_samples\"! This might be a configuration mistake. Optuna allows to call the same distribution with the same name more than once in a trial. When the parameter values are inconsistent optuna only uses the values of the first call and ignores all following. Using these values: {'log': False, 'step': 1, 'low': 2, 'high': 100}\n",
      "  warnings.warn(\n",
      "[I 2023-11-02 10:58:11,286] Trial 103 finished with value: 0.9638537457796218 and parameters: {'learning_rate': 0.5, 'lambda_l1': 5.670818424050953, 'lambda_l2': 7.666967776053278, 'max_bin': 10, 'max_depth': 5, 'min_data_in_leaf': 55, 'min_child_samples': 46, 'num_leaves': 79, 'feature_fraction': 0.18966865111553072, 'bagging_fraction': 0.3797354739653671, 'bagging_freq': 10}. Best is trial 39 with value: 0.9323215585778228.\n",
      "/environment/miniconda3/lib/python3.10/site-packages/optuna/trial/_trial.py:677: RuntimeWarning: Inconsistent parameter values for distribution with name \"min_child_samples\"! This might be a configuration mistake. Optuna allows to call the same distribution with the same name more than once in a trial. When the parameter values are inconsistent optuna only uses the values of the first call and ignores all following. Using these values: {'log': False, 'step': 1, 'low': 2, 'high': 100}\n",
      "  warnings.warn(\n"
     ]
    },
    {
     "name": "stdout",
     "output_type": "stream",
     "text": [
      "fold n°1\n",
      "fold n°2\n",
      "fold n°3\n",
      "fold n°4\n",
      "AUC score: 0.96385 \n",
      "fold n°0\n"
     ]
    },
    {
     "name": "stderr",
     "output_type": "stream",
     "text": [
      "[I 2023-11-02 10:58:11,555] Trial 104 finished with value: 0.9466698184985678 and parameters: {'learning_rate': 0.001, 'lambda_l1': 5.952881479866533, 'lambda_l2': 7.362233973176255, 'max_bin': 6, 'max_depth': 8, 'min_data_in_leaf': 48, 'min_child_samples': 84, 'num_leaves': 86, 'feature_fraction': 0.21610380427501272, 'bagging_fraction': 0.29922137637080815, 'bagging_freq': 11}. Best is trial 39 with value: 0.9323215585778228.\n"
     ]
    },
    {
     "name": "stdout",
     "output_type": "stream",
     "text": [
      "fold n°1\n",
      "fold n°2\n",
      "fold n°3\n",
      "fold n°4\n",
      "AUC score: 0.94667 \n"
     ]
    },
    {
     "name": "stderr",
     "output_type": "stream",
     "text": [
      "/environment/miniconda3/lib/python3.10/site-packages/optuna/trial/_trial.py:677: RuntimeWarning: Inconsistent parameter values for distribution with name \"min_child_samples\"! This might be a configuration mistake. Optuna allows to call the same distribution with the same name more than once in a trial. When the parameter values are inconsistent optuna only uses the values of the first call and ignores all following. Using these values: {'log': False, 'step': 1, 'low': 2, 'high': 100}\n",
      "  warnings.warn(\n"
     ]
    },
    {
     "name": "stdout",
     "output_type": "stream",
     "text": [
      "fold n°0\n",
      "fold n°1\n",
      "fold n°2\n",
      "fold n°3\n",
      "fold n°4\n"
     ]
    },
    {
     "name": "stderr",
     "output_type": "stream",
     "text": [
      "[I 2023-11-02 10:58:11,852] Trial 105 finished with value: 0.9490305555532708 and parameters: {'learning_rate': 0.01, 'lambda_l1': 7.456909396307392, 'lambda_l2': 6.892402333752189, 'max_bin': 8, 'max_depth': 25, 'min_data_in_leaf': 62, 'min_child_samples': 33, 'num_leaves': 75, 'feature_fraction': 0.33062275293866505, 'bagging_fraction': 0.33384594366090337, 'bagging_freq': 12}. Best is trial 39 with value: 0.9323215585778228.\n"
     ]
    },
    {
     "name": "stdout",
     "output_type": "stream",
     "text": [
      "AUC score: 0.94903 \n",
      "fold n°0\n",
      "fold n°1\n",
      "fold n°2\n",
      "fold n°3\n",
      "fold n°4\n"
     ]
    },
    {
     "name": "stderr",
     "output_type": "stream",
     "text": [
      "/environment/miniconda3/lib/python3.10/site-packages/optuna/trial/_trial.py:677: RuntimeWarning: Inconsistent parameter values for distribution with name \"min_child_samples\"! This might be a configuration mistake. Optuna allows to call the same distribution with the same name more than once in a trial. When the parameter values are inconsistent optuna only uses the values of the first call and ignores all following. Using these values: {'log': False, 'step': 1, 'low': 2, 'high': 100}\n",
      "  warnings.warn(\n",
      "[I 2023-11-02 10:58:12,070] Trial 106 finished with value: 0.9457624107016157 and parameters: {'learning_rate': 0.001, 'lambda_l1': 6.280270327337417, 'lambda_l2': 6.490807736130307, 'max_bin': 4, 'max_depth': 13, 'min_data_in_leaf': 66, 'min_child_samples': 54, 'num_leaves': 82, 'feature_fraction': 0.30899685207747263, 'bagging_fraction': 0.36570020362587, 'bagging_freq': 10}. Best is trial 39 with value: 0.9323215585778228.\n",
      "/environment/miniconda3/lib/python3.10/site-packages/optuna/trial/_trial.py:677: RuntimeWarning: Inconsistent parameter values for distribution with name \"min_child_samples\"! This might be a configuration mistake. Optuna allows to call the same distribution with the same name more than once in a trial. When the parameter values are inconsistent optuna only uses the values of the first call and ignores all following. Using these values: {'log': False, 'step': 1, 'low': 2, 'high': 100}\n",
      "  warnings.warn(\n",
      "[I 2023-11-02 10:58:12,260] Trial 107 finished with value: 0.9323823769498366 and parameters: {'learning_rate': 0.001, 'lambda_l1': 6.616119997477544, 'lambda_l2': 7.507961625179025, 'max_bin': 2, 'max_depth': 11, 'min_data_in_leaf': 53, 'min_child_samples': 50, 'num_leaves': 100, 'feature_fraction': 0.2663853257512344, 'bagging_fraction': 0.421706136313162, 'bagging_freq': 11}. Best is trial 39 with value: 0.9323215585778228.\n"
     ]
    },
    {
     "name": "stdout",
     "output_type": "stream",
     "text": [
      "AUC score: 0.94576 \n",
      "fold n°0\n",
      "fold n°1\n",
      "fold n°2\n",
      "fold n°3\n",
      "fold n°4\n",
      "AUC score: 0.93238 \n"
     ]
    },
    {
     "name": "stderr",
     "output_type": "stream",
     "text": [
      "/environment/miniconda3/lib/python3.10/site-packages/optuna/trial/_trial.py:677: RuntimeWarning: Inconsistent parameter values for distribution with name \"min_child_samples\"! This might be a configuration mistake. Optuna allows to call the same distribution with the same name more than once in a trial. When the parameter values are inconsistent optuna only uses the values of the first call and ignores all following. Using these values: {'log': False, 'step': 1, 'low': 2, 'high': 100}\n",
      "  warnings.warn(\n",
      "[I 2023-11-02 10:58:12,477] Trial 108 finished with value: 0.9467669670064183 and parameters: {'learning_rate': 0.001, 'lambda_l1': 7.898141458664879, 'lambda_l2': 7.1735163184706305, 'max_bin': 6, 'max_depth': 19, 'min_data_in_leaf': 50, 'min_child_samples': 43, 'num_leaves': 93, 'feature_fraction': 0.23719268809288122, 'bagging_fraction': 0.31940164607668475, 'bagging_freq': 10}. Best is trial 39 with value: 0.9323215585778228.\n"
     ]
    },
    {
     "name": "stdout",
     "output_type": "stream",
     "text": [
      "fold n°0\n",
      "fold n°1\n",
      "fold n°2\n",
      "fold n°3\n",
      "fold n°4\n",
      "AUC score: 0.94677 \n"
     ]
    },
    {
     "name": "stderr",
     "output_type": "stream",
     "text": [
      "/environment/miniconda3/lib/python3.10/site-packages/optuna/trial/_trial.py:677: RuntimeWarning: Inconsistent parameter values for distribution with name \"min_child_samples\"! This might be a configuration mistake. Optuna allows to call the same distribution with the same name more than once in a trial. When the parameter values are inconsistent optuna only uses the values of the first call and ignores all following. Using these values: {'log': False, 'step': 1, 'low': 2, 'high': 100}\n",
      "  warnings.warn(\n",
      "[I 2023-11-02 10:58:12,684] Trial 109 finished with value: 0.9495375967393944 and parameters: {'learning_rate': 0.001, 'lambda_l1': 6.759015197644818, 'lambda_l2': 7.965710104795489, 'max_bin': 9, 'max_depth': 6, 'min_data_in_leaf': 68, 'min_child_samples': 79, 'num_leaves': 91, 'feature_fraction': 0.1662457474747892, 'bagging_fraction': 0.3938596161701071, 'bagging_freq': 8}. Best is trial 39 with value: 0.9323215585778228.\n"
     ]
    },
    {
     "name": "stdout",
     "output_type": "stream",
     "text": [
      "fold n°0\n",
      "fold n°1\n",
      "fold n°2\n",
      "fold n°3\n",
      "fold n°4\n",
      "AUC score: 0.94954 \n"
     ]
    },
    {
     "name": "stderr",
     "output_type": "stream",
     "text": [
      "/environment/miniconda3/lib/python3.10/site-packages/optuna/trial/_trial.py:677: RuntimeWarning: Inconsistent parameter values for distribution with name \"min_child_samples\"! This might be a configuration mistake. Optuna allows to call the same distribution with the same name more than once in a trial. When the parameter values are inconsistent optuna only uses the values of the first call and ignores all following. Using these values: {'log': False, 'step': 1, 'low': 2, 'high': 100}\n",
      "  warnings.warn(\n",
      "[I 2023-11-02 10:58:12,900] Trial 110 finished with value: 0.9501057819737584 and parameters: {'learning_rate': 0.001, 'lambda_l1': 7.647029576204706, 'lambda_l2': 6.693377401302845, 'max_bin': 17, 'max_depth': 62, 'min_data_in_leaf': 58, 'min_child_samples': 40, 'num_leaves': 84, 'feature_fraction': 0.28802381984749664, 'bagging_fraction': 0.4471212276839205, 'bagging_freq': 9}. Best is trial 39 with value: 0.9323215585778228.\n"
     ]
    },
    {
     "name": "stdout",
     "output_type": "stream",
     "text": [
      "fold n°0\n",
      "fold n°1\n",
      "fold n°2\n",
      "fold n°3\n",
      "fold n°4\n",
      "AUC score: 0.95011 \n"
     ]
    },
    {
     "name": "stderr",
     "output_type": "stream",
     "text": [
      "/environment/miniconda3/lib/python3.10/site-packages/optuna/trial/_trial.py:677: RuntimeWarning: Inconsistent parameter values for distribution with name \"min_child_samples\"! This might be a configuration mistake. Optuna allows to call the same distribution with the same name more than once in a trial. When the parameter values are inconsistent optuna only uses the values of the first call and ignores all following. Using these values: {'log': False, 'step': 1, 'low': 2, 'high': 100}\n",
      "  warnings.warn(\n",
      "[I 2023-11-02 10:58:13,076] Trial 111 finished with value: 0.9454539576148603 and parameters: {'learning_rate': 0.001, 'lambda_l1': 5.682126702443849, 'lambda_l2': 7.113050939076156, 'max_bin': 2, 'max_depth': 22, 'min_data_in_leaf': 60, 'min_child_samples': 51, 'num_leaves': 62, 'feature_fraction': 0.20700534983929175, 'bagging_fraction': 0.4286012320255659, 'bagging_freq': 11}. Best is trial 39 with value: 0.9323215585778228.\n",
      "/environment/miniconda3/lib/python3.10/site-packages/optuna/trial/_trial.py:677: RuntimeWarning: Inconsistent parameter values for distribution with name \"min_child_samples\"! This might be a configuration mistake. Optuna allows to call the same distribution with the same name more than once in a trial. When the parameter values are inconsistent optuna only uses the values of the first call and ignores all following. Using these values: {'log': False, 'step': 1, 'low': 2, 'high': 100}\n",
      "  warnings.warn(\n"
     ]
    },
    {
     "name": "stdout",
     "output_type": "stream",
     "text": [
      "fold n°0\n",
      "fold n°1\n",
      "fold n°2\n",
      "fold n°3\n",
      "fold n°4\n",
      "AUC score: 0.94545 \n",
      "fold n°0\n"
     ]
    },
    {
     "name": "stderr",
     "output_type": "stream",
     "text": [
      "[I 2023-11-02 10:58:13,272] Trial 112 finished with value: 0.9451678449616017 and parameters: {'learning_rate': 0.001, 'lambda_l1': 6.412653396046802, 'lambda_l2': 7.65027870157497, 'max_bin': 4, 'max_depth': 29, 'min_data_in_leaf': 64, 'min_child_samples': 53, 'num_leaves': 68, 'feature_fraction': 0.22615168552703055, 'bagging_fraction': 0.3822535635097488, 'bagging_freq': 11}. Best is trial 39 with value: 0.9323215585778228.\n",
      "/environment/miniconda3/lib/python3.10/site-packages/optuna/trial/_trial.py:677: RuntimeWarning: Inconsistent parameter values for distribution with name \"min_child_samples\"! This might be a configuration mistake. Optuna allows to call the same distribution with the same name more than once in a trial. When the parameter values are inconsistent optuna only uses the values of the first call and ignores all following. Using these values: {'log': False, 'step': 1, 'low': 2, 'high': 100}\n",
      "  warnings.warn(\n"
     ]
    },
    {
     "name": "stdout",
     "output_type": "stream",
     "text": [
      "fold n°1\n",
      "fold n°2\n",
      "fold n°3\n",
      "fold n°4\n",
      "AUC score: 0.94517 \n",
      "fold n°0\n",
      "fold n°1\n"
     ]
    },
    {
     "name": "stderr",
     "output_type": "stream",
     "text": [
      "[I 2023-11-02 10:58:13,485] Trial 113 finished with value: 0.9479608794116163 and parameters: {'learning_rate': 1e-05, 'lambda_l1': 6.029023966723483, 'lambda_l2': 7.267011569513101, 'max_bin': 11, 'max_depth': 16, 'min_data_in_leaf': 57, 'min_child_samples': 56, 'num_leaves': 59, 'feature_fraction': 0.2504600878947542, 'bagging_fraction': 0.35491776000693925, 'bagging_freq': 12}. Best is trial 39 with value: 0.9323215585778228.\n"
     ]
    },
    {
     "name": "stdout",
     "output_type": "stream",
     "text": [
      "fold n°2\n",
      "fold n°3\n",
      "fold n°4\n",
      "AUC score: 0.94796 \n",
      "fold n°0\n",
      "fold n°1\n"
     ]
    },
    {
     "name": "stderr",
     "output_type": "stream",
     "text": [
      "/environment/miniconda3/lib/python3.10/site-packages/optuna/trial/_trial.py:677: RuntimeWarning: Inconsistent parameter values for distribution with name \"min_child_samples\"! This might be a configuration mistake. Optuna allows to call the same distribution with the same name more than once in a trial. When the parameter values are inconsistent optuna only uses the values of the first call and ignores all following. Using these values: {'log': False, 'step': 1, 'low': 2, 'high': 100}\n",
      "  warnings.warn(\n",
      "[I 2023-11-02 10:58:13,703] Trial 114 finished with value: 0.9461010404297548 and parameters: {'learning_rate': 0.001, 'lambda_l1': 5.320973435050026, 'lambda_l2': 6.798786471093016, 'max_bin': 4, 'max_depth': 25, 'min_data_in_leaf': 45, 'min_child_samples': 37, 'num_leaves': 66, 'feature_fraction': 0.21724254661040837, 'bagging_fraction': 0.461120539729413, 'bagging_freq': 10}. Best is trial 39 with value: 0.9323215585778228.\n"
     ]
    },
    {
     "name": "stdout",
     "output_type": "stream",
     "text": [
      "fold n°2\n",
      "fold n°3\n",
      "fold n°4\n",
      "AUC score: 0.94610 \n",
      "fold n°0\n",
      "fold n°1\n"
     ]
    },
    {
     "name": "stderr",
     "output_type": "stream",
     "text": [
      "/environment/miniconda3/lib/python3.10/site-packages/optuna/trial/_trial.py:677: RuntimeWarning: Inconsistent parameter values for distribution with name \"min_child_samples\"! This might be a configuration mistake. Optuna allows to call the same distribution with the same name more than once in a trial. When the parameter values are inconsistent optuna only uses the values of the first call and ignores all following. Using these values: {'log': False, 'step': 1, 'low': 2, 'high': 100}\n",
      "  warnings.warn(\n",
      "[I 2023-11-02 10:58:13,899] Trial 115 finished with value: 0.9516407010575433 and parameters: {'learning_rate': 0.001, 'lambda_l1': 6.235015385213507, 'lambda_l2': 6.98467293966304, 'max_bin': 7, 'max_depth': 4, 'min_data_in_leaf': 52, 'min_child_samples': 47, 'num_leaves': 71, 'feature_fraction': 0.1919194835746012, 'bagging_fraction': 0.4098844528925116, 'bagging_freq': 12}. Best is trial 39 with value: 0.9323215585778228.\n",
      "/environment/miniconda3/lib/python3.10/site-packages/optuna/trial/_trial.py:677: RuntimeWarning: Inconsistent parameter values for distribution with name \"min_child_samples\"! This might be a configuration mistake. Optuna allows to call the same distribution with the same name more than once in a trial. When the parameter values are inconsistent optuna only uses the values of the first call and ignores all following. Using these values: {'log': False, 'step': 1, 'low': 2, 'high': 100}\n",
      "  warnings.warn(\n"
     ]
    },
    {
     "name": "stdout",
     "output_type": "stream",
     "text": [
      "fold n°2\n",
      "fold n°3\n",
      "fold n°4\n",
      "AUC score: 0.95164 \n",
      "fold n°0\n",
      "fold n°1\n",
      "fold n°2\n"
     ]
    },
    {
     "name": "stderr",
     "output_type": "stream",
     "text": [
      "[I 2023-11-02 10:58:14,107] Trial 116 finished with value: 0.949433345569863 and parameters: {'learning_rate': 0.05, 'lambda_l1': 5.614202543358187, 'lambda_l2': 7.74128994687402, 'max_bin': 6, 'max_depth': 49, 'min_data_in_leaf': 61, 'min_child_samples': 52, 'num_leaves': 52, 'feature_fraction': 0.27174137125554887, 'bagging_fraction': 0.48239534225738656, 'bagging_freq': 11}. Best is trial 39 with value: 0.9323215585778228.\n"
     ]
    },
    {
     "name": "stdout",
     "output_type": "stream",
     "text": [
      "fold n°3\n",
      "fold n°4\n",
      "AUC score: 0.94943 \n",
      "fold n°0\n",
      "fold n°1\n",
      "fold n°2\n",
      "fold n°3\n"
     ]
    },
    {
     "name": "stderr",
     "output_type": "stream",
     "text": [
      "/environment/miniconda3/lib/python3.10/site-packages/optuna/trial/_trial.py:677: RuntimeWarning: Inconsistent parameter values for distribution with name \"min_child_samples\"! This might be a configuration mistake. Optuna allows to call the same distribution with the same name more than once in a trial. When the parameter values are inconsistent optuna only uses the values of the first call and ignores all following. Using these values: {'log': False, 'step': 1, 'low': 2, 'high': 100}\n",
      "  warnings.warn(\n",
      "[I 2023-11-02 10:58:14,292] Trial 117 finished with value: 0.9354253533525441 and parameters: {'learning_rate': 0.001, 'lambda_l1': 7.002313458581081, 'lambda_l2': 7.399070630537493, 'max_bin': 2, 'max_depth': 9, 'min_data_in_leaf': 79, 'min_child_samples': 31, 'num_leaves': 76, 'feature_fraction': 0.364663765857554, 'bagging_fraction': 0.3657009397652279, 'bagging_freq': 11}. Best is trial 39 with value: 0.9323215585778228.\n",
      "/environment/miniconda3/lib/python3.10/site-packages/optuna/trial/_trial.py:677: RuntimeWarning: Inconsistent parameter values for distribution with name \"min_child_samples\"! This might be a configuration mistake. Optuna allows to call the same distribution with the same name more than once in a trial. When the parameter values are inconsistent optuna only uses the values of the first call and ignores all following. Using these values: {'log': False, 'step': 1, 'low': 2, 'high': 100}\n",
      "  warnings.warn(\n"
     ]
    },
    {
     "name": "stdout",
     "output_type": "stream",
     "text": [
      "fold n°4\n",
      "AUC score: 0.93543 \n",
      "fold n°0\n",
      "fold n°1\n",
      "fold n°2\n",
      "fold n°3\n",
      "fold n°4\n"
     ]
    },
    {
     "name": "stderr",
     "output_type": "stream",
     "text": [
      "[I 2023-11-02 10:58:14,476] Trial 118 finished with value: 0.9448283242759123 and parameters: {'learning_rate': 0.001, 'lambda_l1': 7.322931839400305, 'lambda_l2': 8.099606492008864, 'max_bin': 4, 'max_depth': 19, 'min_data_in_leaf': 55, 'min_child_samples': 44, 'num_leaves': 88, 'feature_fraction': 0.17597243672821067, 'bagging_fraction': 0.28150358422384847, 'bagging_freq': 13}. Best is trial 39 with value: 0.9323215585778228.\n",
      "/environment/miniconda3/lib/python3.10/site-packages/optuna/trial/_trial.py:677: RuntimeWarning: Inconsistent parameter values for distribution with name \"min_child_samples\"! This might be a configuration mistake. Optuna allows to call the same distribution with the same name more than once in a trial. When the parameter values are inconsistent optuna only uses the values of the first call and ignores all following. Using these values: {'log': False, 'step': 1, 'low': 2, 'high': 100}\n",
      "  warnings.warn(\n",
      "[I 2023-11-02 10:58:14,666] Trial 119 finished with value: 0.9566637666619175 and parameters: {'learning_rate': 0.1, 'lambda_l1': 5.886548987558793, 'lambda_l2': 6.465702787173614, 'max_bin': 8, 'max_depth': 14, 'min_data_in_leaf': 65, 'min_child_samples': 41, 'num_leaves': 61, 'feature_fraction': 0.14476109082756083, 'bagging_fraction': 0.42545641188129113, 'bagging_freq': 10}. Best is trial 39 with value: 0.9323215585778228.\n"
     ]
    },
    {
     "name": "stdout",
     "output_type": "stream",
     "text": [
      "AUC score: 0.94483 \n",
      "fold n°0\n",
      "fold n°1\n",
      "fold n°2\n",
      "fold n°3\n",
      "fold n°4\n",
      "AUC score: 0.95666 \n"
     ]
    },
    {
     "name": "stderr",
     "output_type": "stream",
     "text": [
      "/environment/miniconda3/lib/python3.10/site-packages/optuna/trial/_trial.py:677: RuntimeWarning: Inconsistent parameter values for distribution with name \"min_child_samples\"! This might be a configuration mistake. Optuna allows to call the same distribution with the same name more than once in a trial. When the parameter values are inconsistent optuna only uses the values of the first call and ignores all following. Using these values: {'log': False, 'step': 1, 'low': 2, 'high': 100}\n",
      "  warnings.warn(\n",
      "[I 2023-11-02 10:58:14,879] Trial 120 finished with value: 0.9472254926123863 and parameters: {'learning_rate': 0.0005, 'lambda_l1': 7.090282581845289, 'lambda_l2': 6.276943498209137, 'max_bin': 12, 'max_depth': 41, 'min_data_in_leaf': 49, 'min_child_samples': 25, 'num_leaves': 63, 'feature_fraction': 0.29864392749554647, 'bagging_fraction': 0.33640741581633055, 'bagging_freq': 12}. Best is trial 39 with value: 0.9323215585778228.\n"
     ]
    },
    {
     "name": "stdout",
     "output_type": "stream",
     "text": [
      "fold n°0\n",
      "fold n°1\n",
      "fold n°2\n",
      "fold n°3\n",
      "fold n°4\n",
      "AUC score: 0.94723 \n"
     ]
    },
    {
     "name": "stderr",
     "output_type": "stream",
     "text": [
      "/environment/miniconda3/lib/python3.10/site-packages/optuna/trial/_trial.py:677: RuntimeWarning: Inconsistent parameter values for distribution with name \"min_child_samples\"! This might be a configuration mistake. Optuna allows to call the same distribution with the same name more than once in a trial. When the parameter values are inconsistent optuna only uses the values of the first call and ignores all following. Using these values: {'log': False, 'step': 1, 'low': 2, 'high': 100}\n",
      "  warnings.warn(\n",
      "[I 2023-11-02 10:58:15,065] Trial 121 finished with value: 0.9323823769498366 and parameters: {'learning_rate': 0.001, 'lambda_l1': 6.746780401163793, 'lambda_l2': 6.722929312675997, 'max_bin': 2, 'max_depth': 7, 'min_data_in_leaf': 51, 'min_child_samples': 36, 'num_leaves': 89, 'feature_fraction': 0.26222273078405817, 'bagging_fraction': 0.40140739283124216, 'bagging_freq': 11}. Best is trial 39 with value: 0.9323215585778228.\n",
      "/environment/miniconda3/lib/python3.10/site-packages/optuna/trial/_trial.py:677: RuntimeWarning: Inconsistent parameter values for distribution with name \"min_child_samples\"! This might be a configuration mistake. Optuna allows to call the same distribution with the same name more than once in a trial. When the parameter values are inconsistent optuna only uses the values of the first call and ignores all following. Using these values: {'log': False, 'step': 1, 'low': 2, 'high': 100}\n",
      "  warnings.warn(\n"
     ]
    },
    {
     "name": "stdout",
     "output_type": "stream",
     "text": [
      "fold n°0\n",
      "fold n°1\n",
      "fold n°2\n",
      "fold n°3\n",
      "fold n°4\n",
      "AUC score: 0.93238 \n",
      "fold n°0\n"
     ]
    },
    {
     "name": "stderr",
     "output_type": "stream",
     "text": [
      "[I 2023-11-02 10:58:15,259] Trial 122 finished with value: 0.9323823769498368 and parameters: {'learning_rate': 0.001, 'lambda_l1': 6.5732344632384985, 'lambda_l2': 6.980925198593873, 'max_bin': 2, 'max_depth': 6, 'min_data_in_leaf': 46, 'min_child_samples': 29, 'num_leaves': 87, 'feature_fraction': 0.24183773822541307, 'bagging_fraction': 0.4125831182574504, 'bagging_freq': 11}. Best is trial 39 with value: 0.9323215585778228.\n"
     ]
    },
    {
     "name": "stdout",
     "output_type": "stream",
     "text": [
      "fold n°1\n",
      "fold n°2\n",
      "fold n°3\n",
      "fold n°4\n",
      "AUC score: 0.93238 \n",
      "fold n°0\n"
     ]
    },
    {
     "name": "stderr",
     "output_type": "stream",
     "text": [
      "/environment/miniconda3/lib/python3.10/site-packages/optuna/trial/_trial.py:677: RuntimeWarning: Inconsistent parameter values for distribution with name \"min_child_samples\"! This might be a configuration mistake. Optuna allows to call the same distribution with the same name more than once in a trial. When the parameter values are inconsistent optuna only uses the values of the first call and ignores all following. Using these values: {'log': False, 'step': 1, 'low': 2, 'high': 100}\n",
      "  warnings.warn(\n"
     ]
    },
    {
     "name": "stdout",
     "output_type": "stream",
     "text": [
      "fold n°1\n",
      "fold n°2\n"
     ]
    },
    {
     "name": "stderr",
     "output_type": "stream",
     "text": [
      "[I 2023-11-02 10:58:16,611] Trial 123 finished with value: 0.9502277858133068 and parameters: {'learning_rate': 0.001, 'lambda_l1': 6.165745191758375, 'lambda_l2': 6.675781670752671, 'max_bin': 5, 'max_depth': 2, 'min_data_in_leaf': 39, 'min_child_samples': 35, 'num_leaves': 82, 'feature_fraction': 0.33892340426054995, 'bagging_fraction': 0.39491974646429034, 'bagging_freq': 10}. Best is trial 39 with value: 0.9323215585778228.\n"
     ]
    },
    {
     "name": "stdout",
     "output_type": "stream",
     "text": [
      "fold n°3\n",
      "fold n°4\n",
      "AUC score: 0.95023 \n",
      "fold n°0\n",
      "fold n°1\n",
      "fold n°2\n"
     ]
    },
    {
     "name": "stderr",
     "output_type": "stream",
     "text": [
      "/environment/miniconda3/lib/python3.10/site-packages/optuna/trial/_trial.py:677: RuntimeWarning: Inconsistent parameter values for distribution with name \"min_child_samples\"! This might be a configuration mistake. Optuna allows to call the same distribution with the same name more than once in a trial. When the parameter values are inconsistent optuna only uses the values of the first call and ignores all following. Using these values: {'log': False, 'step': 1, 'low': 2, 'high': 100}\n",
      "  warnings.warn(\n",
      "[I 2023-11-02 10:58:16,821] Trial 124 finished with value: 0.9456647962262743 and parameters: {'learning_rate': 0.001, 'lambda_l1': 6.617064653674662, 'lambda_l2': 6.08301143829932, 'max_bin': 4, 'max_depth': 9, 'min_data_in_leaf': 59, 'min_child_samples': 33, 'num_leaves': 79, 'feature_fraction': 0.2560088457397304, 'bagging_fraction': 0.44016156543618207, 'bagging_freq': 11}. Best is trial 39 with value: 0.9323215585778228.\n"
     ]
    },
    {
     "name": "stdout",
     "output_type": "stream",
     "text": [
      "fold n°3\n",
      "fold n°4\n",
      "AUC score: 0.94566 \n",
      "fold n°0\n",
      "fold n°1\n",
      "fold n°2\n"
     ]
    },
    {
     "name": "stderr",
     "output_type": "stream",
     "text": [
      "/environment/miniconda3/lib/python3.10/site-packages/optuna/trial/_trial.py:677: RuntimeWarning: Inconsistent parameter values for distribution with name \"min_child_samples\"! This might be a configuration mistake. Optuna allows to call the same distribution with the same name more than once in a trial. When the parameter values are inconsistent optuna only uses the values of the first call and ignores all following. Using these values: {'log': False, 'step': 1, 'low': 2, 'high': 100}\n",
      "  warnings.warn(\n",
      "[I 2023-11-02 10:58:17,024] Trial 125 finished with value: 0.9485455250212308 and parameters: {'learning_rate': 0.001, 'lambda_l1': 8.248579799851946, 'lambda_l2': 7.3130811276982, 'max_bin': 7, 'max_depth': 27, 'min_data_in_leaf': 53, 'min_child_samples': 49, 'num_leaves': 64, 'feature_fraction': 0.2232440609354324, 'bagging_fraction': 0.3752870541735959, 'bagging_freq': 12}. Best is trial 39 with value: 0.9323215585778228.\n"
     ]
    },
    {
     "name": "stdout",
     "output_type": "stream",
     "text": [
      "fold n°3\n",
      "fold n°4\n",
      "AUC score: 0.94855 \n",
      "fold n°0\n",
      "fold n°1\n",
      "fold n°2\n",
      "fold n°3\n",
      "fold n°4\n"
     ]
    },
    {
     "name": "stderr",
     "output_type": "stream",
     "text": [
      "/environment/miniconda3/lib/python3.10/site-packages/optuna/trial/_trial.py:677: RuntimeWarning: Inconsistent parameter values for distribution with name \"min_child_samples\"! This might be a configuration mistake. Optuna allows to call the same distribution with the same name more than once in a trial. When the parameter values are inconsistent optuna only uses the values of the first call and ignores all following. Using these values: {'log': False, 'step': 1, 'low': 2, 'high': 100}\n",
      "  warnings.warn(\n",
      "[I 2023-11-02 10:58:17,188] Trial 126 finished with value: 0.9514959486791952 and parameters: {'learning_rate': 1, 'lambda_l1': 6.405296274208194, 'lambda_l2': 5.857098372074498, 'max_bin': 9, 'max_depth': 12, 'min_data_in_leaf': 56, 'min_child_samples': 53, 'num_leaves': 96, 'feature_fraction': 0.28217918925934626, 'bagging_fraction': 0.354781863033884, 'bagging_freq': 11}. Best is trial 39 with value: 0.9323215585778228.\n",
      "/environment/miniconda3/lib/python3.10/site-packages/optuna/trial/_trial.py:677: RuntimeWarning: Inconsistent parameter values for distribution with name \"min_child_samples\"! This might be a configuration mistake. Optuna allows to call the same distribution with the same name more than once in a trial. When the parameter values are inconsistent optuna only uses the values of the first call and ignores all following. Using these values: {'log': False, 'step': 1, 'low': 2, 'high': 100}\n",
      "  warnings.warn(\n",
      "[I 2023-11-02 10:58:17,361] Trial 127 finished with value: 0.9453133648326804 and parameters: {'learning_rate': 0.001, 'lambda_l1': 8.778692545856712, 'lambda_l2': 7.116004386332843, 'max_bin': 2, 'max_depth': 4, 'min_data_in_leaf': 62, 'min_child_samples': 65, 'num_leaves': 85, 'feature_fraction': 0.20288809392423235, 'bagging_fraction': 0.31066680015763065, 'bagging_freq': 12}. Best is trial 39 with value: 0.9323215585778228.\n"
     ]
    },
    {
     "name": "stdout",
     "output_type": "stream",
     "text": [
      "AUC score: 0.95150 \n",
      "fold n°0\n",
      "fold n°1\n",
      "fold n°2\n",
      "fold n°3\n",
      "fold n°4\n",
      "AUC score: 0.94531 \n"
     ]
    },
    {
     "name": "stderr",
     "output_type": "stream",
     "text": [
      "/environment/miniconda3/lib/python3.10/site-packages/optuna/trial/_trial.py:677: RuntimeWarning: Inconsistent parameter values for distribution with name \"min_child_samples\"! This might be a configuration mistake. Optuna allows to call the same distribution with the same name more than once in a trial. When the parameter values are inconsistent optuna only uses the values of the first call and ignores all following. Using these values: {'log': False, 'step': 1, 'low': 2, 'high': 100}\n",
      "  warnings.warn(\n",
      "[I 2023-11-02 10:58:17,547] Trial 128 finished with value: 0.9550014571617925 and parameters: {'learning_rate': 0.5, 'lambda_l1': 5.787726575437505, 'lambda_l2': 7.547877223611829, 'max_bin': 6, 'max_depth': 17, 'min_data_in_leaf': 48, 'min_child_samples': 39, 'num_leaves': 74, 'feature_fraction': 0.2390354052180434, 'bagging_fraction': 0.4623166200390282, 'bagging_freq': 9}. Best is trial 39 with value: 0.9323215585778228.\n",
      "/environment/miniconda3/lib/python3.10/site-packages/optuna/trial/_trial.py:677: RuntimeWarning: Inconsistent parameter values for distribution with name \"min_child_samples\"! This might be a configuration mistake. Optuna allows to call the same distribution with the same name more than once in a trial. When the parameter values are inconsistent optuna only uses the values of the first call and ignores all following. Using these values: {'log': False, 'step': 1, 'low': 2, 'high': 100}\n",
      "  warnings.warn(\n"
     ]
    },
    {
     "name": "stdout",
     "output_type": "stream",
     "text": [
      "fold n°0\n",
      "fold n°1\n",
      "fold n°2\n",
      "fold n°3\n",
      "fold n°4\n",
      "AUC score: 0.95500 \n",
      "fold n°0\n"
     ]
    },
    {
     "name": "stderr",
     "output_type": "stream",
     "text": [
      "[I 2023-11-02 10:58:17,750] Trial 129 finished with value: 0.9447301763460558 and parameters: {'learning_rate': 0.001, 'lambda_l1': 6.876877217970076, 'lambda_l2': 6.33048694907617, 'max_bin': 4, 'max_depth': 10, 'min_data_in_leaf': 68, 'min_child_samples': 60, 'num_leaves': 92, 'feature_fraction': 0.3154169284665867, 'bagging_fraction': 0.33565633504356795, 'bagging_freq': 10}. Best is trial 39 with value: 0.9323215585778228.\n"
     ]
    },
    {
     "name": "stdout",
     "output_type": "stream",
     "text": [
      "fold n°1\n",
      "fold n°2\n",
      "fold n°3\n",
      "fold n°4\n",
      "AUC score: 0.94473 \n",
      "fold n°0\n",
      "fold n°1\n"
     ]
    },
    {
     "name": "stderr",
     "output_type": "stream",
     "text": [
      "/environment/miniconda3/lib/python3.10/site-packages/optuna/trial/_trial.py:677: RuntimeWarning: Inconsistent parameter values for distribution with name \"min_child_samples\"! This might be a configuration mistake. Optuna allows to call the same distribution with the same name more than once in a trial. When the parameter values are inconsistent optuna only uses the values of the first call and ignores all following. Using these values: {'log': False, 'step': 1, 'low': 2, 'high': 100}\n",
      "  warnings.warn(\n",
      "[I 2023-11-02 10:58:17,966] Trial 130 finished with value: 0.951458625986934 and parameters: {'learning_rate': 0.01, 'lambda_l1': 4.855393699483284, 'lambda_l2': 6.891893406860387, 'max_bin': 10, 'max_depth': 22, 'min_data_in_leaf': 73, 'min_child_samples': 58, 'num_leaves': 69, 'feature_fraction': 0.18957275159191211, 'bagging_fraction': 0.41036219871835145, 'bagging_freq': 7}. Best is trial 39 with value: 0.9323215585778228.\n"
     ]
    },
    {
     "name": "stdout",
     "output_type": "stream",
     "text": [
      "fold n°2\n",
      "fold n°3\n",
      "fold n°4\n",
      "AUC score: 0.95146 \n",
      "fold n°0\n",
      "fold n°1\n"
     ]
    },
    {
     "name": "stderr",
     "output_type": "stream",
     "text": [
      "/environment/miniconda3/lib/python3.10/site-packages/optuna/trial/_trial.py:677: RuntimeWarning: Inconsistent parameter values for distribution with name \"min_child_samples\"! This might be a configuration mistake. Optuna allows to call the same distribution with the same name more than once in a trial. When the parameter values are inconsistent optuna only uses the values of the first call and ignores all following. Using these values: {'log': False, 'step': 1, 'low': 2, 'high': 100}\n",
      "  warnings.warn(\n",
      "[I 2023-11-02 10:58:18,156] Trial 131 finished with value: 0.9323823769498366 and parameters: {'learning_rate': 0.001, 'lambda_l1': 6.582168613718882, 'lambda_l2': 7.484141638434158, 'max_bin': 2, 'max_depth': 13, 'min_data_in_leaf': 51, 'min_child_samples': 49, 'num_leaves': 88, 'feature_fraction': 0.2589869474393019, 'bagging_fraction': 0.42933552263775626, 'bagging_freq': 11}. Best is trial 39 with value: 0.9323215585778228.\n",
      "/environment/miniconda3/lib/python3.10/site-packages/optuna/trial/_trial.py:677: RuntimeWarning: Inconsistent parameter values for distribution with name \"min_child_samples\"! This might be a configuration mistake. Optuna allows to call the same distribution with the same name more than once in a trial. When the parameter values are inconsistent optuna only uses the values of the first call and ignores all following. Using these values: {'log': False, 'step': 1, 'low': 2, 'high': 100}\n",
      "  warnings.warn(\n"
     ]
    },
    {
     "name": "stdout",
     "output_type": "stream",
     "text": [
      "fold n°2\n",
      "fold n°3\n",
      "fold n°4\n",
      "AUC score: 0.93238 \n",
      "fold n°0\n",
      "fold n°1\n",
      "fold n°2\n"
     ]
    },
    {
     "name": "stderr",
     "output_type": "stream",
     "text": [
      "[I 2023-11-02 10:58:18,344] Trial 132 finished with value: 0.9323702132754338 and parameters: {'learning_rate': 0.001, 'lambda_l1': 6.67990130679389, 'lambda_l2': 7.470649322618058, 'max_bin': 2, 'max_depth': 7, 'min_data_in_leaf': 54, 'min_child_samples': 51, 'num_leaves': 100, 'feature_fraction': 0.2711524890164581, 'bagging_fraction': 0.38483908111279286, 'bagging_freq': 11}. Best is trial 39 with value: 0.9323215585778228.\n",
      "/environment/miniconda3/lib/python3.10/site-packages/optuna/trial/_trial.py:677: RuntimeWarning: Inconsistent parameter values for distribution with name \"min_child_samples\"! This might be a configuration mistake. Optuna allows to call the same distribution with the same name more than once in a trial. When the parameter values are inconsistent optuna only uses the values of the first call and ignores all following. Using these values: {'log': False, 'step': 1, 'low': 2, 'high': 100}\n",
      "  warnings.warn(\n"
     ]
    },
    {
     "name": "stdout",
     "output_type": "stream",
     "text": [
      "fold n°3\n",
      "fold n°4\n",
      "AUC score: 0.93237 \n",
      "fold n°0\n",
      "fold n°1\n",
      "fold n°2\n"
     ]
    },
    {
     "name": "stderr",
     "output_type": "stream",
     "text": [
      "[I 2023-11-02 10:58:18,556] Trial 133 finished with value: 0.9486389636273426 and parameters: {'learning_rate': 0.001, 'lambda_l1': 7.180808438897689, 'lambda_l2': 6.5676298192825096, 'max_bin': 5, 'max_depth': 6, 'min_data_in_leaf': 56, 'min_child_samples': 56, 'num_leaves': 98, 'feature_fraction': 0.2932098636641304, 'bagging_fraction': 0.38521879038798773, 'bagging_freq': 11}. Best is trial 39 with value: 0.9323215585778228.\n"
     ]
    },
    {
     "name": "stdout",
     "output_type": "stream",
     "text": [
      "fold n°3\n",
      "fold n°4\n",
      "AUC score: 0.94864 \n",
      "fold n°0\n",
      "fold n°1\n",
      "fold n°2\n"
     ]
    },
    {
     "name": "stderr",
     "output_type": "stream",
     "text": [
      "/environment/miniconda3/lib/python3.10/site-packages/optuna/trial/_trial.py:677: RuntimeWarning: Inconsistent parameter values for distribution with name \"min_child_samples\"! This might be a configuration mistake. Optuna allows to call the same distribution with the same name more than once in a trial. When the parameter values are inconsistent optuna only uses the values of the first call and ignores all following. Using these values: {'log': False, 'step': 1, 'low': 2, 'high': 100}\n",
      "  warnings.warn(\n",
      "[I 2023-11-02 10:58:18,770] Trial 134 finished with value: 0.9492748568645839 and parameters: {'learning_rate': 0.001, 'lambda_l1': 5.983955292284845, 'lambda_l2': 7.757980592325056, 'max_bin': 7, 'max_depth': 8, 'min_data_in_leaf': 53, 'min_child_samples': 46, 'num_leaves': 83, 'feature_fraction': 0.21797297031932544, 'bagging_fraction': 0.3647940117087206, 'bagging_freq': 12}. Best is trial 39 with value: 0.9323215585778228.\n"
     ]
    },
    {
     "name": "stdout",
     "output_type": "stream",
     "text": [
      "fold n°3\n",
      "fold n°4\n",
      "AUC score: 0.94927 \n",
      "fold n°0\n",
      "fold n°1\n",
      "fold n°2\n",
      "fold n°3\n"
     ]
    },
    {
     "name": "stderr",
     "output_type": "stream",
     "text": [
      "/environment/miniconda3/lib/python3.10/site-packages/optuna/trial/_trial.py:677: RuntimeWarning: Inconsistent parameter values for distribution with name \"min_child_samples\"! This might be a configuration mistake. Optuna allows to call the same distribution with the same name more than once in a trial. When the parameter values are inconsistent optuna only uses the values of the first call and ignores all following. Using these values: {'log': False, 'step': 1, 'low': 2, 'high': 100}\n",
      "  warnings.warn(\n",
      "[I 2023-11-02 10:58:18,958] Trial 135 finished with value: 0.9323823769498366 and parameters: {'learning_rate': 0.001, 'lambda_l1': 6.311804822857807, 'lambda_l2': 7.27302103900628, 'max_bin': 2, 'max_depth': 4, 'min_data_in_leaf': 60, 'min_child_samples': 51, 'num_leaves': 80, 'feature_fraction': 0.27346793456246776, 'bagging_fraction': 0.5245497685691766, 'bagging_freq': 10}. Best is trial 39 with value: 0.9323215585778228.\n",
      "/environment/miniconda3/lib/python3.10/site-packages/optuna/trial/_trial.py:677: RuntimeWarning: Inconsistent parameter values for distribution with name \"min_child_samples\"! This might be a configuration mistake. Optuna allows to call the same distribution with the same name more than once in a trial. When the parameter values are inconsistent optuna only uses the values of the first call and ignores all following. Using these values: {'log': False, 'step': 1, 'low': 2, 'high': 100}\n",
      "  warnings.warn(\n"
     ]
    },
    {
     "name": "stdout",
     "output_type": "stream",
     "text": [
      "fold n°4\n",
      "AUC score: 0.93238 \n",
      "fold n°0\n",
      "fold n°1\n",
      "fold n°2\n",
      "fold n°3\n"
     ]
    },
    {
     "name": "stderr",
     "output_type": "stream",
     "text": [
      "[I 2023-11-02 10:58:19,162] Trial 136 finished with value: 0.9454014749622252 and parameters: {'learning_rate': 0.001, 'lambda_l1': 7.4404960144904955, 'lambda_l2': 7.046758664362391, 'max_bin': 4, 'max_depth': 16, 'min_data_in_leaf': 50, 'min_child_samples': 45, 'num_leaves': 77, 'feature_fraction': 0.23513303217823855, 'bagging_fraction': 0.4023822047696481, 'bagging_freq': 10}. Best is trial 39 with value: 0.9323215585778228.\n"
     ]
    },
    {
     "name": "stdout",
     "output_type": "stream",
     "text": [
      "fold n°4\n",
      "AUC score: 0.94540 \n",
      "fold n°0\n",
      "fold n°1\n",
      "fold n°2\n",
      "fold n°3\n"
     ]
    },
    {
     "name": "stderr",
     "output_type": "stream",
     "text": [
      "/environment/miniconda3/lib/python3.10/site-packages/optuna/trial/_trial.py:677: RuntimeWarning: Inconsistent parameter values for distribution with name \"min_child_samples\"! This might be a configuration mistake. Optuna allows to call the same distribution with the same name more than once in a trial. When the parameter values are inconsistent optuna only uses the values of the first call and ignores all following. Using these values: {'log': False, 'step': 1, 'low': 2, 'high': 100}\n",
      "  warnings.warn(\n",
      "[I 2023-11-02 10:58:19,376] Trial 137 finished with value: 0.9465319054386491 and parameters: {'learning_rate': 0.001, 'lambda_l1': 6.7973400649931826, 'lambda_l2': 6.79024914768702, 'max_bin': 8, 'max_depth': 11, 'min_data_in_leaf': 58, 'min_child_samples': 42, 'num_leaves': 94, 'feature_fraction': 0.2496362124390397, 'bagging_fraction': 0.3540243042095022, 'bagging_freq': 11}. Best is trial 39 with value: 0.9323215585778228.\n"
     ]
    },
    {
     "name": "stdout",
     "output_type": "stream",
     "text": [
      "fold n°4\n",
      "AUC score: 0.94653 \n",
      "fold n°0\n",
      "fold n°1\n",
      "fold n°2\n",
      "fold n°3\n"
     ]
    },
    {
     "name": "stderr",
     "output_type": "stream",
     "text": [
      "/environment/miniconda3/lib/python3.10/site-packages/optuna/trial/_trial.py:677: RuntimeWarning: Inconsistent parameter values for distribution with name \"min_child_samples\"! This might be a configuration mistake. Optuna allows to call the same distribution with the same name more than once in a trial. When the parameter values are inconsistent optuna only uses the values of the first call and ignores all following. Using these values: {'log': False, 'step': 1, 'low': 2, 'high': 100}\n",
      "  warnings.warn(\n",
      "[I 2023-11-02 10:58:19,582] Trial 138 finished with value: 0.9502023698837586 and parameters: {'learning_rate': 0.001, 'lambda_l1': 6.9584306350377, 'lambda_l2': 7.869202041257494, 'max_bin': 6, 'max_depth': 31, 'min_data_in_leaf': 55, 'min_child_samples': 90, 'num_leaves': 90, 'feature_fraction': 0.38587119746830745, 'bagging_fraction': 0.31794398318657957, 'bagging_freq': 11}. Best is trial 39 with value: 0.9323215585778228.\n"
     ]
    },
    {
     "name": "stdout",
     "output_type": "stream",
     "text": [
      "fold n°4\n",
      "AUC score: 0.95020 \n",
      "fold n°0\n",
      "fold n°1\n",
      "fold n°2\n",
      "fold n°3\n",
      "fold n°4\n"
     ]
    },
    {
     "name": "stderr",
     "output_type": "stream",
     "text": [
      "/environment/miniconda3/lib/python3.10/site-packages/optuna/trial/_trial.py:677: RuntimeWarning: Inconsistent parameter values for distribution with name \"min_child_samples\"! This might be a configuration mistake. Optuna allows to call the same distribution with the same name more than once in a trial. When the parameter values are inconsistent optuna only uses the values of the first call and ignores all following. Using these values: {'log': False, 'step': 1, 'low': 2, 'high': 100}\n",
      "  warnings.warn(\n",
      "[I 2023-11-02 10:58:19,771] Trial 139 finished with value: 0.9449302007731019 and parameters: {'learning_rate': 0.001, 'lambda_l1': 7.808574033802875, 'lambda_l2': 8.214792794080983, 'max_bin': 4, 'max_depth': 2, 'min_data_in_leaf': 43, 'min_child_samples': 54, 'num_leaves': 67, 'feature_fraction': 0.201502326213229, 'bagging_fraction': 0.38079332807512356, 'bagging_freq': 12}. Best is trial 39 with value: 0.9323215585778228.\n",
      "/environment/miniconda3/lib/python3.10/site-packages/optuna/trial/_trial.py:677: RuntimeWarning: Inconsistent parameter values for distribution with name \"min_child_samples\"! This might be a configuration mistake. Optuna allows to call the same distribution with the same name more than once in a trial. When the parameter values are inconsistent optuna only uses the values of the first call and ignores all following. Using these values: {'log': False, 'step': 1, 'low': 2, 'high': 100}\n",
      "  warnings.warn(\n"
     ]
    },
    {
     "name": "stdout",
     "output_type": "stream",
     "text": [
      "AUC score: 0.94493 \n",
      "fold n°0\n",
      "fold n°1\n",
      "fold n°2\n",
      "fold n°3\n",
      "fold n°4\n"
     ]
    },
    {
     "name": "stderr",
     "output_type": "stream",
     "text": [
      "[I 2023-11-02 10:58:19,986] Trial 140 finished with value: 0.9525445158426724 and parameters: {'learning_rate': 1e-05, 'lambda_l1': 6.113612044296871, 'lambda_l2': 7.214778726948275, 'max_bin': 42, 'max_depth': 7, 'min_data_in_leaf': 64, 'min_child_samples': 38, 'num_leaves': 85, 'feature_fraction': 0.16105660266707628, 'bagging_fraction': 0.458264131601142, 'bagging_freq': 13}. Best is trial 39 with value: 0.9323215585778228.\n",
      "/environment/miniconda3/lib/python3.10/site-packages/optuna/trial/_trial.py:677: RuntimeWarning: Inconsistent parameter values for distribution with name \"min_child_samples\"! This might be a configuration mistake. Optuna allows to call the same distribution with the same name more than once in a trial. When the parameter values are inconsistent optuna only uses the values of the first call and ignores all following. Using these values: {'log': False, 'step': 1, 'low': 2, 'high': 100}\n",
      "  warnings.warn(\n",
      "[I 2023-11-02 10:58:20,175] Trial 141 finished with value: 0.9323823769498366 and parameters: {'learning_rate': 0.001, 'lambda_l1': 6.657406652112622, 'lambda_l2': 7.584364592052679, 'max_bin': 2, 'max_depth': 11, 'min_data_in_leaf': 52, 'min_child_samples': 47, 'num_leaves': 98, 'feature_fraction': 0.2693467548947424, 'bagging_fraction': 0.42409470964036977, 'bagging_freq': 11}. Best is trial 39 with value: 0.9323215585778228.\n"
     ]
    },
    {
     "name": "stdout",
     "output_type": "stream",
     "text": [
      "AUC score: 0.95254 \n",
      "fold n°0\n",
      "fold n°1\n",
      "fold n°2\n",
      "fold n°3\n",
      "fold n°4\n",
      "AUC score: 0.93238 \n"
     ]
    },
    {
     "name": "stderr",
     "output_type": "stream",
     "text": [
      "/environment/miniconda3/lib/python3.10/site-packages/optuna/trial/_trial.py:677: RuntimeWarning: Inconsistent parameter values for distribution with name \"min_child_samples\"! This might be a configuration mistake. Optuna allows to call the same distribution with the same name more than once in a trial. When the parameter values are inconsistent optuna only uses the values of the first call and ignores all following. Using these values: {'log': False, 'step': 1, 'low': 2, 'high': 100}\n",
      "  warnings.warn(\n",
      "[I 2023-11-02 10:58:20,369] Trial 142 finished with value: 0.9323823769498368 and parameters: {'learning_rate': 0.001, 'lambda_l1': 6.495319640254407, 'lambda_l2': 7.459296612573768, 'max_bin': 2, 'max_depth': 11, 'min_data_in_leaf': 47, 'min_child_samples': 50, 'num_leaves': 99, 'feature_fraction': 0.2647798026777362, 'bagging_fraction': 0.41637701981173486, 'bagging_freq': 11}. Best is trial 39 with value: 0.9323215585778228.\n",
      "/environment/miniconda3/lib/python3.10/site-packages/optuna/trial/_trial.py:677: RuntimeWarning: Inconsistent parameter values for distribution with name \"min_child_samples\"! This might be a configuration mistake. Optuna allows to call the same distribution with the same name more than once in a trial. When the parameter values are inconsistent optuna only uses the values of the first call and ignores all following. Using these values: {'log': False, 'step': 1, 'low': 2, 'high': 100}\n",
      "  warnings.warn(\n"
     ]
    },
    {
     "name": "stdout",
     "output_type": "stream",
     "text": [
      "fold n°0\n",
      "fold n°1\n",
      "fold n°2\n",
      "fold n°3\n",
      "fold n°4\n",
      "AUC score: 0.93238 \n",
      "fold n°0\n"
     ]
    },
    {
     "name": "stderr",
     "output_type": "stream",
     "text": [
      "[I 2023-11-02 10:58:20,584] Trial 143 finished with value: 0.9487988151656988 and parameters: {'learning_rate': 0.001, 'lambda_l1': 6.308649574228422, 'lambda_l2': 7.396060066250678, 'max_bin': 5, 'max_depth': 14, 'min_data_in_leaf': 53, 'min_child_samples': 52, 'num_leaves': 95, 'feature_fraction': 0.22799012869338775, 'bagging_fraction': 0.3861566515573883, 'bagging_freq': 11}. Best is trial 39 with value: 0.9323215585778228.\n"
     ]
    },
    {
     "name": "stdout",
     "output_type": "stream",
     "text": [
      "fold n°1\n",
      "fold n°2\n",
      "fold n°3\n",
      "fold n°4\n",
      "AUC score: 0.94880 \n",
      "fold n°0\n"
     ]
    },
    {
     "name": "stderr",
     "output_type": "stream",
     "text": [
      "/environment/miniconda3/lib/python3.10/site-packages/optuna/trial/_trial.py:677: RuntimeWarning: Inconsistent parameter values for distribution with name \"min_child_samples\"! This might be a configuration mistake. Optuna allows to call the same distribution with the same name more than once in a trial. When the parameter values are inconsistent optuna only uses the values of the first call and ignores all following. Using these values: {'log': False, 'step': 1, 'low': 2, 'high': 100}\n",
      "  warnings.warn(\n",
      "[I 2023-11-02 10:58:20,777] Trial 144 finished with value: 0.9323823769498366 and parameters: {'learning_rate': 0.001, 'lambda_l1': 6.727839754030078, 'lambda_l2': 7.957323800544194, 'max_bin': 2, 'max_depth': 20, 'min_data_in_leaf': 58, 'min_child_samples': 50, 'num_leaves': 100, 'feature_fraction': 0.30058615265785815, 'bagging_fraction': 0.4803390004160809, 'bagging_freq': 10}. Best is trial 39 with value: 0.9323215585778228.\n",
      "/environment/miniconda3/lib/python3.10/site-packages/optuna/trial/_trial.py:677: RuntimeWarning: Inconsistent parameter values for distribution with name \"min_child_samples\"! This might be a configuration mistake. Optuna allows to call the same distribution with the same name more than once in a trial. When the parameter values are inconsistent optuna only uses the values of the first call and ignores all following. Using these values: {'log': False, 'step': 1, 'low': 2, 'high': 100}\n",
      "  warnings.warn(\n"
     ]
    },
    {
     "name": "stdout",
     "output_type": "stream",
     "text": [
      "fold n°1\n",
      "fold n°2\n",
      "fold n°3\n",
      "fold n°4\n",
      "AUC score: 0.93238 \n",
      "fold n°0\n"
     ]
    },
    {
     "name": "stderr",
     "output_type": "stream",
     "text": [
      "[I 2023-11-02 10:58:21,002] Trial 145 finished with value: 0.9489089459874588 and parameters: {'learning_rate': 0.001, 'lambda_l1': 7.253936328356288, 'lambda_l2': 6.948144287101379, 'max_bin': 9, 'max_depth': 24, 'min_data_in_leaf': 95, 'min_child_samples': 34, 'num_leaves': 73, 'feature_fraction': 0.32824179056523983, 'bagging_fraction': 0.44168617849984415, 'bagging_freq': 12}. Best is trial 39 with value: 0.9323215585778228.\n"
     ]
    },
    {
     "name": "stdout",
     "output_type": "stream",
     "text": [
      "fold n°1\n",
      "fold n°2\n",
      "fold n°3\n",
      "fold n°4\n",
      "AUC score: 0.94891 \n",
      "fold n°0\n"
     ]
    },
    {
     "name": "stderr",
     "output_type": "stream",
     "text": [
      "/environment/miniconda3/lib/python3.10/site-packages/optuna/trial/_trial.py:677: RuntimeWarning: Inconsistent parameter values for distribution with name \"min_child_samples\"! This might be a configuration mistake. Optuna allows to call the same distribution with the same name more than once in a trial. When the parameter values are inconsistent optuna only uses the values of the first call and ignores all following. Using these values: {'log': False, 'step': 1, 'low': 2, 'high': 100}\n",
      "  warnings.warn(\n",
      "[I 2023-11-02 10:58:21,241] Trial 146 finished with value: 0.9478231179365013 and parameters: {'learning_rate': 0.001, 'lambda_l1': 5.235795229491249, 'lambda_l2': 7.670937052301655, 'max_bin': 6, 'max_depth': 5, 'min_data_in_leaf': 54, 'min_child_samples': 57, 'num_leaves': 96, 'feature_fraction': 0.3485463192167815, 'bagging_fraction': 0.33419401991761694, 'bagging_freq': 10}. Best is trial 39 with value: 0.9323215585778228.\n"
     ]
    },
    {
     "name": "stdout",
     "output_type": "stream",
     "text": [
      "fold n°1\n",
      "fold n°2\n",
      "fold n°3\n",
      "fold n°4\n",
      "AUC score: 0.94782 \n"
     ]
    },
    {
     "name": "stderr",
     "output_type": "stream",
     "text": [
      "/environment/miniconda3/lib/python3.10/site-packages/optuna/trial/_trial.py:677: RuntimeWarning: Inconsistent parameter values for distribution with name \"min_child_samples\"! This might be a configuration mistake. Optuna allows to call the same distribution with the same name more than once in a trial. When the parameter values are inconsistent optuna only uses the values of the first call and ignores all following. Using these values: {'log': False, 'step': 1, 'low': 2, 'high': 100}\n",
      "  warnings.warn(\n",
      "[I 2023-11-02 10:58:21,453] Trial 147 finished with value: 0.9463847915318558 and parameters: {'learning_rate': 0.05, 'lambda_l1': 5.520460772766775, 'lambda_l2': 7.171557670120913, 'max_bin': 4, 'max_depth': 9, 'min_data_in_leaf': 49, 'min_child_samples': 62, 'num_leaves': 57, 'feature_fraction': 0.2490619474012754, 'bagging_fraction': 0.40258550865931786, 'bagging_freq': 15}. Best is trial 39 with value: 0.9323215585778228.\n"
     ]
    },
    {
     "name": "stdout",
     "output_type": "stream",
     "text": [
      "fold n°0\n",
      "fold n°1\n",
      "fold n°2\n",
      "fold n°3\n",
      "fold n°4\n",
      "AUC score: 0.94638 \n"
     ]
    },
    {
     "name": "stderr",
     "output_type": "stream",
     "text": [
      "/environment/miniconda3/lib/python3.10/site-packages/optuna/trial/_trial.py:677: RuntimeWarning: Inconsistent parameter values for distribution with name \"min_child_samples\"! This might be a configuration mistake. Optuna allows to call the same distribution with the same name more than once in a trial. When the parameter values are inconsistent optuna only uses the values of the first call and ignores all following. Using these values: {'log': False, 'step': 1, 'low': 2, 'high': 100}\n",
      "  warnings.warn(\n",
      "[I 2023-11-02 10:58:21,678] Trial 148 finished with value: 0.9474481384833879 and parameters: {'learning_rate': 5e-05, 'lambda_l1': 7.065473666822212, 'lambda_l2': 6.666654829555168, 'max_bin': 11, 'max_depth': 7, 'min_data_in_leaf': 63, 'min_child_samples': 54, 'num_leaves': 87, 'feature_fraction': 0.2766838639305077, 'bagging_fraction': 0.37703961718111356, 'bagging_freq': 11}. Best is trial 39 with value: 0.9323215585778228.\n"
     ]
    },
    {
     "name": "stdout",
     "output_type": "stream",
     "text": [
      "fold n°0\n",
      "fold n°1\n",
      "fold n°2\n",
      "fold n°3\n",
      "fold n°4\n",
      "AUC score: 0.94745 \n"
     ]
    },
    {
     "name": "stderr",
     "output_type": "stream",
     "text": [
      "/environment/miniconda3/lib/python3.10/site-packages/optuna/trial/_trial.py:677: RuntimeWarning: Inconsistent parameter values for distribution with name \"min_child_samples\"! This might be a configuration mistake. Optuna allows to call the same distribution with the same name more than once in a trial. When the parameter values are inconsistent optuna only uses the values of the first call and ignores all following. Using these values: {'log': False, 'step': 1, 'low': 2, 'high': 100}\n",
      "  warnings.warn(\n",
      "[I 2023-11-02 10:58:21,904] Trial 149 finished with value: 0.9489199465008783 and parameters: {'learning_rate': 0.001, 'lambda_l1': 5.802128333310664, 'lambda_l2': 8.447016858769738, 'max_bin': 7, 'max_depth': 35, 'min_data_in_leaf': 61, 'min_child_samples': 32, 'num_leaves': 81, 'feature_fraction': 0.21870998820552845, 'bagging_fraction': 0.3546065434212166, 'bagging_freq': 11}. Best is trial 39 with value: 0.9323215585778228.\n"
     ]
    },
    {
     "name": "stdout",
     "output_type": "stream",
     "text": [
      "fold n°0\n",
      "fold n°1\n",
      "fold n°2\n",
      "fold n°3\n",
      "fold n°4\n",
      "AUC score: 0.94892 \n"
     ]
    },
    {
     "name": "stderr",
     "output_type": "stream",
     "text": [
      "/environment/miniconda3/lib/python3.10/site-packages/optuna/trial/_trial.py:677: RuntimeWarning: Inconsistent parameter values for distribution with name \"min_child_samples\"! This might be a configuration mistake. Optuna allows to call the same distribution with the same name more than once in a trial. When the parameter values are inconsistent optuna only uses the values of the first call and ignores all following. Using these values: {'log': False, 'step': 1, 'low': 2, 'high': 100}\n",
      "  warnings.warn(\n",
      "[I 2023-11-02 10:58:22,133] Trial 150 finished with value: 0.9476693889599508 and parameters: {'learning_rate': 0.001, 'lambda_l1': 6.0961060673831335, 'lambda_l2': 7.494507223768066, 'max_bin': 4, 'max_depth': 15, 'min_data_in_leaf': 57, 'min_child_samples': 69, 'num_leaves': 91, 'feature_fraction': 0.17768126956088515, 'bagging_fraction': 0.4208156021429531, 'bagging_freq': 12}. Best is trial 39 with value: 0.9323215585778228.\n"
     ]
    },
    {
     "name": "stdout",
     "output_type": "stream",
     "text": [
      "fold n°0\n",
      "fold n°1\n",
      "fold n°2\n",
      "fold n°3\n",
      "fold n°4\n",
      "AUC score: 0.94767 \n"
     ]
    },
    {
     "name": "stderr",
     "output_type": "stream",
     "text": [
      "/environment/miniconda3/lib/python3.10/site-packages/optuna/trial/_trial.py:677: RuntimeWarning: Inconsistent parameter values for distribution with name \"min_child_samples\"! This might be a configuration mistake. Optuna allows to call the same distribution with the same name more than once in a trial. When the parameter values are inconsistent optuna only uses the values of the first call and ignores all following. Using these values: {'log': False, 'step': 1, 'low': 2, 'high': 100}\n",
      "  warnings.warn(\n",
      "[I 2023-11-02 10:58:22,369] Trial 151 finished with value: 0.9323823769498366 and parameters: {'learning_rate': 0.001, 'lambda_l1': 6.670698450341819, 'lambda_l2': 6.795890219933463, 'max_bin': 2, 'max_depth': 8, 'min_data_in_leaf': 50, 'min_child_samples': 36, 'num_leaves': 84, 'feature_fraction': 0.2562609531370753, 'bagging_fraction': 0.39661096816488123, 'bagging_freq': 11}. Best is trial 39 with value: 0.9323215585778228.\n"
     ]
    },
    {
     "name": "stdout",
     "output_type": "stream",
     "text": [
      "fold n°0\n",
      "fold n°1\n",
      "fold n°2\n",
      "fold n°3\n",
      "fold n°4\n",
      "AUC score: 0.93238 \n"
     ]
    },
    {
     "name": "stderr",
     "output_type": "stream",
     "text": [
      "/environment/miniconda3/lib/python3.10/site-packages/optuna/trial/_trial.py:677: RuntimeWarning: Inconsistent parameter values for distribution with name \"min_child_samples\"! This might be a configuration mistake. Optuna allows to call the same distribution with the same name more than once in a trial. When the parameter values are inconsistent optuna only uses the values of the first call and ignores all following. Using these values: {'log': False, 'step': 1, 'low': 2, 'high': 100}\n",
      "  warnings.warn(\n",
      "[I 2023-11-02 10:58:22,635] Trial 152 finished with value: 0.9323823769498366 and parameters: {'learning_rate': 0.001, 'lambda_l1': 6.796278536312147, 'lambda_l2': 6.585281730537977, 'max_bin': 2, 'max_depth': 6, 'min_data_in_leaf': 52, 'min_child_samples': 36, 'num_leaves': 89, 'feature_fraction': 0.2663216873382756, 'bagging_fraction': 0.4394323531730255, 'bagging_freq': 11}. Best is trial 39 with value: 0.9323215585778228.\n"
     ]
    },
    {
     "name": "stdout",
     "output_type": "stream",
     "text": [
      "fold n°0\n",
      "fold n°1\n",
      "fold n°2\n",
      "fold n°3\n",
      "fold n°4\n",
      "AUC score: 0.93238 \n"
     ]
    },
    {
     "name": "stderr",
     "output_type": "stream",
     "text": [
      "/environment/miniconda3/lib/python3.10/site-packages/optuna/trial/_trial.py:677: RuntimeWarning: Inconsistent parameter values for distribution with name \"min_child_samples\"! This might be a configuration mistake. Optuna allows to call the same distribution with the same name more than once in a trial. When the parameter values are inconsistent optuna only uses the values of the first call and ignores all following. Using these values: {'log': False, 'step': 1, 'low': 2, 'high': 100}\n",
      "  warnings.warn(\n"
     ]
    },
    {
     "name": "stdout",
     "output_type": "stream",
     "text": [
      "fold n°0\n",
      "fold n°1\n",
      "fold n°2\n",
      "fold n°3\n",
      "fold n°4\n",
      "AUC score: 0.94573 \n"
     ]
    },
    {
     "name": "stderr",
     "output_type": "stream",
     "text": [
      "[I 2023-11-02 10:58:22,917] Trial 153 finished with value: 0.9457349758890524 and parameters: {'learning_rate': 0.001, 'lambda_l1': 6.347806721036669, 'lambda_l2': 6.433246640698562, 'max_bin': 4, 'max_depth': 4, 'min_data_in_leaf': 46, 'min_child_samples': 40, 'num_leaves': 93, 'feature_fraction': 0.2320375355361753, 'bagging_fraction': 0.4022676600546264, 'bagging_freq': 10}. Best is trial 39 with value: 0.9323215585778228.\n",
      "/environment/miniconda3/lib/python3.10/site-packages/optuna/trial/_trial.py:677: RuntimeWarning: Inconsistent parameter values for distribution with name \"min_child_samples\"! This might be a configuration mistake. Optuna allows to call the same distribution with the same name more than once in a trial. When the parameter values are inconsistent optuna only uses the values of the first call and ignores all following. Using these values: {'log': False, 'step': 1, 'low': 2, 'high': 100}\n",
      "  warnings.warn(\n",
      "[I 2023-11-02 10:58:23,179] Trial 154 finished with value: 0.9323702132754338 and parameters: {'learning_rate': 0.001, 'lambda_l1': 7.649745653340222, 'lambda_l2': 7.017687570112269, 'max_bin': 2, 'max_depth': 12, 'min_data_in_leaf': 50, 'min_child_samples': 29, 'num_leaves': 89, 'feature_fraction': 0.28488327890096504, 'bagging_fraction': 0.36772832691733315, 'bagging_freq': 11}. Best is trial 39 with value: 0.9323215585778228.\n"
     ]
    },
    {
     "name": "stdout",
     "output_type": "stream",
     "text": [
      "fold n°0\n",
      "fold n°1\n",
      "fold n°2\n",
      "fold n°3\n",
      "fold n°4\n",
      "AUC score: 0.93237 \n"
     ]
    },
    {
     "name": "stderr",
     "output_type": "stream",
     "text": [
      "/environment/miniconda3/lib/python3.10/site-packages/optuna/trial/_trial.py:677: RuntimeWarning: Inconsistent parameter values for distribution with name \"min_child_samples\"! This might be a configuration mistake. Optuna allows to call the same distribution with the same name more than once in a trial. When the parameter values are inconsistent optuna only uses the values of the first call and ignores all following. Using these values: {'log': False, 'step': 1, 'low': 2, 'high': 100}\n",
      "  warnings.warn(\n"
     ]
    },
    {
     "name": "stdout",
     "output_type": "stream",
     "text": [
      "fold n°0\n",
      "fold n°1\n",
      "fold n°2\n",
      "fold n°3\n",
      "fold n°4\n"
     ]
    },
    {
     "name": "stderr",
     "output_type": "stream",
     "text": [
      "[I 2023-11-02 10:58:23,480] Trial 155 finished with value: 0.9468504715862169 and parameters: {'learning_rate': 0.001, 'lambda_l1': 7.633933208058255, 'lambda_l2': 7.02152455999861, 'max_bin': 6, 'max_depth': 12, 'min_data_in_leaf': 54, 'min_child_samples': 27, 'num_leaves': 86, 'feature_fraction': 0.28552162256170177, 'bagging_fraction': 0.36742234140490504, 'bagging_freq': 10}. Best is trial 39 with value: 0.9323215585778228.\n"
     ]
    },
    {
     "name": "stdout",
     "output_type": "stream",
     "text": [
      "AUC score: 0.94685 \n",
      "fold n°0\n",
      "fold n°1\n",
      "fold n°2\n",
      "fold n°3\n"
     ]
    },
    {
     "name": "stderr",
     "output_type": "stream",
     "text": [
      "/environment/miniconda3/lib/python3.10/site-packages/optuna/trial/_trial.py:677: RuntimeWarning: Inconsistent parameter values for distribution with name \"min_child_samples\"! This might be a configuration mistake. Optuna allows to call the same distribution with the same name more than once in a trial. When the parameter values are inconsistent optuna only uses the values of the first call and ignores all following. Using these values: {'log': False, 'step': 1, 'low': 2, 'high': 100}\n",
      "  warnings.warn(\n",
      "[I 2023-11-02 10:58:23,750] Trial 156 finished with value: 0.943694336630721 and parameters: {'learning_rate': 0.001, 'lambda_l1': 8.293522380505806, 'lambda_l2': 7.23637300984337, 'max_bin': 4, 'max_depth': 18, 'min_data_in_leaf': 48, 'min_child_samples': 31, 'num_leaves': 78, 'feature_fraction': 0.3048859359545132, 'bagging_fraction': 0.3369256534035148, 'bagging_freq': 11}. Best is trial 39 with value: 0.9323215585778228.\n"
     ]
    },
    {
     "name": "stdout",
     "output_type": "stream",
     "text": [
      "fold n°4\n",
      "AUC score: 0.94369 \n",
      "fold n°0\n",
      "fold n°1\n",
      "fold n°2\n"
     ]
    },
    {
     "name": "stderr",
     "output_type": "stream",
     "text": [
      "/environment/miniconda3/lib/python3.10/site-packages/optuna/trial/_trial.py:677: RuntimeWarning: Inconsistent parameter values for distribution with name \"min_child_samples\"! This might be a configuration mistake. Optuna allows to call the same distribution with the same name more than once in a trial. When the parameter values are inconsistent optuna only uses the values of the first call and ignores all following. Using these values: {'log': False, 'step': 1, 'low': 2, 'high': 100}\n",
      "  warnings.warn(\n",
      "[I 2023-11-02 10:58:24,000] Trial 157 finished with value: 0.9548658177623419 and parameters: {'learning_rate': 0.1, 'lambda_l1': 7.482761873086857, 'lambda_l2': 7.874686408772237, 'max_bin': 8, 'max_depth': 10, 'min_data_in_leaf': 59, 'min_child_samples': 29, 'num_leaves': 72, 'feature_fraction': 0.2061670652901308, 'bagging_fraction': 0.34833842420267036, 'bagging_freq': 12}. Best is trial 39 with value: 0.9323215585778228.\n"
     ]
    },
    {
     "name": "stdout",
     "output_type": "stream",
     "text": [
      "fold n°3\n",
      "fold n°4\n",
      "AUC score: 0.95487 \n",
      "fold n°0\n",
      "fold n°1\n"
     ]
    },
    {
     "name": "stderr",
     "output_type": "stream",
     "text": [
      "/environment/miniconda3/lib/python3.10/site-packages/optuna/trial/_trial.py:677: RuntimeWarning: Inconsistent parameter values for distribution with name \"min_child_samples\"! This might be a configuration mistake. Optuna allows to call the same distribution with the same name more than once in a trial. When the parameter values are inconsistent optuna only uses the values of the first call and ignores all following. Using these values: {'log': False, 'step': 1, 'low': 2, 'high': 100}\n",
      "  warnings.warn(\n",
      "[I 2023-11-02 10:58:24,242] Trial 158 finished with value: 0.9323215585778228 and parameters: {'learning_rate': 0.0005, 'lambda_l1': 6.975721393594217, 'lambda_l2': 7.359366436573468, 'max_bin': 2, 'max_depth': 26, 'min_data_in_leaf': 56, 'min_child_samples': 75, 'num_leaves': 82, 'feature_fraction': 0.24353315493116034, 'bagging_fraction': 0.3061992119119258, 'bagging_freq': 11}. Best is trial 39 with value: 0.9323215585778228.\n"
     ]
    },
    {
     "name": "stdout",
     "output_type": "stream",
     "text": [
      "fold n°2\n",
      "fold n°3\n",
      "fold n°4\n",
      "AUC score: 0.93232 \n",
      "fold n°0\n"
     ]
    },
    {
     "name": "stderr",
     "output_type": "stream",
     "text": [
      "/environment/miniconda3/lib/python3.10/site-packages/optuna/trial/_trial.py:677: RuntimeWarning: Inconsistent parameter values for distribution with name \"min_child_samples\"! This might be a configuration mistake. Optuna allows to call the same distribution with the same name more than once in a trial. When the parameter values are inconsistent optuna only uses the values of the first call and ignores all following. Using these values: {'log': False, 'step': 1, 'low': 2, 'high': 100}\n",
      "  warnings.warn(\n",
      "[I 2023-11-02 10:58:24,514] Trial 159 finished with value: 0.946880655075409 and parameters: {'learning_rate': 0.0005, 'lambda_l1': 7.279858955226859, 'lambda_l2': 6.875888560668653, 'max_bin': 6, 'max_depth': 25, 'min_data_in_leaf': 56, 'min_child_samples': 74, 'num_leaves': 83, 'feature_fraction': 0.2391309398724213, 'bagging_fraction': 0.29438682976483344, 'bagging_freq': 12}. Best is trial 39 with value: 0.9323215585778228.\n"
     ]
    },
    {
     "name": "stdout",
     "output_type": "stream",
     "text": [
      "fold n°1\n",
      "fold n°2\n",
      "fold n°3\n",
      "fold n°4\n",
      "AUC score: 0.94688 \n"
     ]
    },
    {
     "name": "stderr",
     "output_type": "stream",
     "text": [
      "/environment/miniconda3/lib/python3.10/site-packages/optuna/trial/_trial.py:677: RuntimeWarning: Inconsistent parameter values for distribution with name \"min_child_samples\"! This might be a configuration mistake. Optuna allows to call the same distribution with the same name more than once in a trial. When the parameter values are inconsistent optuna only uses the values of the first call and ignores all following. Using these values: {'log': False, 'step': 1, 'low': 2, 'high': 100}\n",
      "  warnings.warn(\n",
      "[I 2023-11-02 10:58:24,744] Trial 160 finished with value: 0.949074102572234 and parameters: {'learning_rate': 0.0005, 'lambda_l1': 7.010501037270487, 'lambda_l2': 7.083385195101278, 'max_bin': 4, 'max_depth': 27, 'min_data_in_leaf': 70, 'min_child_samples': 76, 'num_leaves': 80, 'feature_fraction': 0.18830147204846398, 'bagging_fraction': 0.3150122258692013, 'bagging_freq': 11}. Best is trial 39 with value: 0.9323215585778228.\n"
     ]
    },
    {
     "name": "stdout",
     "output_type": "stream",
     "text": [
      "fold n°0\n",
      "fold n°1\n",
      "fold n°2\n",
      "fold n°3\n",
      "fold n°4\n",
      "AUC score: 0.94907 \n"
     ]
    },
    {
     "name": "stderr",
     "output_type": "stream",
     "text": [
      "/environment/miniconda3/lib/python3.10/site-packages/optuna/trial/_trial.py:677: RuntimeWarning: Inconsistent parameter values for distribution with name \"min_child_samples\"! This might be a configuration mistake. Optuna allows to call the same distribution with the same name more than once in a trial. When the parameter values are inconsistent optuna only uses the values of the first call and ignores all following. Using these values: {'log': False, 'step': 1, 'low': 2, 'high': 100}\n",
      "  warnings.warn(\n",
      "[I 2023-11-02 10:58:24,970] Trial 161 finished with value: 0.9323702132754338 and parameters: {'learning_rate': 0.0005, 'lambda_l1': 7.977503445654263, 'lambda_l2': 7.413408940922969, 'max_bin': 2, 'max_depth': 29, 'min_data_in_leaf': 51, 'min_child_samples': 72, 'num_leaves': 88, 'feature_fraction': 0.2185584535362542, 'bagging_fraction': 0.36477161557709303, 'bagging_freq': 11}. Best is trial 39 with value: 0.9323215585778228.\n"
     ]
    },
    {
     "name": "stdout",
     "output_type": "stream",
     "text": [
      "fold n°0\n",
      "fold n°1\n",
      "fold n°2\n",
      "fold n°3\n",
      "fold n°4\n",
      "AUC score: 0.93237 \n"
     ]
    },
    {
     "name": "stderr",
     "output_type": "stream",
     "text": [
      "/environment/miniconda3/lib/python3.10/site-packages/optuna/trial/_trial.py:677: RuntimeWarning: Inconsistent parameter values for distribution with name \"min_child_samples\"! This might be a configuration mistake. Optuna allows to call the same distribution with the same name more than once in a trial. When the parameter values are inconsistent optuna only uses the values of the first call and ignores all following. Using these values: {'log': False, 'step': 1, 'low': 2, 'high': 100}\n",
      "  warnings.warn(\n",
      "[I 2023-11-02 10:58:25,199] Trial 162 finished with value: 0.9323823769498366 and parameters: {'learning_rate': 0.0005, 'lambda_l1': 8.087600878069534, 'lambda_l2': 7.243805230811669, 'max_bin': 2, 'max_depth': 29, 'min_data_in_leaf': 51, 'min_child_samples': 67, 'num_leaves': 87, 'feature_fraction': 0.21861124064232723, 'bagging_fraction': 0.3659833255711644, 'bagging_freq': 10}. Best is trial 39 with value: 0.9323215585778228.\n"
     ]
    },
    {
     "name": "stdout",
     "output_type": "stream",
     "text": [
      "fold n°0\n",
      "fold n°1\n",
      "fold n°2\n",
      "fold n°3\n",
      "fold n°4\n",
      "AUC score: 0.93238 \n"
     ]
    },
    {
     "name": "stderr",
     "output_type": "stream",
     "text": [
      "/environment/miniconda3/lib/python3.10/site-packages/optuna/trial/_trial.py:677: RuntimeWarning: Inconsistent parameter values for distribution with name \"min_child_samples\"! This might be a configuration mistake. Optuna allows to call the same distribution with the same name more than once in a trial. When the parameter values are inconsistent optuna only uses the values of the first call and ignores all following. Using these values: {'log': False, 'step': 1, 'low': 2, 'high': 100}\n",
      "  warnings.warn(\n",
      "[I 2023-11-02 10:58:25,434] Trial 163 finished with value: 0.948068461073434 and parameters: {'learning_rate': 0.0005, 'lambda_l1': 7.902938922810755, 'lambda_l2': 7.695156167548372, 'max_bin': 5, 'max_depth': 23, 'min_data_in_leaf': 61, 'min_child_samples': 78, 'num_leaves': 85, 'feature_fraction': 0.24682598412050044, 'bagging_fraction': 0.32838296188588656, 'bagging_freq': 11}. Best is trial 39 with value: 0.9323215585778228.\n"
     ]
    },
    {
     "name": "stdout",
     "output_type": "stream",
     "text": [
      "fold n°0\n",
      "fold n°1\n",
      "fold n°2\n",
      "fold n°3\n",
      "fold n°4\n",
      "AUC score: 0.94807 \n"
     ]
    },
    {
     "name": "stderr",
     "output_type": "stream",
     "text": [
      "/environment/miniconda3/lib/python3.10/site-packages/optuna/trial/_trial.py:677: RuntimeWarning: Inconsistent parameter values for distribution with name \"min_child_samples\"! This might be a configuration mistake. Optuna allows to call the same distribution with the same name more than once in a trial. When the parameter values are inconsistent optuna only uses the values of the first call and ignores all following. Using these values: {'log': False, 'step': 1, 'low': 2, 'high': 100}\n",
      "  warnings.warn(\n",
      "[I 2023-11-02 10:58:25,661] Trial 164 finished with value: 0.9500875505435256 and parameters: {'learning_rate': 0.0005, 'lambda_l1': 8.376552043030314, 'lambda_l2': 7.363156736378452, 'max_bin': 60, 'max_depth': 26, 'min_data_in_leaf': 82, 'min_child_samples': 82, 'num_leaves': 82, 'feature_fraction': 0.20932662645651443, 'bagging_fraction': 0.34780740294871204, 'bagging_freq': 11}. Best is trial 39 with value: 0.9323215585778228.\n"
     ]
    },
    {
     "name": "stdout",
     "output_type": "stream",
     "text": [
      "fold n°0\n",
      "fold n°1\n",
      "fold n°2\n",
      "fold n°3\n",
      "fold n°4\n",
      "AUC score: 0.95009 \n"
     ]
    },
    {
     "name": "stderr",
     "output_type": "stream",
     "text": [
      "/environment/miniconda3/lib/python3.10/site-packages/optuna/trial/_trial.py:677: RuntimeWarning: Inconsistent parameter values for distribution with name \"min_child_samples\"! This might be a configuration mistake. Optuna allows to call the same distribution with the same name more than once in a trial. When the parameter values are inconsistent optuna only uses the values of the first call and ignores all following. Using these values: {'log': False, 'step': 1, 'low': 2, 'high': 100}\n",
      "  warnings.warn(\n",
      "[I 2023-11-02 10:58:25,879] Trial 165 finished with value: 0.9323215585778228 and parameters: {'learning_rate': 0.0005, 'lambda_l1': 8.118321815687061, 'lambda_l2': 8.10590157983423, 'max_bin': 2, 'max_depth': 21, 'min_data_in_leaf': 55, 'min_child_samples': 73, 'num_leaves': 89, 'feature_fraction': 0.22808640636686534, 'bagging_fraction': 0.3784456544003983, 'bagging_freq': 9}. Best is trial 39 with value: 0.9323215585778228.\n"
     ]
    },
    {
     "name": "stdout",
     "output_type": "stream",
     "text": [
      "fold n°0\n",
      "fold n°1\n",
      "fold n°2\n",
      "fold n°3\n",
      "fold n°4\n",
      "AUC score: 0.93232 \n"
     ]
    },
    {
     "name": "stderr",
     "output_type": "stream",
     "text": [
      "/environment/miniconda3/lib/python3.10/site-packages/optuna/trial/_trial.py:677: RuntimeWarning: Inconsistent parameter values for distribution with name \"min_child_samples\"! This might be a configuration mistake. Optuna allows to call the same distribution with the same name more than once in a trial. When the parameter values are inconsistent optuna only uses the values of the first call and ignores all following. Using these values: {'log': False, 'step': 1, 'low': 2, 'high': 100}\n",
      "  warnings.warn(\n",
      "[I 2023-11-02 10:58:26,125] Trial 166 finished with value: 0.9508624621729679 and parameters: {'learning_rate': 0.0005, 'lambda_l1': 8.051630356544212, 'lambda_l2': 7.756095745200125, 'max_bin': 9, 'max_depth': 20, 'min_data_in_leaf': 56, 'min_child_samples': 71, 'num_leaves': 91, 'feature_fraction': 0.2278522986060454, 'bagging_fraction': 0.3727002827586076, 'bagging_freq': 9}. Best is trial 39 with value: 0.9323215585778228.\n"
     ]
    },
    {
     "name": "stdout",
     "output_type": "stream",
     "text": [
      "fold n°0\n",
      "fold n°1\n",
      "fold n°2\n",
      "fold n°3\n",
      "fold n°4\n",
      "AUC score: 0.95086 \n"
     ]
    },
    {
     "name": "stderr",
     "output_type": "stream",
     "text": [
      "/environment/miniconda3/lib/python3.10/site-packages/optuna/trial/_trial.py:677: RuntimeWarning: Inconsistent parameter values for distribution with name \"min_child_samples\"! This might be a configuration mistake. Optuna allows to call the same distribution with the same name more than once in a trial. When the parameter values are inconsistent optuna only uses the values of the first call and ignores all following. Using these values: {'log': False, 'step': 1, 'low': 2, 'high': 100}\n",
      "  warnings.warn(\n",
      "[I 2023-11-02 10:58:26,285] Trial 167 finished with value: 0.9525918759636631 and parameters: {'learning_rate': 1, 'lambda_l1': 8.451097182890658, 'lambda_l2': 8.102881615725323, 'max_bin': 6, 'max_depth': 28, 'min_data_in_leaf': 67, 'min_child_samples': 74, 'num_leaves': 75, 'feature_fraction': 0.18268378007402064, 'bagging_fraction': 0.3026649245331733, 'bagging_freq': 10}. Best is trial 39 with value: 0.9323215585778228.\n",
      "/environment/miniconda3/lib/python3.10/site-packages/optuna/trial/_trial.py:677: RuntimeWarning: Inconsistent parameter values for distribution with name \"min_child_samples\"! This might be a configuration mistake. Optuna allows to call the same distribution with the same name more than once in a trial. When the parameter values are inconsistent optuna only uses the values of the first call and ignores all following. Using these values: {'log': False, 'step': 1, 'low': 2, 'high': 100}\n",
      "  warnings.warn(\n"
     ]
    },
    {
     "name": "stdout",
     "output_type": "stream",
     "text": [
      "fold n°0\n",
      "fold n°1\n",
      "fold n°2\n",
      "fold n°3\n",
      "fold n°4\n",
      "AUC score: 0.95259 \n",
      "fold n°0\n",
      "fold n°1\n"
     ]
    },
    {
     "name": "stderr",
     "output_type": "stream",
     "text": [
      "[I 2023-11-02 10:58:26,511] Trial 168 finished with value: 0.9460068919904462 and parameters: {'learning_rate': 0.0005, 'lambda_l1': 7.75266392954191, 'lambda_l2': 8.168269871148667, 'max_bin': 4, 'max_depth': 22, 'min_data_in_leaf': 54, 'min_child_samples': 72, 'num_leaves': 89, 'feature_fraction': 0.20178794514595755, 'bagging_fraction': 0.38752680248455684, 'bagging_freq': 8}. Best is trial 39 with value: 0.9323215585778228.\n"
     ]
    },
    {
     "name": "stdout",
     "output_type": "stream",
     "text": [
      "fold n°2\n",
      "fold n°3\n",
      "fold n°4\n",
      "AUC score: 0.94601 \n",
      "fold n°0\n"
     ]
    },
    {
     "name": "stderr",
     "output_type": "stream",
     "text": [
      "/environment/miniconda3/lib/python3.10/site-packages/optuna/trial/_trial.py:677: RuntimeWarning: Inconsistent parameter values for distribution with name \"min_child_samples\"! This might be a configuration mistake. Optuna allows to call the same distribution with the same name more than once in a trial. When the parameter values are inconsistent optuna only uses the values of the first call and ignores all following. Using these values: {'log': False, 'step': 1, 'low': 2, 'high': 100}\n",
      "  warnings.warn(\n"
     ]
    },
    {
     "name": "stdout",
     "output_type": "stream",
     "text": [
      "fold n°1\n"
     ]
    }
   ],
   "source": [
    "study = optuna.create_study(direction='minimize')\n",
    "study.optimize(objective, n_trials=200)\n",
    "print('Number of finished trials:', len(study.trials))\n",
    "print('Best trial:', study.best_trial.params)"
   ]
  },
  {
   "cell_type": "code",
   "execution_count": null,
   "id": "53977d7b-f649-4c32-bec1-614c6a03a2ef",
   "metadata": {},
   "outputs": [],
   "source": []
  },
  {
   "cell_type": "code",
   "execution_count": null,
   "id": "3791fdbe-d9ae-4ece-89bc-97a000408e98",
   "metadata": {},
   "outputs": [],
   "source": [
    "submission_df = generate_prediction(study, X_train, y_train, X_test)"
   ]
  },
  {
   "cell_type": "code",
   "execution_count": 93,
   "id": "5986903a-da58-451b-bcf6-24f1b7b249bf",
   "metadata": {},
   "outputs": [
    {
     "data": {
      "text/html": [
       "<div>\n",
       "<style scoped>\n",
       "    .dataframe tbody tr th:only-of-type {\n",
       "        vertical-align: middle;\n",
       "    }\n",
       "\n",
       "    .dataframe tbody tr th {\n",
       "        vertical-align: top;\n",
       "    }\n",
       "\n",
       "    .dataframe thead th {\n",
       "        text-align: right;\n",
       "    }\n",
       "</style>\n",
       "<table border=\"1\" class=\"dataframe\">\n",
       "  <thead>\n",
       "    <tr style=\"text-align: right;\">\n",
       "      <th></th>\n",
       "      <th>number</th>\n",
       "      <th>value</th>\n",
       "      <th>datetime_start</th>\n",
       "      <th>datetime_complete</th>\n",
       "      <th>duration</th>\n",
       "      <th>params_bagging_fraction</th>\n",
       "      <th>params_bagging_freq</th>\n",
       "      <th>params_feature_fraction</th>\n",
       "      <th>params_lambda_l1</th>\n",
       "      <th>params_lambda_l2</th>\n",
       "      <th>params_learning_rate</th>\n",
       "      <th>params_max_bin</th>\n",
       "      <th>params_max_depth</th>\n",
       "      <th>params_min_child_samples</th>\n",
       "      <th>params_min_data_in_leaf</th>\n",
       "      <th>params_num_leaves</th>\n",
       "      <th>state</th>\n",
       "    </tr>\n",
       "  </thead>\n",
       "  <tbody>\n",
       "    <tr>\n",
       "      <th>0</th>\n",
       "      <td>0</td>\n",
       "      <td>0.934385</td>\n",
       "      <td>2023-11-02 05:02:37.235752</td>\n",
       "      <td>2023-11-02 05:02:37.806673</td>\n",
       "      <td>0 days 00:00:00.570921</td>\n",
       "      <td>0.886531</td>\n",
       "      <td>4</td>\n",
       "      <td>0.591867</td>\n",
       "      <td>3.157235</td>\n",
       "      <td>3.172855</td>\n",
       "      <td>1.000</td>\n",
       "      <td>48</td>\n",
       "      <td>72</td>\n",
       "      <td>44</td>\n",
       "      <td>29</td>\n",
       "      <td>99</td>\n",
       "      <td>COMPLETE</td>\n",
       "    </tr>\n",
       "    <tr>\n",
       "      <th>1</th>\n",
       "      <td>1</td>\n",
       "      <td>0.952745</td>\n",
       "      <td>2023-11-02 05:02:37.808478</td>\n",
       "      <td>2023-11-02 05:02:38.131991</td>\n",
       "      <td>0 days 00:00:00.323513</td>\n",
       "      <td>0.592015</td>\n",
       "      <td>6</td>\n",
       "      <td>0.952578</td>\n",
       "      <td>3.203838</td>\n",
       "      <td>1.079704</td>\n",
       "      <td>1.000</td>\n",
       "      <td>26</td>\n",
       "      <td>28</td>\n",
       "      <td>65</td>\n",
       "      <td>47</td>\n",
       "      <td>23</td>\n",
       "      <td>COMPLETE</td>\n",
       "    </tr>\n",
       "    <tr>\n",
       "      <th>2</th>\n",
       "      <td>2</td>\n",
       "      <td>0.970083</td>\n",
       "      <td>2023-11-02 05:02:38.133155</td>\n",
       "      <td>2023-11-02 05:02:38.494116</td>\n",
       "      <td>0 days 00:00:00.360961</td>\n",
       "      <td>0.984789</td>\n",
       "      <td>0</td>\n",
       "      <td>0.708234</td>\n",
       "      <td>7.973811</td>\n",
       "      <td>2.202976</td>\n",
       "      <td>0.100</td>\n",
       "      <td>35</td>\n",
       "      <td>76</td>\n",
       "      <td>24</td>\n",
       "      <td>29</td>\n",
       "      <td>48</td>\n",
       "      <td>COMPLETE</td>\n",
       "    </tr>\n",
       "    <tr>\n",
       "      <th>3</th>\n",
       "      <td>3</td>\n",
       "      <td>0.966443</td>\n",
       "      <td>2023-11-02 05:02:38.495594</td>\n",
       "      <td>2023-11-02 05:02:38.808394</td>\n",
       "      <td>0 days 00:00:00.312800</td>\n",
       "      <td>0.493009</td>\n",
       "      <td>4</td>\n",
       "      <td>0.956131</td>\n",
       "      <td>9.904357</td>\n",
       "      <td>3.559538</td>\n",
       "      <td>0.050</td>\n",
       "      <td>31</td>\n",
       "      <td>99</td>\n",
       "      <td>22</td>\n",
       "      <td>83</td>\n",
       "      <td>48</td>\n",
       "      <td>COMPLETE</td>\n",
       "    </tr>\n",
       "    <tr>\n",
       "      <th>4</th>\n",
       "      <td>4</td>\n",
       "      <td>0.950323</td>\n",
       "      <td>2023-11-02 05:02:38.809902</td>\n",
       "      <td>2023-11-02 05:02:39.135453</td>\n",
       "      <td>0 days 00:00:00.325551</td>\n",
       "      <td>0.957711</td>\n",
       "      <td>10</td>\n",
       "      <td>0.465642</td>\n",
       "      <td>5.528553</td>\n",
       "      <td>9.177478</td>\n",
       "      <td>1.000</td>\n",
       "      <td>62</td>\n",
       "      <td>52</td>\n",
       "      <td>99</td>\n",
       "      <td>90</td>\n",
       "      <td>82</td>\n",
       "      <td>COMPLETE</td>\n",
       "    </tr>\n",
       "    <tr>\n",
       "      <th>...</th>\n",
       "      <td>...</td>\n",
       "      <td>...</td>\n",
       "      <td>...</td>\n",
       "      <td>...</td>\n",
       "      <td>...</td>\n",
       "      <td>...</td>\n",
       "      <td>...</td>\n",
       "      <td>...</td>\n",
       "      <td>...</td>\n",
       "      <td>...</td>\n",
       "      <td>...</td>\n",
       "      <td>...</td>\n",
       "      <td>...</td>\n",
       "      <td>...</td>\n",
       "      <td>...</td>\n",
       "      <td>...</td>\n",
       "      <td>...</td>\n",
       "    </tr>\n",
       "    <tr>\n",
       "      <th>295</th>\n",
       "      <td>295</td>\n",
       "      <td>0.830967</td>\n",
       "      <td>2023-11-02 05:08:37.724035</td>\n",
       "      <td>2023-11-02 05:08:38.688122</td>\n",
       "      <td>0 days 00:00:00.964087</td>\n",
       "      <td>0.418121</td>\n",
       "      <td>10</td>\n",
       "      <td>0.599377</td>\n",
       "      <td>0.182756</td>\n",
       "      <td>0.515297</td>\n",
       "      <td>1.000</td>\n",
       "      <td>57</td>\n",
       "      <td>53</td>\n",
       "      <td>26</td>\n",
       "      <td>7</td>\n",
       "      <td>38</td>\n",
       "      <td>COMPLETE</td>\n",
       "    </tr>\n",
       "    <tr>\n",
       "      <th>296</th>\n",
       "      <td>296</td>\n",
       "      <td>0.912262</td>\n",
       "      <td>2023-11-02 05:08:38.689357</td>\n",
       "      <td>2023-11-02 05:08:39.167295</td>\n",
       "      <td>0 days 00:00:00.477938</td>\n",
       "      <td>0.423046</td>\n",
       "      <td>10</td>\n",
       "      <td>0.556506</td>\n",
       "      <td>2.496902</td>\n",
       "      <td>0.152173</td>\n",
       "      <td>1.000</td>\n",
       "      <td>58</td>\n",
       "      <td>53</td>\n",
       "      <td>26</td>\n",
       "      <td>8</td>\n",
       "      <td>64</td>\n",
       "      <td>COMPLETE</td>\n",
       "    </tr>\n",
       "    <tr>\n",
       "      <th>297</th>\n",
       "      <td>297</td>\n",
       "      <td>0.957052</td>\n",
       "      <td>2023-11-02 05:08:39.168645</td>\n",
       "      <td>2023-11-02 05:08:39.936690</td>\n",
       "      <td>0 days 00:00:00.768045</td>\n",
       "      <td>0.409342</td>\n",
       "      <td>10</td>\n",
       "      <td>0.680136</td>\n",
       "      <td>0.007482</td>\n",
       "      <td>1.871129</td>\n",
       "      <td>0.001</td>\n",
       "      <td>54</td>\n",
       "      <td>55</td>\n",
       "      <td>29</td>\n",
       "      <td>11</td>\n",
       "      <td>48</td>\n",
       "      <td>COMPLETE</td>\n",
       "    </tr>\n",
       "    <tr>\n",
       "      <th>298</th>\n",
       "      <td>298</td>\n",
       "      <td>0.879176</td>\n",
       "      <td>2023-11-02 05:08:39.937955</td>\n",
       "      <td>2023-11-02 05:08:40.816211</td>\n",
       "      <td>0 days 00:00:00.878256</td>\n",
       "      <td>0.446942</td>\n",
       "      <td>10</td>\n",
       "      <td>0.593038</td>\n",
       "      <td>0.195425</td>\n",
       "      <td>4.618346</td>\n",
       "      <td>1.000</td>\n",
       "      <td>52</td>\n",
       "      <td>54</td>\n",
       "      <td>23</td>\n",
       "      <td>7</td>\n",
       "      <td>31</td>\n",
       "      <td>COMPLETE</td>\n",
       "    </tr>\n",
       "    <tr>\n",
       "      <th>299</th>\n",
       "      <td>299</td>\n",
       "      <td>0.949740</td>\n",
       "      <td>2023-11-02 05:08:40.817689</td>\n",
       "      <td>2023-11-02 05:08:42.025608</td>\n",
       "      <td>0 days 00:00:01.207919</td>\n",
       "      <td>0.447492</td>\n",
       "      <td>11</td>\n",
       "      <td>0.572594</td>\n",
       "      <td>0.366578</td>\n",
       "      <td>3.369481</td>\n",
       "      <td>0.100</td>\n",
       "      <td>56</td>\n",
       "      <td>52</td>\n",
       "      <td>31</td>\n",
       "      <td>7</td>\n",
       "      <td>51</td>\n",
       "      <td>COMPLETE</td>\n",
       "    </tr>\n",
       "  </tbody>\n",
       "</table>\n",
       "<p>300 rows × 17 columns</p>\n",
       "</div>"
      ],
      "text/plain": [
       "     number     value             datetime_start          datetime_complete  \\\n",
       "0         0  0.934385 2023-11-02 05:02:37.235752 2023-11-02 05:02:37.806673   \n",
       "1         1  0.952745 2023-11-02 05:02:37.808478 2023-11-02 05:02:38.131991   \n",
       "2         2  0.970083 2023-11-02 05:02:38.133155 2023-11-02 05:02:38.494116   \n",
       "3         3  0.966443 2023-11-02 05:02:38.495594 2023-11-02 05:02:38.808394   \n",
       "4         4  0.950323 2023-11-02 05:02:38.809902 2023-11-02 05:02:39.135453   \n",
       "..      ...       ...                        ...                        ...   \n",
       "295     295  0.830967 2023-11-02 05:08:37.724035 2023-11-02 05:08:38.688122   \n",
       "296     296  0.912262 2023-11-02 05:08:38.689357 2023-11-02 05:08:39.167295   \n",
       "297     297  0.957052 2023-11-02 05:08:39.168645 2023-11-02 05:08:39.936690   \n",
       "298     298  0.879176 2023-11-02 05:08:39.937955 2023-11-02 05:08:40.816211   \n",
       "299     299  0.949740 2023-11-02 05:08:40.817689 2023-11-02 05:08:42.025608   \n",
       "\n",
       "                  duration  params_bagging_fraction  params_bagging_freq  \\\n",
       "0   0 days 00:00:00.570921                 0.886531                    4   \n",
       "1   0 days 00:00:00.323513                 0.592015                    6   \n",
       "2   0 days 00:00:00.360961                 0.984789                    0   \n",
       "3   0 days 00:00:00.312800                 0.493009                    4   \n",
       "4   0 days 00:00:00.325551                 0.957711                   10   \n",
       "..                     ...                      ...                  ...   \n",
       "295 0 days 00:00:00.964087                 0.418121                   10   \n",
       "296 0 days 00:00:00.477938                 0.423046                   10   \n",
       "297 0 days 00:00:00.768045                 0.409342                   10   \n",
       "298 0 days 00:00:00.878256                 0.446942                   10   \n",
       "299 0 days 00:00:01.207919                 0.447492                   11   \n",
       "\n",
       "     params_feature_fraction  params_lambda_l1  params_lambda_l2  \\\n",
       "0                   0.591867          3.157235          3.172855   \n",
       "1                   0.952578          3.203838          1.079704   \n",
       "2                   0.708234          7.973811          2.202976   \n",
       "3                   0.956131          9.904357          3.559538   \n",
       "4                   0.465642          5.528553          9.177478   \n",
       "..                       ...               ...               ...   \n",
       "295                 0.599377          0.182756          0.515297   \n",
       "296                 0.556506          2.496902          0.152173   \n",
       "297                 0.680136          0.007482          1.871129   \n",
       "298                 0.593038          0.195425          4.618346   \n",
       "299                 0.572594          0.366578          3.369481   \n",
       "\n",
       "     params_learning_rate  params_max_bin  params_max_depth  \\\n",
       "0                   1.000              48                72   \n",
       "1                   1.000              26                28   \n",
       "2                   0.100              35                76   \n",
       "3                   0.050              31                99   \n",
       "4                   1.000              62                52   \n",
       "..                    ...             ...               ...   \n",
       "295                 1.000              57                53   \n",
       "296                 1.000              58                53   \n",
       "297                 0.001              54                55   \n",
       "298                 1.000              52                54   \n",
       "299                 0.100              56                52   \n",
       "\n",
       "     params_min_child_samples  params_min_data_in_leaf  params_num_leaves  \\\n",
       "0                          44                       29                 99   \n",
       "1                          65                       47                 23   \n",
       "2                          24                       29                 48   \n",
       "3                          22                       83                 48   \n",
       "4                          99                       90                 82   \n",
       "..                        ...                      ...                ...   \n",
       "295                        26                        7                 38   \n",
       "296                        26                        8                 64   \n",
       "297                        29                       11                 48   \n",
       "298                        23                        7                 31   \n",
       "299                        31                        7                 51   \n",
       "\n",
       "        state  \n",
       "0    COMPLETE  \n",
       "1    COMPLETE  \n",
       "2    COMPLETE  \n",
       "3    COMPLETE  \n",
       "4    COMPLETE  \n",
       "..        ...  \n",
       "295  COMPLETE  \n",
       "296  COMPLETE  \n",
       "297  COMPLETE  \n",
       "298  COMPLETE  \n",
       "299  COMPLETE  \n",
       "\n",
       "[300 rows x 17 columns]"
      ]
     },
     "execution_count": 93,
     "metadata": {},
     "output_type": "execute_result"
    }
   ],
   "source": []
  },
  {
   "cell_type": "code",
   "execution_count": 305,
   "id": "bbbd1f45-f91b-4117-a210-f13cb5fe790a",
   "metadata": {},
   "outputs": [
    {
     "name": "stdout",
     "output_type": "stream",
     "text": [
      "fold n°0\n",
      "[LightGBM] [Warning] min_data_in_leaf is set=20, min_child_samples=20 will be ignored. Current value: min_data_in_leaf=20\n",
      "[LightGBM] [Warning] min_data_in_leaf is set=20, min_child_samples=20 will be ignored. Current value: min_data_in_leaf=20\n",
      "[LightGBM] [Info] Auto-choosing row-wise multi-threading, the overhead of testing was 0.000703 seconds.\n",
      "You can set `force_row_wise=true` to remove the overhead.\n",
      "And if memory is not enough, you can set `force_col_wise=true`.\n",
      "[LightGBM] [Info] Total Bins 613\n",
      "[LightGBM] [Info] Number of data points in the train set: 5552, number of used features: 19\n",
      "[LightGBM] [Warning] min_data_in_leaf is set=20, min_child_samples=20 will be ignored. Current value: min_data_in_leaf=20\n",
      "[LightGBM] [Info] Start training from score 0.047731\n",
      "fold n°1\n",
      "[LightGBM] [Warning] min_data_in_leaf is set=20, min_child_samples=20 will be ignored. Current value: min_data_in_leaf=20\n",
      "[LightGBM] [Warning] min_data_in_leaf is set=20, min_child_samples=20 will be ignored. Current value: min_data_in_leaf=20\n",
      "[LightGBM] [Info] Auto-choosing row-wise multi-threading, the overhead of testing was 0.000533 seconds.\n",
      "You can set `force_row_wise=true` to remove the overhead.\n",
      "And if memory is not enough, you can set `force_col_wise=true`.\n",
      "[LightGBM] [Info] Total Bins 610\n",
      "[LightGBM] [Info] Number of data points in the train set: 5553, number of used features: 19\n",
      "[LightGBM] [Warning] min_data_in_leaf is set=20, min_child_samples=20 will be ignored. Current value: min_data_in_leaf=20\n",
      "[LightGBM] [Info] Start training from score 0.047902\n",
      "fold n°2\n",
      "[LightGBM] [Warning] min_data_in_leaf is set=20, min_child_samples=20 will be ignored. Current value: min_data_in_leaf=20\n",
      "[LightGBM] [Warning] min_data_in_leaf is set=20, min_child_samples=20 will be ignored. Current value: min_data_in_leaf=20\n",
      "[LightGBM] [Info] Auto-choosing row-wise multi-threading, the overhead of testing was 0.000490 seconds.\n",
      "You can set `force_row_wise=true` to remove the overhead.\n",
      "And if memory is not enough, you can set `force_col_wise=true`.\n",
      "[LightGBM] [Info] Total Bins 613\n",
      "[LightGBM] [Info] Number of data points in the train set: 5553, number of used features: 19\n",
      "[LightGBM] [Warning] min_data_in_leaf is set=20, min_child_samples=20 will be ignored. Current value: min_data_in_leaf=20\n",
      "[LightGBM] [Info] Start training from score 0.047902\n",
      "fold n°3\n",
      "[LightGBM] [Warning] min_data_in_leaf is set=20, min_child_samples=20 will be ignored. Current value: min_data_in_leaf=20\n",
      "[LightGBM] [Warning] min_data_in_leaf is set=20, min_child_samples=20 will be ignored. Current value: min_data_in_leaf=20\n",
      "[LightGBM] [Info] Auto-choosing row-wise multi-threading, the overhead of testing was 0.000537 seconds.\n",
      "You can set `force_row_wise=true` to remove the overhead.\n",
      "And if memory is not enough, you can set `force_col_wise=true`.\n",
      "[LightGBM] [Info] Total Bins 614\n",
      "[LightGBM] [Info] Number of data points in the train set: 5553, number of used features: 19\n",
      "[LightGBM] [Warning] min_data_in_leaf is set=20, min_child_samples=20 will be ignored. Current value: min_data_in_leaf=20\n",
      "[LightGBM] [Info] Start training from score 0.047902\n",
      "fold n°4\n",
      "[LightGBM] [Warning] min_data_in_leaf is set=20, min_child_samples=20 will be ignored. Current value: min_data_in_leaf=20\n",
      "[LightGBM] [Warning] min_data_in_leaf is set=20, min_child_samples=20 will be ignored. Current value: min_data_in_leaf=20\n",
      "[LightGBM] [Info] Auto-choosing row-wise multi-threading, the overhead of testing was 0.000517 seconds.\n",
      "You can set `force_row_wise=true` to remove the overhead.\n",
      "And if memory is not enough, you can set `force_col_wise=true`.\n",
      "[LightGBM] [Info] Total Bins 616\n",
      "[LightGBM] [Info] Number of data points in the train set: 5553, number of used features: 19\n",
      "[LightGBM] [Warning] min_data_in_leaf is set=20, min_child_samples=20 will be ignored. Current value: min_data_in_leaf=20\n",
      "[LightGBM] [Info] Start training from score 0.047722\n",
      "CV score: 0.94195 \n"
     ]
    }
   ],
   "source": [
    "import lightgbm as lgb\n",
    "from sklearn.model_selection import train_test_split\n",
    "from sklearn.model_selection import KFold\n",
    "from sklearn.model_selection import KFold\n",
    "from sklearn.metrics import roc_auc_score\n",
    "from sklearn.model_selection import StratifiedKFold\n",
    "\n",
    "# set default parameters for 1st round training\n",
    "params = {'boosting': 'gbdt',\n",
    "          'objective':'regression',\n",
    "          'metric': 'auc',\n",
    "          'learning_rate': 0.01, # 0.003! #0.005 #0.006 \n",
    "          'num_leaves': 10, #10\n",
    "          'max_bin': 50,  #60 #50 # large,but slower,over-fitting\n",
    "          'max_depth': 20, # deal with over-fitting\n",
    "          'min_data_in_leaf': 20, # deal with over-fitting\n",
    "          'min_child_samples': 20,\n",
    "          'feature_fraction': 0.5,#0.5 #0.6 #0.8\n",
    "          'bagging_fraction': 0.5,\n",
    "          'bagging_freq': 30,#5  \n",
    "          'bagging_seed': 11,\n",
    "          'lambda_l1':0,#1.3! #5 #1.2 #1\n",
    "          'lambda_l2': 0 #0.1\n",
    "         }\n",
    "\n",
    "# Kfold cross-validation\n",
    "# folds = KFold(n_splits=5, shuffle=True, random_state=11)\n",
    "\n",
    "\n",
    "fold_pred = np.zeros(len(train))\n",
    "feature_importance_df = pd.DataFrame()\n",
    "# lgb_preds = np.zeros(len(test))\n",
    "\n",
    "for fold_, (trn_idx, val_idx) in enumerate(folds.split(train.values,target.values)):\n",
    "    print(\"fold n°{}\".format(fold_))\n",
    "    trn_data = lgb.Dataset(train.iloc[trn_idx], label=target.iloc[trn_idx]) #categorical_feature=categorical_feats\n",
    "    val_data = lgb.Dataset(train.iloc[val_idx], label=target.iloc[val_idx]) #categorical_feature=categorical_feats\n",
    "\n",
    "    iteration = 1000\n",
    "    lgb_m = lgb.train(params, trn_data, iteration, valid_sets = [trn_data, val_data])\n",
    "    fold_pred[val_idx] = lgb_m.predict(train.iloc[val_idx], num_iteration=lgb_m.best_iteration)\n",
    "    \n",
    "    fold_importance_df = pd.DataFrame()\n",
    "    fold_importance_df[\"feature\"] = train.columns\n",
    "    fold_importance_df[\"importance\"] = lgb_m.feature_importance()\n",
    "    fold_importance_df[\"fold\"] = fold_ + 1\n",
    "    feature_importance_df = pd.concat([feature_importance_df, fold_importance_df], axis=0)\n",
    "    \n",
    "    # lgb_preds += lgb_m.predict(test, num_iteration=lgb_m.best_iteration) / (nfolds*nrepeats)\n",
    "\n",
    "print(\"CV score: {:<8.5f}\".format(roc_auc_score(target.values, fold_pred)))\n",
    "\n"
   ]
  },
  {
   "cell_type": "code",
   "execution_count": 302,
   "id": "e3419bf6-7e70-4860-abce-4d83fc1876be",
   "metadata": {},
   "outputs": [
    {
     "data": {
      "image/png": "[encoded data removed]",
      "text/plain": [
       "<Figure size 1400x2500 with 1 Axes>"
      ]
     },
     "metadata": {},
     "output_type": "display_data"
    }
   ],
   "source": [
    "# feature importance\n",
    "final_importance = feature_importance_df[[\"feature\", \"importance\"]].groupby(\"feature\").mean().sort_values(by=\"importance\", ascending=False)\n",
    "final_importance.reset_index(inplace=True)\n",
    "final_importance[0:50]\n",
    "\n",
    "import matplotlib.pyplot as plt\n",
    "import seaborn as sns\n",
    "\n",
    "plt.figure(figsize=(14,25))\n",
    "sns.barplot(x=\"importance\",y=\"feature\",data=final_importance)\n",
    "plt.tight_layout()"
   ]
  },
  {
   "cell_type": "code",
   "execution_count": null,
   "id": "3df45bd9",
   "metadata": {},
   "outputs": [
    {
     "name": "stdout",
     "output_type": "stream",
     "text": [
      "Collecting optuna\n",
      "  Downloading optuna-3.4.0-py3-none-any.whl (409 kB)\n",
      "\u001b[2K     \u001b[90m━━━━━━━━━━━━━━━━━━━━━━━━━━━━━━━━━━━━━━━\u001b[0m \u001b[32m409.6/409.6 kB\u001b[0m \u001b[31m2.2 MB/s\u001b[0m eta \u001b[36m0:00:00\u001b[0ma \u001b[36m0:00:01\u001b[0m\n",
      "\u001b[?25hCollecting alembic>=1.5.0\n",
      "  Downloading alembic-1.12.1-py3-none-any.whl (226 kB)\n",
      "\u001b[2K     \u001b[90m━━━━━━━━━━━━━━━━━━━━━━━━━━━━━━━━━━━━━━\u001b[0m \u001b[32m226.8/226.8 kB\u001b[0m \u001b[31m21.8 MB/s\u001b[0m eta \u001b[36m0:00:00\u001b[0m\n",
      "\u001b[?25hCollecting colorlog\n",
      "  Downloading colorlog-6.7.0-py2.py3-none-any.whl (11 kB)\n",
      "Requirement already satisfied: PyYAML in /Users/lihongxuan/opt/anaconda3/lib/python3.9/site-packages (from optuna) (6.0)\n",
      "Requirement already satisfied: packaging>=20.0 in /Users/lihongxuan/opt/anaconda3/lib/python3.9/site-packages (from optuna) (21.3)\n",
      "Requirement already satisfied: sqlalchemy>=1.3.0 in /Users/lihongxuan/opt/anaconda3/lib/python3.9/site-packages (from optuna) (1.4.39)\n",
      "Requirement already satisfied: numpy in /Users/lihongxuan/opt/anaconda3/lib/python3.9/site-packages (from optuna) (1.22.1)\n",
      "Requirement already satisfied: tqdm in /Users/lihongxuan/opt/anaconda3/lib/python3.9/site-packages (from optuna) (4.62.3)\n",
      "Collecting Mako\n",
      "  Downloading Mako-1.2.4-py3-none-any.whl (78 kB)\n",
      "\u001b[2K     \u001b[90m━━━━━━━━━━━━━━━━━━━━━━━━━━━━━━━━━━━━━━━━\u001b[0m \u001b[32m78.7/78.7 kB\u001b[0m \u001b[31m9.3 MB/s\u001b[0m eta \u001b[36m0:00:00\u001b[0m\n",
      "\u001b[?25hRequirement already satisfied: typing-extensions>=4 in /Users/lihongxuan/opt/anaconda3/lib/python3.9/site-packages (from alembic>=1.5.0->optuna) (4.3.0)\n",
      "Requirement already satisfied: pyparsing!=3.0.5,>=2.0.2 in /Users/lihongxuan/opt/anaconda3/lib/python3.9/site-packages (from packaging>=20.0->optuna) (3.0.9)\n",
      "Requirement already satisfied: greenlet!=0.4.17 in /Users/lihongxuan/opt/anaconda3/lib/python3.9/site-packages (from sqlalchemy>=1.3.0->optuna) (1.1.1)\n",
      "Requirement already satisfied: MarkupSafe>=0.9.2 in /Users/lihongxuan/opt/anaconda3/lib/python3.9/site-packages (from Mako->alembic>=1.5.0->optuna) (2.0.1)\n",
      "Installing collected packages: Mako, colorlog, alembic, optuna\n",
      "Successfully installed Mako-1.2.4 alembic-1.12.1 colorlog-6.7.0 optuna-3.4.0\n"
     ]
    }
   ],
   "source": [
    "!pip install optuna"
   ]
  },
  {
   "cell_type": "code",
   "execution_count": 2,
   "id": "4a566d98",
   "metadata": {},
   "outputs": [
    {
     "ename": "AttributeError",
     "evalue": "module 'optuna.trial' has no attribute 'suggest_categorical'",
     "output_type": "error",
     "traceback": [
      "\u001b[0;31m---------------------------------------------------------------------------\u001b[0m",
      "\u001b[0;31mAttributeError\u001b[0m                            Traceback (most recent call last)",
      "\u001b[0;32m/var/folders/_s/sgnns_xx60vdrf8dbqgsl7400000gn/T/ipykernel_79273/3039949982.py\u001b[0m in \u001b[0;36m<module>\u001b[0;34m\u001b[0m\n\u001b[1;32m      8\u001b[0m     \u001b[0;34m'is_unbalance'\u001b[0m\u001b[0;34m:\u001b[0m \u001b[0;32mTrue\u001b[0m\u001b[0;34m,\u001b[0m\u001b[0;34m\u001b[0m\u001b[0;34m\u001b[0m\u001b[0m\n\u001b[1;32m      9\u001b[0m \u001b[0;34m\u001b[0m\u001b[0m\n\u001b[0;32m---> 10\u001b[0;31m     \u001b[0;34m'learning_rate'\u001b[0m\u001b[0;34m:\u001b[0m \u001b[0mtrial\u001b[0m\u001b[0;34m.\u001b[0m\u001b[0msuggest_categorical\u001b[0m\u001b[0;34m(\u001b[0m\u001b[0;34m'learning_rate'\u001b[0m\u001b[0;34m,\u001b[0m \u001b[0;34m[\u001b[0m\u001b[0;36m0.00001\u001b[0m\u001b[0;34m,\u001b[0m\u001b[0;36m0.00005\u001b[0m\u001b[0;34m,\u001b[0m \u001b[0;36m0.001\u001b[0m\u001b[0;34m,\u001b[0m\u001b[0;36m0.0005\u001b[0m\u001b[0;34m,\u001b[0m \u001b[0;36m0.01\u001b[0m\u001b[0;34m,\u001b[0m\u001b[0;36m0.05\u001b[0m\u001b[0;34m,\u001b[0m\u001b[0;36m0.1\u001b[0m\u001b[0;34m,\u001b[0m\u001b[0;36m0.5\u001b[0m\u001b[0;34m,\u001b[0m\u001b[0;36m1\u001b[0m\u001b[0;34m]\u001b[0m\u001b[0;34m)\u001b[0m\u001b[0;34m,\u001b[0m\u001b[0;34m\u001b[0m\u001b[0;34m\u001b[0m\u001b[0m\n\u001b[0m\u001b[1;32m     11\u001b[0m     \u001b[0;34m'lambda_l1'\u001b[0m\u001b[0;34m:\u001b[0m \u001b[0mtrial\u001b[0m\u001b[0;34m.\u001b[0m\u001b[0msuggest_float\u001b[0m\u001b[0;34m(\u001b[0m\u001b[0;34m'lambda_l1'\u001b[0m\u001b[0;34m,\u001b[0m \u001b[0;36m1e-8\u001b[0m\u001b[0;34m,\u001b[0m \u001b[0;36m10.0\u001b[0m\u001b[0;34m)\u001b[0m\u001b[0;34m,\u001b[0m\u001b[0;34m\u001b[0m\u001b[0;34m\u001b[0m\u001b[0m\n\u001b[1;32m     12\u001b[0m }\n",
      "\u001b[0;31mAttributeError\u001b[0m: module 'optuna.trial' has no attribute 'suggest_categorical'"
     ]
    }
   ],
   "source": [
    "from optuna import trial\n",
    "model_params = {\n",
    "    \"objective\": \"regression\",\n",
    "    \"metric\": \"auc\",\n",
    "    \"verbosity\": -1,\n",
    "    \"boosting_type\": \"gbdt\",                \n",
    "    \"seed\": 42,\n",
    "    'is_unbalance': True, \n",
    "\n",
    "    'learning_rate': trial.suggest_categorical('learning_rate', [0.00001,0.00005, 0.001,0.0005, 0.01,0.05,0.1,0.5,1]),\n",
    "    'lambda_l1': trial.suggest_float('lambda_l1', 1e-8, 10.0),\n",
    "}"
   ]
  },
  {
   "cell_type": "code",
   "execution_count": 3,
   "id": "bd0d4981",
   "metadata": {},
   "outputs": [
    {
     "data": {
      "text/plain": [
       "['test.csv',\n",
       " 'tickets_all.csv',\n",
       " 'concerts_2014-15.csv',\n",
       " 'account.csv',\n",
       " 'train.csv',\n",
       " 'subscriptions.csv',\n",
       " 'zipcodes.csv',\n",
       " 'concerts.csv',\n",
       " 'sample_submission.csv']"
      ]
     },
     "execution_count": 3,
     "metadata": {},
     "output_type": "execute_result"
    }
   ],
   "source": [
    "import os \n",
    "os.listdir(\"/home/featurize/work/AIPI520_Kaggle/data/\")"
   ]
  },
  {
   "cell_type": "code",
   "execution_count": null,
   "id": "b9a9ec2f-9ea2-4cbe-84c7-c5a10f895d8d",
   "metadata": {},
   "outputs": [],
   "source": []
  }
 ],
 "metadata": {
  "kernelspec": {
   "display_name": "Python 3 (ipykernel)",
   "language": "python",
   "name": "python3"
  },
  "language_info": {
   "codemirror_mode": {
    "name": "ipython",
    "version": 3
   },
   "file_extension": ".py",
   "mimetype": "text/x-python",
   "name": "python",
   "nbconvert_exporter": "python",
   "pygments_lexer": "ipython3",
   "version": "3.10.12"
  }
 },
 "nbformat": 4,
 "nbformat_minor": 5
}
